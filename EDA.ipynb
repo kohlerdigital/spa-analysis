{
 "cells": [
  {
   "cell_type": "markdown",
   "metadata": {},
   "source": [
    "# Data analysis of hydra customer base\n",
    "The data set has been downloaded on the 14/01 and comes from bokeo\n",
    "\n"
   ]
  },
  {
   "cell_type": "markdown",
   "metadata": {},
   "source": [
    "# First section - Cleaning the data"
   ]
  },
  {
   "cell_type": "code",
   "execution_count": 1,
   "metadata": {},
   "outputs": [],
   "source": [
    "import numpy as np # linear algebra\n",
    "import pandas as pd # data processing, CSV file I/O (e.g. pd.read_csv)\n",
    "%matplotlib inline\n",
    "import matplotlib.pyplot as plt\n",
    "import math\n",
    "from datetime import datetime, timedelta\n",
    "import seaborn as sns\n",
    "from datetime import datetime, timedelta\n",
    "import statistics\n",
    "import datetime"
   ]
  },
  {
   "cell_type": "code",
   "execution_count": 2,
   "metadata": {},
   "outputs": [],
   "source": [
    "pd.set_option('display.max_columns', None)\n",
    "pd.set_option('display.max_rows', None)"
   ]
  },
  {
   "cell_type": "code",
   "execution_count": 3,
   "metadata": {},
   "outputs": [
    {
     "data": {
      "text/html": [
       "<div>\n",
       "<style scoped>\n",
       "    .dataframe tbody tr th:only-of-type {\n",
       "        vertical-align: middle;\n",
       "    }\n",
       "\n",
       "    .dataframe tbody tr th {\n",
       "        vertical-align: top;\n",
       "    }\n",
       "\n",
       "    .dataframe thead th {\n",
       "        text-align: right;\n",
       "    }\n",
       "</style>\n",
       "<table border=\"1\" class=\"dataframe\">\n",
       "  <thead>\n",
       "    <tr style=\"text-align: right;\">\n",
       "      <th></th>\n",
       "      <th>Booking number</th>\n",
       "      <th>Start</th>\n",
       "      <th>start_year_month</th>\n",
       "      <th>start_month</th>\n",
       "      <th>start_day</th>\n",
       "      <th>start_hour</th>\n",
       "      <th>End</th>\n",
       "      <th>end_year_month</th>\n",
       "      <th>end_month</th>\n",
       "      <th>end_day</th>\n",
       "      <th>end_hour</th>\n",
       "      <th>created_year_month</th>\n",
       "      <th>created_month</th>\n",
       "      <th>created_day</th>\n",
       "      <th>created_time</th>\n",
       "      <th>First name</th>\n",
       "      <th>Last name</th>\n",
       "      <th>Email address</th>\n",
       "      <th>Phone</th>\n",
       "      <th>Participants</th>\n",
       "      <th>Adults</th>\n",
       "      <th>Experience</th>\n",
       "      <th>MASSAGE CHAIR</th>\n",
       "      <th>FLOAT ROOMS</th>\n",
       "      <th>Product code</th>\n",
       "      <th>Private event</th>\n",
       "      <th>Status</th>\n",
       "      <th>Booking status</th>\n",
       "      <th>Promotion</th>\n",
       "      <th>Number of coupons</th>\n",
       "      <th>Coupons</th>\n",
       "      <th>Specific gift voucher</th>\n",
       "      <th>Prepaid credits</th>\n",
       "      <th>Prepaid package</th>\n",
       "      <th>Adjustments</th>\n",
       "      <th>Total adjustments</th>\n",
       "      <th>Total net</th>\n",
       "      <th>Iceland VAT (11%)</th>\n",
       "      <th>Iceland VAT (24%)</th>\n",
       "      <th>Total gross</th>\n",
       "      <th>Total paid</th>\n",
       "      <th>Total due</th>\n",
       "      <th>Participants (names)</th>\n",
       "      <th>Created</th>\n",
       "      <th>Created by</th>\n",
       "      <th>Last changed</th>\n",
       "      <th>Last changed by</th>\n",
       "      <th>Canceled</th>\n",
       "      <th>Canceled by</th>\n",
       "      <th>Source</th>\n",
       "    </tr>\n",
       "  </thead>\n",
       "  <tbody>\n",
       "    <tr>\n",
       "      <th>0</th>\n",
       "      <td>2556912184861030</td>\n",
       "      <td>2019-12-21 12:00:00</td>\n",
       "      <td>201912</td>\n",
       "      <td>12</td>\n",
       "      <td>6</td>\n",
       "      <td>12</td>\n",
       "      <td>2019-12-21 13:30:00</td>\n",
       "      <td>201912</td>\n",
       "      <td>12</td>\n",
       "      <td>6</td>\n",
       "      <td>13</td>\n",
       "      <td>201912</td>\n",
       "      <td>12</td>\n",
       "      <td>3</td>\n",
       "      <td>11:20:15</td>\n",
       "      <td>Arna</td>\n",
       "      <td>Run</td>\n",
       "      <td>arnarrun@gmail.com</td>\n",
       "      <td>6906916</td>\n",
       "      <td>1</td>\n",
       "      <td>1</td>\n",
       "      <td>Weightless Luxury Float</td>\n",
       "      <td>NaN</td>\n",
       "      <td>R1 ROOMS</td>\n",
       "      <td>R1A-STDFLOT</td>\n",
       "      <td>0</td>\n",
       "      <td>normal</td>\n",
       "      <td>NaN</td>\n",
       "      <td>10% DISCOUNT BY STAFF</td>\n",
       "      <td>NaN</td>\n",
       "      <td>NaN</td>\n",
       "      <td>NaN</td>\n",
       "      <td>0</td>\n",
       "      <td>NaN</td>\n",
       "      <td>NaN</td>\n",
       "      <td>NaN</td>\n",
       "      <td>6,405.41</td>\n",
       "      <td>704.59</td>\n",
       "      <td>0.00</td>\n",
       "      <td>7,110.00</td>\n",
       "      <td>7,110.00</td>\n",
       "      <td>0.00</td>\n",
       "      <td>NaN</td>\n",
       "      <td>2019-12-18 10:59:00</td>\n",
       "      <td>Ryan Kevinsson</td>\n",
       "      <td>18.12.2019 15:37</td>\n",
       "      <td>Hydra Spa - Desk</td>\n",
       "      <td>NaN</td>\n",
       "      <td>NaN</td>\n",
       "      <td>NaN</td>\n",
       "    </tr>\n",
       "    <tr>\n",
       "      <th>1</th>\n",
       "      <td>2556001137390103</td>\n",
       "      <td>2020-01-15 12:00:00</td>\n",
       "      <td>202001</td>\n",
       "      <td>1</td>\n",
       "      <td>3</td>\n",
       "      <td>12</td>\n",
       "      <td>2020-01-15 13:30:00</td>\n",
       "      <td>202001</td>\n",
       "      <td>1</td>\n",
       "      <td>3</td>\n",
       "      <td>13</td>\n",
       "      <td>202001</td>\n",
       "      <td>1</td>\n",
       "      <td>1</td>\n",
       "      <td>11:20:15</td>\n",
       "      <td>Daníel</td>\n",
       "      <td>Sigurðsson</td>\n",
       "      <td>daniel.gunnar.sigurdsson@gmail.com</td>\n",
       "      <td>8692108</td>\n",
       "      <td>1</td>\n",
       "      <td>1</td>\n",
       "      <td>Weightless Luxury Float</td>\n",
       "      <td>NaN</td>\n",
       "      <td>R1 ROOMS</td>\n",
       "      <td>R1A-STDFLOT</td>\n",
       "      <td>0</td>\n",
       "      <td>normal</td>\n",
       "      <td>NaN</td>\n",
       "      <td>15afsl</td>\n",
       "      <td>NaN</td>\n",
       "      <td>NaN</td>\n",
       "      <td>NaN</td>\n",
       "      <td>0</td>\n",
       "      <td>NaN</td>\n",
       "      <td>NaN</td>\n",
       "      <td>NaN</td>\n",
       "      <td>6,049.55</td>\n",
       "      <td>665.45</td>\n",
       "      <td>0.00</td>\n",
       "      <td>6,715.00</td>\n",
       "      <td>6,715.00</td>\n",
       "      <td>0.00</td>\n",
       "      <td>Daníel Sigurðsson</td>\n",
       "      <td>2020-01-13 20:34:00</td>\n",
       "      <td>CUSTOMER</td>\n",
       "      <td>NaN</td>\n",
       "      <td>NaN</td>\n",
       "      <td>NaN</td>\n",
       "      <td>NaN</td>\n",
       "      <td>NaN</td>\n",
       "    </tr>\n",
       "    <tr>\n",
       "      <th>2</th>\n",
       "      <td>2556001132171079</td>\n",
       "      <td>2020-01-15 11:45:00</td>\n",
       "      <td>202001</td>\n",
       "      <td>1</td>\n",
       "      <td>3</td>\n",
       "      <td>11</td>\n",
       "      <td>2020-01-15 12:00:00</td>\n",
       "      <td>202001</td>\n",
       "      <td>1</td>\n",
       "      <td>3</td>\n",
       "      <td>12</td>\n",
       "      <td>202001</td>\n",
       "      <td>1</td>\n",
       "      <td>1</td>\n",
       "      <td>11:20:15</td>\n",
       "      <td>Daníel</td>\n",
       "      <td>Sigurðsson</td>\n",
       "      <td>daniel.gunnar.sigurdsson@gmail.com</td>\n",
       "      <td>8692108</td>\n",
       "      <td>1</td>\n",
       "      <td>1</td>\n",
       "      <td>Therapeutic Massage Chair (15 minutes)</td>\n",
       "      <td>MASSAGE CHAIR</td>\n",
       "      <td>NaN</td>\n",
       "      <td>R1A-NUDDSTOLL</td>\n",
       "      <td>0</td>\n",
       "      <td>normal</td>\n",
       "      <td>NaN</td>\n",
       "      <td>15afsl</td>\n",
       "      <td>NaN</td>\n",
       "      <td>NaN</td>\n",
       "      <td>NaN</td>\n",
       "      <td>0</td>\n",
       "      <td>NaN</td>\n",
       "      <td>NaN</td>\n",
       "      <td>NaN</td>\n",
       "      <td>1,378.38</td>\n",
       "      <td>151.62</td>\n",
       "      <td>0.00</td>\n",
       "      <td>1,530.00</td>\n",
       "      <td>1,530.00</td>\n",
       "      <td>0.00</td>\n",
       "      <td>NaN</td>\n",
       "      <td>2020-01-13 20:34:00</td>\n",
       "      <td>CUSTOMER</td>\n",
       "      <td>NaN</td>\n",
       "      <td>NaN</td>\n",
       "      <td>NaN</td>\n",
       "      <td>NaN</td>\n",
       "      <td>NaN</td>\n",
       "    </tr>\n",
       "  </tbody>\n",
       "</table>\n",
       "</div>"
      ],
      "text/plain": [
       "     Booking number               Start  start_year_month  start_month  \\\n",
       "0  2556912184861030 2019-12-21 12:00:00            201912           12   \n",
       "1  2556001137390103 2020-01-15 12:00:00            202001            1   \n",
       "2  2556001132171079 2020-01-15 11:45:00            202001            1   \n",
       "\n",
       "   start_day  start_hour                 End  end_year_month  end_month  \\\n",
       "0          6          12 2019-12-21 13:30:00          201912         12   \n",
       "1          3          12 2020-01-15 13:30:00          202001          1   \n",
       "2          3          11 2020-01-15 12:00:00          202001          1   \n",
       "\n",
       "   end_day  end_hour  created_year_month  created_month  created_day  \\\n",
       "0        6        13              201912             12            3   \n",
       "1        3        13              202001              1            1   \n",
       "2        3        12              202001              1            1   \n",
       "\n",
       "  created_time First name   Last name                       Email address  \\\n",
       "0     11:20:15       Arna         Run                  arnarrun@gmail.com   \n",
       "1     11:20:15     Daníel  Sigurðsson  daniel.gunnar.sigurdsson@gmail.com   \n",
       "2     11:20:15     Daníel  Sigurðsson  daniel.gunnar.sigurdsson@gmail.com   \n",
       "\n",
       "     Phone  Participants  Adults                              Experience  \\\n",
       "0  6906916             1       1                 Weightless Luxury Float   \n",
       "1  8692108             1       1                 Weightless Luxury Float   \n",
       "2  8692108             1       1  Therapeutic Massage Chair (15 minutes)   \n",
       "\n",
       "   MASSAGE CHAIR FLOAT ROOMS   Product code  Private event  Status  \\\n",
       "0            NaN    R1 ROOMS    R1A-STDFLOT              0  normal   \n",
       "1            NaN    R1 ROOMS    R1A-STDFLOT              0  normal   \n",
       "2  MASSAGE CHAIR         NaN  R1A-NUDDSTOLL              0  normal   \n",
       "\n",
       "  Booking status              Promotion  Number of coupons Coupons  \\\n",
       "0            NaN  10% DISCOUNT BY STAFF                NaN     NaN   \n",
       "1            NaN                 15afsl                NaN     NaN   \n",
       "2            NaN                 15afsl                NaN     NaN   \n",
       "\n",
       "   Specific gift voucher  Prepaid credits Prepaid package Adjustments  \\\n",
       "0                    NaN                0             NaN         NaN   \n",
       "1                    NaN                0             NaN         NaN   \n",
       "2                    NaN                0             NaN         NaN   \n",
       "\n",
       "  Total adjustments Total net Iceland VAT (11%) Iceland VAT (24%) Total gross  \\\n",
       "0               NaN  6,405.41            704.59              0.00    7,110.00   \n",
       "1               NaN  6,049.55            665.45              0.00    6,715.00   \n",
       "2               NaN  1,378.38            151.62              0.00    1,530.00   \n",
       "\n",
       "  Total paid Total due Participants (names)             Created  \\\n",
       "0   7,110.00      0.00                  NaN 2019-12-18 10:59:00   \n",
       "1   6,715.00      0.00    Daníel Sigurðsson 2020-01-13 20:34:00   \n",
       "2   1,530.00      0.00                  NaN 2020-01-13 20:34:00   \n",
       "\n",
       "       Created by      Last changed   Last changed by Canceled Canceled by  \\\n",
       "0  Ryan Kevinsson  18.12.2019 15:37  Hydra Spa - Desk      NaN         NaN   \n",
       "1        CUSTOMER               NaN               NaN      NaN         NaN   \n",
       "2        CUSTOMER               NaN               NaN      NaN         NaN   \n",
       "\n",
       "  Source  \n",
       "0    NaN  \n",
       "1    NaN  \n",
       "2    NaN  "
      ]
     },
     "execution_count": 3,
     "metadata": {},
     "output_type": "execute_result"
    }
   ],
   "source": [
    "import pandas as pd\n",
    "df = pd.read_csv(\"bookings.csv\",encoding='cp1252')\n",
    "\n",
    "#print(df.isnull().sum())\n",
    "\n",
    "#creating new dataframe for use\n",
    "\n",
    "cols_to_delete = ['Participants (details)',\n",
    "                  'IP address',\n",
    "                  'External ref.',\n",
    "                  'Add a full service Cryo-air facial with skincare treatment?'\n",
    "                 ]\n",
    "new_data = df.drop(cols_to_delete, axis=1)\n",
    "\n",
    "#Creating DD/MM/YYYY columns for start, end, created\n",
    "new_data['Start'] = pd.to_datetime(new_data['Start'])\n",
    "new_data['End'] = pd.to_datetime(new_data['End'])\n",
    "new_data['Created'] = pd.to_datetime(new_data['Created'])\n",
    "#start\n",
    "new_data.insert(loc=2, column='start_year_month', value=new_data['Start'].map(lambda x: 100*x.year + x.month))\n",
    "new_data.insert(loc=3, column='start_month', value=new_data.Start.dt.month)\n",
    "# +1 to make Monday=1.....until Sunday=7\n",
    "new_data.insert(loc=4, column='start_day', value=(new_data.Start.dt.dayofweek)+1)\n",
    "new_data.insert(loc=5, column='start_hour', value=new_data.Start.dt.hour)\n",
    "\n",
    "#end\n",
    "new_data.insert(loc=7, column='end_year_month', value=new_data['End'].map(lambda x: 100*x.year + x.month))\n",
    "new_data.insert(loc=8, column='end_month', value=new_data.End.dt.month)\n",
    "# +1 to make Monday=1.....until Sunday=7\n",
    "new_data.insert(loc=9, column='end_day', value=(new_data.End.dt.dayofweek)+1)\n",
    "new_data.insert(loc=10, column='end_hour', value=new_data.End.dt.hour)\n",
    "\n",
    "#created\n",
    "new_data.insert(loc=11, column='created_year_month', value=new_data['Created'].map(lambda x: 100*x.year + x.month))\n",
    "new_data.insert(loc=12, column='created_month', value=new_data.Created.dt.month)\n",
    "# +1 to make Monday=1.....until Sunday=7\n",
    "new_data.insert(loc=13, column='created_day', value=(new_data.Created.dt.dayofweek)+1)\n",
    "new_data.insert(loc=14, column='created_time', value=new_data.Created.dt.time)\n",
    "\n",
    "#need to define time of created_time\n",
    "new_data['created_time'] = datetime.datetime.now().strftime(\"%H:%M:%S\")\n",
    "\n",
    "\n",
    "new_data.head(3)"
   ]
  },
  {
   "cell_type": "code",
   "execution_count": 5,
   "metadata": {},
   "outputs": [],
   "source": [
    "############\n",
    "# NOT WORKING\n",
    "# Need to find a way to create unique id for cust in order to do more analysis\n",
    "\n",
    "# can use either phone or email as ID\n",
    "############\n",
    "\n",
    "#checking booking nubmers and unique values. The idea is to check if people have booked more than once.\n",
    "#new_data['Booking number'].value_counts()\n",
    "#there arent returning customer, yet\n",
    "\n",
    "#creating fake customer ID\n",
    "#need to create a customer_name to check with a participant_cust if it is equivalent. If yes, add a customer_ID\n",
    "#customer_name = new_data['First name (customer)'] + '-' + new_data['Last name (customer)']\n",
    "#participant_customer = new_data['First name (participant)'] + '-' + new_data['Last name (participant)']\n",
    "\n",
    "\n",
    "#new_data['Customer_Index'] = [range(1, len(df) + 1) if customer_name == participant_customer else '--' for x in customer_name] \n",
    "\n"
   ]
  },
  {
   "cell_type": "markdown",
   "metadata": {},
   "source": [
    "# Some basics analysis\n",
    "dates of the anlysis \n",
    "start => 10.11.2019 18:47\n",
    "end => 14.01.2020 15:58"
   ]
  },
  {
   "cell_type": "code",
   "execution_count": 7,
   "metadata": {},
   "outputs": [
    {
     "data": {
      "image/png": "[encoded data removed]",
      "text/plain": [
       "<Figure size 1296x432 with 1 Axes>"
      ]
     },
     "metadata": {
      "needs_background": "light"
     },
     "output_type": "display_data"
    }
   ],
   "source": [
    "#Order per day of the week\n",
    "color = sns.color_palette()\n",
    "ax = new_data.groupby('Created')['created_day'].unique().value_counts().sort_index().plot(kind='bar',color=color[8],figsize=(18,6))\n",
    "ax.grid(zorder=0)\n",
    "ax.set_xlabel('created_day',fontsize=15)\n",
    "ax.set_ylabel('Number of Orders',fontsize=15)\n",
    "ax.set_title('Number of orders over the week (10/11/2019 - 14/01/2020)',fontsize=15)\n",
    "ax.set_xticklabels(('Mon','Tue','Wed','Thur','Fri', 'Sat', 'Sun'), rotation='horizontal', fontsize=13)\n",
    "\n",
    "plt.show()"
   ]
  },
  {
   "cell_type": "code",
   "execution_count": 8,
   "metadata": {},
   "outputs": [
    {
     "data": {
      "image/png": "[encoded data removed]",
      "text/plain": [
       "<Figure size 1296x432 with 1 Axes>"
      ]
     },
     "metadata": {
      "needs_background": "light"
     },
     "output_type": "display_data"
    }
   ],
   "source": [
    "#float per day of the week\n",
    "color = sns.color_palette()\n",
    "ax = new_data.groupby('Start')['start_day'].unique().value_counts().sort_index().plot(kind='bar',color=color[1],figsize=(18,6))\n",
    "ax.grid(zorder=0)\n",
    "ax.set_xlabel('start_day',fontsize=15)\n",
    "ax.set_ylabel('Number of floats',fontsize=15)\n",
    "ax.set_title('Number of float over the week (10/11/2019 - 14/01/2020)',fontsize=15)\n",
    "ax.set_xticklabels(('Mon','Tue','Wed','Thur','Fri', 'Sat', 'Sun'), rotation='horizontal', fontsize=13)\n",
    "\n",
    "plt.show()"
   ]
  },
  {
   "cell_type": "code",
   "execution_count": 9,
   "metadata": {},
   "outputs": [
    {
     "data": {
      "image/png": "[encoded data removed]",
      "text/plain": [
       "<Figure size 432x288 with 1 Axes>"
      ]
     },
     "metadata": {
      "needs_background": "light"
     },
     "output_type": "display_data"
    }
   ],
   "source": [
    "# data to plot\n",
    "n_groups = 7\n",
    "created_day = (new_data.groupby('Created')['created_day'].unique().value_counts().sort_index())\n",
    "start_day = (new_data.groupby('Start')['start_day'].unique().value_counts().sort_index())\n",
    "\n",
    "# create plot\n",
    "fig, ax = plt.subplots()\n",
    "ax.grid(zorder=0)\n",
    "index = np.arange(n_groups)\n",
    "bar_width = 0.4\n",
    "opacity = 0.8\n",
    "plt.figtext(.7, .8, \"Keep in mind that MON and TUE are closed\")\n",
    "\n",
    "rects1 = plt.bar(index, created_day, bar_width,\n",
    "alpha=opacity,\n",
    "color=color[2],\n",
    "label='Day of the order')\n",
    "\n",
    "rects2 = plt.bar(index + bar_width, start_day, bar_width,\n",
    "alpha=opacity,\n",
    "color= color[1],\n",
    "label='Day of the float')\n",
    "\n",
    "plt.xlabel('Day of the Week')\n",
    "plt.ylabel('numbers')\n",
    "plt.title('amount of float per day of the week and booked')\n",
    "plt.xticks(index + bar_width, ('Mon','Tue','Wed','Thur','Fri','Sat', 'Sun'))\n",
    "plt.legend()\n",
    "plt.show()"
   ]
  },
  {
   "cell_type": "code",
   "execution_count": 10,
   "metadata": {},
   "outputs": [
    {
     "ename": "SyntaxError",
     "evalue": "invalid syntax (<ipython-input-10-26436b4a00dd>, line 5)",
     "output_type": "error",
     "traceback": [
      "\u001b[1;36m  File \u001b[1;32m\"<ipython-input-10-26436b4a00dd>\"\u001b[1;36m, line \u001b[1;32m5\u001b[0m\n\u001b[1;33m    fig = px.line(df, x='created_time', y='new_data.groupby['created_hour'].unique().value_counts().sort_index())\u001b[0m\n\u001b[1;37m                                                                        ^\u001b[0m\n\u001b[1;31mSyntaxError\u001b[0m\u001b[1;31m:\u001b[0m invalid syntax\n"
     ]
    }
   ],
   "source": [
    "# Using plotly.express\n",
    "import plotly.express as px\n",
    "import pandas as pd\n",
    "\n",
    "fig = px.line(df, x='created_time', y='new_data.groupby['created_hour'].unique().value_counts().sort_index())\n",
    "fig.show()"
   ]
  },
  {
   "cell_type": "code",
   "execution_count": 24,
   "metadata": {},
   "outputs": [
    {
     "ename": "KeyError",
     "evalue": "'Column not found: created_hour'",
     "output_type": "error",
     "traceback": [
      "\u001b[1;31m---------------------------------------------------------------------------\u001b[0m",
      "\u001b[1;31mKeyError\u001b[0m                                  Traceback (most recent call last)",
      "\u001b[1;32m<ipython-input-24-fbe7918229d1>\u001b[0m in \u001b[0;36m<module>\u001b[1;34m\u001b[0m\n\u001b[0;32m      2\u001b[0m \u001b[1;33m\u001b[0m\u001b[0m\n\u001b[0;32m      3\u001b[0m \u001b[0mcolor\u001b[0m \u001b[1;33m=\u001b[0m \u001b[0msns\u001b[0m\u001b[1;33m.\u001b[0m\u001b[0mcolor_palette\u001b[0m\u001b[1;33m(\u001b[0m\u001b[1;33m)\u001b[0m\u001b[1;33m\u001b[0m\u001b[1;33m\u001b[0m\u001b[0m\n\u001b[1;32m----> 4\u001b[1;33m \u001b[0max\u001b[0m \u001b[1;33m=\u001b[0m \u001b[0mnew_data\u001b[0m\u001b[1;33m.\u001b[0m\u001b[0mgroupby\u001b[0m\u001b[1;33m(\u001b[0m\u001b[1;34m'Created'\u001b[0m\u001b[1;33m)\u001b[0m\u001b[1;33m[\u001b[0m\u001b[1;34m'created_hour'\u001b[0m\u001b[1;33m]\u001b[0m\u001b[1;33m.\u001b[0m\u001b[0munique\u001b[0m\u001b[1;33m(\u001b[0m\u001b[1;33m)\u001b[0m\u001b[1;33m.\u001b[0m\u001b[0mvalue_counts\u001b[0m\u001b[1;33m(\u001b[0m\u001b[1;33m)\u001b[0m\u001b[1;33m.\u001b[0m\u001b[0msort_index\u001b[0m\u001b[1;33m(\u001b[0m\u001b[1;33m)\u001b[0m\u001b[1;33m.\u001b[0m\u001b[0mplot\u001b[0m\u001b[1;33m(\u001b[0m\u001b[1;34m'bar'\u001b[0m\u001b[1;33m,\u001b[0m\u001b[0mcolor\u001b[0m\u001b[1;33m=\u001b[0m\u001b[0mcolor\u001b[0m\u001b[1;33m[\u001b[0m\u001b[1;36m8\u001b[0m\u001b[1;33m]\u001b[0m\u001b[1;33m,\u001b[0m\u001b[0mfigsize\u001b[0m\u001b[1;33m=\u001b[0m\u001b[1;33m(\u001b[0m\u001b[1;36m18\u001b[0m\u001b[1;33m,\u001b[0m\u001b[1;36m6\u001b[0m\u001b[1;33m)\u001b[0m\u001b[1;33m)\u001b[0m\u001b[1;33m\u001b[0m\u001b[1;33m\u001b[0m\u001b[0m\n\u001b[0m\u001b[0;32m      5\u001b[0m \u001b[0max\u001b[0m\u001b[1;33m.\u001b[0m\u001b[0mgrid\u001b[0m\u001b[1;33m(\u001b[0m\u001b[0mzorder\u001b[0m\u001b[1;33m=\u001b[0m\u001b[1;36m0\u001b[0m\u001b[1;33m)\u001b[0m\u001b[1;33m\u001b[0m\u001b[1;33m\u001b[0m\u001b[0m\n\u001b[0;32m      6\u001b[0m \u001b[0max\u001b[0m\u001b[1;33m.\u001b[0m\u001b[0mset_xlabel\u001b[0m\u001b[1;33m(\u001b[0m\u001b[1;34m'created_day'\u001b[0m\u001b[1;33m,\u001b[0m\u001b[0mfontsize\u001b[0m\u001b[1;33m=\u001b[0m\u001b[1;36m15\u001b[0m\u001b[1;33m)\u001b[0m\u001b[1;33m\u001b[0m\u001b[1;33m\u001b[0m\u001b[0m\n",
      "\u001b[1;32m~\\AppData\\Roaming\\Python\\Python37\\site-packages\\pandas\\core\\groupby\\generic.py\u001b[0m in \u001b[0;36m__getitem__\u001b[1;34m(self, key)\u001b[0m\n\u001b[0;32m   1601\u001b[0m                 \u001b[0mstacklevel\u001b[0m\u001b[1;33m=\u001b[0m\u001b[1;36m2\u001b[0m\u001b[1;33m,\u001b[0m\u001b[1;33m\u001b[0m\u001b[1;33m\u001b[0m\u001b[0m\n\u001b[0;32m   1602\u001b[0m             )\n\u001b[1;32m-> 1603\u001b[1;33m         \u001b[1;32mreturn\u001b[0m \u001b[0msuper\u001b[0m\u001b[1;33m(\u001b[0m\u001b[1;33m)\u001b[0m\u001b[1;33m.\u001b[0m\u001b[0m__getitem__\u001b[0m\u001b[1;33m(\u001b[0m\u001b[0mkey\u001b[0m\u001b[1;33m)\u001b[0m\u001b[1;33m\u001b[0m\u001b[1;33m\u001b[0m\u001b[0m\n\u001b[0m\u001b[0;32m   1604\u001b[0m \u001b[1;33m\u001b[0m\u001b[0m\n\u001b[0;32m   1605\u001b[0m     \u001b[1;32mdef\u001b[0m \u001b[0m_gotitem\u001b[0m\u001b[1;33m(\u001b[0m\u001b[0mself\u001b[0m\u001b[1;33m,\u001b[0m \u001b[0mkey\u001b[0m\u001b[1;33m,\u001b[0m \u001b[0mndim\u001b[0m\u001b[1;33m:\u001b[0m \u001b[0mint\u001b[0m\u001b[1;33m,\u001b[0m \u001b[0msubset\u001b[0m\u001b[1;33m=\u001b[0m\u001b[1;32mNone\u001b[0m\u001b[1;33m)\u001b[0m\u001b[1;33m:\u001b[0m\u001b[1;33m\u001b[0m\u001b[1;33m\u001b[0m\u001b[0m\n",
      "\u001b[1;32m~\\AppData\\Roaming\\Python\\Python37\\site-packages\\pandas\\core\\base.py\u001b[0m in \u001b[0;36m__getitem__\u001b[1;34m(self, key)\u001b[0m\n\u001b[0;32m    228\u001b[0m         \u001b[1;32melse\u001b[0m\u001b[1;33m:\u001b[0m\u001b[1;33m\u001b[0m\u001b[1;33m\u001b[0m\u001b[0m\n\u001b[0;32m    229\u001b[0m             \u001b[1;32mif\u001b[0m \u001b[0mkey\u001b[0m \u001b[1;32mnot\u001b[0m \u001b[1;32min\u001b[0m \u001b[0mself\u001b[0m\u001b[1;33m.\u001b[0m\u001b[0mobj\u001b[0m\u001b[1;33m:\u001b[0m\u001b[1;33m\u001b[0m\u001b[1;33m\u001b[0m\u001b[0m\n\u001b[1;32m--> 230\u001b[1;33m                 \u001b[1;32mraise\u001b[0m \u001b[0mKeyError\u001b[0m\u001b[1;33m(\u001b[0m\u001b[1;34mf\"Column not found: {key}\"\u001b[0m\u001b[1;33m)\u001b[0m\u001b[1;33m\u001b[0m\u001b[1;33m\u001b[0m\u001b[0m\n\u001b[0m\u001b[0;32m    231\u001b[0m             \u001b[1;32mreturn\u001b[0m \u001b[0mself\u001b[0m\u001b[1;33m.\u001b[0m\u001b[0m_gotitem\u001b[0m\u001b[1;33m(\u001b[0m\u001b[0mkey\u001b[0m\u001b[1;33m,\u001b[0m \u001b[0mndim\u001b[0m\u001b[1;33m=\u001b[0m\u001b[1;36m1\u001b[0m\u001b[1;33m)\u001b[0m\u001b[1;33m\u001b[0m\u001b[1;33m\u001b[0m\u001b[0m\n\u001b[0;32m    232\u001b[0m \u001b[1;33m\u001b[0m\u001b[0m\n",
      "\u001b[1;31mKeyError\u001b[0m: 'Column not found: created_hour'"
     ]
    }
   ],
   "source": [
    "#time of creation\n",
    "\n",
    "color = sns.color_palette()\n",
    "ax = new_data.groupby('Created')['created_hour'].unique().value_counts().sort_index().plot('bar',color=color[8],figsize=(18,6))\n",
    "ax.grid(zorder=0)\n",
    "ax.set_xlabel('created_day',fontsize=15)\n",
    "ax.set_ylabel('Number of Orders',fontsize=15)\n",
    "ax.set_title('Amount of order over the day (10/11/2019 - 14/01/2020)',fontsize=15)\n",
    "ax.set_xticklabels(('01:00','02:00','03:00','04:00','05:00', '06:00', '07:00', '08:00', '07:00', '07:00', '07:00', '07:00', '07:00', '07:00', '07:00', '07:00', '07:00', '07:00', '07:00', '07:00', '07:00', '07:00', '07:00', '07:00'), rotation='horizontal', fontsize=13)\n",
    "\n",
    "plt.show()"
   ]
  },
  {
   "cell_type": "code",
   "execution_count": null,
   "metadata": {},
   "outputs": [],
   "source": [
    "new_data.head(3)"
   ]
  },
  {
   "cell_type": "code",
   "execution_count": 12,
   "metadata": {},
   "outputs": [
    {
     "data": {
      "text/plain": [
       "1.559718969555035"
      ]
     },
     "execution_count": 12,
     "metadata": {},
     "output_type": "execute_result"
    }
   ],
   "source": [
    "# number of participants\n",
    "import statistics\n",
    "\n",
    "pax = new_data['Participants']\n",
    "statistics.mean(pax)\n"
   ]
  },
  {
   "cell_type": "markdown",
   "metadata": {},
   "source": [
    "# RFM part"
   ]
  },
  {
   "cell_type": "code",
   "execution_count": null,
   "metadata": {},
   "outputs": [],
   "source": []
  }
 ],
 "metadata": {
  "kernelspec": {
   "display_name": "Python 3",
   "language": "python",
   "name": "python3"
  },
  "language_info": {
   "codemirror_mode": {
    "name": "ipython",
    "version": 3
   },
   "file_extension": ".py",
   "mimetype": "text/x-python",
   "name": "python",
   "nbconvert_exporter": "python",
   "pygments_lexer": "ipython3",
   "version": "3.7.7"
  }
 },
 "nbformat": 4,
 "nbformat_minor": 4
}
