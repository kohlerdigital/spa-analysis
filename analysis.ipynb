{
 "cells": [
  {
   "cell_type": "code",
   "execution_count": 200,
   "outputs": [],
   "source": [
    "# print importing stuff\n",
    "\n",
    "import matplotlib.pyplot as plt\n",
    "import pandas as pd\n",
    "import numpy as np\n",
    "import warnings\n",
    "import pandas as pd\n",
    "import plotly.graph_objects as go\n",
    "import plotly.express as px\n",
    "import os\n",
    "\n",
    "import glob\n",
    "\n",
    "%matplotlib inline\n",
    "warnings.filterwarnings('ignore')\n"
   ],
   "metadata": {
    "collapsed": false,
    "ExecuteTime": {
     "end_time": "2024-03-22T13:11:34.993172Z",
     "start_time": "2024-03-22T13:11:34.711315600Z"
    }
   }
  },
  {
   "cell_type": "code",
   "execution_count": 201,
   "outputs": [
    {
     "data": {
      "text/plain": "   Unnamed: 0    Booking number               Start                 End  \\\n0           0  2556005148807663 2020-05-17 10:30:00 2020-05-17 12:00:00   \n1           1  2556005147366661 2020-05-15 16:30:00 2020-05-15 18:00:00   \n2           2  2556005176711086 2020-05-17 13:30:00 2020-05-17 15:00:00   \n3           3  2556005178902031 2020-05-17 18:00:00 2020-05-17 19:30:00   \n4           4  2556005207608961 2020-05-20 16:30:00 2020-05-20 18:00:00   \n\n   Participants  Adults  Participants (details)               Experience  \\\n0             2       2                     NaN  Weightless Luxury Float   \n1             2       2                     NaN  Weightless Luxury Float   \n2             2       2                     NaN  Weightless Luxury Float   \n3             1       1                     NaN  Weightless Luxury Float   \n4             2       2                     NaN  Weightless Luxury Float   \n\n  Product code  Status  ...             Created Created by  Last changed  \\\n0  R1A-STDFLOT  normal  ... 2020-05-14 11:13:00   CUSTOMER           NaT   \n1  R1A-STDFLOT  normal  ... 2020-05-14 15:41:00   CUSTOMER           NaT   \n2  R1A-STDFLOT  normal  ... 2020-05-17 12:49:00   CUSTOMER           NaT   \n3  R1A-STDFLOT  normal  ... 2020-05-17 17:52:00      Lobby           NaT   \n4  R1A-STDFLOT  normal  ... 2020-05-20 12:00:00    Manager           NaT   \n\n  Last changed by  Canceled  Canceled by  \\\n0             NaN       NaT          NaN   \n1             NaN       NaT          NaN   \n2             NaN       NaT          NaN   \n3             NaN       NaT          NaN   \n4             NaN       NaT          NaN   \n\n  Add a full service Cryo-air facial with skincare treatment?  \\\n0                                                NaN            \n1                                                NaN            \n2                                                NaN            \n3                                                NaN            \n4                                                NaN            \n\n  Would you like float audio?  Would you like lights on extra?            ID  \n0  Yes, ambient music for 15m                 Yes, low for 15m -8.561293e+18  \n1  Yes, ambient music for 60m  No, just dark after I get in...  8.655874e+18  \n2  Yes, ambient music for 30m  No, just dark after I get in... -9.053044e+18  \n3      No, just quiet, please  No, just dark after I get in...  0.000000e+00  \n4      No, just quiet, please  No, just dark after I get in... -4.976860e+18  \n\n[5 rows x 31 columns]",
      "text/html": "<div>\n<style scoped>\n    .dataframe tbody tr th:only-of-type {\n        vertical-align: middle;\n    }\n\n    .dataframe tbody tr th {\n        vertical-align: top;\n    }\n\n    .dataframe thead th {\n        text-align: right;\n    }\n</style>\n<table border=\"1\" class=\"dataframe\">\n  <thead>\n    <tr style=\"text-align: right;\">\n      <th></th>\n      <th>Unnamed: 0</th>\n      <th>Booking number</th>\n      <th>Start</th>\n      <th>End</th>\n      <th>Participants</th>\n      <th>Adults</th>\n      <th>Participants (details)</th>\n      <th>Experience</th>\n      <th>Product code</th>\n      <th>Status</th>\n      <th>...</th>\n      <th>Created</th>\n      <th>Created by</th>\n      <th>Last changed</th>\n      <th>Last changed by</th>\n      <th>Canceled</th>\n      <th>Canceled by</th>\n      <th>Add a full service Cryo-air facial with skincare treatment?</th>\n      <th>Would you like float audio?</th>\n      <th>Would you like lights on extra?</th>\n      <th>ID</th>\n    </tr>\n  </thead>\n  <tbody>\n    <tr>\n      <th>0</th>\n      <td>0</td>\n      <td>2556005148807663</td>\n      <td>2020-05-17 10:30:00</td>\n      <td>2020-05-17 12:00:00</td>\n      <td>2</td>\n      <td>2</td>\n      <td>NaN</td>\n      <td>Weightless Luxury Float</td>\n      <td>R1A-STDFLOT</td>\n      <td>normal</td>\n      <td>...</td>\n      <td>2020-05-14 11:13:00</td>\n      <td>CUSTOMER</td>\n      <td>NaT</td>\n      <td>NaN</td>\n      <td>NaT</td>\n      <td>NaN</td>\n      <td>NaN</td>\n      <td>Yes, ambient music for 15m</td>\n      <td>Yes, low for 15m</td>\n      <td>-8.561293e+18</td>\n    </tr>\n    <tr>\n      <th>1</th>\n      <td>1</td>\n      <td>2556005147366661</td>\n      <td>2020-05-15 16:30:00</td>\n      <td>2020-05-15 18:00:00</td>\n      <td>2</td>\n      <td>2</td>\n      <td>NaN</td>\n      <td>Weightless Luxury Float</td>\n      <td>R1A-STDFLOT</td>\n      <td>normal</td>\n      <td>...</td>\n      <td>2020-05-14 15:41:00</td>\n      <td>CUSTOMER</td>\n      <td>NaT</td>\n      <td>NaN</td>\n      <td>NaT</td>\n      <td>NaN</td>\n      <td>NaN</td>\n      <td>Yes, ambient music for 60m</td>\n      <td>No, just dark after I get in...</td>\n      <td>8.655874e+18</td>\n    </tr>\n    <tr>\n      <th>2</th>\n      <td>2</td>\n      <td>2556005176711086</td>\n      <td>2020-05-17 13:30:00</td>\n      <td>2020-05-17 15:00:00</td>\n      <td>2</td>\n      <td>2</td>\n      <td>NaN</td>\n      <td>Weightless Luxury Float</td>\n      <td>R1A-STDFLOT</td>\n      <td>normal</td>\n      <td>...</td>\n      <td>2020-05-17 12:49:00</td>\n      <td>CUSTOMER</td>\n      <td>NaT</td>\n      <td>NaN</td>\n      <td>NaT</td>\n      <td>NaN</td>\n      <td>NaN</td>\n      <td>Yes, ambient music for 30m</td>\n      <td>No, just dark after I get in...</td>\n      <td>-9.053044e+18</td>\n    </tr>\n    <tr>\n      <th>3</th>\n      <td>3</td>\n      <td>2556005178902031</td>\n      <td>2020-05-17 18:00:00</td>\n      <td>2020-05-17 19:30:00</td>\n      <td>1</td>\n      <td>1</td>\n      <td>NaN</td>\n      <td>Weightless Luxury Float</td>\n      <td>R1A-STDFLOT</td>\n      <td>normal</td>\n      <td>...</td>\n      <td>2020-05-17 17:52:00</td>\n      <td>Lobby</td>\n      <td>NaT</td>\n      <td>NaN</td>\n      <td>NaT</td>\n      <td>NaN</td>\n      <td>NaN</td>\n      <td>No, just quiet, please</td>\n      <td>No, just dark after I get in...</td>\n      <td>0.000000e+00</td>\n    </tr>\n    <tr>\n      <th>4</th>\n      <td>4</td>\n      <td>2556005207608961</td>\n      <td>2020-05-20 16:30:00</td>\n      <td>2020-05-20 18:00:00</td>\n      <td>2</td>\n      <td>2</td>\n      <td>NaN</td>\n      <td>Weightless Luxury Float</td>\n      <td>R1A-STDFLOT</td>\n      <td>normal</td>\n      <td>...</td>\n      <td>2020-05-20 12:00:00</td>\n      <td>Manager</td>\n      <td>NaT</td>\n      <td>NaN</td>\n      <td>NaT</td>\n      <td>NaN</td>\n      <td>NaN</td>\n      <td>No, just quiet, please</td>\n      <td>No, just dark after I get in...</td>\n      <td>-4.976860e+18</td>\n    </tr>\n  </tbody>\n</table>\n<p>5 rows × 31 columns</p>\n</div>"
     },
     "execution_count": 201,
     "metadata": {},
     "output_type": "execute_result"
    }
   ],
   "source": [
    "df = pd.read_excel(\"data/data.xlsx\")\n",
    "\n",
    "df.head()"
   ],
   "metadata": {
    "collapsed": false,
    "ExecuteTime": {
     "end_time": "2024-03-22T13:11:35.252918400Z",
     "start_time": "2024-03-22T13:11:34.727299700Z"
    }
   }
  },
  {
   "cell_type": "code",
   "execution_count": 202,
   "metadata": {
    "ExecuteTime": {
     "end_time": "2024-03-22T13:11:35.254902800Z",
     "start_time": "2024-03-22T13:11:34.981182700Z"
    }
   },
   "outputs": [],
   "source": [
    "#creating fields for the RFM table\n",
    "\n",
    "#order date\n",
    "df['Order Date'] = df['Created']\n",
    "#order ID\n",
    "df['Order ID'] = df['Booking number']\n",
    "#profit\n",
    "df['Profit'] = df['Total net']"
   ]
  },
  {
   "cell_type": "markdown",
   "source": [
    "# Creation of RFM table\n",
    "RFM table where the ID, order date and profit (total net) are setup "
   ],
   "metadata": {
    "collapsed": false
   }
  },
  {
   "cell_type": "code",
   "execution_count": 203,
   "metadata": {
    "ExecuteTime": {
     "end_time": "2024-03-22T13:11:35.285883200Z",
     "start_time": "2024-03-22T13:11:34.998200800Z"
    }
   },
   "outputs": [
    {
     "data": {
      "text/plain": "               Recency  Frequency   Monetary\nID                                          \n 0.000000e+00        0         46  325934.58\n 1.418898e+17        4          3   32027.04\n-2.947883e+18       27          4   22729.74\n-3.913870e+18        7          2   22418.91\n 5.896166e+18       42          5   21846.85",
      "text/html": "<div>\n<style scoped>\n    .dataframe tbody tr th:only-of-type {\n        vertical-align: middle;\n    }\n\n    .dataframe tbody tr th {\n        vertical-align: top;\n    }\n\n    .dataframe thead th {\n        text-align: right;\n    }\n</style>\n<table border=\"1\" class=\"dataframe\">\n  <thead>\n    <tr style=\"text-align: right;\">\n      <th></th>\n      <th>Recency</th>\n      <th>Frequency</th>\n      <th>Monetary</th>\n    </tr>\n    <tr>\n      <th>ID</th>\n      <th></th>\n      <th></th>\n      <th></th>\n    </tr>\n  </thead>\n  <tbody>\n    <tr>\n      <th>0.000000e+00</th>\n      <td>0</td>\n      <td>46</td>\n      <td>325934.58</td>\n    </tr>\n    <tr>\n      <th>1.418898e+17</th>\n      <td>4</td>\n      <td>3</td>\n      <td>32027.04</td>\n    </tr>\n    <tr>\n      <th>-2.947883e+18</th>\n      <td>27</td>\n      <td>4</td>\n      <td>22729.74</td>\n    </tr>\n    <tr>\n      <th>-3.913870e+18</th>\n      <td>7</td>\n      <td>2</td>\n      <td>22418.91</td>\n    </tr>\n    <tr>\n      <th>5.896166e+18</th>\n      <td>42</td>\n      <td>5</td>\n      <td>21846.85</td>\n    </tr>\n  </tbody>\n</table>\n</div>"
     },
     "execution_count": 203,
     "metadata": {},
     "output_type": "execute_result"
    }
   ],
   "source": [
    "#Step 1: Create RFM Features for each customers\n",
    "df_RFM = df.groupby('ID').agg({'Order Date': lambda y: (df['Order Date'].max().date() - y.max().date()).days,\n",
    "                                        'Order ID': lambda y: len(y.unique()),  \n",
    "                                        'Profit': lambda y: round(y.sum(),2)})\n",
    "df_RFM.columns = ['Recency', 'Frequency', 'Monetary']\n",
    "df_RFM = df_RFM.sort_values('Monetary', ascending=False)\n",
    "df_RFM.head()"
   ]
  },
  {
   "cell_type": "markdown",
   "source": [
    "The quanties are created"
   ],
   "metadata": {
    "collapsed": false
   }
  },
  {
   "cell_type": "code",
   "execution_count": 204,
   "metadata": {
    "ExecuteTime": {
     "end_time": "2024-03-22T13:11:35.311842500Z",
     "start_time": "2024-03-22T13:11:35.179977700Z"
    }
   },
   "outputs": [],
   "source": [
    "#Step 2: # creating a segmented RFM table\n",
    "\n",
    "quantiles = df_RFM.quantile(q=[0.25,0.5,0.75])\n",
    "quantiles = quantiles.to_dict()\n",
    "\n",
    "segmented_rfm = df_RFM\n"
   ]
  },
  {
   "cell_type": "code",
   "execution_count": 205,
   "metadata": {
    "ExecuteTime": {
     "end_time": "2024-03-22T13:11:35.580358200Z",
     "start_time": "2024-03-22T13:11:35.257906200Z"
    }
   },
   "outputs": [],
   "source": [
    "def RScore(x,p,d):\n",
    "    if x <= d[p][0.25]:\n",
    "        return 1\n",
    "    elif x <= d[p][0.50]:\n",
    "        return 2\n",
    "    elif x <= d[p][0.75]: \n",
    "        return 3\n",
    "    else:\n",
    "        return 4\n",
    "    \n",
    "def FMScore(x,p,d):\n",
    "    if x <= d[p][0.25]:\n",
    "        return 4\n",
    "    elif x <= d[p][0.50]:\n",
    "        return 3\n",
    "    elif x <= d[p][0.75]: \n",
    "        return 2\n",
    "    else:\n",
    "        return 1"
   ]
  },
  {
   "cell_type": "code",
   "execution_count": 206,
   "metadata": {
    "ExecuteTime": {
     "end_time": "2024-03-22T13:11:35.834683100Z",
     "start_time": "2024-03-22T13:11:35.507675500Z"
    }
   },
   "outputs": [
    {
     "data": {
      "text/plain": "               Recency  Frequency   Monetary  r_quartile  f_quartile  \\\nID                                                                     \n 0.000000e+00        0         46  325934.58           1           1   \n 1.418898e+17        4          3   32027.04           1           1   \n-2.947883e+18       27          4   22729.74           2           1   \n-3.913870e+18        7          2   22418.91           1           1   \n 5.896166e+18       42          5   21846.85           3           1   \n\n               m_quartile RFMScore  \nID                                  \n 0.000000e+00           1      111  \n 1.418898e+17           1      111  \n-2.947883e+18           1      211  \n-3.913870e+18           1      111  \n 5.896166e+18           1      311  ",
      "text/html": "<div>\n<style scoped>\n    .dataframe tbody tr th:only-of-type {\n        vertical-align: middle;\n    }\n\n    .dataframe tbody tr th {\n        vertical-align: top;\n    }\n\n    .dataframe thead th {\n        text-align: right;\n    }\n</style>\n<table border=\"1\" class=\"dataframe\">\n  <thead>\n    <tr style=\"text-align: right;\">\n      <th></th>\n      <th>Recency</th>\n      <th>Frequency</th>\n      <th>Monetary</th>\n      <th>r_quartile</th>\n      <th>f_quartile</th>\n      <th>m_quartile</th>\n      <th>RFMScore</th>\n    </tr>\n    <tr>\n      <th>ID</th>\n      <th></th>\n      <th></th>\n      <th></th>\n      <th></th>\n      <th></th>\n      <th></th>\n      <th></th>\n    </tr>\n  </thead>\n  <tbody>\n    <tr>\n      <th>0.000000e+00</th>\n      <td>0</td>\n      <td>46</td>\n      <td>325934.58</td>\n      <td>1</td>\n      <td>1</td>\n      <td>1</td>\n      <td>111</td>\n    </tr>\n    <tr>\n      <th>1.418898e+17</th>\n      <td>4</td>\n      <td>3</td>\n      <td>32027.04</td>\n      <td>1</td>\n      <td>1</td>\n      <td>1</td>\n      <td>111</td>\n    </tr>\n    <tr>\n      <th>-2.947883e+18</th>\n      <td>27</td>\n      <td>4</td>\n      <td>22729.74</td>\n      <td>2</td>\n      <td>1</td>\n      <td>1</td>\n      <td>211</td>\n    </tr>\n    <tr>\n      <th>-3.913870e+18</th>\n      <td>7</td>\n      <td>2</td>\n      <td>22418.91</td>\n      <td>1</td>\n      <td>1</td>\n      <td>1</td>\n      <td>111</td>\n    </tr>\n    <tr>\n      <th>5.896166e+18</th>\n      <td>42</td>\n      <td>5</td>\n      <td>21846.85</td>\n      <td>3</td>\n      <td>1</td>\n      <td>1</td>\n      <td>311</td>\n    </tr>\n  </tbody>\n</table>\n</div>"
     },
     "execution_count": 206,
     "metadata": {},
     "output_type": "execute_result"
    }
   ],
   "source": [
    "segmented_rfm['r_quartile'] = segmented_rfm['Recency'].apply(RScore, args=('Recency',quantiles,))\n",
    "segmented_rfm['f_quartile'] = segmented_rfm['Frequency'].apply(FMScore, args=('Frequency',quantiles,))\n",
    "segmented_rfm['m_quartile'] = segmented_rfm['Monetary'].apply(FMScore, args=('Monetary',quantiles,))\n",
    "segmented_rfm['RFMScore'] = segmented_rfm.r_quartile.map(str) + segmented_rfm.f_quartile.map(str) + segmented_rfm.m_quartile.map(str)\n",
    "segmented_rfm.head()"
   ]
  },
  {
   "cell_type": "markdown",
   "source": [
    "## segementation map"
   ],
   "metadata": {
    "collapsed": false
   }
  },
  {
   "cell_type": "code",
   "execution_count": 207,
   "metadata": {
    "ExecuteTime": {
     "end_time": "2024-03-22T13:11:35.856661100Z",
     "start_time": "2024-03-22T13:11:35.602337700Z"
    }
   },
   "outputs": [
    {
     "data": {
      "text/plain": "               Recency  Frequency   Monetary  r_quartile  f_quartile  \\\nID                                                                     \n 0.000000e+00        0         46  325934.58           1           1   \n 1.418898e+17        4          3   32027.04           1           1   \n-2.947883e+18       27          4   22729.74           2           1   \n-3.913870e+18        7          2   22418.91           1           1   \n 5.896166e+18       42          5   21846.85           3           1   \n-3.456012e+18       24          2   21351.36           2           1   \n 2.399557e+18       61          2   21351.36           4           1   \n-2.073483e+18        7          2   21351.36           1           1   \n 8.363758e+18       64          1   21351.36           4           4   \n-2.558382e+18       36          3   18108.12           3           1   \n\n               m_quartile RFMScore              DEF  \nID                                                   \n 0.000000e+00           1      111      hibernating  \n 1.418898e+17           1      111      hibernating  \n-2.947883e+18           1      211      hibernating  \n-3.913870e+18           1      111      hibernating  \n 5.896166e+18           1      311   about to sleep  \n-3.456012e+18           1      211      hibernating  \n 2.399557e+18           1      411        promising  \n-2.073483e+18           1      111      hibernating  \n 8.363758e+18           1      441  loyal customers  \n-2.558382e+18           1      311   about to sleep  ",
      "text/html": "<div>\n<style scoped>\n    .dataframe tbody tr th:only-of-type {\n        vertical-align: middle;\n    }\n\n    .dataframe tbody tr th {\n        vertical-align: top;\n    }\n\n    .dataframe thead th {\n        text-align: right;\n    }\n</style>\n<table border=\"1\" class=\"dataframe\">\n  <thead>\n    <tr style=\"text-align: right;\">\n      <th></th>\n      <th>Recency</th>\n      <th>Frequency</th>\n      <th>Monetary</th>\n      <th>r_quartile</th>\n      <th>f_quartile</th>\n      <th>m_quartile</th>\n      <th>RFMScore</th>\n      <th>DEF</th>\n    </tr>\n    <tr>\n      <th>ID</th>\n      <th></th>\n      <th></th>\n      <th></th>\n      <th></th>\n      <th></th>\n      <th></th>\n      <th></th>\n      <th></th>\n    </tr>\n  </thead>\n  <tbody>\n    <tr>\n      <th>0.000000e+00</th>\n      <td>0</td>\n      <td>46</td>\n      <td>325934.58</td>\n      <td>1</td>\n      <td>1</td>\n      <td>1</td>\n      <td>111</td>\n      <td>hibernating</td>\n    </tr>\n    <tr>\n      <th>1.418898e+17</th>\n      <td>4</td>\n      <td>3</td>\n      <td>32027.04</td>\n      <td>1</td>\n      <td>1</td>\n      <td>1</td>\n      <td>111</td>\n      <td>hibernating</td>\n    </tr>\n    <tr>\n      <th>-2.947883e+18</th>\n      <td>27</td>\n      <td>4</td>\n      <td>22729.74</td>\n      <td>2</td>\n      <td>1</td>\n      <td>1</td>\n      <td>211</td>\n      <td>hibernating</td>\n    </tr>\n    <tr>\n      <th>-3.913870e+18</th>\n      <td>7</td>\n      <td>2</td>\n      <td>22418.91</td>\n      <td>1</td>\n      <td>1</td>\n      <td>1</td>\n      <td>111</td>\n      <td>hibernating</td>\n    </tr>\n    <tr>\n      <th>5.896166e+18</th>\n      <td>42</td>\n      <td>5</td>\n      <td>21846.85</td>\n      <td>3</td>\n      <td>1</td>\n      <td>1</td>\n      <td>311</td>\n      <td>about to sleep</td>\n    </tr>\n    <tr>\n      <th>-3.456012e+18</th>\n      <td>24</td>\n      <td>2</td>\n      <td>21351.36</td>\n      <td>2</td>\n      <td>1</td>\n      <td>1</td>\n      <td>211</td>\n      <td>hibernating</td>\n    </tr>\n    <tr>\n      <th>2.399557e+18</th>\n      <td>61</td>\n      <td>2</td>\n      <td>21351.36</td>\n      <td>4</td>\n      <td>1</td>\n      <td>1</td>\n      <td>411</td>\n      <td>promising</td>\n    </tr>\n    <tr>\n      <th>-2.073483e+18</th>\n      <td>7</td>\n      <td>2</td>\n      <td>21351.36</td>\n      <td>1</td>\n      <td>1</td>\n      <td>1</td>\n      <td>111</td>\n      <td>hibernating</td>\n    </tr>\n    <tr>\n      <th>8.363758e+18</th>\n      <td>64</td>\n      <td>1</td>\n      <td>21351.36</td>\n      <td>4</td>\n      <td>4</td>\n      <td>1</td>\n      <td>441</td>\n      <td>loyal customers</td>\n    </tr>\n    <tr>\n      <th>-2.558382e+18</th>\n      <td>36</td>\n      <td>3</td>\n      <td>18108.12</td>\n      <td>3</td>\n      <td>1</td>\n      <td>1</td>\n      <td>311</td>\n      <td>about to sleep</td>\n    </tr>\n  </tbody>\n</table>\n</div>"
     },
     "execution_count": 207,
     "metadata": {},
     "output_type": "execute_result"
    }
   ],
   "source": [
    "segt_map = {\n",
    "    r'[1-2][1-2]': 'hibernating',\n",
    "    r'[1-2][3-4]': 'at risk',\n",
    "    r'[1-2]5': 'can\\'t loose',\n",
    "    r'3[1-2]': 'about to sleep',\n",
    "    r'33': 'need attention',\n",
    "    r'[3-4][4-5]': 'loyal customers',\n",
    "    r'41': 'promising',\n",
    "    r'51': 'new customers',\n",
    "    r'[4-5][2-3]': 'potential loyalists',\n",
    "    r'5[4-5]': 'champions'\n",
    "}\n",
    "\n",
    "#adding the mapping to the DF\n",
    "segmented_rfm['DEF'] = segmented_rfm['r_quartile'].map(str) + df_RFM['f_quartile'].map(str)\n",
    "segmented_rfm['DEF'] = segmented_rfm['DEF'].replace(segt_map, regex=True)\n",
    "df_RFM.head(10)"
   ]
  },
  {
   "cell_type": "markdown",
   "source": [
    "The distribution of customer in the DF is interesting, about half are almost lost customer, another big checku are loyal "
   ],
   "metadata": {
    "collapsed": false
   }
  },
  {
   "cell_type": "code",
   "execution_count": 208,
   "outputs": [
    {
     "data": {
      "application/vnd.plotly.v1+json": {
       "data": [
        {
         "marker": {
          "color": [
           "silver",
           "silver",
           "firebrick",
           "firebrick",
           "silver"
          ]
         },
         "orientation": "h",
         "text": [
          "9 (3%)",
          "15 (6%)",
          "33 (14%)",
          "86 (36%)",
          "92 (39%)"
         ],
         "textfont": {
          "color": "white"
         },
         "textposition": "inside",
         "x": [
          9,
          15,
          33,
          86,
          92
         ],
         "y": [
          "promising",
          "about to sleep",
          "hibernating",
          "at risk",
          "loyal customers"
         ],
         "type": "bar"
        }
       ],
       "layout": {
        "template": {
         "data": {
          "histogram2dcontour": [
           {
            "type": "histogram2dcontour",
            "colorbar": {
             "outlinewidth": 0,
             "ticks": ""
            },
            "colorscale": [
             [
              0.0,
              "#0d0887"
             ],
             [
              0.1111111111111111,
              "#46039f"
             ],
             [
              0.2222222222222222,
              "#7201a8"
             ],
             [
              0.3333333333333333,
              "#9c179e"
             ],
             [
              0.4444444444444444,
              "#bd3786"
             ],
             [
              0.5555555555555556,
              "#d8576b"
             ],
             [
              0.6666666666666666,
              "#ed7953"
             ],
             [
              0.7777777777777778,
              "#fb9f3a"
             ],
             [
              0.8888888888888888,
              "#fdca26"
             ],
             [
              1.0,
              "#f0f921"
             ]
            ]
           }
          ],
          "choropleth": [
           {
            "type": "choropleth",
            "colorbar": {
             "outlinewidth": 0,
             "ticks": ""
            }
           }
          ],
          "histogram2d": [
           {
            "type": "histogram2d",
            "colorbar": {
             "outlinewidth": 0,
             "ticks": ""
            },
            "colorscale": [
             [
              0.0,
              "#0d0887"
             ],
             [
              0.1111111111111111,
              "#46039f"
             ],
             [
              0.2222222222222222,
              "#7201a8"
             ],
             [
              0.3333333333333333,
              "#9c179e"
             ],
             [
              0.4444444444444444,
              "#bd3786"
             ],
             [
              0.5555555555555556,
              "#d8576b"
             ],
             [
              0.6666666666666666,
              "#ed7953"
             ],
             [
              0.7777777777777778,
              "#fb9f3a"
             ],
             [
              0.8888888888888888,
              "#fdca26"
             ],
             [
              1.0,
              "#f0f921"
             ]
            ]
           }
          ],
          "heatmap": [
           {
            "type": "heatmap",
            "colorbar": {
             "outlinewidth": 0,
             "ticks": ""
            },
            "colorscale": [
             [
              0.0,
              "#0d0887"
             ],
             [
              0.1111111111111111,
              "#46039f"
             ],
             [
              0.2222222222222222,
              "#7201a8"
             ],
             [
              0.3333333333333333,
              "#9c179e"
             ],
             [
              0.4444444444444444,
              "#bd3786"
             ],
             [
              0.5555555555555556,
              "#d8576b"
             ],
             [
              0.6666666666666666,
              "#ed7953"
             ],
             [
              0.7777777777777778,
              "#fb9f3a"
             ],
             [
              0.8888888888888888,
              "#fdca26"
             ],
             [
              1.0,
              "#f0f921"
             ]
            ]
           }
          ],
          "heatmapgl": [
           {
            "type": "heatmapgl",
            "colorbar": {
             "outlinewidth": 0,
             "ticks": ""
            },
            "colorscale": [
             [
              0.0,
              "#0d0887"
             ],
             [
              0.1111111111111111,
              "#46039f"
             ],
             [
              0.2222222222222222,
              "#7201a8"
             ],
             [
              0.3333333333333333,
              "#9c179e"
             ],
             [
              0.4444444444444444,
              "#bd3786"
             ],
             [
              0.5555555555555556,
              "#d8576b"
             ],
             [
              0.6666666666666666,
              "#ed7953"
             ],
             [
              0.7777777777777778,
              "#fb9f3a"
             ],
             [
              0.8888888888888888,
              "#fdca26"
             ],
             [
              1.0,
              "#f0f921"
             ]
            ]
           }
          ],
          "contourcarpet": [
           {
            "type": "contourcarpet",
            "colorbar": {
             "outlinewidth": 0,
             "ticks": ""
            }
           }
          ],
          "contour": [
           {
            "type": "contour",
            "colorbar": {
             "outlinewidth": 0,
             "ticks": ""
            },
            "colorscale": [
             [
              0.0,
              "#0d0887"
             ],
             [
              0.1111111111111111,
              "#46039f"
             ],
             [
              0.2222222222222222,
              "#7201a8"
             ],
             [
              0.3333333333333333,
              "#9c179e"
             ],
             [
              0.4444444444444444,
              "#bd3786"
             ],
             [
              0.5555555555555556,
              "#d8576b"
             ],
             [
              0.6666666666666666,
              "#ed7953"
             ],
             [
              0.7777777777777778,
              "#fb9f3a"
             ],
             [
              0.8888888888888888,
              "#fdca26"
             ],
             [
              1.0,
              "#f0f921"
             ]
            ]
           }
          ],
          "surface": [
           {
            "type": "surface",
            "colorbar": {
             "outlinewidth": 0,
             "ticks": ""
            },
            "colorscale": [
             [
              0.0,
              "#0d0887"
             ],
             [
              0.1111111111111111,
              "#46039f"
             ],
             [
              0.2222222222222222,
              "#7201a8"
             ],
             [
              0.3333333333333333,
              "#9c179e"
             ],
             [
              0.4444444444444444,
              "#bd3786"
             ],
             [
              0.5555555555555556,
              "#d8576b"
             ],
             [
              0.6666666666666666,
              "#ed7953"
             ],
             [
              0.7777777777777778,
              "#fb9f3a"
             ],
             [
              0.8888888888888888,
              "#fdca26"
             ],
             [
              1.0,
              "#f0f921"
             ]
            ]
           }
          ],
          "mesh3d": [
           {
            "type": "mesh3d",
            "colorbar": {
             "outlinewidth": 0,
             "ticks": ""
            }
           }
          ],
          "scatter": [
           {
            "fillpattern": {
             "fillmode": "overlay",
             "size": 10,
             "solidity": 0.2
            },
            "type": "scatter"
           }
          ],
          "parcoords": [
           {
            "type": "parcoords",
            "line": {
             "colorbar": {
              "outlinewidth": 0,
              "ticks": ""
             }
            }
           }
          ],
          "scatterpolargl": [
           {
            "type": "scatterpolargl",
            "marker": {
             "colorbar": {
              "outlinewidth": 0,
              "ticks": ""
             }
            }
           }
          ],
          "bar": [
           {
            "error_x": {
             "color": "#2a3f5f"
            },
            "error_y": {
             "color": "#2a3f5f"
            },
            "marker": {
             "line": {
              "color": "#E5ECF6",
              "width": 0.5
             },
             "pattern": {
              "fillmode": "overlay",
              "size": 10,
              "solidity": 0.2
             }
            },
            "type": "bar"
           }
          ],
          "scattergeo": [
           {
            "type": "scattergeo",
            "marker": {
             "colorbar": {
              "outlinewidth": 0,
              "ticks": ""
             }
            }
           }
          ],
          "scatterpolar": [
           {
            "type": "scatterpolar",
            "marker": {
             "colorbar": {
              "outlinewidth": 0,
              "ticks": ""
             }
            }
           }
          ],
          "histogram": [
           {
            "marker": {
             "pattern": {
              "fillmode": "overlay",
              "size": 10,
              "solidity": 0.2
             }
            },
            "type": "histogram"
           }
          ],
          "scattergl": [
           {
            "type": "scattergl",
            "marker": {
             "colorbar": {
              "outlinewidth": 0,
              "ticks": ""
             }
            }
           }
          ],
          "scatter3d": [
           {
            "type": "scatter3d",
            "line": {
             "colorbar": {
              "outlinewidth": 0,
              "ticks": ""
             }
            },
            "marker": {
             "colorbar": {
              "outlinewidth": 0,
              "ticks": ""
             }
            }
           }
          ],
          "scattermapbox": [
           {
            "type": "scattermapbox",
            "marker": {
             "colorbar": {
              "outlinewidth": 0,
              "ticks": ""
             }
            }
           }
          ],
          "scatterternary": [
           {
            "type": "scatterternary",
            "marker": {
             "colorbar": {
              "outlinewidth": 0,
              "ticks": ""
             }
            }
           }
          ],
          "scattercarpet": [
           {
            "type": "scattercarpet",
            "marker": {
             "colorbar": {
              "outlinewidth": 0,
              "ticks": ""
             }
            }
           }
          ],
          "carpet": [
           {
            "aaxis": {
             "endlinecolor": "#2a3f5f",
             "gridcolor": "white",
             "linecolor": "white",
             "minorgridcolor": "white",
             "startlinecolor": "#2a3f5f"
            },
            "baxis": {
             "endlinecolor": "#2a3f5f",
             "gridcolor": "white",
             "linecolor": "white",
             "minorgridcolor": "white",
             "startlinecolor": "#2a3f5f"
            },
            "type": "carpet"
           }
          ],
          "table": [
           {
            "cells": {
             "fill": {
              "color": "#EBF0F8"
             },
             "line": {
              "color": "white"
             }
            },
            "header": {
             "fill": {
              "color": "#C8D4E3"
             },
             "line": {
              "color": "white"
             }
            },
            "type": "table"
           }
          ],
          "barpolar": [
           {
            "marker": {
             "line": {
              "color": "#E5ECF6",
              "width": 0.5
             },
             "pattern": {
              "fillmode": "overlay",
              "size": 10,
              "solidity": 0.2
             }
            },
            "type": "barpolar"
           }
          ],
          "pie": [
           {
            "automargin": true,
            "type": "pie"
           }
          ]
         },
         "layout": {
          "autotypenumbers": "strict",
          "colorway": [
           "#636efa",
           "#EF553B",
           "#00cc96",
           "#ab63fa",
           "#FFA15A",
           "#19d3f3",
           "#FF6692",
           "#B6E880",
           "#FF97FF",
           "#FECB52"
          ],
          "font": {
           "color": "#2a3f5f"
          },
          "hovermode": "closest",
          "hoverlabel": {
           "align": "left"
          },
          "paper_bgcolor": "white",
          "plot_bgcolor": "#E5ECF6",
          "polar": {
           "bgcolor": "#E5ECF6",
           "angularaxis": {
            "gridcolor": "white",
            "linecolor": "white",
            "ticks": ""
           },
           "radialaxis": {
            "gridcolor": "white",
            "linecolor": "white",
            "ticks": ""
           }
          },
          "ternary": {
           "bgcolor": "#E5ECF6",
           "aaxis": {
            "gridcolor": "white",
            "linecolor": "white",
            "ticks": ""
           },
           "baxis": {
            "gridcolor": "white",
            "linecolor": "white",
            "ticks": ""
           },
           "caxis": {
            "gridcolor": "white",
            "linecolor": "white",
            "ticks": ""
           }
          },
          "coloraxis": {
           "colorbar": {
            "outlinewidth": 0,
            "ticks": ""
           }
          },
          "colorscale": {
           "sequential": [
            [
             0.0,
             "#0d0887"
            ],
            [
             0.1111111111111111,
             "#46039f"
            ],
            [
             0.2222222222222222,
             "#7201a8"
            ],
            [
             0.3333333333333333,
             "#9c179e"
            ],
            [
             0.4444444444444444,
             "#bd3786"
            ],
            [
             0.5555555555555556,
             "#d8576b"
            ],
            [
             0.6666666666666666,
             "#ed7953"
            ],
            [
             0.7777777777777778,
             "#fb9f3a"
            ],
            [
             0.8888888888888888,
             "#fdca26"
            ],
            [
             1.0,
             "#f0f921"
            ]
           ],
           "sequentialminus": [
            [
             0.0,
             "#0d0887"
            ],
            [
             0.1111111111111111,
             "#46039f"
            ],
            [
             0.2222222222222222,
             "#7201a8"
            ],
            [
             0.3333333333333333,
             "#9c179e"
            ],
            [
             0.4444444444444444,
             "#bd3786"
            ],
            [
             0.5555555555555556,
             "#d8576b"
            ],
            [
             0.6666666666666666,
             "#ed7953"
            ],
            [
             0.7777777777777778,
             "#fb9f3a"
            ],
            [
             0.8888888888888888,
             "#fdca26"
            ],
            [
             1.0,
             "#f0f921"
            ]
           ],
           "diverging": [
            [
             0,
             "#8e0152"
            ],
            [
             0.1,
             "#c51b7d"
            ],
            [
             0.2,
             "#de77ae"
            ],
            [
             0.3,
             "#f1b6da"
            ],
            [
             0.4,
             "#fde0ef"
            ],
            [
             0.5,
             "#f7f7f7"
            ],
            [
             0.6,
             "#e6f5d0"
            ],
            [
             0.7,
             "#b8e186"
            ],
            [
             0.8,
             "#7fbc41"
            ],
            [
             0.9,
             "#4d9221"
            ],
            [
             1,
             "#276419"
            ]
           ]
          },
          "xaxis": {
           "gridcolor": "white",
           "linecolor": "white",
           "ticks": "",
           "title": {
            "standoff": 15
           },
           "zerolinecolor": "white",
           "automargin": true,
           "zerolinewidth": 2
          },
          "yaxis": {
           "gridcolor": "white",
           "linecolor": "white",
           "ticks": "",
           "title": {
            "standoff": 15
           },
           "zerolinecolor": "white",
           "automargin": true,
           "zerolinewidth": 2
          },
          "scene": {
           "xaxis": {
            "backgroundcolor": "#E5ECF6",
            "gridcolor": "white",
            "linecolor": "white",
            "showbackground": true,
            "ticks": "",
            "zerolinecolor": "white",
            "gridwidth": 2
           },
           "yaxis": {
            "backgroundcolor": "#E5ECF6",
            "gridcolor": "white",
            "linecolor": "white",
            "showbackground": true,
            "ticks": "",
            "zerolinecolor": "white",
            "gridwidth": 2
           },
           "zaxis": {
            "backgroundcolor": "#E5ECF6",
            "gridcolor": "white",
            "linecolor": "white",
            "showbackground": true,
            "ticks": "",
            "zerolinecolor": "white",
            "gridwidth": 2
           }
          },
          "shapedefaults": {
           "line": {
            "color": "#2a3f5f"
           }
          },
          "annotationdefaults": {
           "arrowcolor": "#2a3f5f",
           "arrowhead": 0,
           "arrowwidth": 1
          },
          "geo": {
           "bgcolor": "white",
           "landcolor": "#E5ECF6",
           "subunitcolor": "white",
           "showland": true,
           "showlakes": true,
           "lakecolor": "white"
          },
          "title": {
           "x": 0.05
          },
          "mapbox": {
           "style": "light"
          }
         }
        },
        "yaxis": {
         "tickmode": "array",
         "tickvals": [
          0,
          1,
          2,
          3,
          4
         ],
         "ticktext": [
          "promising",
          "about to sleep",
          "hibernating",
          "at risk",
          "loyal customers"
         ]
        },
        "title": {
         "text": "Distribution of customers in segments"
        },
        "xaxis": {
         "title": {
          "text": "Number of Customers"
         }
        },
        "showlegend": false
       },
       "config": {
        "plotlyServerURL": "https://plot.ly"
       }
      },
      "text/html": "<div>                            <div id=\"c98232d6-537c-46c2-a8c9-f07d0cd62d56\" class=\"plotly-graph-div\" style=\"height:525px; width:100%;\"></div>            <script type=\"text/javascript\">                require([\"plotly\"], function(Plotly) {                    window.PLOTLYENV=window.PLOTLYENV || {};                                    if (document.getElementById(\"c98232d6-537c-46c2-a8c9-f07d0cd62d56\")) {                    Plotly.newPlot(                        \"c98232d6-537c-46c2-a8c9-f07d0cd62d56\",                        [{\"marker\":{\"color\":[\"silver\",\"silver\",\"firebrick\",\"firebrick\",\"silver\"]},\"orientation\":\"h\",\"text\":[\"9 (3%)\",\"15 (6%)\",\"33 (14%)\",\"86 (36%)\",\"92 (39%)\"],\"textfont\":{\"color\":\"white\"},\"textposition\":\"inside\",\"x\":[9,15,33,86,92],\"y\":[\"promising\",\"about to sleep\",\"hibernating\",\"at risk\",\"loyal customers\"],\"type\":\"bar\"}],                        {\"template\":{\"data\":{\"histogram2dcontour\":[{\"type\":\"histogram2dcontour\",\"colorbar\":{\"outlinewidth\":0,\"ticks\":\"\"},\"colorscale\":[[0.0,\"#0d0887\"],[0.1111111111111111,\"#46039f\"],[0.2222222222222222,\"#7201a8\"],[0.3333333333333333,\"#9c179e\"],[0.4444444444444444,\"#bd3786\"],[0.5555555555555556,\"#d8576b\"],[0.6666666666666666,\"#ed7953\"],[0.7777777777777778,\"#fb9f3a\"],[0.8888888888888888,\"#fdca26\"],[1.0,\"#f0f921\"]]}],\"choropleth\":[{\"type\":\"choropleth\",\"colorbar\":{\"outlinewidth\":0,\"ticks\":\"\"}}],\"histogram2d\":[{\"type\":\"histogram2d\",\"colorbar\":{\"outlinewidth\":0,\"ticks\":\"\"},\"colorscale\":[[0.0,\"#0d0887\"],[0.1111111111111111,\"#46039f\"],[0.2222222222222222,\"#7201a8\"],[0.3333333333333333,\"#9c179e\"],[0.4444444444444444,\"#bd3786\"],[0.5555555555555556,\"#d8576b\"],[0.6666666666666666,\"#ed7953\"],[0.7777777777777778,\"#fb9f3a\"],[0.8888888888888888,\"#fdca26\"],[1.0,\"#f0f921\"]]}],\"heatmap\":[{\"type\":\"heatmap\",\"colorbar\":{\"outlinewidth\":0,\"ticks\":\"\"},\"colorscale\":[[0.0,\"#0d0887\"],[0.1111111111111111,\"#46039f\"],[0.2222222222222222,\"#7201a8\"],[0.3333333333333333,\"#9c179e\"],[0.4444444444444444,\"#bd3786\"],[0.5555555555555556,\"#d8576b\"],[0.6666666666666666,\"#ed7953\"],[0.7777777777777778,\"#fb9f3a\"],[0.8888888888888888,\"#fdca26\"],[1.0,\"#f0f921\"]]}],\"heatmapgl\":[{\"type\":\"heatmapgl\",\"colorbar\":{\"outlinewidth\":0,\"ticks\":\"\"},\"colorscale\":[[0.0,\"#0d0887\"],[0.1111111111111111,\"#46039f\"],[0.2222222222222222,\"#7201a8\"],[0.3333333333333333,\"#9c179e\"],[0.4444444444444444,\"#bd3786\"],[0.5555555555555556,\"#d8576b\"],[0.6666666666666666,\"#ed7953\"],[0.7777777777777778,\"#fb9f3a\"],[0.8888888888888888,\"#fdca26\"],[1.0,\"#f0f921\"]]}],\"contourcarpet\":[{\"type\":\"contourcarpet\",\"colorbar\":{\"outlinewidth\":0,\"ticks\":\"\"}}],\"contour\":[{\"type\":\"contour\",\"colorbar\":{\"outlinewidth\":0,\"ticks\":\"\"},\"colorscale\":[[0.0,\"#0d0887\"],[0.1111111111111111,\"#46039f\"],[0.2222222222222222,\"#7201a8\"],[0.3333333333333333,\"#9c179e\"],[0.4444444444444444,\"#bd3786\"],[0.5555555555555556,\"#d8576b\"],[0.6666666666666666,\"#ed7953\"],[0.7777777777777778,\"#fb9f3a\"],[0.8888888888888888,\"#fdca26\"],[1.0,\"#f0f921\"]]}],\"surface\":[{\"type\":\"surface\",\"colorbar\":{\"outlinewidth\":0,\"ticks\":\"\"},\"colorscale\":[[0.0,\"#0d0887\"],[0.1111111111111111,\"#46039f\"],[0.2222222222222222,\"#7201a8\"],[0.3333333333333333,\"#9c179e\"],[0.4444444444444444,\"#bd3786\"],[0.5555555555555556,\"#d8576b\"],[0.6666666666666666,\"#ed7953\"],[0.7777777777777778,\"#fb9f3a\"],[0.8888888888888888,\"#fdca26\"],[1.0,\"#f0f921\"]]}],\"mesh3d\":[{\"type\":\"mesh3d\",\"colorbar\":{\"outlinewidth\":0,\"ticks\":\"\"}}],\"scatter\":[{\"fillpattern\":{\"fillmode\":\"overlay\",\"size\":10,\"solidity\":0.2},\"type\":\"scatter\"}],\"parcoords\":[{\"type\":\"parcoords\",\"line\":{\"colorbar\":{\"outlinewidth\":0,\"ticks\":\"\"}}}],\"scatterpolargl\":[{\"type\":\"scatterpolargl\",\"marker\":{\"colorbar\":{\"outlinewidth\":0,\"ticks\":\"\"}}}],\"bar\":[{\"error_x\":{\"color\":\"#2a3f5f\"},\"error_y\":{\"color\":\"#2a3f5f\"},\"marker\":{\"line\":{\"color\":\"#E5ECF6\",\"width\":0.5},\"pattern\":{\"fillmode\":\"overlay\",\"size\":10,\"solidity\":0.2}},\"type\":\"bar\"}],\"scattergeo\":[{\"type\":\"scattergeo\",\"marker\":{\"colorbar\":{\"outlinewidth\":0,\"ticks\":\"\"}}}],\"scatterpolar\":[{\"type\":\"scatterpolar\",\"marker\":{\"colorbar\":{\"outlinewidth\":0,\"ticks\":\"\"}}}],\"histogram\":[{\"marker\":{\"pattern\":{\"fillmode\":\"overlay\",\"size\":10,\"solidity\":0.2}},\"type\":\"histogram\"}],\"scattergl\":[{\"type\":\"scattergl\",\"marker\":{\"colorbar\":{\"outlinewidth\":0,\"ticks\":\"\"}}}],\"scatter3d\":[{\"type\":\"scatter3d\",\"line\":{\"colorbar\":{\"outlinewidth\":0,\"ticks\":\"\"}},\"marker\":{\"colorbar\":{\"outlinewidth\":0,\"ticks\":\"\"}}}],\"scattermapbox\":[{\"type\":\"scattermapbox\",\"marker\":{\"colorbar\":{\"outlinewidth\":0,\"ticks\":\"\"}}}],\"scatterternary\":[{\"type\":\"scatterternary\",\"marker\":{\"colorbar\":{\"outlinewidth\":0,\"ticks\":\"\"}}}],\"scattercarpet\":[{\"type\":\"scattercarpet\",\"marker\":{\"colorbar\":{\"outlinewidth\":0,\"ticks\":\"\"}}}],\"carpet\":[{\"aaxis\":{\"endlinecolor\":\"#2a3f5f\",\"gridcolor\":\"white\",\"linecolor\":\"white\",\"minorgridcolor\":\"white\",\"startlinecolor\":\"#2a3f5f\"},\"baxis\":{\"endlinecolor\":\"#2a3f5f\",\"gridcolor\":\"white\",\"linecolor\":\"white\",\"minorgridcolor\":\"white\",\"startlinecolor\":\"#2a3f5f\"},\"type\":\"carpet\"}],\"table\":[{\"cells\":{\"fill\":{\"color\":\"#EBF0F8\"},\"line\":{\"color\":\"white\"}},\"header\":{\"fill\":{\"color\":\"#C8D4E3\"},\"line\":{\"color\":\"white\"}},\"type\":\"table\"}],\"barpolar\":[{\"marker\":{\"line\":{\"color\":\"#E5ECF6\",\"width\":0.5},\"pattern\":{\"fillmode\":\"overlay\",\"size\":10,\"solidity\":0.2}},\"type\":\"barpolar\"}],\"pie\":[{\"automargin\":true,\"type\":\"pie\"}]},\"layout\":{\"autotypenumbers\":\"strict\",\"colorway\":[\"#636efa\",\"#EF553B\",\"#00cc96\",\"#ab63fa\",\"#FFA15A\",\"#19d3f3\",\"#FF6692\",\"#B6E880\",\"#FF97FF\",\"#FECB52\"],\"font\":{\"color\":\"#2a3f5f\"},\"hovermode\":\"closest\",\"hoverlabel\":{\"align\":\"left\"},\"paper_bgcolor\":\"white\",\"plot_bgcolor\":\"#E5ECF6\",\"polar\":{\"bgcolor\":\"#E5ECF6\",\"angularaxis\":{\"gridcolor\":\"white\",\"linecolor\":\"white\",\"ticks\":\"\"},\"radialaxis\":{\"gridcolor\":\"white\",\"linecolor\":\"white\",\"ticks\":\"\"}},\"ternary\":{\"bgcolor\":\"#E5ECF6\",\"aaxis\":{\"gridcolor\":\"white\",\"linecolor\":\"white\",\"ticks\":\"\"},\"baxis\":{\"gridcolor\":\"white\",\"linecolor\":\"white\",\"ticks\":\"\"},\"caxis\":{\"gridcolor\":\"white\",\"linecolor\":\"white\",\"ticks\":\"\"}},\"coloraxis\":{\"colorbar\":{\"outlinewidth\":0,\"ticks\":\"\"}},\"colorscale\":{\"sequential\":[[0.0,\"#0d0887\"],[0.1111111111111111,\"#46039f\"],[0.2222222222222222,\"#7201a8\"],[0.3333333333333333,\"#9c179e\"],[0.4444444444444444,\"#bd3786\"],[0.5555555555555556,\"#d8576b\"],[0.6666666666666666,\"#ed7953\"],[0.7777777777777778,\"#fb9f3a\"],[0.8888888888888888,\"#fdca26\"],[1.0,\"#f0f921\"]],\"sequentialminus\":[[0.0,\"#0d0887\"],[0.1111111111111111,\"#46039f\"],[0.2222222222222222,\"#7201a8\"],[0.3333333333333333,\"#9c179e\"],[0.4444444444444444,\"#bd3786\"],[0.5555555555555556,\"#d8576b\"],[0.6666666666666666,\"#ed7953\"],[0.7777777777777778,\"#fb9f3a\"],[0.8888888888888888,\"#fdca26\"],[1.0,\"#f0f921\"]],\"diverging\":[[0,\"#8e0152\"],[0.1,\"#c51b7d\"],[0.2,\"#de77ae\"],[0.3,\"#f1b6da\"],[0.4,\"#fde0ef\"],[0.5,\"#f7f7f7\"],[0.6,\"#e6f5d0\"],[0.7,\"#b8e186\"],[0.8,\"#7fbc41\"],[0.9,\"#4d9221\"],[1,\"#276419\"]]},\"xaxis\":{\"gridcolor\":\"white\",\"linecolor\":\"white\",\"ticks\":\"\",\"title\":{\"standoff\":15},\"zerolinecolor\":\"white\",\"automargin\":true,\"zerolinewidth\":2},\"yaxis\":{\"gridcolor\":\"white\",\"linecolor\":\"white\",\"ticks\":\"\",\"title\":{\"standoff\":15},\"zerolinecolor\":\"white\",\"automargin\":true,\"zerolinewidth\":2},\"scene\":{\"xaxis\":{\"backgroundcolor\":\"#E5ECF6\",\"gridcolor\":\"white\",\"linecolor\":\"white\",\"showbackground\":true,\"ticks\":\"\",\"zerolinecolor\":\"white\",\"gridwidth\":2},\"yaxis\":{\"backgroundcolor\":\"#E5ECF6\",\"gridcolor\":\"white\",\"linecolor\":\"white\",\"showbackground\":true,\"ticks\":\"\",\"zerolinecolor\":\"white\",\"gridwidth\":2},\"zaxis\":{\"backgroundcolor\":\"#E5ECF6\",\"gridcolor\":\"white\",\"linecolor\":\"white\",\"showbackground\":true,\"ticks\":\"\",\"zerolinecolor\":\"white\",\"gridwidth\":2}},\"shapedefaults\":{\"line\":{\"color\":\"#2a3f5f\"}},\"annotationdefaults\":{\"arrowcolor\":\"#2a3f5f\",\"arrowhead\":0,\"arrowwidth\":1},\"geo\":{\"bgcolor\":\"white\",\"landcolor\":\"#E5ECF6\",\"subunitcolor\":\"white\",\"showland\":true,\"showlakes\":true,\"lakecolor\":\"white\"},\"title\":{\"x\":0.05},\"mapbox\":{\"style\":\"light\"}}},\"yaxis\":{\"tickmode\":\"array\",\"tickvals\":[0,1,2,3,4],\"ticktext\":[\"promising\",\"about to sleep\",\"hibernating\",\"at risk\",\"loyal customers\"]},\"title\":{\"text\":\"Distribution of customers in segments\"},\"xaxis\":{\"title\":{\"text\":\"Number of Customers\"}},\"showlegend\":false},                        {\"responsive\": true}                    ).then(function(){\n                            \nvar gd = document.getElementById('c98232d6-537c-46c2-a8c9-f07d0cd62d56');\nvar x = new MutationObserver(function (mutations, observer) {{\n        var display = window.getComputedStyle(gd).display;\n        if (!display || display === 'none') {{\n            console.log([gd, 'removed!']);\n            Plotly.purge(gd);\n            observer.disconnect();\n        }}\n}});\n\n// Listen for the removal of the full notebook cells\nvar notebookContainer = gd.closest('#notebook-container');\nif (notebookContainer) {{\n    x.observe(notebookContainer, {childList: true});\n}}\n\n// Listen for the clearing of the current output cell\nvar outputEl = gd.closest('.output');\nif (outputEl) {{\n    x.observe(outputEl, {childList: true});\n}}\n\n                        })                };                });            </script>        </div>"
     },
     "metadata": {},
     "output_type": "display_data"
    }
   ],
   "source": [
    "# Count the number of customers in each segment\n",
    "segments_counts = df_RFM['DEF'].value_counts().sort_values(ascending=True)\n",
    "\n",
    "# Create the horizontal bar chart using Plotly\n",
    "fig = go.Figure()\n",
    "\n",
    "fig.add_trace(go.Bar(\n",
    "    y=segments_counts.index,\n",
    "    x=segments_counts.values,\n",
    "    orientation='h',\n",
    "    marker=dict(\n",
    "        color=['silver' if segment not in ['hibernating', 'at risk', 'loyal customer']\n",
    "               else 'firebrick' if segment in ['hibernating', 'at risk']\n",
    "        else 'green' for segment in segments_counts.index],\n",
    "    ),\n",
    "    text=[f'{int(value):,} ({int(value*100/segments_counts.sum())}%)'\n",
    "          for value in segments_counts.values],\n",
    "    textposition='inside',\n",
    "    textfont=dict(color='white'),\n",
    "))\n",
    "\n",
    "fig.update_layout(\n",
    "    title='Distribution of customers in segments',\n",
    "    yaxis=dict(tickmode='array', tickvals=list(range(len(segments_counts))), ticktext=segments_counts.index),\n",
    "    xaxis=dict(title='Number of Customers'),\n",
    "    showlegend=False,\n",
    ")\n",
    "\n",
    "fig.show()\n",
    "fig.write_image(\"output/fig1.png\")"
   ],
   "metadata": {
    "collapsed": false,
    "ExecuteTime": {
     "end_time": "2024-03-22T13:11:36.239222500Z",
     "start_time": "2024-03-22T13:11:35.792735600Z"
    }
   }
  },
  {
   "cell_type": "code",
   "execution_count": 209,
   "outputs": [
    {
     "data": {
      "application/vnd.plotly.v1+json": {
       "data": [
        {
         "alignmentgroup": "True",
         "bingroup": "x",
         "hovertemplate": "DEF=hibernating<br>Frequency=%{x}<br>count=%{y}<extra></extra>",
         "legendgroup": "hibernating",
         "marker": {
          "color": "#636efa",
          "pattern": {
           "shape": ""
          }
         },
         "name": "hibernating",
         "offsetgroup": "hibernating",
         "orientation": "v",
         "showlegend": true,
         "x": [
          46,
          3,
          4,
          2,
          2,
          2,
          3,
          2,
          5,
          2,
          2,
          4,
          2,
          2,
          2,
          14,
          2,
          2,
          2,
          3,
          2,
          7,
          2,
          3,
          3,
          3,
          4,
          4,
          2,
          2,
          2,
          4,
          4
         ],
         "xaxis": "x",
         "yaxis": "y",
         "type": "histogram"
        },
        {
         "alignmentgroup": "True",
         "bingroup": "x",
         "hovertemplate": "DEF=about to sleep<br>Frequency=%{x}<br>count=%{y}<extra></extra>",
         "legendgroup": "about to sleep",
         "marker": {
          "color": "#EF553B",
          "pattern": {
           "shape": ""
          }
         },
         "name": "about to sleep",
         "offsetgroup": "about to sleep",
         "orientation": "v",
         "showlegend": true,
         "x": [
          5,
          3,
          2,
          2,
          3,
          2,
          2,
          2,
          2,
          2,
          2,
          3,
          6,
          2,
          3
         ],
         "xaxis": "x",
         "yaxis": "y",
         "type": "histogram"
        },
        {
         "alignmentgroup": "True",
         "bingroup": "x",
         "hovertemplate": "DEF=promising<br>Frequency=%{x}<br>count=%{y}<extra></extra>",
         "legendgroup": "promising",
         "marker": {
          "color": "#00cc96",
          "pattern": {
           "shape": ""
          }
         },
         "name": "promising",
         "offsetgroup": "promising",
         "orientation": "v",
         "showlegend": true,
         "x": [
          2,
          3,
          2,
          2,
          2,
          3,
          2,
          3,
          2
         ],
         "xaxis": "x",
         "yaxis": "y",
         "type": "histogram"
        },
        {
         "alignmentgroup": "True",
         "bingroup": "x",
         "hovertemplate": "DEF=loyal customers<br>Frequency=%{x}<br>count=%{y}<extra></extra>",
         "legendgroup": "loyal customers",
         "marker": {
          "color": "#ab63fa",
          "pattern": {
           "shape": ""
          }
         },
         "name": "loyal customers",
         "offsetgroup": "loyal customers",
         "orientation": "v",
         "showlegend": true,
         "x": [
          1,
          1,
          1,
          1,
          1,
          1,
          1,
          1,
          1,
          1,
          1,
          1,
          1,
          1,
          1,
          1,
          1,
          1,
          1,
          1,
          1,
          1,
          1,
          1,
          1,
          1,
          1,
          1,
          1,
          1,
          1,
          1,
          1,
          1,
          1,
          1,
          1,
          1,
          1,
          1,
          1,
          1,
          1,
          1,
          1,
          1,
          1,
          1,
          1,
          1,
          1,
          1,
          1,
          1,
          1,
          1,
          1,
          1,
          1,
          1,
          1,
          1,
          1,
          1,
          1,
          1,
          1,
          1,
          1,
          1,
          1,
          1,
          1,
          1,
          1,
          1,
          1,
          1,
          1,
          1,
          1,
          1,
          1,
          1,
          1,
          1,
          1,
          1,
          1,
          1,
          1,
          1
         ],
         "xaxis": "x",
         "yaxis": "y",
         "type": "histogram"
        },
        {
         "alignmentgroup": "True",
         "bingroup": "x",
         "hovertemplate": "DEF=at risk<br>Frequency=%{x}<br>count=%{y}<extra></extra>",
         "legendgroup": "at risk",
         "marker": {
          "color": "#FFA15A",
          "pattern": {
           "shape": ""
          }
         },
         "name": "at risk",
         "offsetgroup": "at risk",
         "orientation": "v",
         "showlegend": true,
         "x": [
          1,
          1,
          1,
          1,
          1,
          1,
          1,
          1,
          1,
          1,
          1,
          1,
          1,
          1,
          1,
          1,
          1,
          1,
          1,
          1,
          1,
          1,
          1,
          1,
          1,
          1,
          1,
          1,
          1,
          1,
          1,
          1,
          1,
          1,
          1,
          1,
          1,
          1,
          1,
          1,
          1,
          1,
          1,
          1,
          1,
          1,
          1,
          1,
          1,
          1,
          1,
          1,
          1,
          1,
          1,
          1,
          1,
          1,
          1,
          1,
          1,
          1,
          1,
          1,
          1,
          1,
          1,
          1,
          1,
          1,
          1,
          1,
          1,
          1,
          1,
          1,
          1,
          1,
          1,
          1,
          1,
          1,
          1,
          1,
          1,
          1
         ],
         "xaxis": "x",
         "yaxis": "y",
         "type": "histogram"
        }
       ],
       "layout": {
        "template": {
         "data": {
          "histogram2dcontour": [
           {
            "type": "histogram2dcontour",
            "colorbar": {
             "outlinewidth": 0,
             "ticks": ""
            },
            "colorscale": [
             [
              0.0,
              "#0d0887"
             ],
             [
              0.1111111111111111,
              "#46039f"
             ],
             [
              0.2222222222222222,
              "#7201a8"
             ],
             [
              0.3333333333333333,
              "#9c179e"
             ],
             [
              0.4444444444444444,
              "#bd3786"
             ],
             [
              0.5555555555555556,
              "#d8576b"
             ],
             [
              0.6666666666666666,
              "#ed7953"
             ],
             [
              0.7777777777777778,
              "#fb9f3a"
             ],
             [
              0.8888888888888888,
              "#fdca26"
             ],
             [
              1.0,
              "#f0f921"
             ]
            ]
           }
          ],
          "choropleth": [
           {
            "type": "choropleth",
            "colorbar": {
             "outlinewidth": 0,
             "ticks": ""
            }
           }
          ],
          "histogram2d": [
           {
            "type": "histogram2d",
            "colorbar": {
             "outlinewidth": 0,
             "ticks": ""
            },
            "colorscale": [
             [
              0.0,
              "#0d0887"
             ],
             [
              0.1111111111111111,
              "#46039f"
             ],
             [
              0.2222222222222222,
              "#7201a8"
             ],
             [
              0.3333333333333333,
              "#9c179e"
             ],
             [
              0.4444444444444444,
              "#bd3786"
             ],
             [
              0.5555555555555556,
              "#d8576b"
             ],
             [
              0.6666666666666666,
              "#ed7953"
             ],
             [
              0.7777777777777778,
              "#fb9f3a"
             ],
             [
              0.8888888888888888,
              "#fdca26"
             ],
             [
              1.0,
              "#f0f921"
             ]
            ]
           }
          ],
          "heatmap": [
           {
            "type": "heatmap",
            "colorbar": {
             "outlinewidth": 0,
             "ticks": ""
            },
            "colorscale": [
             [
              0.0,
              "#0d0887"
             ],
             [
              0.1111111111111111,
              "#46039f"
             ],
             [
              0.2222222222222222,
              "#7201a8"
             ],
             [
              0.3333333333333333,
              "#9c179e"
             ],
             [
              0.4444444444444444,
              "#bd3786"
             ],
             [
              0.5555555555555556,
              "#d8576b"
             ],
             [
              0.6666666666666666,
              "#ed7953"
             ],
             [
              0.7777777777777778,
              "#fb9f3a"
             ],
             [
              0.8888888888888888,
              "#fdca26"
             ],
             [
              1.0,
              "#f0f921"
             ]
            ]
           }
          ],
          "heatmapgl": [
           {
            "type": "heatmapgl",
            "colorbar": {
             "outlinewidth": 0,
             "ticks": ""
            },
            "colorscale": [
             [
              0.0,
              "#0d0887"
             ],
             [
              0.1111111111111111,
              "#46039f"
             ],
             [
              0.2222222222222222,
              "#7201a8"
             ],
             [
              0.3333333333333333,
              "#9c179e"
             ],
             [
              0.4444444444444444,
              "#bd3786"
             ],
             [
              0.5555555555555556,
              "#d8576b"
             ],
             [
              0.6666666666666666,
              "#ed7953"
             ],
             [
              0.7777777777777778,
              "#fb9f3a"
             ],
             [
              0.8888888888888888,
              "#fdca26"
             ],
             [
              1.0,
              "#f0f921"
             ]
            ]
           }
          ],
          "contourcarpet": [
           {
            "type": "contourcarpet",
            "colorbar": {
             "outlinewidth": 0,
             "ticks": ""
            }
           }
          ],
          "contour": [
           {
            "type": "contour",
            "colorbar": {
             "outlinewidth": 0,
             "ticks": ""
            },
            "colorscale": [
             [
              0.0,
              "#0d0887"
             ],
             [
              0.1111111111111111,
              "#46039f"
             ],
             [
              0.2222222222222222,
              "#7201a8"
             ],
             [
              0.3333333333333333,
              "#9c179e"
             ],
             [
              0.4444444444444444,
              "#bd3786"
             ],
             [
              0.5555555555555556,
              "#d8576b"
             ],
             [
              0.6666666666666666,
              "#ed7953"
             ],
             [
              0.7777777777777778,
              "#fb9f3a"
             ],
             [
              0.8888888888888888,
              "#fdca26"
             ],
             [
              1.0,
              "#f0f921"
             ]
            ]
           }
          ],
          "surface": [
           {
            "type": "surface",
            "colorbar": {
             "outlinewidth": 0,
             "ticks": ""
            },
            "colorscale": [
             [
              0.0,
              "#0d0887"
             ],
             [
              0.1111111111111111,
              "#46039f"
             ],
             [
              0.2222222222222222,
              "#7201a8"
             ],
             [
              0.3333333333333333,
              "#9c179e"
             ],
             [
              0.4444444444444444,
              "#bd3786"
             ],
             [
              0.5555555555555556,
              "#d8576b"
             ],
             [
              0.6666666666666666,
              "#ed7953"
             ],
             [
              0.7777777777777778,
              "#fb9f3a"
             ],
             [
              0.8888888888888888,
              "#fdca26"
             ],
             [
              1.0,
              "#f0f921"
             ]
            ]
           }
          ],
          "mesh3d": [
           {
            "type": "mesh3d",
            "colorbar": {
             "outlinewidth": 0,
             "ticks": ""
            }
           }
          ],
          "scatter": [
           {
            "fillpattern": {
             "fillmode": "overlay",
             "size": 10,
             "solidity": 0.2
            },
            "type": "scatter"
           }
          ],
          "parcoords": [
           {
            "type": "parcoords",
            "line": {
             "colorbar": {
              "outlinewidth": 0,
              "ticks": ""
             }
            }
           }
          ],
          "scatterpolargl": [
           {
            "type": "scatterpolargl",
            "marker": {
             "colorbar": {
              "outlinewidth": 0,
              "ticks": ""
             }
            }
           }
          ],
          "bar": [
           {
            "error_x": {
             "color": "#2a3f5f"
            },
            "error_y": {
             "color": "#2a3f5f"
            },
            "marker": {
             "line": {
              "color": "#E5ECF6",
              "width": 0.5
             },
             "pattern": {
              "fillmode": "overlay",
              "size": 10,
              "solidity": 0.2
             }
            },
            "type": "bar"
           }
          ],
          "scattergeo": [
           {
            "type": "scattergeo",
            "marker": {
             "colorbar": {
              "outlinewidth": 0,
              "ticks": ""
             }
            }
           }
          ],
          "scatterpolar": [
           {
            "type": "scatterpolar",
            "marker": {
             "colorbar": {
              "outlinewidth": 0,
              "ticks": ""
             }
            }
           }
          ],
          "histogram": [
           {
            "marker": {
             "pattern": {
              "fillmode": "overlay",
              "size": 10,
              "solidity": 0.2
             }
            },
            "type": "histogram"
           }
          ],
          "scattergl": [
           {
            "type": "scattergl",
            "marker": {
             "colorbar": {
              "outlinewidth": 0,
              "ticks": ""
             }
            }
           }
          ],
          "scatter3d": [
           {
            "type": "scatter3d",
            "line": {
             "colorbar": {
              "outlinewidth": 0,
              "ticks": ""
             }
            },
            "marker": {
             "colorbar": {
              "outlinewidth": 0,
              "ticks": ""
             }
            }
           }
          ],
          "scattermapbox": [
           {
            "type": "scattermapbox",
            "marker": {
             "colorbar": {
              "outlinewidth": 0,
              "ticks": ""
             }
            }
           }
          ],
          "scatterternary": [
           {
            "type": "scatterternary",
            "marker": {
             "colorbar": {
              "outlinewidth": 0,
              "ticks": ""
             }
            }
           }
          ],
          "scattercarpet": [
           {
            "type": "scattercarpet",
            "marker": {
             "colorbar": {
              "outlinewidth": 0,
              "ticks": ""
             }
            }
           }
          ],
          "carpet": [
           {
            "aaxis": {
             "endlinecolor": "#2a3f5f",
             "gridcolor": "white",
             "linecolor": "white",
             "minorgridcolor": "white",
             "startlinecolor": "#2a3f5f"
            },
            "baxis": {
             "endlinecolor": "#2a3f5f",
             "gridcolor": "white",
             "linecolor": "white",
             "minorgridcolor": "white",
             "startlinecolor": "#2a3f5f"
            },
            "type": "carpet"
           }
          ],
          "table": [
           {
            "cells": {
             "fill": {
              "color": "#EBF0F8"
             },
             "line": {
              "color": "white"
             }
            },
            "header": {
             "fill": {
              "color": "#C8D4E3"
             },
             "line": {
              "color": "white"
             }
            },
            "type": "table"
           }
          ],
          "barpolar": [
           {
            "marker": {
             "line": {
              "color": "#E5ECF6",
              "width": 0.5
             },
             "pattern": {
              "fillmode": "overlay",
              "size": 10,
              "solidity": 0.2
             }
            },
            "type": "barpolar"
           }
          ],
          "pie": [
           {
            "automargin": true,
            "type": "pie"
           }
          ]
         },
         "layout": {
          "autotypenumbers": "strict",
          "colorway": [
           "#636efa",
           "#EF553B",
           "#00cc96",
           "#ab63fa",
           "#FFA15A",
           "#19d3f3",
           "#FF6692",
           "#B6E880",
           "#FF97FF",
           "#FECB52"
          ],
          "font": {
           "color": "#2a3f5f"
          },
          "hovermode": "closest",
          "hoverlabel": {
           "align": "left"
          },
          "paper_bgcolor": "white",
          "plot_bgcolor": "#E5ECF6",
          "polar": {
           "bgcolor": "#E5ECF6",
           "angularaxis": {
            "gridcolor": "white",
            "linecolor": "white",
            "ticks": ""
           },
           "radialaxis": {
            "gridcolor": "white",
            "linecolor": "white",
            "ticks": ""
           }
          },
          "ternary": {
           "bgcolor": "#E5ECF6",
           "aaxis": {
            "gridcolor": "white",
            "linecolor": "white",
            "ticks": ""
           },
           "baxis": {
            "gridcolor": "white",
            "linecolor": "white",
            "ticks": ""
           },
           "caxis": {
            "gridcolor": "white",
            "linecolor": "white",
            "ticks": ""
           }
          },
          "coloraxis": {
           "colorbar": {
            "outlinewidth": 0,
            "ticks": ""
           }
          },
          "colorscale": {
           "sequential": [
            [
             0.0,
             "#0d0887"
            ],
            [
             0.1111111111111111,
             "#46039f"
            ],
            [
             0.2222222222222222,
             "#7201a8"
            ],
            [
             0.3333333333333333,
             "#9c179e"
            ],
            [
             0.4444444444444444,
             "#bd3786"
            ],
            [
             0.5555555555555556,
             "#d8576b"
            ],
            [
             0.6666666666666666,
             "#ed7953"
            ],
            [
             0.7777777777777778,
             "#fb9f3a"
            ],
            [
             0.8888888888888888,
             "#fdca26"
            ],
            [
             1.0,
             "#f0f921"
            ]
           ],
           "sequentialminus": [
            [
             0.0,
             "#0d0887"
            ],
            [
             0.1111111111111111,
             "#46039f"
            ],
            [
             0.2222222222222222,
             "#7201a8"
            ],
            [
             0.3333333333333333,
             "#9c179e"
            ],
            [
             0.4444444444444444,
             "#bd3786"
            ],
            [
             0.5555555555555556,
             "#d8576b"
            ],
            [
             0.6666666666666666,
             "#ed7953"
            ],
            [
             0.7777777777777778,
             "#fb9f3a"
            ],
            [
             0.8888888888888888,
             "#fdca26"
            ],
            [
             1.0,
             "#f0f921"
            ]
           ],
           "diverging": [
            [
             0,
             "#8e0152"
            ],
            [
             0.1,
             "#c51b7d"
            ],
            [
             0.2,
             "#de77ae"
            ],
            [
             0.3,
             "#f1b6da"
            ],
            [
             0.4,
             "#fde0ef"
            ],
            [
             0.5,
             "#f7f7f7"
            ],
            [
             0.6,
             "#e6f5d0"
            ],
            [
             0.7,
             "#b8e186"
            ],
            [
             0.8,
             "#7fbc41"
            ],
            [
             0.9,
             "#4d9221"
            ],
            [
             1,
             "#276419"
            ]
           ]
          },
          "xaxis": {
           "gridcolor": "white",
           "linecolor": "white",
           "ticks": "",
           "title": {
            "standoff": 15
           },
           "zerolinecolor": "white",
           "automargin": true,
           "zerolinewidth": 2
          },
          "yaxis": {
           "gridcolor": "white",
           "linecolor": "white",
           "ticks": "",
           "title": {
            "standoff": 15
           },
           "zerolinecolor": "white",
           "automargin": true,
           "zerolinewidth": 2
          },
          "scene": {
           "xaxis": {
            "backgroundcolor": "#E5ECF6",
            "gridcolor": "white",
            "linecolor": "white",
            "showbackground": true,
            "ticks": "",
            "zerolinecolor": "white",
            "gridwidth": 2
           },
           "yaxis": {
            "backgroundcolor": "#E5ECF6",
            "gridcolor": "white",
            "linecolor": "white",
            "showbackground": true,
            "ticks": "",
            "zerolinecolor": "white",
            "gridwidth": 2
           },
           "zaxis": {
            "backgroundcolor": "#E5ECF6",
            "gridcolor": "white",
            "linecolor": "white",
            "showbackground": true,
            "ticks": "",
            "zerolinecolor": "white",
            "gridwidth": 2
           }
          },
          "shapedefaults": {
           "line": {
            "color": "#2a3f5f"
           }
          },
          "annotationdefaults": {
           "arrowcolor": "#2a3f5f",
           "arrowhead": 0,
           "arrowwidth": 1
          },
          "geo": {
           "bgcolor": "white",
           "landcolor": "#E5ECF6",
           "subunitcolor": "white",
           "showland": true,
           "showlakes": true,
           "lakecolor": "white"
          },
          "title": {
           "x": 0.05
          },
          "mapbox": {
           "style": "light"
          }
         }
        },
        "xaxis": {
         "anchor": "y",
         "domain": [
          0.0,
          1.0
         ],
         "title": {
          "text": "Frequency"
         }
        },
        "yaxis": {
         "anchor": "x",
         "domain": [
          0.0,
          1.0
         ],
         "title": {
          "text": "count"
         }
        },
        "legend": {
         "title": {
          "text": "DEF"
         },
         "tracegroupgap": 0
        },
        "margin": {
         "t": 60
        },
        "barmode": "relative",
        "title": {
         "text": "Distribution Frequency"
        }
       },
       "config": {
        "plotlyServerURL": "https://plot.ly"
       }
      },
      "text/html": "<div>                            <div id=\"cc04cd77-1ccc-4a43-b53e-2809d25b678e\" class=\"plotly-graph-div\" style=\"height:525px; width:100%;\"></div>            <script type=\"text/javascript\">                require([\"plotly\"], function(Plotly) {                    window.PLOTLYENV=window.PLOTLYENV || {};                                    if (document.getElementById(\"cc04cd77-1ccc-4a43-b53e-2809d25b678e\")) {                    Plotly.newPlot(                        \"cc04cd77-1ccc-4a43-b53e-2809d25b678e\",                        [{\"alignmentgroup\":\"True\",\"bingroup\":\"x\",\"hovertemplate\":\"DEF=hibernating\\u003cbr\\u003eFrequency=%{x}\\u003cbr\\u003ecount=%{y}\\u003cextra\\u003e\\u003c\\u002fextra\\u003e\",\"legendgroup\":\"hibernating\",\"marker\":{\"color\":\"#636efa\",\"pattern\":{\"shape\":\"\"}},\"name\":\"hibernating\",\"offsetgroup\":\"hibernating\",\"orientation\":\"v\",\"showlegend\":true,\"x\":[46,3,4,2,2,2,3,2,5,2,2,4,2,2,2,14,2,2,2,3,2,7,2,3,3,3,4,4,2,2,2,4,4],\"xaxis\":\"x\",\"yaxis\":\"y\",\"type\":\"histogram\"},{\"alignmentgroup\":\"True\",\"bingroup\":\"x\",\"hovertemplate\":\"DEF=about to sleep\\u003cbr\\u003eFrequency=%{x}\\u003cbr\\u003ecount=%{y}\\u003cextra\\u003e\\u003c\\u002fextra\\u003e\",\"legendgroup\":\"about to sleep\",\"marker\":{\"color\":\"#EF553B\",\"pattern\":{\"shape\":\"\"}},\"name\":\"about to sleep\",\"offsetgroup\":\"about to sleep\",\"orientation\":\"v\",\"showlegend\":true,\"x\":[5,3,2,2,3,2,2,2,2,2,2,3,6,2,3],\"xaxis\":\"x\",\"yaxis\":\"y\",\"type\":\"histogram\"},{\"alignmentgroup\":\"True\",\"bingroup\":\"x\",\"hovertemplate\":\"DEF=promising\\u003cbr\\u003eFrequency=%{x}\\u003cbr\\u003ecount=%{y}\\u003cextra\\u003e\\u003c\\u002fextra\\u003e\",\"legendgroup\":\"promising\",\"marker\":{\"color\":\"#00cc96\",\"pattern\":{\"shape\":\"\"}},\"name\":\"promising\",\"offsetgroup\":\"promising\",\"orientation\":\"v\",\"showlegend\":true,\"x\":[2,3,2,2,2,3,2,3,2],\"xaxis\":\"x\",\"yaxis\":\"y\",\"type\":\"histogram\"},{\"alignmentgroup\":\"True\",\"bingroup\":\"x\",\"hovertemplate\":\"DEF=loyal customers\\u003cbr\\u003eFrequency=%{x}\\u003cbr\\u003ecount=%{y}\\u003cextra\\u003e\\u003c\\u002fextra\\u003e\",\"legendgroup\":\"loyal customers\",\"marker\":{\"color\":\"#ab63fa\",\"pattern\":{\"shape\":\"\"}},\"name\":\"loyal customers\",\"offsetgroup\":\"loyal customers\",\"orientation\":\"v\",\"showlegend\":true,\"x\":[1,1,1,1,1,1,1,1,1,1,1,1,1,1,1,1,1,1,1,1,1,1,1,1,1,1,1,1,1,1,1,1,1,1,1,1,1,1,1,1,1,1,1,1,1,1,1,1,1,1,1,1,1,1,1,1,1,1,1,1,1,1,1,1,1,1,1,1,1,1,1,1,1,1,1,1,1,1,1,1,1,1,1,1,1,1,1,1,1,1,1,1],\"xaxis\":\"x\",\"yaxis\":\"y\",\"type\":\"histogram\"},{\"alignmentgroup\":\"True\",\"bingroup\":\"x\",\"hovertemplate\":\"DEF=at risk\\u003cbr\\u003eFrequency=%{x}\\u003cbr\\u003ecount=%{y}\\u003cextra\\u003e\\u003c\\u002fextra\\u003e\",\"legendgroup\":\"at risk\",\"marker\":{\"color\":\"#FFA15A\",\"pattern\":{\"shape\":\"\"}},\"name\":\"at risk\",\"offsetgroup\":\"at risk\",\"orientation\":\"v\",\"showlegend\":true,\"x\":[1,1,1,1,1,1,1,1,1,1,1,1,1,1,1,1,1,1,1,1,1,1,1,1,1,1,1,1,1,1,1,1,1,1,1,1,1,1,1,1,1,1,1,1,1,1,1,1,1,1,1,1,1,1,1,1,1,1,1,1,1,1,1,1,1,1,1,1,1,1,1,1,1,1,1,1,1,1,1,1,1,1,1,1,1,1],\"xaxis\":\"x\",\"yaxis\":\"y\",\"type\":\"histogram\"}],                        {\"template\":{\"data\":{\"histogram2dcontour\":[{\"type\":\"histogram2dcontour\",\"colorbar\":{\"outlinewidth\":0,\"ticks\":\"\"},\"colorscale\":[[0.0,\"#0d0887\"],[0.1111111111111111,\"#46039f\"],[0.2222222222222222,\"#7201a8\"],[0.3333333333333333,\"#9c179e\"],[0.4444444444444444,\"#bd3786\"],[0.5555555555555556,\"#d8576b\"],[0.6666666666666666,\"#ed7953\"],[0.7777777777777778,\"#fb9f3a\"],[0.8888888888888888,\"#fdca26\"],[1.0,\"#f0f921\"]]}],\"choropleth\":[{\"type\":\"choropleth\",\"colorbar\":{\"outlinewidth\":0,\"ticks\":\"\"}}],\"histogram2d\":[{\"type\":\"histogram2d\",\"colorbar\":{\"outlinewidth\":0,\"ticks\":\"\"},\"colorscale\":[[0.0,\"#0d0887\"],[0.1111111111111111,\"#46039f\"],[0.2222222222222222,\"#7201a8\"],[0.3333333333333333,\"#9c179e\"],[0.4444444444444444,\"#bd3786\"],[0.5555555555555556,\"#d8576b\"],[0.6666666666666666,\"#ed7953\"],[0.7777777777777778,\"#fb9f3a\"],[0.8888888888888888,\"#fdca26\"],[1.0,\"#f0f921\"]]}],\"heatmap\":[{\"type\":\"heatmap\",\"colorbar\":{\"outlinewidth\":0,\"ticks\":\"\"},\"colorscale\":[[0.0,\"#0d0887\"],[0.1111111111111111,\"#46039f\"],[0.2222222222222222,\"#7201a8\"],[0.3333333333333333,\"#9c179e\"],[0.4444444444444444,\"#bd3786\"],[0.5555555555555556,\"#d8576b\"],[0.6666666666666666,\"#ed7953\"],[0.7777777777777778,\"#fb9f3a\"],[0.8888888888888888,\"#fdca26\"],[1.0,\"#f0f921\"]]}],\"heatmapgl\":[{\"type\":\"heatmapgl\",\"colorbar\":{\"outlinewidth\":0,\"ticks\":\"\"},\"colorscale\":[[0.0,\"#0d0887\"],[0.1111111111111111,\"#46039f\"],[0.2222222222222222,\"#7201a8\"],[0.3333333333333333,\"#9c179e\"],[0.4444444444444444,\"#bd3786\"],[0.5555555555555556,\"#d8576b\"],[0.6666666666666666,\"#ed7953\"],[0.7777777777777778,\"#fb9f3a\"],[0.8888888888888888,\"#fdca26\"],[1.0,\"#f0f921\"]]}],\"contourcarpet\":[{\"type\":\"contourcarpet\",\"colorbar\":{\"outlinewidth\":0,\"ticks\":\"\"}}],\"contour\":[{\"type\":\"contour\",\"colorbar\":{\"outlinewidth\":0,\"ticks\":\"\"},\"colorscale\":[[0.0,\"#0d0887\"],[0.1111111111111111,\"#46039f\"],[0.2222222222222222,\"#7201a8\"],[0.3333333333333333,\"#9c179e\"],[0.4444444444444444,\"#bd3786\"],[0.5555555555555556,\"#d8576b\"],[0.6666666666666666,\"#ed7953\"],[0.7777777777777778,\"#fb9f3a\"],[0.8888888888888888,\"#fdca26\"],[1.0,\"#f0f921\"]]}],\"surface\":[{\"type\":\"surface\",\"colorbar\":{\"outlinewidth\":0,\"ticks\":\"\"},\"colorscale\":[[0.0,\"#0d0887\"],[0.1111111111111111,\"#46039f\"],[0.2222222222222222,\"#7201a8\"],[0.3333333333333333,\"#9c179e\"],[0.4444444444444444,\"#bd3786\"],[0.5555555555555556,\"#d8576b\"],[0.6666666666666666,\"#ed7953\"],[0.7777777777777778,\"#fb9f3a\"],[0.8888888888888888,\"#fdca26\"],[1.0,\"#f0f921\"]]}],\"mesh3d\":[{\"type\":\"mesh3d\",\"colorbar\":{\"outlinewidth\":0,\"ticks\":\"\"}}],\"scatter\":[{\"fillpattern\":{\"fillmode\":\"overlay\",\"size\":10,\"solidity\":0.2},\"type\":\"scatter\"}],\"parcoords\":[{\"type\":\"parcoords\",\"line\":{\"colorbar\":{\"outlinewidth\":0,\"ticks\":\"\"}}}],\"scatterpolargl\":[{\"type\":\"scatterpolargl\",\"marker\":{\"colorbar\":{\"outlinewidth\":0,\"ticks\":\"\"}}}],\"bar\":[{\"error_x\":{\"color\":\"#2a3f5f\"},\"error_y\":{\"color\":\"#2a3f5f\"},\"marker\":{\"line\":{\"color\":\"#E5ECF6\",\"width\":0.5},\"pattern\":{\"fillmode\":\"overlay\",\"size\":10,\"solidity\":0.2}},\"type\":\"bar\"}],\"scattergeo\":[{\"type\":\"scattergeo\",\"marker\":{\"colorbar\":{\"outlinewidth\":0,\"ticks\":\"\"}}}],\"scatterpolar\":[{\"type\":\"scatterpolar\",\"marker\":{\"colorbar\":{\"outlinewidth\":0,\"ticks\":\"\"}}}],\"histogram\":[{\"marker\":{\"pattern\":{\"fillmode\":\"overlay\",\"size\":10,\"solidity\":0.2}},\"type\":\"histogram\"}],\"scattergl\":[{\"type\":\"scattergl\",\"marker\":{\"colorbar\":{\"outlinewidth\":0,\"ticks\":\"\"}}}],\"scatter3d\":[{\"type\":\"scatter3d\",\"line\":{\"colorbar\":{\"outlinewidth\":0,\"ticks\":\"\"}},\"marker\":{\"colorbar\":{\"outlinewidth\":0,\"ticks\":\"\"}}}],\"scattermapbox\":[{\"type\":\"scattermapbox\",\"marker\":{\"colorbar\":{\"outlinewidth\":0,\"ticks\":\"\"}}}],\"scatterternary\":[{\"type\":\"scatterternary\",\"marker\":{\"colorbar\":{\"outlinewidth\":0,\"ticks\":\"\"}}}],\"scattercarpet\":[{\"type\":\"scattercarpet\",\"marker\":{\"colorbar\":{\"outlinewidth\":0,\"ticks\":\"\"}}}],\"carpet\":[{\"aaxis\":{\"endlinecolor\":\"#2a3f5f\",\"gridcolor\":\"white\",\"linecolor\":\"white\",\"minorgridcolor\":\"white\",\"startlinecolor\":\"#2a3f5f\"},\"baxis\":{\"endlinecolor\":\"#2a3f5f\",\"gridcolor\":\"white\",\"linecolor\":\"white\",\"minorgridcolor\":\"white\",\"startlinecolor\":\"#2a3f5f\"},\"type\":\"carpet\"}],\"table\":[{\"cells\":{\"fill\":{\"color\":\"#EBF0F8\"},\"line\":{\"color\":\"white\"}},\"header\":{\"fill\":{\"color\":\"#C8D4E3\"},\"line\":{\"color\":\"white\"}},\"type\":\"table\"}],\"barpolar\":[{\"marker\":{\"line\":{\"color\":\"#E5ECF6\",\"width\":0.5},\"pattern\":{\"fillmode\":\"overlay\",\"size\":10,\"solidity\":0.2}},\"type\":\"barpolar\"}],\"pie\":[{\"automargin\":true,\"type\":\"pie\"}]},\"layout\":{\"autotypenumbers\":\"strict\",\"colorway\":[\"#636efa\",\"#EF553B\",\"#00cc96\",\"#ab63fa\",\"#FFA15A\",\"#19d3f3\",\"#FF6692\",\"#B6E880\",\"#FF97FF\",\"#FECB52\"],\"font\":{\"color\":\"#2a3f5f\"},\"hovermode\":\"closest\",\"hoverlabel\":{\"align\":\"left\"},\"paper_bgcolor\":\"white\",\"plot_bgcolor\":\"#E5ECF6\",\"polar\":{\"bgcolor\":\"#E5ECF6\",\"angularaxis\":{\"gridcolor\":\"white\",\"linecolor\":\"white\",\"ticks\":\"\"},\"radialaxis\":{\"gridcolor\":\"white\",\"linecolor\":\"white\",\"ticks\":\"\"}},\"ternary\":{\"bgcolor\":\"#E5ECF6\",\"aaxis\":{\"gridcolor\":\"white\",\"linecolor\":\"white\",\"ticks\":\"\"},\"baxis\":{\"gridcolor\":\"white\",\"linecolor\":\"white\",\"ticks\":\"\"},\"caxis\":{\"gridcolor\":\"white\",\"linecolor\":\"white\",\"ticks\":\"\"}},\"coloraxis\":{\"colorbar\":{\"outlinewidth\":0,\"ticks\":\"\"}},\"colorscale\":{\"sequential\":[[0.0,\"#0d0887\"],[0.1111111111111111,\"#46039f\"],[0.2222222222222222,\"#7201a8\"],[0.3333333333333333,\"#9c179e\"],[0.4444444444444444,\"#bd3786\"],[0.5555555555555556,\"#d8576b\"],[0.6666666666666666,\"#ed7953\"],[0.7777777777777778,\"#fb9f3a\"],[0.8888888888888888,\"#fdca26\"],[1.0,\"#f0f921\"]],\"sequentialminus\":[[0.0,\"#0d0887\"],[0.1111111111111111,\"#46039f\"],[0.2222222222222222,\"#7201a8\"],[0.3333333333333333,\"#9c179e\"],[0.4444444444444444,\"#bd3786\"],[0.5555555555555556,\"#d8576b\"],[0.6666666666666666,\"#ed7953\"],[0.7777777777777778,\"#fb9f3a\"],[0.8888888888888888,\"#fdca26\"],[1.0,\"#f0f921\"]],\"diverging\":[[0,\"#8e0152\"],[0.1,\"#c51b7d\"],[0.2,\"#de77ae\"],[0.3,\"#f1b6da\"],[0.4,\"#fde0ef\"],[0.5,\"#f7f7f7\"],[0.6,\"#e6f5d0\"],[0.7,\"#b8e186\"],[0.8,\"#7fbc41\"],[0.9,\"#4d9221\"],[1,\"#276419\"]]},\"xaxis\":{\"gridcolor\":\"white\",\"linecolor\":\"white\",\"ticks\":\"\",\"title\":{\"standoff\":15},\"zerolinecolor\":\"white\",\"automargin\":true,\"zerolinewidth\":2},\"yaxis\":{\"gridcolor\":\"white\",\"linecolor\":\"white\",\"ticks\":\"\",\"title\":{\"standoff\":15},\"zerolinecolor\":\"white\",\"automargin\":true,\"zerolinewidth\":2},\"scene\":{\"xaxis\":{\"backgroundcolor\":\"#E5ECF6\",\"gridcolor\":\"white\",\"linecolor\":\"white\",\"showbackground\":true,\"ticks\":\"\",\"zerolinecolor\":\"white\",\"gridwidth\":2},\"yaxis\":{\"backgroundcolor\":\"#E5ECF6\",\"gridcolor\":\"white\",\"linecolor\":\"white\",\"showbackground\":true,\"ticks\":\"\",\"zerolinecolor\":\"white\",\"gridwidth\":2},\"zaxis\":{\"backgroundcolor\":\"#E5ECF6\",\"gridcolor\":\"white\",\"linecolor\":\"white\",\"showbackground\":true,\"ticks\":\"\",\"zerolinecolor\":\"white\",\"gridwidth\":2}},\"shapedefaults\":{\"line\":{\"color\":\"#2a3f5f\"}},\"annotationdefaults\":{\"arrowcolor\":\"#2a3f5f\",\"arrowhead\":0,\"arrowwidth\":1},\"geo\":{\"bgcolor\":\"white\",\"landcolor\":\"#E5ECF6\",\"subunitcolor\":\"white\",\"showland\":true,\"showlakes\":true,\"lakecolor\":\"white\"},\"title\":{\"x\":0.05},\"mapbox\":{\"style\":\"light\"}}},\"xaxis\":{\"anchor\":\"y\",\"domain\":[0.0,1.0],\"title\":{\"text\":\"Frequency\"}},\"yaxis\":{\"anchor\":\"x\",\"domain\":[0.0,1.0],\"title\":{\"text\":\"count\"}},\"legend\":{\"title\":{\"text\":\"DEF\"},\"tracegroupgap\":0},\"margin\":{\"t\":60},\"barmode\":\"relative\",\"title\":{\"text\":\"Distribution Frequency\"}},                        {\"responsive\": true}                    ).then(function(){\n                            \nvar gd = document.getElementById('cc04cd77-1ccc-4a43-b53e-2809d25b678e');\nvar x = new MutationObserver(function (mutations, observer) {{\n        var display = window.getComputedStyle(gd).display;\n        if (!display || display === 'none') {{\n            console.log([gd, 'removed!']);\n            Plotly.purge(gd);\n            observer.disconnect();\n        }}\n}});\n\n// Listen for the removal of the full notebook cells\nvar notebookContainer = gd.closest('#notebook-container');\nif (notebookContainer) {{\n    x.observe(notebookContainer, {childList: true});\n}}\n\n// Listen for the clearing of the current output cell\nvar outputEl = gd.closest('.output');\nif (outputEl) {{\n    x.observe(outputEl, {childList: true});\n}}\n\n                        })                };                });            </script>        </div>"
     },
     "metadata": {},
     "output_type": "display_data"
    }
   ],
   "source": [
    "df = df_RFM\n",
    "fig = px.histogram(df, x=\"Frequency\", color=\"DEF\")\n",
    "\n",
    "\n",
    "fig.update_layout(\n",
    "    title='Distribution Frequency')\n",
    "fig.show()\n",
    "fig.write_image(\"output/freq_hist.png\")"
   ],
   "metadata": {
    "collapsed": false,
    "ExecuteTime": {
     "end_time": "2024-03-22T13:11:36.328131900Z",
     "start_time": "2024-03-22T13:11:35.969544700Z"
    }
   }
  },
  {
   "cell_type": "markdown",
   "source": [],
   "metadata": {
    "collapsed": false
   }
  },
  {
   "cell_type": "markdown",
   "source": [
    "# This is the start of clustering\n",
    "The next charts are to see how many clusters of peole are there and how many will be used to plot. And this will serve as a way to confim the distrib above"
   ],
   "metadata": {
    "collapsed": false
   }
  },
  {
   "cell_type": "code",
   "execution_count": 210,
   "metadata": {
    "ExecuteTime": {
     "end_time": "2024-03-22T13:11:37.025419700Z",
     "start_time": "2024-03-22T13:11:36.159308200Z"
    }
   },
   "outputs": [
    {
     "data": {
      "text/plain": "<Figure size 432x288 with 1 Axes>",
      "image/png": "[encoded data removed]"
     },
     "metadata": {
      "needs_background": "light"
     },
     "output_type": "display_data"
    },
    {
     "data": {
      "text/plain": "     Recency  Frequency   Monetary  r_quartile  f_quartile  m_quartile  \\\nID                                                                       \n0.0        0         46  325934.58           1           1           1   \n\n    RFMScore          DEF  \nID                         \n0.0      111  hibernating  ",
      "text/html": "<div>\n<style scoped>\n    .dataframe tbody tr th:only-of-type {\n        vertical-align: middle;\n    }\n\n    .dataframe tbody tr th {\n        vertical-align: top;\n    }\n\n    .dataframe thead th {\n        text-align: right;\n    }\n</style>\n<table border=\"1\" class=\"dataframe\">\n  <thead>\n    <tr style=\"text-align: right;\">\n      <th></th>\n      <th>Recency</th>\n      <th>Frequency</th>\n      <th>Monetary</th>\n      <th>r_quartile</th>\n      <th>f_quartile</th>\n      <th>m_quartile</th>\n      <th>RFMScore</th>\n      <th>DEF</th>\n    </tr>\n    <tr>\n      <th>ID</th>\n      <th></th>\n      <th></th>\n      <th></th>\n      <th></th>\n      <th></th>\n      <th></th>\n      <th></th>\n      <th></th>\n    </tr>\n  </thead>\n  <tbody>\n    <tr>\n      <th>0.0</th>\n      <td>0</td>\n      <td>46</td>\n      <td>325934.58</td>\n      <td>1</td>\n      <td>1</td>\n      <td>1</td>\n      <td>111</td>\n      <td>hibernating</td>\n    </tr>\n  </tbody>\n</table>\n</div>"
     },
     "execution_count": 210,
     "metadata": {},
     "output_type": "execute_result"
    }
   ],
   "source": [
    "from sklearn.cluster import KMeans\n",
    "sse={}\n",
    "CLU_recency = df_RFM[['Recency']]\n",
    "for k in range(1, 10):\n",
    "    kmeans = KMeans(n_clusters=k, max_iter=1000).fit(CLU_recency)\n",
    "    CLU_recency[\"clusters\"] = kmeans.labels_\n",
    "    sse[k] = kmeans.inertia_ \n",
    "plt.figure()\n",
    "plt.plot(list(sse.keys()), list(sse.values()))\n",
    "plt.xlabel(\"Number of cluster\")\n",
    "plt.title(\"Clustering of recency\")\n",
    "plt.show()\n",
    "df_RFM.head(1)"
   ]
  },
  {
   "cell_type": "code",
   "execution_count": 211,
   "metadata": {
    "ExecuteTime": {
     "end_time": "2024-03-22T13:11:37.053390100Z",
     "start_time": "2024-03-22T13:11:36.979466500Z"
    }
   },
   "outputs": [
    {
     "data": {
      "text/plain": "   Recency  Frequency   Monetary  r_quartile  f_quartile  m_quartile RFMScore  \\\n0        0         46  325934.58           1           1           1      111   \n\n           DEF  RecencyCluster  \n0  hibernating               3  ",
      "text/html": "<div>\n<style scoped>\n    .dataframe tbody tr th:only-of-type {\n        vertical-align: middle;\n    }\n\n    .dataframe tbody tr th {\n        vertical-align: top;\n    }\n\n    .dataframe thead th {\n        text-align: right;\n    }\n</style>\n<table border=\"1\" class=\"dataframe\">\n  <thead>\n    <tr style=\"text-align: right;\">\n      <th></th>\n      <th>Recency</th>\n      <th>Frequency</th>\n      <th>Monetary</th>\n      <th>r_quartile</th>\n      <th>f_quartile</th>\n      <th>m_quartile</th>\n      <th>RFMScore</th>\n      <th>DEF</th>\n      <th>RecencyCluster</th>\n    </tr>\n  </thead>\n  <tbody>\n    <tr>\n      <th>0</th>\n      <td>0</td>\n      <td>46</td>\n      <td>325934.58</td>\n      <td>1</td>\n      <td>1</td>\n      <td>1</td>\n      <td>111</td>\n      <td>hibernating</td>\n      <td>3</td>\n    </tr>\n  </tbody>\n</table>\n</div>"
     },
     "execution_count": 211,
     "metadata": {},
     "output_type": "execute_result"
    }
   ],
   "source": [
    "#build 4 clusters for recency and add it to dataframe\n",
    "kmeans = KMeans(n_clusters=4)\n",
    "kmeans.fit(df_RFM[['Recency']])\n",
    "df_RFM['RecencyCluster'] = kmeans.predict(df_RFM[['Recency']])\n",
    "\n",
    "#function for ordering cluster numbers\n",
    "def order_cluster(cluster_field_name, target_field_name,df,ascending):\n",
    "    new_cluster_field_name = 'new_' + cluster_field_name\n",
    "    df_new = df.groupby(cluster_field_name)[target_field_name].mean().reset_index()\n",
    "    df_new = df_new.sort_values(by=target_field_name,ascending=ascending).reset_index(drop=True)\n",
    "    df_new['index'] = df_new.index\n",
    "    df_final = pd.merge(df,df_new[[cluster_field_name,'index']], on=cluster_field_name)\n",
    "    df_final = df_final.drop([cluster_field_name],axis=1)\n",
    "    df_final = df_final.rename(columns={\"index\":cluster_field_name})\n",
    "    return df_final\n",
    "\n",
    "df_RFM = order_cluster('RecencyCluster', 'Recency',segmented_rfm,False)\n",
    "df_RFM.head(1)"
   ]
  },
  {
   "cell_type": "code",
   "execution_count": 212,
   "metadata": {
    "ExecuteTime": {
     "end_time": "2024-03-22T13:11:37.862563600Z",
     "start_time": "2024-03-22T13:11:37.042402Z"
    }
   },
   "outputs": [
    {
     "data": {
      "text/plain": "<Figure size 432x288 with 1 Axes>",
      "image/png": "[encoded data removed]"
     },
     "metadata": {
      "needs_background": "light"
     },
     "output_type": "display_data"
    }
   ],
   "source": [
    "sse={}\n",
    "CLU_frequency = df_RFM[['Frequency']]\n",
    "for k in range(1, 10):\n",
    "    kmeans = KMeans(n_clusters=k, max_iter=1000).fit(CLU_frequency)\n",
    "    CLU_frequency[\"clusters\"] = kmeans.labels_\n",
    "    sse[k] = kmeans.inertia_ \n",
    "plt.figure()\n",
    "plt.plot(list(sse.keys()), list(sse.values()))\n",
    "plt.xlabel(\"Number of cluster\")\n",
    "plt.title(\"Clustering of frequency\")\n",
    "plt.show()"
   ]
  },
  {
   "cell_type": "code",
   "execution_count": 213,
   "metadata": {
    "ExecuteTime": {
     "end_time": "2024-03-22T13:11:37.886538300Z",
     "start_time": "2024-03-22T13:11:37.854571800Z"
    }
   },
   "outputs": [],
   "source": [
    "kmeans = KMeans(n_clusters=3)\n",
    "kmeans.fit(df_RFM[['Frequency']])\n",
    "df_RFM['FrequencyCluster'] = kmeans.predict(df_RFM[['Frequency']])"
   ]
  },
  {
   "cell_type": "code",
   "execution_count": 214,
   "metadata": {
    "ExecuteTime": {
     "end_time": "2024-03-22T13:11:38.760663200Z",
     "start_time": "2024-03-22T13:11:37.882542400Z"
    }
   },
   "outputs": [
    {
     "data": {
      "text/plain": "<Figure size 432x288 with 1 Axes>",
      "image/png": "[encoded data removed]"
     },
     "metadata": {
      "needs_background": "light"
     },
     "output_type": "display_data"
    }
   ],
   "source": [
    "sse={}\n",
    "CLU_monetary = df_RFM[['Monetary']]\n",
    "for k in range(1, 10):\n",
    "    kmeans = KMeans(n_clusters=k, max_iter=1000).fit(CLU_frequency)\n",
    "    CLU_frequency[\"clusters\"] = kmeans.labels_\n",
    "    sse[k] = kmeans.inertia_ \n",
    "plt.figure()\n",
    "plt.plot(list(sse.keys()), list(sse.values()))\n",
    "plt.xlabel(\"Number of cluster\")\n",
    "plt.title(\"Clustering of monetary\")\n",
    "plt.show()"
   ]
  },
  {
   "cell_type": "code",
   "execution_count": 215,
   "metadata": {
    "ExecuteTime": {
     "end_time": "2024-03-22T13:11:38.809595Z",
     "start_time": "2024-03-22T13:11:38.757647600Z"
    }
   },
   "outputs": [
    {
     "data": {
      "text/plain": "   Recency  Frequency   Monetary  r_quartile  f_quartile  m_quartile RFMScore  \\\n0        0         46  325934.58           1           1           1      111   \n\n           DEF  RecencyCluster  FrequencyCluster  MonetaryCluster  \n0  hibernating               3                 1                1  ",
      "text/html": "<div>\n<style scoped>\n    .dataframe tbody tr th:only-of-type {\n        vertical-align: middle;\n    }\n\n    .dataframe tbody tr th {\n        vertical-align: top;\n    }\n\n    .dataframe thead th {\n        text-align: right;\n    }\n</style>\n<table border=\"1\" class=\"dataframe\">\n  <thead>\n    <tr style=\"text-align: right;\">\n      <th></th>\n      <th>Recency</th>\n      <th>Frequency</th>\n      <th>Monetary</th>\n      <th>r_quartile</th>\n      <th>f_quartile</th>\n      <th>m_quartile</th>\n      <th>RFMScore</th>\n      <th>DEF</th>\n      <th>RecencyCluster</th>\n      <th>FrequencyCluster</th>\n      <th>MonetaryCluster</th>\n    </tr>\n  </thead>\n  <tbody>\n    <tr>\n      <th>0</th>\n      <td>0</td>\n      <td>46</td>\n      <td>325934.58</td>\n      <td>1</td>\n      <td>1</td>\n      <td>1</td>\n      <td>111</td>\n      <td>hibernating</td>\n      <td>3</td>\n      <td>1</td>\n      <td>1</td>\n    </tr>\n  </tbody>\n</table>\n</div>"
     },
     "execution_count": 215,
     "metadata": {},
     "output_type": "execute_result"
    }
   ],
   "source": [
    "kmeans = KMeans(n_clusters=4)\n",
    "kmeans.fit(df_RFM[['Monetary']])\n",
    "df_RFM['MonetaryCluster'] = kmeans.predict(df_RFM[['Monetary']])\n",
    "df_RFM.head(1)"
   ]
  },
  {
   "cell_type": "code",
   "execution_count": 216,
   "metadata": {
    "ExecuteTime": {
     "end_time": "2024-03-22T13:11:38.956444300Z",
     "start_time": "2024-03-22T13:11:38.802621200Z"
    }
   },
   "outputs": [
    {
     "data": {
      "text/plain": "                Recency  Frequency      Monetary\nOverallScore                                    \n0             77.384615   1.076923      0.000769\n1             53.681818   1.136364      0.000455\n2             56.266667   1.200000   6215.618333\n3             42.862745   1.313725   6537.873922\n4             41.083333   1.333333   9587.591389\n5             17.250000   2.875000  17605.273250\n6             10.631579   1.473684   8829.043158\n7              3.500000   3.000000  24909.920000\n8              5.333333   7.000000   7867.873333",
      "text/html": "<div>\n<style scoped>\n    .dataframe tbody tr th:only-of-type {\n        vertical-align: middle;\n    }\n\n    .dataframe tbody tr th {\n        vertical-align: top;\n    }\n\n    .dataframe thead th {\n        text-align: right;\n    }\n</style>\n<table border=\"1\" class=\"dataframe\">\n  <thead>\n    <tr style=\"text-align: right;\">\n      <th></th>\n      <th>Recency</th>\n      <th>Frequency</th>\n      <th>Monetary</th>\n    </tr>\n    <tr>\n      <th>OverallScore</th>\n      <th></th>\n      <th></th>\n      <th></th>\n    </tr>\n  </thead>\n  <tbody>\n    <tr>\n      <th>0</th>\n      <td>77.384615</td>\n      <td>1.076923</td>\n      <td>0.000769</td>\n    </tr>\n    <tr>\n      <th>1</th>\n      <td>53.681818</td>\n      <td>1.136364</td>\n      <td>0.000455</td>\n    </tr>\n    <tr>\n      <th>2</th>\n      <td>56.266667</td>\n      <td>1.200000</td>\n      <td>6215.618333</td>\n    </tr>\n    <tr>\n      <th>3</th>\n      <td>42.862745</td>\n      <td>1.313725</td>\n      <td>6537.873922</td>\n    </tr>\n    <tr>\n      <th>4</th>\n      <td>41.083333</td>\n      <td>1.333333</td>\n      <td>9587.591389</td>\n    </tr>\n    <tr>\n      <th>5</th>\n      <td>17.250000</td>\n      <td>2.875000</td>\n      <td>17605.273250</td>\n    </tr>\n    <tr>\n      <th>6</th>\n      <td>10.631579</td>\n      <td>1.473684</td>\n      <td>8829.043158</td>\n    </tr>\n    <tr>\n      <th>7</th>\n      <td>3.500000</td>\n      <td>3.000000</td>\n      <td>24909.920000</td>\n    </tr>\n    <tr>\n      <th>8</th>\n      <td>5.333333</td>\n      <td>7.000000</td>\n      <td>7867.873333</td>\n    </tr>\n  </tbody>\n</table>\n</div>"
     },
     "execution_count": 216,
     "metadata": {},
     "output_type": "execute_result"
    }
   ],
   "source": [
    "#calculate overall score and use mean() to see details\n",
    "df_RFM['OverallScore'] = df_RFM['RecencyCluster'] + df_RFM['FrequencyCluster'] + df_RFM['MonetaryCluster']\n",
    "df_RFM.groupby('OverallScore')['Recency','Frequency','Monetary'].mean()"
   ]
  },
  {
   "cell_type": "code",
   "execution_count": 217,
   "metadata": {
    "ExecuteTime": {
     "end_time": "2024-03-22T13:11:38.994405100Z",
     "start_time": "2024-03-22T13:11:38.863539500Z"
    }
   },
   "outputs": [
    {
     "data": {
      "text/plain": "              Recency  Frequency  Monetary\nOverallScore                              \n0                  13         13        13\n1                  22         22        22\n2                  30         30        30\n3                  51         51        51\n4                  36         36        36\n5                  40         40        40\n6                  38         38        38\n7                   2          2         2\n8                   3          3         3",
      "text/html": "<div>\n<style scoped>\n    .dataframe tbody tr th:only-of-type {\n        vertical-align: middle;\n    }\n\n    .dataframe tbody tr th {\n        vertical-align: top;\n    }\n\n    .dataframe thead th {\n        text-align: right;\n    }\n</style>\n<table border=\"1\" class=\"dataframe\">\n  <thead>\n    <tr style=\"text-align: right;\">\n      <th></th>\n      <th>Recency</th>\n      <th>Frequency</th>\n      <th>Monetary</th>\n    </tr>\n    <tr>\n      <th>OverallScore</th>\n      <th></th>\n      <th></th>\n      <th></th>\n    </tr>\n  </thead>\n  <tbody>\n    <tr>\n      <th>0</th>\n      <td>13</td>\n      <td>13</td>\n      <td>13</td>\n    </tr>\n    <tr>\n      <th>1</th>\n      <td>22</td>\n      <td>22</td>\n      <td>22</td>\n    </tr>\n    <tr>\n      <th>2</th>\n      <td>30</td>\n      <td>30</td>\n      <td>30</td>\n    </tr>\n    <tr>\n      <th>3</th>\n      <td>51</td>\n      <td>51</td>\n      <td>51</td>\n    </tr>\n    <tr>\n      <th>4</th>\n      <td>36</td>\n      <td>36</td>\n      <td>36</td>\n    </tr>\n    <tr>\n      <th>5</th>\n      <td>40</td>\n      <td>40</td>\n      <td>40</td>\n    </tr>\n    <tr>\n      <th>6</th>\n      <td>38</td>\n      <td>38</td>\n      <td>38</td>\n    </tr>\n    <tr>\n      <th>7</th>\n      <td>2</td>\n      <td>2</td>\n      <td>2</td>\n    </tr>\n    <tr>\n      <th>8</th>\n      <td>3</td>\n      <td>3</td>\n      <td>3</td>\n    </tr>\n  </tbody>\n</table>\n</div>"
     },
     "execution_count": 217,
     "metadata": {},
     "output_type": "execute_result"
    }
   ],
   "source": [
    "df_RFM.groupby('OverallScore')['Recency', 'Frequency', 'Monetary'].count()"
   ]
  },
  {
   "cell_type": "markdown",
   "source": [],
   "metadata": {
    "collapsed": false
   }
  },
  {
   "cell_type": "code",
   "execution_count": 218,
   "metadata": {
    "ExecuteTime": {
     "end_time": "2024-03-22T13:11:39.238880Z",
     "start_time": "2024-03-22T13:11:38.944456300Z"
    }
   },
   "outputs": [
    {
     "data": {
      "text/plain": "     Recency  Frequency   Monetary  r_quartile  f_quartile  m_quartile  \\\n0          0         46  325934.58           1           1           1   \n1          4          3   32027.04           1           1           1   \n2          7          2   22418.91           1           1           1   \n3          7          2   21351.36           1           1           1   \n4          3          3   17792.80           1           1           1   \n..       ...        ...        ...         ...         ...         ...   \n230       79          1       0.00           4           4           4   \n231       67          1       0.00           4           4           4   \n232       68          1       0.00           4           4           4   \n233       81          1       0.00           4           4           4   \n234       81          1       0.00           4           4           4   \n\n    RFMScore              DEF  RecencyCluster  FrequencyCluster  \\\n0        111      hibernating               3                 1   \n1        111      hibernating               3                 2   \n2        111      hibernating               3                 0   \n3        111      hibernating               3                 0   \n4        111      hibernating               3                 2   \n..       ...              ...             ...               ...   \n230      444  loyal customers               0                 0   \n231      444  loyal customers               0                 0   \n232      444  loyal customers               0                 0   \n233      444  loyal customers               0                 0   \n234      444  loyal customers               0                 0   \n\n     MonetaryCluster  OverallScore         Segment  \n0                  1             5   Mid-Low-Value  \n1                  2             7  Mid-High-Value  \n2                  2             5   Mid-Low-Value  \n3                  2             5   Mid-Low-Value  \n4                  2             7  Mid-High-Value  \n..               ...           ...             ...  \n230                0             0       Low-Value  \n231                0             0       Low-Value  \n232                0             0       Low-Value  \n233                0             0       Low-Value  \n234                0             0       Low-Value  \n\n[235 rows x 13 columns]",
      "text/html": "<div>\n<style scoped>\n    .dataframe tbody tr th:only-of-type {\n        vertical-align: middle;\n    }\n\n    .dataframe tbody tr th {\n        vertical-align: top;\n    }\n\n    .dataframe thead th {\n        text-align: right;\n    }\n</style>\n<table border=\"1\" class=\"dataframe\">\n  <thead>\n    <tr style=\"text-align: right;\">\n      <th></th>\n      <th>Recency</th>\n      <th>Frequency</th>\n      <th>Monetary</th>\n      <th>r_quartile</th>\n      <th>f_quartile</th>\n      <th>m_quartile</th>\n      <th>RFMScore</th>\n      <th>DEF</th>\n      <th>RecencyCluster</th>\n      <th>FrequencyCluster</th>\n      <th>MonetaryCluster</th>\n      <th>OverallScore</th>\n      <th>Segment</th>\n    </tr>\n  </thead>\n  <tbody>\n    <tr>\n      <th>0</th>\n      <td>0</td>\n      <td>46</td>\n      <td>325934.58</td>\n      <td>1</td>\n      <td>1</td>\n      <td>1</td>\n      <td>111</td>\n      <td>hibernating</td>\n      <td>3</td>\n      <td>1</td>\n      <td>1</td>\n      <td>5</td>\n      <td>Mid-Low-Value</td>\n    </tr>\n    <tr>\n      <th>1</th>\n      <td>4</td>\n      <td>3</td>\n      <td>32027.04</td>\n      <td>1</td>\n      <td>1</td>\n      <td>1</td>\n      <td>111</td>\n      <td>hibernating</td>\n      <td>3</td>\n      <td>2</td>\n      <td>2</td>\n      <td>7</td>\n      <td>Mid-High-Value</td>\n    </tr>\n    <tr>\n      <th>2</th>\n      <td>7</td>\n      <td>2</td>\n      <td>22418.91</td>\n      <td>1</td>\n      <td>1</td>\n      <td>1</td>\n      <td>111</td>\n      <td>hibernating</td>\n      <td>3</td>\n      <td>0</td>\n      <td>2</td>\n      <td>5</td>\n      <td>Mid-Low-Value</td>\n    </tr>\n    <tr>\n      <th>3</th>\n      <td>7</td>\n      <td>2</td>\n      <td>21351.36</td>\n      <td>1</td>\n      <td>1</td>\n      <td>1</td>\n      <td>111</td>\n      <td>hibernating</td>\n      <td>3</td>\n      <td>0</td>\n      <td>2</td>\n      <td>5</td>\n      <td>Mid-Low-Value</td>\n    </tr>\n    <tr>\n      <th>4</th>\n      <td>3</td>\n      <td>3</td>\n      <td>17792.80</td>\n      <td>1</td>\n      <td>1</td>\n      <td>1</td>\n      <td>111</td>\n      <td>hibernating</td>\n      <td>3</td>\n      <td>2</td>\n      <td>2</td>\n      <td>7</td>\n      <td>Mid-High-Value</td>\n    </tr>\n    <tr>\n      <th>...</th>\n      <td>...</td>\n      <td>...</td>\n      <td>...</td>\n      <td>...</td>\n      <td>...</td>\n      <td>...</td>\n      <td>...</td>\n      <td>...</td>\n      <td>...</td>\n      <td>...</td>\n      <td>...</td>\n      <td>...</td>\n      <td>...</td>\n    </tr>\n    <tr>\n      <th>230</th>\n      <td>79</td>\n      <td>1</td>\n      <td>0.00</td>\n      <td>4</td>\n      <td>4</td>\n      <td>4</td>\n      <td>444</td>\n      <td>loyal customers</td>\n      <td>0</td>\n      <td>0</td>\n      <td>0</td>\n      <td>0</td>\n      <td>Low-Value</td>\n    </tr>\n    <tr>\n      <th>231</th>\n      <td>67</td>\n      <td>1</td>\n      <td>0.00</td>\n      <td>4</td>\n      <td>4</td>\n      <td>4</td>\n      <td>444</td>\n      <td>loyal customers</td>\n      <td>0</td>\n      <td>0</td>\n      <td>0</td>\n      <td>0</td>\n      <td>Low-Value</td>\n    </tr>\n    <tr>\n      <th>232</th>\n      <td>68</td>\n      <td>1</td>\n      <td>0.00</td>\n      <td>4</td>\n      <td>4</td>\n      <td>4</td>\n      <td>444</td>\n      <td>loyal customers</td>\n      <td>0</td>\n      <td>0</td>\n      <td>0</td>\n      <td>0</td>\n      <td>Low-Value</td>\n    </tr>\n    <tr>\n      <th>233</th>\n      <td>81</td>\n      <td>1</td>\n      <td>0.00</td>\n      <td>4</td>\n      <td>4</td>\n      <td>4</td>\n      <td>444</td>\n      <td>loyal customers</td>\n      <td>0</td>\n      <td>0</td>\n      <td>0</td>\n      <td>0</td>\n      <td>Low-Value</td>\n    </tr>\n    <tr>\n      <th>234</th>\n      <td>81</td>\n      <td>1</td>\n      <td>0.00</td>\n      <td>4</td>\n      <td>4</td>\n      <td>4</td>\n      <td>444</td>\n      <td>loyal customers</td>\n      <td>0</td>\n      <td>0</td>\n      <td>0</td>\n      <td>0</td>\n      <td>Low-Value</td>\n    </tr>\n  </tbody>\n</table>\n<p>235 rows × 13 columns</p>\n</div>"
     },
     "execution_count": 218,
     "metadata": {},
     "output_type": "execute_result"
    }
   ],
   "source": [
    "df_RFM['Segment'] = 'Low-Value'\n",
    "df_RFM.loc[df_RFM['OverallScore']>3,'Segment'] = 'Mid-Low-Value' \n",
    "df_RFM.loc[df_RFM['OverallScore']>5,'Segment'] = 'Mid-High-Value' \n",
    "df_RFM.loc[df_RFM['OverallScore']>7,'Segment'] = 'High-Value' \n",
    "df_RFM"
   ]
  },
  {
   "cell_type": "code",
   "execution_count": 219,
   "outputs": [
    {
     "data": {
      "text/plain": "     Recency  Frequency  Monetary  r_quartile  f_quartile  m_quartile  \\\n1          4          3  32027.04           1           1           1   \n2          7          2  22418.91           1           1           1   \n3          7          2  21351.36           1           1           1   \n4          3          3  17792.80           1           1           1   \n5          2          1  16013.52           1           4           1   \n..       ...        ...       ...         ...         ...         ...   \n230       79          1      0.00           4           4           4   \n231       67          1      0.00           4           4           4   \n232       68          1      0.00           4           4           4   \n233       81          1      0.00           4           4           4   \n234       81          1      0.00           4           4           4   \n\n    RFMScore              DEF  RecencyCluster  FrequencyCluster  \\\n1        111      hibernating               3                 2   \n2        111      hibernating               3                 0   \n3        111      hibernating               3                 0   \n4        111      hibernating               3                 2   \n5        141          at risk               3                 0   \n..       ...              ...             ...               ...   \n230      444  loyal customers               0                 0   \n231      444  loyal customers               0                 0   \n232      444  loyal customers               0                 0   \n233      444  loyal customers               0                 0   \n234      444  loyal customers               0                 0   \n\n     MonetaryCluster  OverallScore         Segment  \n1                  2             7  Mid-High-Value  \n2                  2             5   Mid-Low-Value  \n3                  2             5   Mid-Low-Value  \n4                  2             7  Mid-High-Value  \n5                  2             5   Mid-Low-Value  \n..               ...           ...             ...  \n230                0             0       Low-Value  \n231                0             0       Low-Value  \n232                0             0       Low-Value  \n233                0             0       Low-Value  \n234                0             0       Low-Value  \n\n[234 rows x 13 columns]",
      "text/html": "<div>\n<style scoped>\n    .dataframe tbody tr th:only-of-type {\n        vertical-align: middle;\n    }\n\n    .dataframe tbody tr th {\n        vertical-align: top;\n    }\n\n    .dataframe thead th {\n        text-align: right;\n    }\n</style>\n<table border=\"1\" class=\"dataframe\">\n  <thead>\n    <tr style=\"text-align: right;\">\n      <th></th>\n      <th>Recency</th>\n      <th>Frequency</th>\n      <th>Monetary</th>\n      <th>r_quartile</th>\n      <th>f_quartile</th>\n      <th>m_quartile</th>\n      <th>RFMScore</th>\n      <th>DEF</th>\n      <th>RecencyCluster</th>\n      <th>FrequencyCluster</th>\n      <th>MonetaryCluster</th>\n      <th>OverallScore</th>\n      <th>Segment</th>\n    </tr>\n  </thead>\n  <tbody>\n    <tr>\n      <th>1</th>\n      <td>4</td>\n      <td>3</td>\n      <td>32027.04</td>\n      <td>1</td>\n      <td>1</td>\n      <td>1</td>\n      <td>111</td>\n      <td>hibernating</td>\n      <td>3</td>\n      <td>2</td>\n      <td>2</td>\n      <td>7</td>\n      <td>Mid-High-Value</td>\n    </tr>\n    <tr>\n      <th>2</th>\n      <td>7</td>\n      <td>2</td>\n      <td>22418.91</td>\n      <td>1</td>\n      <td>1</td>\n      <td>1</td>\n      <td>111</td>\n      <td>hibernating</td>\n      <td>3</td>\n      <td>0</td>\n      <td>2</td>\n      <td>5</td>\n      <td>Mid-Low-Value</td>\n    </tr>\n    <tr>\n      <th>3</th>\n      <td>7</td>\n      <td>2</td>\n      <td>21351.36</td>\n      <td>1</td>\n      <td>1</td>\n      <td>1</td>\n      <td>111</td>\n      <td>hibernating</td>\n      <td>3</td>\n      <td>0</td>\n      <td>2</td>\n      <td>5</td>\n      <td>Mid-Low-Value</td>\n    </tr>\n    <tr>\n      <th>4</th>\n      <td>3</td>\n      <td>3</td>\n      <td>17792.80</td>\n      <td>1</td>\n      <td>1</td>\n      <td>1</td>\n      <td>111</td>\n      <td>hibernating</td>\n      <td>3</td>\n      <td>2</td>\n      <td>2</td>\n      <td>7</td>\n      <td>Mid-High-Value</td>\n    </tr>\n    <tr>\n      <th>5</th>\n      <td>2</td>\n      <td>1</td>\n      <td>16013.52</td>\n      <td>1</td>\n      <td>4</td>\n      <td>1</td>\n      <td>141</td>\n      <td>at risk</td>\n      <td>3</td>\n      <td>0</td>\n      <td>2</td>\n      <td>5</td>\n      <td>Mid-Low-Value</td>\n    </tr>\n    <tr>\n      <th>...</th>\n      <td>...</td>\n      <td>...</td>\n      <td>...</td>\n      <td>...</td>\n      <td>...</td>\n      <td>...</td>\n      <td>...</td>\n      <td>...</td>\n      <td>...</td>\n      <td>...</td>\n      <td>...</td>\n      <td>...</td>\n      <td>...</td>\n    </tr>\n    <tr>\n      <th>230</th>\n      <td>79</td>\n      <td>1</td>\n      <td>0.00</td>\n      <td>4</td>\n      <td>4</td>\n      <td>4</td>\n      <td>444</td>\n      <td>loyal customers</td>\n      <td>0</td>\n      <td>0</td>\n      <td>0</td>\n      <td>0</td>\n      <td>Low-Value</td>\n    </tr>\n    <tr>\n      <th>231</th>\n      <td>67</td>\n      <td>1</td>\n      <td>0.00</td>\n      <td>4</td>\n      <td>4</td>\n      <td>4</td>\n      <td>444</td>\n      <td>loyal customers</td>\n      <td>0</td>\n      <td>0</td>\n      <td>0</td>\n      <td>0</td>\n      <td>Low-Value</td>\n    </tr>\n    <tr>\n      <th>232</th>\n      <td>68</td>\n      <td>1</td>\n      <td>0.00</td>\n      <td>4</td>\n      <td>4</td>\n      <td>4</td>\n      <td>444</td>\n      <td>loyal customers</td>\n      <td>0</td>\n      <td>0</td>\n      <td>0</td>\n      <td>0</td>\n      <td>Low-Value</td>\n    </tr>\n    <tr>\n      <th>233</th>\n      <td>81</td>\n      <td>1</td>\n      <td>0.00</td>\n      <td>4</td>\n      <td>4</td>\n      <td>4</td>\n      <td>444</td>\n      <td>loyal customers</td>\n      <td>0</td>\n      <td>0</td>\n      <td>0</td>\n      <td>0</td>\n      <td>Low-Value</td>\n    </tr>\n    <tr>\n      <th>234</th>\n      <td>81</td>\n      <td>1</td>\n      <td>0.00</td>\n      <td>4</td>\n      <td>4</td>\n      <td>4</td>\n      <td>444</td>\n      <td>loyal customers</td>\n      <td>0</td>\n      <td>0</td>\n      <td>0</td>\n      <td>0</td>\n      <td>Low-Value</td>\n    </tr>\n  </tbody>\n</table>\n<p>234 rows × 13 columns</p>\n</div>"
     },
     "execution_count": 219,
     "metadata": {},
     "output_type": "execute_result"
    }
   ],
   "source": [
    "#large outlier at position 0, skipping it\n",
    "df_RFM = df_RFM.drop(df_RFM.index[0])\n",
    "df_RFM\n"
   ],
   "metadata": {
    "collapsed": false,
    "ExecuteTime": {
     "end_time": "2024-03-22T13:11:39.239878400Z",
     "start_time": "2024-03-22T13:11:39.068409400Z"
    }
   }
  },
  {
   "cell_type": "markdown",
   "source": [
    "# Visualisations"
   ],
   "metadata": {
    "collapsed": false
   }
  },
  {
   "cell_type": "code",
   "execution_count": 220,
   "outputs": [
    {
     "data": {
      "application/vnd.plotly.v1+json": {
       "data": [
        {
         "marker": {
          "color": "blue",
          "line": {
           "width": 1
          },
          "opacity": 0.8,
          "size": 7
         },
         "mode": "markers",
         "name": "Low-Value",
         "x": [
          1,
          1,
          2,
          1,
          1,
          2,
          1,
          2,
          1,
          2,
          2,
          1,
          1,
          1,
          1,
          1,
          1,
          1,
          1,
          1,
          1,
          1,
          1,
          1,
          1,
          1,
          1,
          1,
          1,
          1,
          1,
          1,
          1,
          2,
          2,
          1,
          1,
          1,
          1,
          1,
          1,
          1,
          1,
          1,
          1,
          1,
          1,
          2,
          3,
          1
         ],
         "y": [
          2612.61,
          1265.27,
          1265.27,
          1216.22,
          3558.56,
          21351.36,
          21351.36,
          17792.8,
          14234.24,
          14234.24,
          14234.24,
          14234.24,
          14234.24,
          14234.24,
          14234.24,
          14234.24,
          14234.24,
          14234.24,
          14234.24,
          0.01,
          14234.24,
          14234.24,
          14234.24,
          14234.24,
          14234.24,
          14234.24,
          14234.24,
          14234.24,
          14234.24,
          14234.24,
          14234.24,
          14234.24,
          12099.1,
          8738.74,
          8738.74,
          7117.12,
          7117.12,
          7117.12,
          7117.12,
          7117.12,
          7117.12,
          7117.12,
          7117.12,
          7117.12,
          7117.12,
          7117.12,
          7117.12,
          7117.12,
          0.01,
          0.01
         ],
         "type": "scatter"
        },
        {
         "marker": {
          "color": "yellow",
          "line": {
           "width": 1
          },
          "opacity": 0.8,
          "size": 7
         },
         "mode": "markers",
         "name": "Mid-High-Value",
         "x": [
          3,
          3,
          1,
          1,
          1,
          1,
          1,
          1,
          1,
          2,
          1,
          1,
          1,
          1,
          1,
          1,
          1,
          1,
          1,
          1,
          1,
          2,
          1,
          1,
          1,
          2,
          1,
          1,
          1,
          1,
          1,
          1,
          1,
          1,
          1,
          4,
          5,
          3,
          5,
          3
         ],
         "y": [
          32027.04,
          17792.8,
          10675.68,
          10675.68,
          10675.68,
          10675.68,
          10675.68,
          10675.68,
          9305.31,
          8738.74,
          7117.12,
          7117.12,
          7117.12,
          7117.12,
          7117.12,
          7117.12,
          7117.12,
          7117.12,
          7117.12,
          7117.12,
          7117.12,
          7117.12,
          7117.12,
          7117.12,
          7117.12,
          6554.06,
          5337.84,
          5337.84,
          5337.84,
          5337.84,
          5337.84,
          5337.84,
          5337.84,
          5337.84,
          5337.84,
          22729.74,
          21846.85,
          18108.12,
          14684.7,
          14684.68
         ],
         "type": "scatter"
        },
        {
         "marker": {
          "color": "green",
          "line": {
           "width": 1
          },
          "opacity": 0.8,
          "size": 9
         },
         "mode": "markers",
         "name": "Mid-Low-Value",
         "x": [
          2,
          2,
          1,
          1,
          1,
          1,
          1,
          1,
          1,
          1,
          1,
          1,
          1,
          1,
          2,
          2,
          2,
          2,
          2,
          1,
          1,
          1,
          1,
          1,
          1,
          1,
          1,
          1,
          1,
          1,
          1,
          1,
          2,
          2,
          2,
          1,
          1,
          1,
          1,
          1,
          1,
          1,
          1,
          1,
          1,
          2,
          1,
          3,
          1,
          1,
          1,
          1,
          1,
          1,
          1,
          1,
          1,
          1,
          1,
          1,
          1,
          1,
          1,
          1,
          2
         ],
         "y": [
          22418.91,
          21351.36,
          16013.52,
          14234.24,
          14234.24,
          14234.24,
          14234.24,
          14234.24,
          14234.24,
          14234.24,
          14234.24,
          14234.24,
          14234.24,
          14234.24,
          14144.15,
          12454.96,
          21351.36,
          15855.86,
          15855.86,
          14234.24,
          14234.24,
          14234.24,
          14234.24,
          14234.24,
          14234.24,
          14234.24,
          14234.24,
          14234.24,
          14234.24,
          14234.24,
          12099.1,
          10675.68,
          8738.74,
          8738.74,
          8064.52,
          7117.12,
          7117.12,
          7117.12,
          7117.12,
          7117.12,
          7117.12,
          7117.12,
          7117.12,
          7117.12,
          7117.12,
          7117.12,
          7117.12,
          13693.69,
          10675.68,
          10630.64,
          7117.12,
          7117.12,
          7117.12,
          7117.12,
          7117.12,
          7117.12,
          7117.12,
          7117.12,
          7117.12,
          7117.12,
          7117.12,
          7117.12,
          6049.55,
          5337.84,
          5315.32
         ],
         "type": "scatter"
        },
        {
         "marker": {
          "color": "red",
          "line": {
           "width": 1
          },
          "opacity": 0.8,
          "size": 11
         },
         "mode": "markers",
         "name": "High-Value",
         "x": [
          4,
          14,
          3
         ],
         "y": [
          10450.44,
          7837.86,
          5315.32
         ],
         "type": "scatter"
        }
       ],
       "layout": {
        "title": {
         "text": "Segments"
        },
        "xaxis": {
         "title": {
          "text": "Frequency"
         }
        },
        "yaxis": {
         "title": {
          "text": "Monetary"
         }
        },
        "template": {
         "data": {
          "histogram2dcontour": [
           {
            "type": "histogram2dcontour",
            "colorbar": {
             "outlinewidth": 0,
             "ticks": ""
            },
            "colorscale": [
             [
              0.0,
              "#0d0887"
             ],
             [
              0.1111111111111111,
              "#46039f"
             ],
             [
              0.2222222222222222,
              "#7201a8"
             ],
             [
              0.3333333333333333,
              "#9c179e"
             ],
             [
              0.4444444444444444,
              "#bd3786"
             ],
             [
              0.5555555555555556,
              "#d8576b"
             ],
             [
              0.6666666666666666,
              "#ed7953"
             ],
             [
              0.7777777777777778,
              "#fb9f3a"
             ],
             [
              0.8888888888888888,
              "#fdca26"
             ],
             [
              1.0,
              "#f0f921"
             ]
            ]
           }
          ],
          "choropleth": [
           {
            "type": "choropleth",
            "colorbar": {
             "outlinewidth": 0,
             "ticks": ""
            }
           }
          ],
          "histogram2d": [
           {
            "type": "histogram2d",
            "colorbar": {
             "outlinewidth": 0,
             "ticks": ""
            },
            "colorscale": [
             [
              0.0,
              "#0d0887"
             ],
             [
              0.1111111111111111,
              "#46039f"
             ],
             [
              0.2222222222222222,
              "#7201a8"
             ],
             [
              0.3333333333333333,
              "#9c179e"
             ],
             [
              0.4444444444444444,
              "#bd3786"
             ],
             [
              0.5555555555555556,
              "#d8576b"
             ],
             [
              0.6666666666666666,
              "#ed7953"
             ],
             [
              0.7777777777777778,
              "#fb9f3a"
             ],
             [
              0.8888888888888888,
              "#fdca26"
             ],
             [
              1.0,
              "#f0f921"
             ]
            ]
           }
          ],
          "heatmap": [
           {
            "type": "heatmap",
            "colorbar": {
             "outlinewidth": 0,
             "ticks": ""
            },
            "colorscale": [
             [
              0.0,
              "#0d0887"
             ],
             [
              0.1111111111111111,
              "#46039f"
             ],
             [
              0.2222222222222222,
              "#7201a8"
             ],
             [
              0.3333333333333333,
              "#9c179e"
             ],
             [
              0.4444444444444444,
              "#bd3786"
             ],
             [
              0.5555555555555556,
              "#d8576b"
             ],
             [
              0.6666666666666666,
              "#ed7953"
             ],
             [
              0.7777777777777778,
              "#fb9f3a"
             ],
             [
              0.8888888888888888,
              "#fdca26"
             ],
             [
              1.0,
              "#f0f921"
             ]
            ]
           }
          ],
          "heatmapgl": [
           {
            "type": "heatmapgl",
            "colorbar": {
             "outlinewidth": 0,
             "ticks": ""
            },
            "colorscale": [
             [
              0.0,
              "#0d0887"
             ],
             [
              0.1111111111111111,
              "#46039f"
             ],
             [
              0.2222222222222222,
              "#7201a8"
             ],
             [
              0.3333333333333333,
              "#9c179e"
             ],
             [
              0.4444444444444444,
              "#bd3786"
             ],
             [
              0.5555555555555556,
              "#d8576b"
             ],
             [
              0.6666666666666666,
              "#ed7953"
             ],
             [
              0.7777777777777778,
              "#fb9f3a"
             ],
             [
              0.8888888888888888,
              "#fdca26"
             ],
             [
              1.0,
              "#f0f921"
             ]
            ]
           }
          ],
          "contourcarpet": [
           {
            "type": "contourcarpet",
            "colorbar": {
             "outlinewidth": 0,
             "ticks": ""
            }
           }
          ],
          "contour": [
           {
            "type": "contour",
            "colorbar": {
             "outlinewidth": 0,
             "ticks": ""
            },
            "colorscale": [
             [
              0.0,
              "#0d0887"
             ],
             [
              0.1111111111111111,
              "#46039f"
             ],
             [
              0.2222222222222222,
              "#7201a8"
             ],
             [
              0.3333333333333333,
              "#9c179e"
             ],
             [
              0.4444444444444444,
              "#bd3786"
             ],
             [
              0.5555555555555556,
              "#d8576b"
             ],
             [
              0.6666666666666666,
              "#ed7953"
             ],
             [
              0.7777777777777778,
              "#fb9f3a"
             ],
             [
              0.8888888888888888,
              "#fdca26"
             ],
             [
              1.0,
              "#f0f921"
             ]
            ]
           }
          ],
          "surface": [
           {
            "type": "surface",
            "colorbar": {
             "outlinewidth": 0,
             "ticks": ""
            },
            "colorscale": [
             [
              0.0,
              "#0d0887"
             ],
             [
              0.1111111111111111,
              "#46039f"
             ],
             [
              0.2222222222222222,
              "#7201a8"
             ],
             [
              0.3333333333333333,
              "#9c179e"
             ],
             [
              0.4444444444444444,
              "#bd3786"
             ],
             [
              0.5555555555555556,
              "#d8576b"
             ],
             [
              0.6666666666666666,
              "#ed7953"
             ],
             [
              0.7777777777777778,
              "#fb9f3a"
             ],
             [
              0.8888888888888888,
              "#fdca26"
             ],
             [
              1.0,
              "#f0f921"
             ]
            ]
           }
          ],
          "mesh3d": [
           {
            "type": "mesh3d",
            "colorbar": {
             "outlinewidth": 0,
             "ticks": ""
            }
           }
          ],
          "scatter": [
           {
            "fillpattern": {
             "fillmode": "overlay",
             "size": 10,
             "solidity": 0.2
            },
            "type": "scatter"
           }
          ],
          "parcoords": [
           {
            "type": "parcoords",
            "line": {
             "colorbar": {
              "outlinewidth": 0,
              "ticks": ""
             }
            }
           }
          ],
          "scatterpolargl": [
           {
            "type": "scatterpolargl",
            "marker": {
             "colorbar": {
              "outlinewidth": 0,
              "ticks": ""
             }
            }
           }
          ],
          "bar": [
           {
            "error_x": {
             "color": "#2a3f5f"
            },
            "error_y": {
             "color": "#2a3f5f"
            },
            "marker": {
             "line": {
              "color": "#E5ECF6",
              "width": 0.5
             },
             "pattern": {
              "fillmode": "overlay",
              "size": 10,
              "solidity": 0.2
             }
            },
            "type": "bar"
           }
          ],
          "scattergeo": [
           {
            "type": "scattergeo",
            "marker": {
             "colorbar": {
              "outlinewidth": 0,
              "ticks": ""
             }
            }
           }
          ],
          "scatterpolar": [
           {
            "type": "scatterpolar",
            "marker": {
             "colorbar": {
              "outlinewidth": 0,
              "ticks": ""
             }
            }
           }
          ],
          "histogram": [
           {
            "marker": {
             "pattern": {
              "fillmode": "overlay",
              "size": 10,
              "solidity": 0.2
             }
            },
            "type": "histogram"
           }
          ],
          "scattergl": [
           {
            "type": "scattergl",
            "marker": {
             "colorbar": {
              "outlinewidth": 0,
              "ticks": ""
             }
            }
           }
          ],
          "scatter3d": [
           {
            "type": "scatter3d",
            "line": {
             "colorbar": {
              "outlinewidth": 0,
              "ticks": ""
             }
            },
            "marker": {
             "colorbar": {
              "outlinewidth": 0,
              "ticks": ""
             }
            }
           }
          ],
          "scattermapbox": [
           {
            "type": "scattermapbox",
            "marker": {
             "colorbar": {
              "outlinewidth": 0,
              "ticks": ""
             }
            }
           }
          ],
          "scatterternary": [
           {
            "type": "scatterternary",
            "marker": {
             "colorbar": {
              "outlinewidth": 0,
              "ticks": ""
             }
            }
           }
          ],
          "scattercarpet": [
           {
            "type": "scattercarpet",
            "marker": {
             "colorbar": {
              "outlinewidth": 0,
              "ticks": ""
             }
            }
           }
          ],
          "carpet": [
           {
            "aaxis": {
             "endlinecolor": "#2a3f5f",
             "gridcolor": "white",
             "linecolor": "white",
             "minorgridcolor": "white",
             "startlinecolor": "#2a3f5f"
            },
            "baxis": {
             "endlinecolor": "#2a3f5f",
             "gridcolor": "white",
             "linecolor": "white",
             "minorgridcolor": "white",
             "startlinecolor": "#2a3f5f"
            },
            "type": "carpet"
           }
          ],
          "table": [
           {
            "cells": {
             "fill": {
              "color": "#EBF0F8"
             },
             "line": {
              "color": "white"
             }
            },
            "header": {
             "fill": {
              "color": "#C8D4E3"
             },
             "line": {
              "color": "white"
             }
            },
            "type": "table"
           }
          ],
          "barpolar": [
           {
            "marker": {
             "line": {
              "color": "#E5ECF6",
              "width": 0.5
             },
             "pattern": {
              "fillmode": "overlay",
              "size": 10,
              "solidity": 0.2
             }
            },
            "type": "barpolar"
           }
          ],
          "pie": [
           {
            "automargin": true,
            "type": "pie"
           }
          ]
         },
         "layout": {
          "autotypenumbers": "strict",
          "colorway": [
           "#636efa",
           "#EF553B",
           "#00cc96",
           "#ab63fa",
           "#FFA15A",
           "#19d3f3",
           "#FF6692",
           "#B6E880",
           "#FF97FF",
           "#FECB52"
          ],
          "font": {
           "color": "#2a3f5f"
          },
          "hovermode": "closest",
          "hoverlabel": {
           "align": "left"
          },
          "paper_bgcolor": "white",
          "plot_bgcolor": "#E5ECF6",
          "polar": {
           "bgcolor": "#E5ECF6",
           "angularaxis": {
            "gridcolor": "white",
            "linecolor": "white",
            "ticks": ""
           },
           "radialaxis": {
            "gridcolor": "white",
            "linecolor": "white",
            "ticks": ""
           }
          },
          "ternary": {
           "bgcolor": "#E5ECF6",
           "aaxis": {
            "gridcolor": "white",
            "linecolor": "white",
            "ticks": ""
           },
           "baxis": {
            "gridcolor": "white",
            "linecolor": "white",
            "ticks": ""
           },
           "caxis": {
            "gridcolor": "white",
            "linecolor": "white",
            "ticks": ""
           }
          },
          "coloraxis": {
           "colorbar": {
            "outlinewidth": 0,
            "ticks": ""
           }
          },
          "colorscale": {
           "sequential": [
            [
             0.0,
             "#0d0887"
            ],
            [
             0.1111111111111111,
             "#46039f"
            ],
            [
             0.2222222222222222,
             "#7201a8"
            ],
            [
             0.3333333333333333,
             "#9c179e"
            ],
            [
             0.4444444444444444,
             "#bd3786"
            ],
            [
             0.5555555555555556,
             "#d8576b"
            ],
            [
             0.6666666666666666,
             "#ed7953"
            ],
            [
             0.7777777777777778,
             "#fb9f3a"
            ],
            [
             0.8888888888888888,
             "#fdca26"
            ],
            [
             1.0,
             "#f0f921"
            ]
           ],
           "sequentialminus": [
            [
             0.0,
             "#0d0887"
            ],
            [
             0.1111111111111111,
             "#46039f"
            ],
            [
             0.2222222222222222,
             "#7201a8"
            ],
            [
             0.3333333333333333,
             "#9c179e"
            ],
            [
             0.4444444444444444,
             "#bd3786"
            ],
            [
             0.5555555555555556,
             "#d8576b"
            ],
            [
             0.6666666666666666,
             "#ed7953"
            ],
            [
             0.7777777777777778,
             "#fb9f3a"
            ],
            [
             0.8888888888888888,
             "#fdca26"
            ],
            [
             1.0,
             "#f0f921"
            ]
           ],
           "diverging": [
            [
             0,
             "#8e0152"
            ],
            [
             0.1,
             "#c51b7d"
            ],
            [
             0.2,
             "#de77ae"
            ],
            [
             0.3,
             "#f1b6da"
            ],
            [
             0.4,
             "#fde0ef"
            ],
            [
             0.5,
             "#f7f7f7"
            ],
            [
             0.6,
             "#e6f5d0"
            ],
            [
             0.7,
             "#b8e186"
            ],
            [
             0.8,
             "#7fbc41"
            ],
            [
             0.9,
             "#4d9221"
            ],
            [
             1,
             "#276419"
            ]
           ]
          },
          "xaxis": {
           "gridcolor": "white",
           "linecolor": "white",
           "ticks": "",
           "title": {
            "standoff": 15
           },
           "zerolinecolor": "white",
           "automargin": true,
           "zerolinewidth": 2
          },
          "yaxis": {
           "gridcolor": "white",
           "linecolor": "white",
           "ticks": "",
           "title": {
            "standoff": 15
           },
           "zerolinecolor": "white",
           "automargin": true,
           "zerolinewidth": 2
          },
          "scene": {
           "xaxis": {
            "backgroundcolor": "#E5ECF6",
            "gridcolor": "white",
            "linecolor": "white",
            "showbackground": true,
            "ticks": "",
            "zerolinecolor": "white",
            "gridwidth": 2
           },
           "yaxis": {
            "backgroundcolor": "#E5ECF6",
            "gridcolor": "white",
            "linecolor": "white",
            "showbackground": true,
            "ticks": "",
            "zerolinecolor": "white",
            "gridwidth": 2
           },
           "zaxis": {
            "backgroundcolor": "#E5ECF6",
            "gridcolor": "white",
            "linecolor": "white",
            "showbackground": true,
            "ticks": "",
            "zerolinecolor": "white",
            "gridwidth": 2
           }
          },
          "shapedefaults": {
           "line": {
            "color": "#2a3f5f"
           }
          },
          "annotationdefaults": {
           "arrowcolor": "#2a3f5f",
           "arrowhead": 0,
           "arrowwidth": 1
          },
          "geo": {
           "bgcolor": "white",
           "landcolor": "#E5ECF6",
           "subunitcolor": "white",
           "showland": true,
           "showlakes": true,
           "lakecolor": "white"
          },
          "title": {
           "x": 0.05
          },
          "mapbox": {
           "style": "light"
          }
         }
        }
       },
       "config": {
        "plotlyServerURL": "https://plot.ly"
       }
      },
      "text/html": "<div>                            <div id=\"bf4e83d0-3cd6-4c92-aa58-82696775d471\" class=\"plotly-graph-div\" style=\"height:525px; width:100%;\"></div>            <script type=\"text/javascript\">                require([\"plotly\"], function(Plotly) {                    window.PLOTLYENV=window.PLOTLYENV || {};                                    if (document.getElementById(\"bf4e83d0-3cd6-4c92-aa58-82696775d471\")) {                    Plotly.newPlot(                        \"bf4e83d0-3cd6-4c92-aa58-82696775d471\",                        [{\"marker\":{\"color\":\"blue\",\"line\":{\"width\":1},\"opacity\":0.8,\"size\":7},\"mode\":\"markers\",\"name\":\"Low-Value\",\"x\":[1,1,2,1,1,2,1,2,1,2,2,1,1,1,1,1,1,1,1,1,1,1,1,1,1,1,1,1,1,1,1,1,1,2,2,1,1,1,1,1,1,1,1,1,1,1,1,2,3,1],\"y\":[2612.61,1265.27,1265.27,1216.22,3558.56,21351.36,21351.36,17792.8,14234.24,14234.24,14234.24,14234.24,14234.24,14234.24,14234.24,14234.24,14234.24,14234.24,14234.24,0.01,14234.24,14234.24,14234.24,14234.24,14234.24,14234.24,14234.24,14234.24,14234.24,14234.24,14234.24,14234.24,12099.1,8738.74,8738.74,7117.12,7117.12,7117.12,7117.12,7117.12,7117.12,7117.12,7117.12,7117.12,7117.12,7117.12,7117.12,7117.12,0.01,0.01],\"type\":\"scatter\"},{\"marker\":{\"color\":\"yellow\",\"line\":{\"width\":1},\"opacity\":0.8,\"size\":7},\"mode\":\"markers\",\"name\":\"Mid-High-Value\",\"x\":[3,3,1,1,1,1,1,1,1,2,1,1,1,1,1,1,1,1,1,1,1,2,1,1,1,2,1,1,1,1,1,1,1,1,1,4,5,3,5,3],\"y\":[32027.04,17792.8,10675.68,10675.68,10675.68,10675.68,10675.68,10675.68,9305.31,8738.74,7117.12,7117.12,7117.12,7117.12,7117.12,7117.12,7117.12,7117.12,7117.12,7117.12,7117.12,7117.12,7117.12,7117.12,7117.12,6554.06,5337.84,5337.84,5337.84,5337.84,5337.84,5337.84,5337.84,5337.84,5337.84,22729.74,21846.85,18108.12,14684.7,14684.68],\"type\":\"scatter\"},{\"marker\":{\"color\":\"green\",\"line\":{\"width\":1},\"opacity\":0.8,\"size\":9},\"mode\":\"markers\",\"name\":\"Mid-Low-Value\",\"x\":[2,2,1,1,1,1,1,1,1,1,1,1,1,1,2,2,2,2,2,1,1,1,1,1,1,1,1,1,1,1,1,1,2,2,2,1,1,1,1,1,1,1,1,1,1,2,1,3,1,1,1,1,1,1,1,1,1,1,1,1,1,1,1,1,2],\"y\":[22418.91,21351.36,16013.52,14234.24,14234.24,14234.24,14234.24,14234.24,14234.24,14234.24,14234.24,14234.24,14234.24,14234.24,14144.15,12454.96,21351.36,15855.86,15855.86,14234.24,14234.24,14234.24,14234.24,14234.24,14234.24,14234.24,14234.24,14234.24,14234.24,14234.24,12099.1,10675.68,8738.74,8738.74,8064.52,7117.12,7117.12,7117.12,7117.12,7117.12,7117.12,7117.12,7117.12,7117.12,7117.12,7117.12,7117.12,13693.69,10675.68,10630.64,7117.12,7117.12,7117.12,7117.12,7117.12,7117.12,7117.12,7117.12,7117.12,7117.12,7117.12,7117.12,6049.55,5337.84,5315.32],\"type\":\"scatter\"},{\"marker\":{\"color\":\"red\",\"line\":{\"width\":1},\"opacity\":0.8,\"size\":11},\"mode\":\"markers\",\"name\":\"High-Value\",\"x\":[4,14,3],\"y\":[10450.44,7837.86,5315.32],\"type\":\"scatter\"}],                        {\"title\":{\"text\":\"Segments\"},\"xaxis\":{\"title\":{\"text\":\"Frequency\"}},\"yaxis\":{\"title\":{\"text\":\"Monetary\"}},\"template\":{\"data\":{\"histogram2dcontour\":[{\"type\":\"histogram2dcontour\",\"colorbar\":{\"outlinewidth\":0,\"ticks\":\"\"},\"colorscale\":[[0.0,\"#0d0887\"],[0.1111111111111111,\"#46039f\"],[0.2222222222222222,\"#7201a8\"],[0.3333333333333333,\"#9c179e\"],[0.4444444444444444,\"#bd3786\"],[0.5555555555555556,\"#d8576b\"],[0.6666666666666666,\"#ed7953\"],[0.7777777777777778,\"#fb9f3a\"],[0.8888888888888888,\"#fdca26\"],[1.0,\"#f0f921\"]]}],\"choropleth\":[{\"type\":\"choropleth\",\"colorbar\":{\"outlinewidth\":0,\"ticks\":\"\"}}],\"histogram2d\":[{\"type\":\"histogram2d\",\"colorbar\":{\"outlinewidth\":0,\"ticks\":\"\"},\"colorscale\":[[0.0,\"#0d0887\"],[0.1111111111111111,\"#46039f\"],[0.2222222222222222,\"#7201a8\"],[0.3333333333333333,\"#9c179e\"],[0.4444444444444444,\"#bd3786\"],[0.5555555555555556,\"#d8576b\"],[0.6666666666666666,\"#ed7953\"],[0.7777777777777778,\"#fb9f3a\"],[0.8888888888888888,\"#fdca26\"],[1.0,\"#f0f921\"]]}],\"heatmap\":[{\"type\":\"heatmap\",\"colorbar\":{\"outlinewidth\":0,\"ticks\":\"\"},\"colorscale\":[[0.0,\"#0d0887\"],[0.1111111111111111,\"#46039f\"],[0.2222222222222222,\"#7201a8\"],[0.3333333333333333,\"#9c179e\"],[0.4444444444444444,\"#bd3786\"],[0.5555555555555556,\"#d8576b\"],[0.6666666666666666,\"#ed7953\"],[0.7777777777777778,\"#fb9f3a\"],[0.8888888888888888,\"#fdca26\"],[1.0,\"#f0f921\"]]}],\"heatmapgl\":[{\"type\":\"heatmapgl\",\"colorbar\":{\"outlinewidth\":0,\"ticks\":\"\"},\"colorscale\":[[0.0,\"#0d0887\"],[0.1111111111111111,\"#46039f\"],[0.2222222222222222,\"#7201a8\"],[0.3333333333333333,\"#9c179e\"],[0.4444444444444444,\"#bd3786\"],[0.5555555555555556,\"#d8576b\"],[0.6666666666666666,\"#ed7953\"],[0.7777777777777778,\"#fb9f3a\"],[0.8888888888888888,\"#fdca26\"],[1.0,\"#f0f921\"]]}],\"contourcarpet\":[{\"type\":\"contourcarpet\",\"colorbar\":{\"outlinewidth\":0,\"ticks\":\"\"}}],\"contour\":[{\"type\":\"contour\",\"colorbar\":{\"outlinewidth\":0,\"ticks\":\"\"},\"colorscale\":[[0.0,\"#0d0887\"],[0.1111111111111111,\"#46039f\"],[0.2222222222222222,\"#7201a8\"],[0.3333333333333333,\"#9c179e\"],[0.4444444444444444,\"#bd3786\"],[0.5555555555555556,\"#d8576b\"],[0.6666666666666666,\"#ed7953\"],[0.7777777777777778,\"#fb9f3a\"],[0.8888888888888888,\"#fdca26\"],[1.0,\"#f0f921\"]]}],\"surface\":[{\"type\":\"surface\",\"colorbar\":{\"outlinewidth\":0,\"ticks\":\"\"},\"colorscale\":[[0.0,\"#0d0887\"],[0.1111111111111111,\"#46039f\"],[0.2222222222222222,\"#7201a8\"],[0.3333333333333333,\"#9c179e\"],[0.4444444444444444,\"#bd3786\"],[0.5555555555555556,\"#d8576b\"],[0.6666666666666666,\"#ed7953\"],[0.7777777777777778,\"#fb9f3a\"],[0.8888888888888888,\"#fdca26\"],[1.0,\"#f0f921\"]]}],\"mesh3d\":[{\"type\":\"mesh3d\",\"colorbar\":{\"outlinewidth\":0,\"ticks\":\"\"}}],\"scatter\":[{\"fillpattern\":{\"fillmode\":\"overlay\",\"size\":10,\"solidity\":0.2},\"type\":\"scatter\"}],\"parcoords\":[{\"type\":\"parcoords\",\"line\":{\"colorbar\":{\"outlinewidth\":0,\"ticks\":\"\"}}}],\"scatterpolargl\":[{\"type\":\"scatterpolargl\",\"marker\":{\"colorbar\":{\"outlinewidth\":0,\"ticks\":\"\"}}}],\"bar\":[{\"error_x\":{\"color\":\"#2a3f5f\"},\"error_y\":{\"color\":\"#2a3f5f\"},\"marker\":{\"line\":{\"color\":\"#E5ECF6\",\"width\":0.5},\"pattern\":{\"fillmode\":\"overlay\",\"size\":10,\"solidity\":0.2}},\"type\":\"bar\"}],\"scattergeo\":[{\"type\":\"scattergeo\",\"marker\":{\"colorbar\":{\"outlinewidth\":0,\"ticks\":\"\"}}}],\"scatterpolar\":[{\"type\":\"scatterpolar\",\"marker\":{\"colorbar\":{\"outlinewidth\":0,\"ticks\":\"\"}}}],\"histogram\":[{\"marker\":{\"pattern\":{\"fillmode\":\"overlay\",\"size\":10,\"solidity\":0.2}},\"type\":\"histogram\"}],\"scattergl\":[{\"type\":\"scattergl\",\"marker\":{\"colorbar\":{\"outlinewidth\":0,\"ticks\":\"\"}}}],\"scatter3d\":[{\"type\":\"scatter3d\",\"line\":{\"colorbar\":{\"outlinewidth\":0,\"ticks\":\"\"}},\"marker\":{\"colorbar\":{\"outlinewidth\":0,\"ticks\":\"\"}}}],\"scattermapbox\":[{\"type\":\"scattermapbox\",\"marker\":{\"colorbar\":{\"outlinewidth\":0,\"ticks\":\"\"}}}],\"scatterternary\":[{\"type\":\"scatterternary\",\"marker\":{\"colorbar\":{\"outlinewidth\":0,\"ticks\":\"\"}}}],\"scattercarpet\":[{\"type\":\"scattercarpet\",\"marker\":{\"colorbar\":{\"outlinewidth\":0,\"ticks\":\"\"}}}],\"carpet\":[{\"aaxis\":{\"endlinecolor\":\"#2a3f5f\",\"gridcolor\":\"white\",\"linecolor\":\"white\",\"minorgridcolor\":\"white\",\"startlinecolor\":\"#2a3f5f\"},\"baxis\":{\"endlinecolor\":\"#2a3f5f\",\"gridcolor\":\"white\",\"linecolor\":\"white\",\"minorgridcolor\":\"white\",\"startlinecolor\":\"#2a3f5f\"},\"type\":\"carpet\"}],\"table\":[{\"cells\":{\"fill\":{\"color\":\"#EBF0F8\"},\"line\":{\"color\":\"white\"}},\"header\":{\"fill\":{\"color\":\"#C8D4E3\"},\"line\":{\"color\":\"white\"}},\"type\":\"table\"}],\"barpolar\":[{\"marker\":{\"line\":{\"color\":\"#E5ECF6\",\"width\":0.5},\"pattern\":{\"fillmode\":\"overlay\",\"size\":10,\"solidity\":0.2}},\"type\":\"barpolar\"}],\"pie\":[{\"automargin\":true,\"type\":\"pie\"}]},\"layout\":{\"autotypenumbers\":\"strict\",\"colorway\":[\"#636efa\",\"#EF553B\",\"#00cc96\",\"#ab63fa\",\"#FFA15A\",\"#19d3f3\",\"#FF6692\",\"#B6E880\",\"#FF97FF\",\"#FECB52\"],\"font\":{\"color\":\"#2a3f5f\"},\"hovermode\":\"closest\",\"hoverlabel\":{\"align\":\"left\"},\"paper_bgcolor\":\"white\",\"plot_bgcolor\":\"#E5ECF6\",\"polar\":{\"bgcolor\":\"#E5ECF6\",\"angularaxis\":{\"gridcolor\":\"white\",\"linecolor\":\"white\",\"ticks\":\"\"},\"radialaxis\":{\"gridcolor\":\"white\",\"linecolor\":\"white\",\"ticks\":\"\"}},\"ternary\":{\"bgcolor\":\"#E5ECF6\",\"aaxis\":{\"gridcolor\":\"white\",\"linecolor\":\"white\",\"ticks\":\"\"},\"baxis\":{\"gridcolor\":\"white\",\"linecolor\":\"white\",\"ticks\":\"\"},\"caxis\":{\"gridcolor\":\"white\",\"linecolor\":\"white\",\"ticks\":\"\"}},\"coloraxis\":{\"colorbar\":{\"outlinewidth\":0,\"ticks\":\"\"}},\"colorscale\":{\"sequential\":[[0.0,\"#0d0887\"],[0.1111111111111111,\"#46039f\"],[0.2222222222222222,\"#7201a8\"],[0.3333333333333333,\"#9c179e\"],[0.4444444444444444,\"#bd3786\"],[0.5555555555555556,\"#d8576b\"],[0.6666666666666666,\"#ed7953\"],[0.7777777777777778,\"#fb9f3a\"],[0.8888888888888888,\"#fdca26\"],[1.0,\"#f0f921\"]],\"sequentialminus\":[[0.0,\"#0d0887\"],[0.1111111111111111,\"#46039f\"],[0.2222222222222222,\"#7201a8\"],[0.3333333333333333,\"#9c179e\"],[0.4444444444444444,\"#bd3786\"],[0.5555555555555556,\"#d8576b\"],[0.6666666666666666,\"#ed7953\"],[0.7777777777777778,\"#fb9f3a\"],[0.8888888888888888,\"#fdca26\"],[1.0,\"#f0f921\"]],\"diverging\":[[0,\"#8e0152\"],[0.1,\"#c51b7d\"],[0.2,\"#de77ae\"],[0.3,\"#f1b6da\"],[0.4,\"#fde0ef\"],[0.5,\"#f7f7f7\"],[0.6,\"#e6f5d0\"],[0.7,\"#b8e186\"],[0.8,\"#7fbc41\"],[0.9,\"#4d9221\"],[1,\"#276419\"]]},\"xaxis\":{\"gridcolor\":\"white\",\"linecolor\":\"white\",\"ticks\":\"\",\"title\":{\"standoff\":15},\"zerolinecolor\":\"white\",\"automargin\":true,\"zerolinewidth\":2},\"yaxis\":{\"gridcolor\":\"white\",\"linecolor\":\"white\",\"ticks\":\"\",\"title\":{\"standoff\":15},\"zerolinecolor\":\"white\",\"automargin\":true,\"zerolinewidth\":2},\"scene\":{\"xaxis\":{\"backgroundcolor\":\"#E5ECF6\",\"gridcolor\":\"white\",\"linecolor\":\"white\",\"showbackground\":true,\"ticks\":\"\",\"zerolinecolor\":\"white\",\"gridwidth\":2},\"yaxis\":{\"backgroundcolor\":\"#E5ECF6\",\"gridcolor\":\"white\",\"linecolor\":\"white\",\"showbackground\":true,\"ticks\":\"\",\"zerolinecolor\":\"white\",\"gridwidth\":2},\"zaxis\":{\"backgroundcolor\":\"#E5ECF6\",\"gridcolor\":\"white\",\"linecolor\":\"white\",\"showbackground\":true,\"ticks\":\"\",\"zerolinecolor\":\"white\",\"gridwidth\":2}},\"shapedefaults\":{\"line\":{\"color\":\"#2a3f5f\"}},\"annotationdefaults\":{\"arrowcolor\":\"#2a3f5f\",\"arrowhead\":0,\"arrowwidth\":1},\"geo\":{\"bgcolor\":\"white\",\"landcolor\":\"#E5ECF6\",\"subunitcolor\":\"white\",\"showland\":true,\"showlakes\":true,\"lakecolor\":\"white\"},\"title\":{\"x\":0.05},\"mapbox\":{\"style\":\"light\"}}}},                        {\"responsive\": true}                    ).then(function(){\n                            \nvar gd = document.getElementById('bf4e83d0-3cd6-4c92-aa58-82696775d471');\nvar x = new MutationObserver(function (mutations, observer) {{\n        var display = window.getComputedStyle(gd).display;\n        if (!display || display === 'none') {{\n            console.log([gd, 'removed!']);\n            Plotly.purge(gd);\n            observer.disconnect();\n        }}\n}});\n\n// Listen for the removal of the full notebook cells\nvar notebookContainer = gd.closest('#notebook-container');\nif (notebookContainer) {{\n    x.observe(notebookContainer, {childList: true});\n}}\n\n// Listen for the clearing of the current output cell\nvar outputEl = gd.closest('.output');\nif (outputEl) {{\n    x.observe(outputEl, {childList: true});\n}}\n\n                        })                };                });            </script>        </div>"
     },
     "metadata": {},
     "output_type": "display_data"
    },
    {
     "data": {
      "application/vnd.plotly.v1+json": {
       "data": [
        {
         "marker": {
          "color": "blue",
          "line": {
           "width": 1
          },
          "opacity": 0.8,
          "size": 7
         },
         "mode": "markers",
         "name": "Low-Value",
         "x": [
          5,
          1,
          1,
          7,
          16,
          7,
          5,
          18,
          15,
          1,
          13,
          7,
          16,
          12,
          8,
          9,
          16,
          16,
          2,
          17,
          15,
          31,
          34,
          31,
          36,
          32,
          26,
          40,
          21,
          39,
          30,
          29,
          22,
          37,
          23,
          41,
          61,
          64,
          44,
          51,
          45,
          59,
          44,
          45,
          63,
          48,
          63,
          59,
          65,
          52,
          52,
          63,
          61,
          51,
          54,
          53,
          48,
          63,
          47,
          49,
          64,
          61,
          53,
          60,
          45,
          57,
          50,
          45,
          54,
          53,
          51,
          43,
          61,
          79,
          82,
          80,
          86,
          78,
          86,
          72,
          76,
          80,
          92,
          68,
          89,
          92,
          80,
          67,
          74,
          73,
          73,
          80,
          85,
          81,
          84,
          85,
          76,
          74,
          77,
          72,
          78,
          79,
          86,
          71,
          81,
          81,
          79,
          75,
          77,
          77,
          80,
          79,
          67,
          68,
          81,
          81
         ],
         "y": [
          2612.61,
          1265.27,
          1265.27,
          1216.22,
          0.0,
          0.0,
          0.0,
          0.0,
          0.0,
          0.0,
          0.0,
          0.0,
          0.0,
          0.0,
          0.0,
          0.0,
          0.0,
          0.0,
          0.0,
          0.0,
          0.0,
          3558.56,
          0.0,
          0.0,
          0.0,
          0.0,
          0.0,
          0.0,
          0.0,
          0.0,
          0.0,
          0.0,
          0.0,
          0.0,
          0.0,
          0.0,
          21351.36,
          21351.36,
          17792.8,
          14234.24,
          14234.24,
          14234.24,
          14234.24,
          14234.24,
          14234.24,
          14234.24,
          14234.24,
          14234.24,
          14234.24,
          14234.24,
          0.01,
          0.0,
          0.0,
          0.0,
          0.0,
          0.0,
          0.0,
          0.0,
          0.0,
          0.0,
          0.0,
          0.0,
          0.0,
          0.0,
          0.0,
          0.0,
          0.0,
          0.0,
          0.0,
          0.0,
          0.0,
          0.0,
          0.0,
          14234.24,
          14234.24,
          14234.24,
          14234.24,
          14234.24,
          14234.24,
          14234.24,
          14234.24,
          14234.24,
          14234.24,
          14234.24,
          14234.24,
          12099.1,
          8738.74,
          8738.74,
          7117.12,
          7117.12,
          7117.12,
          7117.12,
          7117.12,
          7117.12,
          7117.12,
          7117.12,
          7117.12,
          7117.12,
          7117.12,
          7117.12,
          7117.12,
          0.01,
          0.01,
          0.0,
          0.0,
          0.0,
          0.0,
          0.0,
          0.0,
          0.0,
          0.0,
          0.0,
          0.0,
          0.0,
          0.0,
          0.0
         ],
         "type": "scatter"
        },
        {
         "marker": {
          "color": "yellow",
          "line": {
           "width": 1
          },
          "opacity": 0.8,
          "size": 7
         },
         "mode": "markers",
         "name": "Mid-High-Value",
         "x": [
          4,
          3,
          3,
          1,
          4,
          0,
          3,
          1,
          8,
          4,
          11,
          7,
          8,
          16,
          10,
          8,
          14,
          18,
          1,
          6,
          5,
          4,
          16,
          16,
          10,
          7,
          4,
          8,
          2,
          8,
          9,
          6,
          2,
          7,
          2,
          27,
          42,
          36,
          34,
          36
         ],
         "y": [
          32027.04,
          17792.8,
          10675.68,
          10675.68,
          10675.68,
          10675.68,
          10675.68,
          10675.68,
          9305.31,
          8738.74,
          7117.12,
          7117.12,
          7117.12,
          7117.12,
          7117.12,
          7117.12,
          7117.12,
          7117.12,
          7117.12,
          7117.12,
          7117.12,
          7117.12,
          7117.12,
          7117.12,
          7117.12,
          6554.06,
          5337.84,
          5337.84,
          5337.84,
          5337.84,
          5337.84,
          5337.84,
          5337.84,
          5337.84,
          5337.84,
          22729.74,
          21846.85,
          18108.12,
          14684.7,
          14684.68
         ],
         "type": "scatter"
        },
        {
         "marker": {
          "color": "green",
          "line": {
           "width": 1
          },
          "opacity": 0.8,
          "size": 9
         },
         "mode": "markers",
         "name": "Mid-Low-Value",
         "x": [
          7,
          7,
          2,
          1,
          4,
          18,
          2,
          7,
          9,
          18,
          9,
          9,
          3,
          9,
          15,
          4,
          0,
          6,
          5,
          7,
          1,
          18,
          24,
          36,
          22,
          27,
          38,
          25,
          42,
          26,
          40,
          28,
          28,
          23,
          37,
          30,
          26,
          26,
          38,
          28,
          34,
          24,
          38,
          25,
          30,
          29,
          21,
          35,
          29,
          20,
          23,
          34,
          29,
          25,
          36,
          28,
          35,
          66,
          43,
          56,
          66,
          59,
          64,
          43,
          53,
          52,
          51,
          66,
          52,
          49,
          64,
          51,
          45,
          44,
          45
         ],
         "y": [
          22418.91,
          21351.36,
          16013.52,
          14234.24,
          14234.24,
          14234.24,
          14234.24,
          14234.24,
          14234.24,
          14234.24,
          14234.24,
          14234.24,
          14234.24,
          14234.24,
          14144.15,
          12454.96,
          0.0,
          0.0,
          0.0,
          0.0,
          0.0,
          0.0,
          21351.36,
          15855.86,
          15855.86,
          14234.24,
          14234.24,
          14234.24,
          14234.24,
          14234.24,
          14234.24,
          14234.24,
          14234.24,
          14234.24,
          14234.24,
          14234.24,
          12099.1,
          10675.68,
          8738.74,
          8738.74,
          8064.52,
          7117.12,
          7117.12,
          7117.12,
          7117.12,
          7117.12,
          7117.12,
          7117.12,
          7117.12,
          7117.12,
          7117.12,
          7117.12,
          7117.12,
          0.0,
          0.0,
          0.0,
          0.0,
          13693.69,
          10675.68,
          10630.64,
          7117.12,
          7117.12,
          7117.12,
          7117.12,
          7117.12,
          7117.12,
          7117.12,
          7117.12,
          7117.12,
          7117.12,
          7117.12,
          7117.12,
          6049.55,
          5337.84,
          5315.32
         ],
         "type": "scatter"
        },
        {
         "marker": {
          "color": "red",
          "line": {
           "width": 1
          },
          "opacity": 0.8,
          "size": 11
         },
         "mode": "markers",
         "name": "High-Value",
         "x": [
          1,
          8,
          7
         ],
         "y": [
          10450.44,
          7837.86,
          5315.32
         ],
         "type": "scatter"
        }
       ],
       "layout": {
        "title": {
         "text": "Segments"
        },
        "xaxis": {
         "title": {
          "text": "Recency"
         }
        },
        "yaxis": {
         "title": {
          "text": "Monetary"
         }
        },
        "template": {
         "data": {
          "histogram2dcontour": [
           {
            "type": "histogram2dcontour",
            "colorbar": {
             "outlinewidth": 0,
             "ticks": ""
            },
            "colorscale": [
             [
              0.0,
              "#0d0887"
             ],
             [
              0.1111111111111111,
              "#46039f"
             ],
             [
              0.2222222222222222,
              "#7201a8"
             ],
             [
              0.3333333333333333,
              "#9c179e"
             ],
             [
              0.4444444444444444,
              "#bd3786"
             ],
             [
              0.5555555555555556,
              "#d8576b"
             ],
             [
              0.6666666666666666,
              "#ed7953"
             ],
             [
              0.7777777777777778,
              "#fb9f3a"
             ],
             [
              0.8888888888888888,
              "#fdca26"
             ],
             [
              1.0,
              "#f0f921"
             ]
            ]
           }
          ],
          "choropleth": [
           {
            "type": "choropleth",
            "colorbar": {
             "outlinewidth": 0,
             "ticks": ""
            }
           }
          ],
          "histogram2d": [
           {
            "type": "histogram2d",
            "colorbar": {
             "outlinewidth": 0,
             "ticks": ""
            },
            "colorscale": [
             [
              0.0,
              "#0d0887"
             ],
             [
              0.1111111111111111,
              "#46039f"
             ],
             [
              0.2222222222222222,
              "#7201a8"
             ],
             [
              0.3333333333333333,
              "#9c179e"
             ],
             [
              0.4444444444444444,
              "#bd3786"
             ],
             [
              0.5555555555555556,
              "#d8576b"
             ],
             [
              0.6666666666666666,
              "#ed7953"
             ],
             [
              0.7777777777777778,
              "#fb9f3a"
             ],
             [
              0.8888888888888888,
              "#fdca26"
             ],
             [
              1.0,
              "#f0f921"
             ]
            ]
           }
          ],
          "heatmap": [
           {
            "type": "heatmap",
            "colorbar": {
             "outlinewidth": 0,
             "ticks": ""
            },
            "colorscale": [
             [
              0.0,
              "#0d0887"
             ],
             [
              0.1111111111111111,
              "#46039f"
             ],
             [
              0.2222222222222222,
              "#7201a8"
             ],
             [
              0.3333333333333333,
              "#9c179e"
             ],
             [
              0.4444444444444444,
              "#bd3786"
             ],
             [
              0.5555555555555556,
              "#d8576b"
             ],
             [
              0.6666666666666666,
              "#ed7953"
             ],
             [
              0.7777777777777778,
              "#fb9f3a"
             ],
             [
              0.8888888888888888,
              "#fdca26"
             ],
             [
              1.0,
              "#f0f921"
             ]
            ]
           }
          ],
          "heatmapgl": [
           {
            "type": "heatmapgl",
            "colorbar": {
             "outlinewidth": 0,
             "ticks": ""
            },
            "colorscale": [
             [
              0.0,
              "#0d0887"
             ],
             [
              0.1111111111111111,
              "#46039f"
             ],
             [
              0.2222222222222222,
              "#7201a8"
             ],
             [
              0.3333333333333333,
              "#9c179e"
             ],
             [
              0.4444444444444444,
              "#bd3786"
             ],
             [
              0.5555555555555556,
              "#d8576b"
             ],
             [
              0.6666666666666666,
              "#ed7953"
             ],
             [
              0.7777777777777778,
              "#fb9f3a"
             ],
             [
              0.8888888888888888,
              "#fdca26"
             ],
             [
              1.0,
              "#f0f921"
             ]
            ]
           }
          ],
          "contourcarpet": [
           {
            "type": "contourcarpet",
            "colorbar": {
             "outlinewidth": 0,
             "ticks": ""
            }
           }
          ],
          "contour": [
           {
            "type": "contour",
            "colorbar": {
             "outlinewidth": 0,
             "ticks": ""
            },
            "colorscale": [
             [
              0.0,
              "#0d0887"
             ],
             [
              0.1111111111111111,
              "#46039f"
             ],
             [
              0.2222222222222222,
              "#7201a8"
             ],
             [
              0.3333333333333333,
              "#9c179e"
             ],
             [
              0.4444444444444444,
              "#bd3786"
             ],
             [
              0.5555555555555556,
              "#d8576b"
             ],
             [
              0.6666666666666666,
              "#ed7953"
             ],
             [
              0.7777777777777778,
              "#fb9f3a"
             ],
             [
              0.8888888888888888,
              "#fdca26"
             ],
             [
              1.0,
              "#f0f921"
             ]
            ]
           }
          ],
          "surface": [
           {
            "type": "surface",
            "colorbar": {
             "outlinewidth": 0,
             "ticks": ""
            },
            "colorscale": [
             [
              0.0,
              "#0d0887"
             ],
             [
              0.1111111111111111,
              "#46039f"
             ],
             [
              0.2222222222222222,
              "#7201a8"
             ],
             [
              0.3333333333333333,
              "#9c179e"
             ],
             [
              0.4444444444444444,
              "#bd3786"
             ],
             [
              0.5555555555555556,
              "#d8576b"
             ],
             [
              0.6666666666666666,
              "#ed7953"
             ],
             [
              0.7777777777777778,
              "#fb9f3a"
             ],
             [
              0.8888888888888888,
              "#fdca26"
             ],
             [
              1.0,
              "#f0f921"
             ]
            ]
           }
          ],
          "mesh3d": [
           {
            "type": "mesh3d",
            "colorbar": {
             "outlinewidth": 0,
             "ticks": ""
            }
           }
          ],
          "scatter": [
           {
            "fillpattern": {
             "fillmode": "overlay",
             "size": 10,
             "solidity": 0.2
            },
            "type": "scatter"
           }
          ],
          "parcoords": [
           {
            "type": "parcoords",
            "line": {
             "colorbar": {
              "outlinewidth": 0,
              "ticks": ""
             }
            }
           }
          ],
          "scatterpolargl": [
           {
            "type": "scatterpolargl",
            "marker": {
             "colorbar": {
              "outlinewidth": 0,
              "ticks": ""
             }
            }
           }
          ],
          "bar": [
           {
            "error_x": {
             "color": "#2a3f5f"
            },
            "error_y": {
             "color": "#2a3f5f"
            },
            "marker": {
             "line": {
              "color": "#E5ECF6",
              "width": 0.5
             },
             "pattern": {
              "fillmode": "overlay",
              "size": 10,
              "solidity": 0.2
             }
            },
            "type": "bar"
           }
          ],
          "scattergeo": [
           {
            "type": "scattergeo",
            "marker": {
             "colorbar": {
              "outlinewidth": 0,
              "ticks": ""
             }
            }
           }
          ],
          "scatterpolar": [
           {
            "type": "scatterpolar",
            "marker": {
             "colorbar": {
              "outlinewidth": 0,
              "ticks": ""
             }
            }
           }
          ],
          "histogram": [
           {
            "marker": {
             "pattern": {
              "fillmode": "overlay",
              "size": 10,
              "solidity": 0.2
             }
            },
            "type": "histogram"
           }
          ],
          "scattergl": [
           {
            "type": "scattergl",
            "marker": {
             "colorbar": {
              "outlinewidth": 0,
              "ticks": ""
             }
            }
           }
          ],
          "scatter3d": [
           {
            "type": "scatter3d",
            "line": {
             "colorbar": {
              "outlinewidth": 0,
              "ticks": ""
             }
            },
            "marker": {
             "colorbar": {
              "outlinewidth": 0,
              "ticks": ""
             }
            }
           }
          ],
          "scattermapbox": [
           {
            "type": "scattermapbox",
            "marker": {
             "colorbar": {
              "outlinewidth": 0,
              "ticks": ""
             }
            }
           }
          ],
          "scatterternary": [
           {
            "type": "scatterternary",
            "marker": {
             "colorbar": {
              "outlinewidth": 0,
              "ticks": ""
             }
            }
           }
          ],
          "scattercarpet": [
           {
            "type": "scattercarpet",
            "marker": {
             "colorbar": {
              "outlinewidth": 0,
              "ticks": ""
             }
            }
           }
          ],
          "carpet": [
           {
            "aaxis": {
             "endlinecolor": "#2a3f5f",
             "gridcolor": "white",
             "linecolor": "white",
             "minorgridcolor": "white",
             "startlinecolor": "#2a3f5f"
            },
            "baxis": {
             "endlinecolor": "#2a3f5f",
             "gridcolor": "white",
             "linecolor": "white",
             "minorgridcolor": "white",
             "startlinecolor": "#2a3f5f"
            },
            "type": "carpet"
           }
          ],
          "table": [
           {
            "cells": {
             "fill": {
              "color": "#EBF0F8"
             },
             "line": {
              "color": "white"
             }
            },
            "header": {
             "fill": {
              "color": "#C8D4E3"
             },
             "line": {
              "color": "white"
             }
            },
            "type": "table"
           }
          ],
          "barpolar": [
           {
            "marker": {
             "line": {
              "color": "#E5ECF6",
              "width": 0.5
             },
             "pattern": {
              "fillmode": "overlay",
              "size": 10,
              "solidity": 0.2
             }
            },
            "type": "barpolar"
           }
          ],
          "pie": [
           {
            "automargin": true,
            "type": "pie"
           }
          ]
         },
         "layout": {
          "autotypenumbers": "strict",
          "colorway": [
           "#636efa",
           "#EF553B",
           "#00cc96",
           "#ab63fa",
           "#FFA15A",
           "#19d3f3",
           "#FF6692",
           "#B6E880",
           "#FF97FF",
           "#FECB52"
          ],
          "font": {
           "color": "#2a3f5f"
          },
          "hovermode": "closest",
          "hoverlabel": {
           "align": "left"
          },
          "paper_bgcolor": "white",
          "plot_bgcolor": "#E5ECF6",
          "polar": {
           "bgcolor": "#E5ECF6",
           "angularaxis": {
            "gridcolor": "white",
            "linecolor": "white",
            "ticks": ""
           },
           "radialaxis": {
            "gridcolor": "white",
            "linecolor": "white",
            "ticks": ""
           }
          },
          "ternary": {
           "bgcolor": "#E5ECF6",
           "aaxis": {
            "gridcolor": "white",
            "linecolor": "white",
            "ticks": ""
           },
           "baxis": {
            "gridcolor": "white",
            "linecolor": "white",
            "ticks": ""
           },
           "caxis": {
            "gridcolor": "white",
            "linecolor": "white",
            "ticks": ""
           }
          },
          "coloraxis": {
           "colorbar": {
            "outlinewidth": 0,
            "ticks": ""
           }
          },
          "colorscale": {
           "sequential": [
            [
             0.0,
             "#0d0887"
            ],
            [
             0.1111111111111111,
             "#46039f"
            ],
            [
             0.2222222222222222,
             "#7201a8"
            ],
            [
             0.3333333333333333,
             "#9c179e"
            ],
            [
             0.4444444444444444,
             "#bd3786"
            ],
            [
             0.5555555555555556,
             "#d8576b"
            ],
            [
             0.6666666666666666,
             "#ed7953"
            ],
            [
             0.7777777777777778,
             "#fb9f3a"
            ],
            [
             0.8888888888888888,
             "#fdca26"
            ],
            [
             1.0,
             "#f0f921"
            ]
           ],
           "sequentialminus": [
            [
             0.0,
             "#0d0887"
            ],
            [
             0.1111111111111111,
             "#46039f"
            ],
            [
             0.2222222222222222,
             "#7201a8"
            ],
            [
             0.3333333333333333,
             "#9c179e"
            ],
            [
             0.4444444444444444,
             "#bd3786"
            ],
            [
             0.5555555555555556,
             "#d8576b"
            ],
            [
             0.6666666666666666,
             "#ed7953"
            ],
            [
             0.7777777777777778,
             "#fb9f3a"
            ],
            [
             0.8888888888888888,
             "#fdca26"
            ],
            [
             1.0,
             "#f0f921"
            ]
           ],
           "diverging": [
            [
             0,
             "#8e0152"
            ],
            [
             0.1,
             "#c51b7d"
            ],
            [
             0.2,
             "#de77ae"
            ],
            [
             0.3,
             "#f1b6da"
            ],
            [
             0.4,
             "#fde0ef"
            ],
            [
             0.5,
             "#f7f7f7"
            ],
            [
             0.6,
             "#e6f5d0"
            ],
            [
             0.7,
             "#b8e186"
            ],
            [
             0.8,
             "#7fbc41"
            ],
            [
             0.9,
             "#4d9221"
            ],
            [
             1,
             "#276419"
            ]
           ]
          },
          "xaxis": {
           "gridcolor": "white",
           "linecolor": "white",
           "ticks": "",
           "title": {
            "standoff": 15
           },
           "zerolinecolor": "white",
           "automargin": true,
           "zerolinewidth": 2
          },
          "yaxis": {
           "gridcolor": "white",
           "linecolor": "white",
           "ticks": "",
           "title": {
            "standoff": 15
           },
           "zerolinecolor": "white",
           "automargin": true,
           "zerolinewidth": 2
          },
          "scene": {
           "xaxis": {
            "backgroundcolor": "#E5ECF6",
            "gridcolor": "white",
            "linecolor": "white",
            "showbackground": true,
            "ticks": "",
            "zerolinecolor": "white",
            "gridwidth": 2
           },
           "yaxis": {
            "backgroundcolor": "#E5ECF6",
            "gridcolor": "white",
            "linecolor": "white",
            "showbackground": true,
            "ticks": "",
            "zerolinecolor": "white",
            "gridwidth": 2
           },
           "zaxis": {
            "backgroundcolor": "#E5ECF6",
            "gridcolor": "white",
            "linecolor": "white",
            "showbackground": true,
            "ticks": "",
            "zerolinecolor": "white",
            "gridwidth": 2
           }
          },
          "shapedefaults": {
           "line": {
            "color": "#2a3f5f"
           }
          },
          "annotationdefaults": {
           "arrowcolor": "#2a3f5f",
           "arrowhead": 0,
           "arrowwidth": 1
          },
          "geo": {
           "bgcolor": "white",
           "landcolor": "#E5ECF6",
           "subunitcolor": "white",
           "showland": true,
           "showlakes": true,
           "lakecolor": "white"
          },
          "title": {
           "x": 0.05
          },
          "mapbox": {
           "style": "light"
          }
         }
        }
       },
       "config": {
        "plotlyServerURL": "https://plot.ly"
       }
      },
      "text/html": "<div>                            <div id=\"100405a2-7605-40c4-9d0f-6b6d7c6d21f4\" class=\"plotly-graph-div\" style=\"height:525px; width:100%;\"></div>            <script type=\"text/javascript\">                require([\"plotly\"], function(Plotly) {                    window.PLOTLYENV=window.PLOTLYENV || {};                                    if (document.getElementById(\"100405a2-7605-40c4-9d0f-6b6d7c6d21f4\")) {                    Plotly.newPlot(                        \"100405a2-7605-40c4-9d0f-6b6d7c6d21f4\",                        [{\"marker\":{\"color\":\"blue\",\"line\":{\"width\":1},\"opacity\":0.8,\"size\":7},\"mode\":\"markers\",\"name\":\"Low-Value\",\"x\":[5,1,1,7,16,7,5,18,15,1,13,7,16,12,8,9,16,16,2,17,15,31,34,31,36,32,26,40,21,39,30,29,22,37,23,41,61,64,44,51,45,59,44,45,63,48,63,59,65,52,52,63,61,51,54,53,48,63,47,49,64,61,53,60,45,57,50,45,54,53,51,43,61,79,82,80,86,78,86,72,76,80,92,68,89,92,80,67,74,73,73,80,85,81,84,85,76,74,77,72,78,79,86,71,81,81,79,75,77,77,80,79,67,68,81,81],\"y\":[2612.61,1265.27,1265.27,1216.22,0.0,0.0,0.0,0.0,0.0,0.0,0.0,0.0,0.0,0.0,0.0,0.0,0.0,0.0,0.0,0.0,0.0,3558.56,0.0,0.0,0.0,0.0,0.0,0.0,0.0,0.0,0.0,0.0,0.0,0.0,0.0,0.0,21351.36,21351.36,17792.8,14234.24,14234.24,14234.24,14234.24,14234.24,14234.24,14234.24,14234.24,14234.24,14234.24,14234.24,0.01,0.0,0.0,0.0,0.0,0.0,0.0,0.0,0.0,0.0,0.0,0.0,0.0,0.0,0.0,0.0,0.0,0.0,0.0,0.0,0.0,0.0,0.0,14234.24,14234.24,14234.24,14234.24,14234.24,14234.24,14234.24,14234.24,14234.24,14234.24,14234.24,14234.24,12099.1,8738.74,8738.74,7117.12,7117.12,7117.12,7117.12,7117.12,7117.12,7117.12,7117.12,7117.12,7117.12,7117.12,7117.12,7117.12,0.01,0.01,0.0,0.0,0.0,0.0,0.0,0.0,0.0,0.0,0.0,0.0,0.0,0.0,0.0],\"type\":\"scatter\"},{\"marker\":{\"color\":\"yellow\",\"line\":{\"width\":1},\"opacity\":0.8,\"size\":7},\"mode\":\"markers\",\"name\":\"Mid-High-Value\",\"x\":[4,3,3,1,4,0,3,1,8,4,11,7,8,16,10,8,14,18,1,6,5,4,16,16,10,7,4,8,2,8,9,6,2,7,2,27,42,36,34,36],\"y\":[32027.04,17792.8,10675.68,10675.68,10675.68,10675.68,10675.68,10675.68,9305.31,8738.74,7117.12,7117.12,7117.12,7117.12,7117.12,7117.12,7117.12,7117.12,7117.12,7117.12,7117.12,7117.12,7117.12,7117.12,7117.12,6554.06,5337.84,5337.84,5337.84,5337.84,5337.84,5337.84,5337.84,5337.84,5337.84,22729.74,21846.85,18108.12,14684.7,14684.68],\"type\":\"scatter\"},{\"marker\":{\"color\":\"green\",\"line\":{\"width\":1},\"opacity\":0.8,\"size\":9},\"mode\":\"markers\",\"name\":\"Mid-Low-Value\",\"x\":[7,7,2,1,4,18,2,7,9,18,9,9,3,9,15,4,0,6,5,7,1,18,24,36,22,27,38,25,42,26,40,28,28,23,37,30,26,26,38,28,34,24,38,25,30,29,21,35,29,20,23,34,29,25,36,28,35,66,43,56,66,59,64,43,53,52,51,66,52,49,64,51,45,44,45],\"y\":[22418.91,21351.36,16013.52,14234.24,14234.24,14234.24,14234.24,14234.24,14234.24,14234.24,14234.24,14234.24,14234.24,14234.24,14144.15,12454.96,0.0,0.0,0.0,0.0,0.0,0.0,21351.36,15855.86,15855.86,14234.24,14234.24,14234.24,14234.24,14234.24,14234.24,14234.24,14234.24,14234.24,14234.24,14234.24,12099.1,10675.68,8738.74,8738.74,8064.52,7117.12,7117.12,7117.12,7117.12,7117.12,7117.12,7117.12,7117.12,7117.12,7117.12,7117.12,7117.12,0.0,0.0,0.0,0.0,13693.69,10675.68,10630.64,7117.12,7117.12,7117.12,7117.12,7117.12,7117.12,7117.12,7117.12,7117.12,7117.12,7117.12,7117.12,6049.55,5337.84,5315.32],\"type\":\"scatter\"},{\"marker\":{\"color\":\"red\",\"line\":{\"width\":1},\"opacity\":0.8,\"size\":11},\"mode\":\"markers\",\"name\":\"High-Value\",\"x\":[1,8,7],\"y\":[10450.44,7837.86,5315.32],\"type\":\"scatter\"}],                        {\"title\":{\"text\":\"Segments\"},\"xaxis\":{\"title\":{\"text\":\"Recency\"}},\"yaxis\":{\"title\":{\"text\":\"Monetary\"}},\"template\":{\"data\":{\"histogram2dcontour\":[{\"type\":\"histogram2dcontour\",\"colorbar\":{\"outlinewidth\":0,\"ticks\":\"\"},\"colorscale\":[[0.0,\"#0d0887\"],[0.1111111111111111,\"#46039f\"],[0.2222222222222222,\"#7201a8\"],[0.3333333333333333,\"#9c179e\"],[0.4444444444444444,\"#bd3786\"],[0.5555555555555556,\"#d8576b\"],[0.6666666666666666,\"#ed7953\"],[0.7777777777777778,\"#fb9f3a\"],[0.8888888888888888,\"#fdca26\"],[1.0,\"#f0f921\"]]}],\"choropleth\":[{\"type\":\"choropleth\",\"colorbar\":{\"outlinewidth\":0,\"ticks\":\"\"}}],\"histogram2d\":[{\"type\":\"histogram2d\",\"colorbar\":{\"outlinewidth\":0,\"ticks\":\"\"},\"colorscale\":[[0.0,\"#0d0887\"],[0.1111111111111111,\"#46039f\"],[0.2222222222222222,\"#7201a8\"],[0.3333333333333333,\"#9c179e\"],[0.4444444444444444,\"#bd3786\"],[0.5555555555555556,\"#d8576b\"],[0.6666666666666666,\"#ed7953\"],[0.7777777777777778,\"#fb9f3a\"],[0.8888888888888888,\"#fdca26\"],[1.0,\"#f0f921\"]]}],\"heatmap\":[{\"type\":\"heatmap\",\"colorbar\":{\"outlinewidth\":0,\"ticks\":\"\"},\"colorscale\":[[0.0,\"#0d0887\"],[0.1111111111111111,\"#46039f\"],[0.2222222222222222,\"#7201a8\"],[0.3333333333333333,\"#9c179e\"],[0.4444444444444444,\"#bd3786\"],[0.5555555555555556,\"#d8576b\"],[0.6666666666666666,\"#ed7953\"],[0.7777777777777778,\"#fb9f3a\"],[0.8888888888888888,\"#fdca26\"],[1.0,\"#f0f921\"]]}],\"heatmapgl\":[{\"type\":\"heatmapgl\",\"colorbar\":{\"outlinewidth\":0,\"ticks\":\"\"},\"colorscale\":[[0.0,\"#0d0887\"],[0.1111111111111111,\"#46039f\"],[0.2222222222222222,\"#7201a8\"],[0.3333333333333333,\"#9c179e\"],[0.4444444444444444,\"#bd3786\"],[0.5555555555555556,\"#d8576b\"],[0.6666666666666666,\"#ed7953\"],[0.7777777777777778,\"#fb9f3a\"],[0.8888888888888888,\"#fdca26\"],[1.0,\"#f0f921\"]]}],\"contourcarpet\":[{\"type\":\"contourcarpet\",\"colorbar\":{\"outlinewidth\":0,\"ticks\":\"\"}}],\"contour\":[{\"type\":\"contour\",\"colorbar\":{\"outlinewidth\":0,\"ticks\":\"\"},\"colorscale\":[[0.0,\"#0d0887\"],[0.1111111111111111,\"#46039f\"],[0.2222222222222222,\"#7201a8\"],[0.3333333333333333,\"#9c179e\"],[0.4444444444444444,\"#bd3786\"],[0.5555555555555556,\"#d8576b\"],[0.6666666666666666,\"#ed7953\"],[0.7777777777777778,\"#fb9f3a\"],[0.8888888888888888,\"#fdca26\"],[1.0,\"#f0f921\"]]}],\"surface\":[{\"type\":\"surface\",\"colorbar\":{\"outlinewidth\":0,\"ticks\":\"\"},\"colorscale\":[[0.0,\"#0d0887\"],[0.1111111111111111,\"#46039f\"],[0.2222222222222222,\"#7201a8\"],[0.3333333333333333,\"#9c179e\"],[0.4444444444444444,\"#bd3786\"],[0.5555555555555556,\"#d8576b\"],[0.6666666666666666,\"#ed7953\"],[0.7777777777777778,\"#fb9f3a\"],[0.8888888888888888,\"#fdca26\"],[1.0,\"#f0f921\"]]}],\"mesh3d\":[{\"type\":\"mesh3d\",\"colorbar\":{\"outlinewidth\":0,\"ticks\":\"\"}}],\"scatter\":[{\"fillpattern\":{\"fillmode\":\"overlay\",\"size\":10,\"solidity\":0.2},\"type\":\"scatter\"}],\"parcoords\":[{\"type\":\"parcoords\",\"line\":{\"colorbar\":{\"outlinewidth\":0,\"ticks\":\"\"}}}],\"scatterpolargl\":[{\"type\":\"scatterpolargl\",\"marker\":{\"colorbar\":{\"outlinewidth\":0,\"ticks\":\"\"}}}],\"bar\":[{\"error_x\":{\"color\":\"#2a3f5f\"},\"error_y\":{\"color\":\"#2a3f5f\"},\"marker\":{\"line\":{\"color\":\"#E5ECF6\",\"width\":0.5},\"pattern\":{\"fillmode\":\"overlay\",\"size\":10,\"solidity\":0.2}},\"type\":\"bar\"}],\"scattergeo\":[{\"type\":\"scattergeo\",\"marker\":{\"colorbar\":{\"outlinewidth\":0,\"ticks\":\"\"}}}],\"scatterpolar\":[{\"type\":\"scatterpolar\",\"marker\":{\"colorbar\":{\"outlinewidth\":0,\"ticks\":\"\"}}}],\"histogram\":[{\"marker\":{\"pattern\":{\"fillmode\":\"overlay\",\"size\":10,\"solidity\":0.2}},\"type\":\"histogram\"}],\"scattergl\":[{\"type\":\"scattergl\",\"marker\":{\"colorbar\":{\"outlinewidth\":0,\"ticks\":\"\"}}}],\"scatter3d\":[{\"type\":\"scatter3d\",\"line\":{\"colorbar\":{\"outlinewidth\":0,\"ticks\":\"\"}},\"marker\":{\"colorbar\":{\"outlinewidth\":0,\"ticks\":\"\"}}}],\"scattermapbox\":[{\"type\":\"scattermapbox\",\"marker\":{\"colorbar\":{\"outlinewidth\":0,\"ticks\":\"\"}}}],\"scatterternary\":[{\"type\":\"scatterternary\",\"marker\":{\"colorbar\":{\"outlinewidth\":0,\"ticks\":\"\"}}}],\"scattercarpet\":[{\"type\":\"scattercarpet\",\"marker\":{\"colorbar\":{\"outlinewidth\":0,\"ticks\":\"\"}}}],\"carpet\":[{\"aaxis\":{\"endlinecolor\":\"#2a3f5f\",\"gridcolor\":\"white\",\"linecolor\":\"white\",\"minorgridcolor\":\"white\",\"startlinecolor\":\"#2a3f5f\"},\"baxis\":{\"endlinecolor\":\"#2a3f5f\",\"gridcolor\":\"white\",\"linecolor\":\"white\",\"minorgridcolor\":\"white\",\"startlinecolor\":\"#2a3f5f\"},\"type\":\"carpet\"}],\"table\":[{\"cells\":{\"fill\":{\"color\":\"#EBF0F8\"},\"line\":{\"color\":\"white\"}},\"header\":{\"fill\":{\"color\":\"#C8D4E3\"},\"line\":{\"color\":\"white\"}},\"type\":\"table\"}],\"barpolar\":[{\"marker\":{\"line\":{\"color\":\"#E5ECF6\",\"width\":0.5},\"pattern\":{\"fillmode\":\"overlay\",\"size\":10,\"solidity\":0.2}},\"type\":\"barpolar\"}],\"pie\":[{\"automargin\":true,\"type\":\"pie\"}]},\"layout\":{\"autotypenumbers\":\"strict\",\"colorway\":[\"#636efa\",\"#EF553B\",\"#00cc96\",\"#ab63fa\",\"#FFA15A\",\"#19d3f3\",\"#FF6692\",\"#B6E880\",\"#FF97FF\",\"#FECB52\"],\"font\":{\"color\":\"#2a3f5f\"},\"hovermode\":\"closest\",\"hoverlabel\":{\"align\":\"left\"},\"paper_bgcolor\":\"white\",\"plot_bgcolor\":\"#E5ECF6\",\"polar\":{\"bgcolor\":\"#E5ECF6\",\"angularaxis\":{\"gridcolor\":\"white\",\"linecolor\":\"white\",\"ticks\":\"\"},\"radialaxis\":{\"gridcolor\":\"white\",\"linecolor\":\"white\",\"ticks\":\"\"}},\"ternary\":{\"bgcolor\":\"#E5ECF6\",\"aaxis\":{\"gridcolor\":\"white\",\"linecolor\":\"white\",\"ticks\":\"\"},\"baxis\":{\"gridcolor\":\"white\",\"linecolor\":\"white\",\"ticks\":\"\"},\"caxis\":{\"gridcolor\":\"white\",\"linecolor\":\"white\",\"ticks\":\"\"}},\"coloraxis\":{\"colorbar\":{\"outlinewidth\":0,\"ticks\":\"\"}},\"colorscale\":{\"sequential\":[[0.0,\"#0d0887\"],[0.1111111111111111,\"#46039f\"],[0.2222222222222222,\"#7201a8\"],[0.3333333333333333,\"#9c179e\"],[0.4444444444444444,\"#bd3786\"],[0.5555555555555556,\"#d8576b\"],[0.6666666666666666,\"#ed7953\"],[0.7777777777777778,\"#fb9f3a\"],[0.8888888888888888,\"#fdca26\"],[1.0,\"#f0f921\"]],\"sequentialminus\":[[0.0,\"#0d0887\"],[0.1111111111111111,\"#46039f\"],[0.2222222222222222,\"#7201a8\"],[0.3333333333333333,\"#9c179e\"],[0.4444444444444444,\"#bd3786\"],[0.5555555555555556,\"#d8576b\"],[0.6666666666666666,\"#ed7953\"],[0.7777777777777778,\"#fb9f3a\"],[0.8888888888888888,\"#fdca26\"],[1.0,\"#f0f921\"]],\"diverging\":[[0,\"#8e0152\"],[0.1,\"#c51b7d\"],[0.2,\"#de77ae\"],[0.3,\"#f1b6da\"],[0.4,\"#fde0ef\"],[0.5,\"#f7f7f7\"],[0.6,\"#e6f5d0\"],[0.7,\"#b8e186\"],[0.8,\"#7fbc41\"],[0.9,\"#4d9221\"],[1,\"#276419\"]]},\"xaxis\":{\"gridcolor\":\"white\",\"linecolor\":\"white\",\"ticks\":\"\",\"title\":{\"standoff\":15},\"zerolinecolor\":\"white\",\"automargin\":true,\"zerolinewidth\":2},\"yaxis\":{\"gridcolor\":\"white\",\"linecolor\":\"white\",\"ticks\":\"\",\"title\":{\"standoff\":15},\"zerolinecolor\":\"white\",\"automargin\":true,\"zerolinewidth\":2},\"scene\":{\"xaxis\":{\"backgroundcolor\":\"#E5ECF6\",\"gridcolor\":\"white\",\"linecolor\":\"white\",\"showbackground\":true,\"ticks\":\"\",\"zerolinecolor\":\"white\",\"gridwidth\":2},\"yaxis\":{\"backgroundcolor\":\"#E5ECF6\",\"gridcolor\":\"white\",\"linecolor\":\"white\",\"showbackground\":true,\"ticks\":\"\",\"zerolinecolor\":\"white\",\"gridwidth\":2},\"zaxis\":{\"backgroundcolor\":\"#E5ECF6\",\"gridcolor\":\"white\",\"linecolor\":\"white\",\"showbackground\":true,\"ticks\":\"\",\"zerolinecolor\":\"white\",\"gridwidth\":2}},\"shapedefaults\":{\"line\":{\"color\":\"#2a3f5f\"}},\"annotationdefaults\":{\"arrowcolor\":\"#2a3f5f\",\"arrowhead\":0,\"arrowwidth\":1},\"geo\":{\"bgcolor\":\"white\",\"landcolor\":\"#E5ECF6\",\"subunitcolor\":\"white\",\"showland\":true,\"showlakes\":true,\"lakecolor\":\"white\"},\"title\":{\"x\":0.05},\"mapbox\":{\"style\":\"light\"}}}},                        {\"responsive\": true}                    ).then(function(){\n                            \nvar gd = document.getElementById('100405a2-7605-40c4-9d0f-6b6d7c6d21f4');\nvar x = new MutationObserver(function (mutations, observer) {{\n        var display = window.getComputedStyle(gd).display;\n        if (!display || display === 'none') {{\n            console.log([gd, 'removed!']);\n            Plotly.purge(gd);\n            observer.disconnect();\n        }}\n}});\n\n// Listen for the removal of the full notebook cells\nvar notebookContainer = gd.closest('#notebook-container');\nif (notebookContainer) {{\n    x.observe(notebookContainer, {childList: true});\n}}\n\n// Listen for the clearing of the current output cell\nvar outputEl = gd.closest('.output');\nif (outputEl) {{\n    x.observe(outputEl, {childList: true});\n}}\n\n                        })                };                });            </script>        </div>"
     },
     "metadata": {},
     "output_type": "display_data"
    },
    {
     "data": {
      "application/vnd.plotly.v1+json": {
       "data": [
        {
         "marker": {
          "color": "blue",
          "line": {
           "width": 1
          },
          "opacity": 0.8,
          "size": 7
         },
         "mode": "markers",
         "name": "Low-Value",
         "x": [
          5,
          1,
          1,
          7,
          16,
          7,
          5,
          18,
          15,
          1,
          13,
          7,
          16,
          12,
          8,
          9,
          16,
          16,
          2,
          17,
          15,
          31,
          34,
          31,
          36,
          32,
          26,
          40,
          21,
          39,
          30,
          29,
          22,
          37,
          23,
          41,
          61,
          64,
          44,
          51,
          45,
          59,
          44,
          45,
          63,
          48,
          63,
          59,
          65,
          52,
          52,
          63,
          61,
          51,
          54,
          53,
          48,
          63,
          47,
          49,
          64,
          61,
          53,
          60,
          45,
          57,
          50,
          45,
          54,
          53,
          51,
          43,
          61,
          79,
          82,
          80,
          86,
          78,
          86,
          72,
          76,
          80,
          92,
          68,
          89,
          92,
          80,
          67,
          74,
          73,
          73,
          80,
          85,
          81,
          84,
          85,
          76,
          74,
          77,
          72,
          78,
          79,
          86,
          71,
          81,
          81,
          79,
          75,
          77,
          77,
          80,
          79,
          67,
          68,
          81,
          81
         ],
         "y": [
          1,
          1,
          2,
          1,
          2,
          1,
          1,
          1,
          1,
          2,
          2,
          1,
          1,
          1,
          1,
          1,
          1,
          1,
          1,
          1,
          1,
          1,
          1,
          1,
          2,
          1,
          1,
          1,
          1,
          1,
          2,
          1,
          1,
          1,
          1,
          1,
          2,
          1,
          2,
          1,
          2,
          2,
          1,
          1,
          1,
          1,
          1,
          1,
          1,
          1,
          1,
          1,
          1,
          1,
          1,
          1,
          2,
          2,
          1,
          1,
          1,
          1,
          1,
          1,
          1,
          6,
          1,
          1,
          2,
          1,
          1,
          1,
          1,
          1,
          1,
          1,
          1,
          1,
          1,
          1,
          1,
          1,
          1,
          1,
          1,
          1,
          2,
          2,
          1,
          1,
          1,
          1,
          1,
          1,
          1,
          1,
          1,
          1,
          1,
          1,
          2,
          3,
          1,
          1,
          2,
          1,
          1,
          1,
          3,
          1,
          1,
          1,
          1,
          1,
          1,
          1
         ],
         "type": "scatter"
        },
        {
         "marker": {
          "color": "yellow",
          "line": {
           "width": 1
          },
          "opacity": 0.8,
          "size": 7
         },
         "mode": "markers",
         "name": "Mid-High-Value",
         "x": [
          4,
          3,
          3,
          1,
          4,
          0,
          3,
          1,
          8,
          4,
          11,
          7,
          8,
          16,
          10,
          8,
          14,
          18,
          1,
          6,
          5,
          4,
          16,
          16,
          10,
          7,
          4,
          8,
          2,
          8,
          9,
          6,
          2,
          7,
          2,
          27,
          42,
          36,
          34,
          36
         ],
         "y": [
          3,
          3,
          1,
          1,
          1,
          1,
          1,
          1,
          1,
          2,
          1,
          1,
          1,
          1,
          1,
          1,
          1,
          1,
          1,
          1,
          1,
          2,
          1,
          1,
          1,
          2,
          1,
          1,
          1,
          1,
          1,
          1,
          1,
          1,
          1,
          4,
          5,
          3,
          5,
          3
         ],
         "type": "scatter"
        },
        {
         "marker": {
          "color": "green",
          "line": {
           "width": 1
          },
          "opacity": 0.8,
          "size": 9
         },
         "mode": "markers",
         "name": "Mid-Low-Value",
         "x": [
          7,
          7,
          2,
          1,
          4,
          18,
          2,
          7,
          9,
          18,
          9,
          9,
          3,
          9,
          15,
          4,
          0,
          6,
          5,
          7,
          1,
          18,
          24,
          36,
          22,
          27,
          38,
          25,
          42,
          26,
          40,
          28,
          28,
          23,
          37,
          30,
          26,
          26,
          38,
          28,
          34,
          24,
          38,
          25,
          30,
          29,
          21,
          35,
          29,
          20,
          23,
          34,
          29,
          25,
          36,
          28,
          35,
          66,
          43,
          56,
          66,
          59,
          64,
          43,
          53,
          52,
          51,
          66,
          52,
          49,
          64,
          51,
          45,
          44,
          45
         ],
         "y": [
          2,
          2,
          1,
          1,
          1,
          1,
          1,
          1,
          1,
          1,
          1,
          1,
          1,
          1,
          2,
          2,
          7,
          3,
          4,
          4,
          4,
          4,
          2,
          2,
          2,
          1,
          1,
          1,
          1,
          1,
          1,
          1,
          1,
          1,
          1,
          1,
          1,
          1,
          2,
          2,
          2,
          1,
          1,
          1,
          1,
          1,
          1,
          1,
          1,
          1,
          1,
          2,
          1,
          3,
          3,
          3,
          3,
          3,
          1,
          1,
          1,
          1,
          1,
          1,
          1,
          1,
          1,
          1,
          1,
          1,
          1,
          1,
          1,
          1,
          2
         ],
         "type": "scatter"
        },
        {
         "marker": {
          "color": "red",
          "line": {
           "width": 1
          },
          "opacity": 0.8,
          "size": 11
         },
         "mode": "markers",
         "name": "High-Value",
         "x": [
          1,
          8,
          7
         ],
         "y": [
          4,
          14,
          3
         ],
         "type": "scatter"
        }
       ],
       "layout": {
        "title": {
         "text": "Segments"
        },
        "xaxis": {
         "title": {
          "text": "Recency"
         }
        },
        "yaxis": {
         "title": {
          "text": "Frequency"
         }
        },
        "template": {
         "data": {
          "histogram2dcontour": [
           {
            "type": "histogram2dcontour",
            "colorbar": {
             "outlinewidth": 0,
             "ticks": ""
            },
            "colorscale": [
             [
              0.0,
              "#0d0887"
             ],
             [
              0.1111111111111111,
              "#46039f"
             ],
             [
              0.2222222222222222,
              "#7201a8"
             ],
             [
              0.3333333333333333,
              "#9c179e"
             ],
             [
              0.4444444444444444,
              "#bd3786"
             ],
             [
              0.5555555555555556,
              "#d8576b"
             ],
             [
              0.6666666666666666,
              "#ed7953"
             ],
             [
              0.7777777777777778,
              "#fb9f3a"
             ],
             [
              0.8888888888888888,
              "#fdca26"
             ],
             [
              1.0,
              "#f0f921"
             ]
            ]
           }
          ],
          "choropleth": [
           {
            "type": "choropleth",
            "colorbar": {
             "outlinewidth": 0,
             "ticks": ""
            }
           }
          ],
          "histogram2d": [
           {
            "type": "histogram2d",
            "colorbar": {
             "outlinewidth": 0,
             "ticks": ""
            },
            "colorscale": [
             [
              0.0,
              "#0d0887"
             ],
             [
              0.1111111111111111,
              "#46039f"
             ],
             [
              0.2222222222222222,
              "#7201a8"
             ],
             [
              0.3333333333333333,
              "#9c179e"
             ],
             [
              0.4444444444444444,
              "#bd3786"
             ],
             [
              0.5555555555555556,
              "#d8576b"
             ],
             [
              0.6666666666666666,
              "#ed7953"
             ],
             [
              0.7777777777777778,
              "#fb9f3a"
             ],
             [
              0.8888888888888888,
              "#fdca26"
             ],
             [
              1.0,
              "#f0f921"
             ]
            ]
           }
          ],
          "heatmap": [
           {
            "type": "heatmap",
            "colorbar": {
             "outlinewidth": 0,
             "ticks": ""
            },
            "colorscale": [
             [
              0.0,
              "#0d0887"
             ],
             [
              0.1111111111111111,
              "#46039f"
             ],
             [
              0.2222222222222222,
              "#7201a8"
             ],
             [
              0.3333333333333333,
              "#9c179e"
             ],
             [
              0.4444444444444444,
              "#bd3786"
             ],
             [
              0.5555555555555556,
              "#d8576b"
             ],
             [
              0.6666666666666666,
              "#ed7953"
             ],
             [
              0.7777777777777778,
              "#fb9f3a"
             ],
             [
              0.8888888888888888,
              "#fdca26"
             ],
             [
              1.0,
              "#f0f921"
             ]
            ]
           }
          ],
          "heatmapgl": [
           {
            "type": "heatmapgl",
            "colorbar": {
             "outlinewidth": 0,
             "ticks": ""
            },
            "colorscale": [
             [
              0.0,
              "#0d0887"
             ],
             [
              0.1111111111111111,
              "#46039f"
             ],
             [
              0.2222222222222222,
              "#7201a8"
             ],
             [
              0.3333333333333333,
              "#9c179e"
             ],
             [
              0.4444444444444444,
              "#bd3786"
             ],
             [
              0.5555555555555556,
              "#d8576b"
             ],
             [
              0.6666666666666666,
              "#ed7953"
             ],
             [
              0.7777777777777778,
              "#fb9f3a"
             ],
             [
              0.8888888888888888,
              "#fdca26"
             ],
             [
              1.0,
              "#f0f921"
             ]
            ]
           }
          ],
          "contourcarpet": [
           {
            "type": "contourcarpet",
            "colorbar": {
             "outlinewidth": 0,
             "ticks": ""
            }
           }
          ],
          "contour": [
           {
            "type": "contour",
            "colorbar": {
             "outlinewidth": 0,
             "ticks": ""
            },
            "colorscale": [
             [
              0.0,
              "#0d0887"
             ],
             [
              0.1111111111111111,
              "#46039f"
             ],
             [
              0.2222222222222222,
              "#7201a8"
             ],
             [
              0.3333333333333333,
              "#9c179e"
             ],
             [
              0.4444444444444444,
              "#bd3786"
             ],
             [
              0.5555555555555556,
              "#d8576b"
             ],
             [
              0.6666666666666666,
              "#ed7953"
             ],
             [
              0.7777777777777778,
              "#fb9f3a"
             ],
             [
              0.8888888888888888,
              "#fdca26"
             ],
             [
              1.0,
              "#f0f921"
             ]
            ]
           }
          ],
          "surface": [
           {
            "type": "surface",
            "colorbar": {
             "outlinewidth": 0,
             "ticks": ""
            },
            "colorscale": [
             [
              0.0,
              "#0d0887"
             ],
             [
              0.1111111111111111,
              "#46039f"
             ],
             [
              0.2222222222222222,
              "#7201a8"
             ],
             [
              0.3333333333333333,
              "#9c179e"
             ],
             [
              0.4444444444444444,
              "#bd3786"
             ],
             [
              0.5555555555555556,
              "#d8576b"
             ],
             [
              0.6666666666666666,
              "#ed7953"
             ],
             [
              0.7777777777777778,
              "#fb9f3a"
             ],
             [
              0.8888888888888888,
              "#fdca26"
             ],
             [
              1.0,
              "#f0f921"
             ]
            ]
           }
          ],
          "mesh3d": [
           {
            "type": "mesh3d",
            "colorbar": {
             "outlinewidth": 0,
             "ticks": ""
            }
           }
          ],
          "scatter": [
           {
            "fillpattern": {
             "fillmode": "overlay",
             "size": 10,
             "solidity": 0.2
            },
            "type": "scatter"
           }
          ],
          "parcoords": [
           {
            "type": "parcoords",
            "line": {
             "colorbar": {
              "outlinewidth": 0,
              "ticks": ""
             }
            }
           }
          ],
          "scatterpolargl": [
           {
            "type": "scatterpolargl",
            "marker": {
             "colorbar": {
              "outlinewidth": 0,
              "ticks": ""
             }
            }
           }
          ],
          "bar": [
           {
            "error_x": {
             "color": "#2a3f5f"
            },
            "error_y": {
             "color": "#2a3f5f"
            },
            "marker": {
             "line": {
              "color": "#E5ECF6",
              "width": 0.5
             },
             "pattern": {
              "fillmode": "overlay",
              "size": 10,
              "solidity": 0.2
             }
            },
            "type": "bar"
           }
          ],
          "scattergeo": [
           {
            "type": "scattergeo",
            "marker": {
             "colorbar": {
              "outlinewidth": 0,
              "ticks": ""
             }
            }
           }
          ],
          "scatterpolar": [
           {
            "type": "scatterpolar",
            "marker": {
             "colorbar": {
              "outlinewidth": 0,
              "ticks": ""
             }
            }
           }
          ],
          "histogram": [
           {
            "marker": {
             "pattern": {
              "fillmode": "overlay",
              "size": 10,
              "solidity": 0.2
             }
            },
            "type": "histogram"
           }
          ],
          "scattergl": [
           {
            "type": "scattergl",
            "marker": {
             "colorbar": {
              "outlinewidth": 0,
              "ticks": ""
             }
            }
           }
          ],
          "scatter3d": [
           {
            "type": "scatter3d",
            "line": {
             "colorbar": {
              "outlinewidth": 0,
              "ticks": ""
             }
            },
            "marker": {
             "colorbar": {
              "outlinewidth": 0,
              "ticks": ""
             }
            }
           }
          ],
          "scattermapbox": [
           {
            "type": "scattermapbox",
            "marker": {
             "colorbar": {
              "outlinewidth": 0,
              "ticks": ""
             }
            }
           }
          ],
          "scatterternary": [
           {
            "type": "scatterternary",
            "marker": {
             "colorbar": {
              "outlinewidth": 0,
              "ticks": ""
             }
            }
           }
          ],
          "scattercarpet": [
           {
            "type": "scattercarpet",
            "marker": {
             "colorbar": {
              "outlinewidth": 0,
              "ticks": ""
             }
            }
           }
          ],
          "carpet": [
           {
            "aaxis": {
             "endlinecolor": "#2a3f5f",
             "gridcolor": "white",
             "linecolor": "white",
             "minorgridcolor": "white",
             "startlinecolor": "#2a3f5f"
            },
            "baxis": {
             "endlinecolor": "#2a3f5f",
             "gridcolor": "white",
             "linecolor": "white",
             "minorgridcolor": "white",
             "startlinecolor": "#2a3f5f"
            },
            "type": "carpet"
           }
          ],
          "table": [
           {
            "cells": {
             "fill": {
              "color": "#EBF0F8"
             },
             "line": {
              "color": "white"
             }
            },
            "header": {
             "fill": {
              "color": "#C8D4E3"
             },
             "line": {
              "color": "white"
             }
            },
            "type": "table"
           }
          ],
          "barpolar": [
           {
            "marker": {
             "line": {
              "color": "#E5ECF6",
              "width": 0.5
             },
             "pattern": {
              "fillmode": "overlay",
              "size": 10,
              "solidity": 0.2
             }
            },
            "type": "barpolar"
           }
          ],
          "pie": [
           {
            "automargin": true,
            "type": "pie"
           }
          ]
         },
         "layout": {
          "autotypenumbers": "strict",
          "colorway": [
           "#636efa",
           "#EF553B",
           "#00cc96",
           "#ab63fa",
           "#FFA15A",
           "#19d3f3",
           "#FF6692",
           "#B6E880",
           "#FF97FF",
           "#FECB52"
          ],
          "font": {
           "color": "#2a3f5f"
          },
          "hovermode": "closest",
          "hoverlabel": {
           "align": "left"
          },
          "paper_bgcolor": "white",
          "plot_bgcolor": "#E5ECF6",
          "polar": {
           "bgcolor": "#E5ECF6",
           "angularaxis": {
            "gridcolor": "white",
            "linecolor": "white",
            "ticks": ""
           },
           "radialaxis": {
            "gridcolor": "white",
            "linecolor": "white",
            "ticks": ""
           }
          },
          "ternary": {
           "bgcolor": "#E5ECF6",
           "aaxis": {
            "gridcolor": "white",
            "linecolor": "white",
            "ticks": ""
           },
           "baxis": {
            "gridcolor": "white",
            "linecolor": "white",
            "ticks": ""
           },
           "caxis": {
            "gridcolor": "white",
            "linecolor": "white",
            "ticks": ""
           }
          },
          "coloraxis": {
           "colorbar": {
            "outlinewidth": 0,
            "ticks": ""
           }
          },
          "colorscale": {
           "sequential": [
            [
             0.0,
             "#0d0887"
            ],
            [
             0.1111111111111111,
             "#46039f"
            ],
            [
             0.2222222222222222,
             "#7201a8"
            ],
            [
             0.3333333333333333,
             "#9c179e"
            ],
            [
             0.4444444444444444,
             "#bd3786"
            ],
            [
             0.5555555555555556,
             "#d8576b"
            ],
            [
             0.6666666666666666,
             "#ed7953"
            ],
            [
             0.7777777777777778,
             "#fb9f3a"
            ],
            [
             0.8888888888888888,
             "#fdca26"
            ],
            [
             1.0,
             "#f0f921"
            ]
           ],
           "sequentialminus": [
            [
             0.0,
             "#0d0887"
            ],
            [
             0.1111111111111111,
             "#46039f"
            ],
            [
             0.2222222222222222,
             "#7201a8"
            ],
            [
             0.3333333333333333,
             "#9c179e"
            ],
            [
             0.4444444444444444,
             "#bd3786"
            ],
            [
             0.5555555555555556,
             "#d8576b"
            ],
            [
             0.6666666666666666,
             "#ed7953"
            ],
            [
             0.7777777777777778,
             "#fb9f3a"
            ],
            [
             0.8888888888888888,
             "#fdca26"
            ],
            [
             1.0,
             "#f0f921"
            ]
           ],
           "diverging": [
            [
             0,
             "#8e0152"
            ],
            [
             0.1,
             "#c51b7d"
            ],
            [
             0.2,
             "#de77ae"
            ],
            [
             0.3,
             "#f1b6da"
            ],
            [
             0.4,
             "#fde0ef"
            ],
            [
             0.5,
             "#f7f7f7"
            ],
            [
             0.6,
             "#e6f5d0"
            ],
            [
             0.7,
             "#b8e186"
            ],
            [
             0.8,
             "#7fbc41"
            ],
            [
             0.9,
             "#4d9221"
            ],
            [
             1,
             "#276419"
            ]
           ]
          },
          "xaxis": {
           "gridcolor": "white",
           "linecolor": "white",
           "ticks": "",
           "title": {
            "standoff": 15
           },
           "zerolinecolor": "white",
           "automargin": true,
           "zerolinewidth": 2
          },
          "yaxis": {
           "gridcolor": "white",
           "linecolor": "white",
           "ticks": "",
           "title": {
            "standoff": 15
           },
           "zerolinecolor": "white",
           "automargin": true,
           "zerolinewidth": 2
          },
          "scene": {
           "xaxis": {
            "backgroundcolor": "#E5ECF6",
            "gridcolor": "white",
            "linecolor": "white",
            "showbackground": true,
            "ticks": "",
            "zerolinecolor": "white",
            "gridwidth": 2
           },
           "yaxis": {
            "backgroundcolor": "#E5ECF6",
            "gridcolor": "white",
            "linecolor": "white",
            "showbackground": true,
            "ticks": "",
            "zerolinecolor": "white",
            "gridwidth": 2
           },
           "zaxis": {
            "backgroundcolor": "#E5ECF6",
            "gridcolor": "white",
            "linecolor": "white",
            "showbackground": true,
            "ticks": "",
            "zerolinecolor": "white",
            "gridwidth": 2
           }
          },
          "shapedefaults": {
           "line": {
            "color": "#2a3f5f"
           }
          },
          "annotationdefaults": {
           "arrowcolor": "#2a3f5f",
           "arrowhead": 0,
           "arrowwidth": 1
          },
          "geo": {
           "bgcolor": "white",
           "landcolor": "#E5ECF6",
           "subunitcolor": "white",
           "showland": true,
           "showlakes": true,
           "lakecolor": "white"
          },
          "title": {
           "x": 0.05
          },
          "mapbox": {
           "style": "light"
          }
         }
        }
       },
       "config": {
        "plotlyServerURL": "https://plot.ly"
       }
      },
      "text/html": "<div>                            <div id=\"79c82156-18fe-4549-a1f7-75028f8b6c0e\" class=\"plotly-graph-div\" style=\"height:525px; width:100%;\"></div>            <script type=\"text/javascript\">                require([\"plotly\"], function(Plotly) {                    window.PLOTLYENV=window.PLOTLYENV || {};                                    if (document.getElementById(\"79c82156-18fe-4549-a1f7-75028f8b6c0e\")) {                    Plotly.newPlot(                        \"79c82156-18fe-4549-a1f7-75028f8b6c0e\",                        [{\"marker\":{\"color\":\"blue\",\"line\":{\"width\":1},\"opacity\":0.8,\"size\":7},\"mode\":\"markers\",\"name\":\"Low-Value\",\"x\":[5,1,1,7,16,7,5,18,15,1,13,7,16,12,8,9,16,16,2,17,15,31,34,31,36,32,26,40,21,39,30,29,22,37,23,41,61,64,44,51,45,59,44,45,63,48,63,59,65,52,52,63,61,51,54,53,48,63,47,49,64,61,53,60,45,57,50,45,54,53,51,43,61,79,82,80,86,78,86,72,76,80,92,68,89,92,80,67,74,73,73,80,85,81,84,85,76,74,77,72,78,79,86,71,81,81,79,75,77,77,80,79,67,68,81,81],\"y\":[1,1,2,1,2,1,1,1,1,2,2,1,1,1,1,1,1,1,1,1,1,1,1,1,2,1,1,1,1,1,2,1,1,1,1,1,2,1,2,1,2,2,1,1,1,1,1,1,1,1,1,1,1,1,1,1,2,2,1,1,1,1,1,1,1,6,1,1,2,1,1,1,1,1,1,1,1,1,1,1,1,1,1,1,1,1,2,2,1,1,1,1,1,1,1,1,1,1,1,1,2,3,1,1,2,1,1,1,3,1,1,1,1,1,1,1],\"type\":\"scatter\"},{\"marker\":{\"color\":\"yellow\",\"line\":{\"width\":1},\"opacity\":0.8,\"size\":7},\"mode\":\"markers\",\"name\":\"Mid-High-Value\",\"x\":[4,3,3,1,4,0,3,1,8,4,11,7,8,16,10,8,14,18,1,6,5,4,16,16,10,7,4,8,2,8,9,6,2,7,2,27,42,36,34,36],\"y\":[3,3,1,1,1,1,1,1,1,2,1,1,1,1,1,1,1,1,1,1,1,2,1,1,1,2,1,1,1,1,1,1,1,1,1,4,5,3,5,3],\"type\":\"scatter\"},{\"marker\":{\"color\":\"green\",\"line\":{\"width\":1},\"opacity\":0.8,\"size\":9},\"mode\":\"markers\",\"name\":\"Mid-Low-Value\",\"x\":[7,7,2,1,4,18,2,7,9,18,9,9,3,9,15,4,0,6,5,7,1,18,24,36,22,27,38,25,42,26,40,28,28,23,37,30,26,26,38,28,34,24,38,25,30,29,21,35,29,20,23,34,29,25,36,28,35,66,43,56,66,59,64,43,53,52,51,66,52,49,64,51,45,44,45],\"y\":[2,2,1,1,1,1,1,1,1,1,1,1,1,1,2,2,7,3,4,4,4,4,2,2,2,1,1,1,1,1,1,1,1,1,1,1,1,1,2,2,2,1,1,1,1,1,1,1,1,1,1,2,1,3,3,3,3,3,1,1,1,1,1,1,1,1,1,1,1,1,1,1,1,1,2],\"type\":\"scatter\"},{\"marker\":{\"color\":\"red\",\"line\":{\"width\":1},\"opacity\":0.8,\"size\":11},\"mode\":\"markers\",\"name\":\"High-Value\",\"x\":[1,8,7],\"y\":[4,14,3],\"type\":\"scatter\"}],                        {\"title\":{\"text\":\"Segments\"},\"xaxis\":{\"title\":{\"text\":\"Recency\"}},\"yaxis\":{\"title\":{\"text\":\"Frequency\"}},\"template\":{\"data\":{\"histogram2dcontour\":[{\"type\":\"histogram2dcontour\",\"colorbar\":{\"outlinewidth\":0,\"ticks\":\"\"},\"colorscale\":[[0.0,\"#0d0887\"],[0.1111111111111111,\"#46039f\"],[0.2222222222222222,\"#7201a8\"],[0.3333333333333333,\"#9c179e\"],[0.4444444444444444,\"#bd3786\"],[0.5555555555555556,\"#d8576b\"],[0.6666666666666666,\"#ed7953\"],[0.7777777777777778,\"#fb9f3a\"],[0.8888888888888888,\"#fdca26\"],[1.0,\"#f0f921\"]]}],\"choropleth\":[{\"type\":\"choropleth\",\"colorbar\":{\"outlinewidth\":0,\"ticks\":\"\"}}],\"histogram2d\":[{\"type\":\"histogram2d\",\"colorbar\":{\"outlinewidth\":0,\"ticks\":\"\"},\"colorscale\":[[0.0,\"#0d0887\"],[0.1111111111111111,\"#46039f\"],[0.2222222222222222,\"#7201a8\"],[0.3333333333333333,\"#9c179e\"],[0.4444444444444444,\"#bd3786\"],[0.5555555555555556,\"#d8576b\"],[0.6666666666666666,\"#ed7953\"],[0.7777777777777778,\"#fb9f3a\"],[0.8888888888888888,\"#fdca26\"],[1.0,\"#f0f921\"]]}],\"heatmap\":[{\"type\":\"heatmap\",\"colorbar\":{\"outlinewidth\":0,\"ticks\":\"\"},\"colorscale\":[[0.0,\"#0d0887\"],[0.1111111111111111,\"#46039f\"],[0.2222222222222222,\"#7201a8\"],[0.3333333333333333,\"#9c179e\"],[0.4444444444444444,\"#bd3786\"],[0.5555555555555556,\"#d8576b\"],[0.6666666666666666,\"#ed7953\"],[0.7777777777777778,\"#fb9f3a\"],[0.8888888888888888,\"#fdca26\"],[1.0,\"#f0f921\"]]}],\"heatmapgl\":[{\"type\":\"heatmapgl\",\"colorbar\":{\"outlinewidth\":0,\"ticks\":\"\"},\"colorscale\":[[0.0,\"#0d0887\"],[0.1111111111111111,\"#46039f\"],[0.2222222222222222,\"#7201a8\"],[0.3333333333333333,\"#9c179e\"],[0.4444444444444444,\"#bd3786\"],[0.5555555555555556,\"#d8576b\"],[0.6666666666666666,\"#ed7953\"],[0.7777777777777778,\"#fb9f3a\"],[0.8888888888888888,\"#fdca26\"],[1.0,\"#f0f921\"]]}],\"contourcarpet\":[{\"type\":\"contourcarpet\",\"colorbar\":{\"outlinewidth\":0,\"ticks\":\"\"}}],\"contour\":[{\"type\":\"contour\",\"colorbar\":{\"outlinewidth\":0,\"ticks\":\"\"},\"colorscale\":[[0.0,\"#0d0887\"],[0.1111111111111111,\"#46039f\"],[0.2222222222222222,\"#7201a8\"],[0.3333333333333333,\"#9c179e\"],[0.4444444444444444,\"#bd3786\"],[0.5555555555555556,\"#d8576b\"],[0.6666666666666666,\"#ed7953\"],[0.7777777777777778,\"#fb9f3a\"],[0.8888888888888888,\"#fdca26\"],[1.0,\"#f0f921\"]]}],\"surface\":[{\"type\":\"surface\",\"colorbar\":{\"outlinewidth\":0,\"ticks\":\"\"},\"colorscale\":[[0.0,\"#0d0887\"],[0.1111111111111111,\"#46039f\"],[0.2222222222222222,\"#7201a8\"],[0.3333333333333333,\"#9c179e\"],[0.4444444444444444,\"#bd3786\"],[0.5555555555555556,\"#d8576b\"],[0.6666666666666666,\"#ed7953\"],[0.7777777777777778,\"#fb9f3a\"],[0.8888888888888888,\"#fdca26\"],[1.0,\"#f0f921\"]]}],\"mesh3d\":[{\"type\":\"mesh3d\",\"colorbar\":{\"outlinewidth\":0,\"ticks\":\"\"}}],\"scatter\":[{\"fillpattern\":{\"fillmode\":\"overlay\",\"size\":10,\"solidity\":0.2},\"type\":\"scatter\"}],\"parcoords\":[{\"type\":\"parcoords\",\"line\":{\"colorbar\":{\"outlinewidth\":0,\"ticks\":\"\"}}}],\"scatterpolargl\":[{\"type\":\"scatterpolargl\",\"marker\":{\"colorbar\":{\"outlinewidth\":0,\"ticks\":\"\"}}}],\"bar\":[{\"error_x\":{\"color\":\"#2a3f5f\"},\"error_y\":{\"color\":\"#2a3f5f\"},\"marker\":{\"line\":{\"color\":\"#E5ECF6\",\"width\":0.5},\"pattern\":{\"fillmode\":\"overlay\",\"size\":10,\"solidity\":0.2}},\"type\":\"bar\"}],\"scattergeo\":[{\"type\":\"scattergeo\",\"marker\":{\"colorbar\":{\"outlinewidth\":0,\"ticks\":\"\"}}}],\"scatterpolar\":[{\"type\":\"scatterpolar\",\"marker\":{\"colorbar\":{\"outlinewidth\":0,\"ticks\":\"\"}}}],\"histogram\":[{\"marker\":{\"pattern\":{\"fillmode\":\"overlay\",\"size\":10,\"solidity\":0.2}},\"type\":\"histogram\"}],\"scattergl\":[{\"type\":\"scattergl\",\"marker\":{\"colorbar\":{\"outlinewidth\":0,\"ticks\":\"\"}}}],\"scatter3d\":[{\"type\":\"scatter3d\",\"line\":{\"colorbar\":{\"outlinewidth\":0,\"ticks\":\"\"}},\"marker\":{\"colorbar\":{\"outlinewidth\":0,\"ticks\":\"\"}}}],\"scattermapbox\":[{\"type\":\"scattermapbox\",\"marker\":{\"colorbar\":{\"outlinewidth\":0,\"ticks\":\"\"}}}],\"scatterternary\":[{\"type\":\"scatterternary\",\"marker\":{\"colorbar\":{\"outlinewidth\":0,\"ticks\":\"\"}}}],\"scattercarpet\":[{\"type\":\"scattercarpet\",\"marker\":{\"colorbar\":{\"outlinewidth\":0,\"ticks\":\"\"}}}],\"carpet\":[{\"aaxis\":{\"endlinecolor\":\"#2a3f5f\",\"gridcolor\":\"white\",\"linecolor\":\"white\",\"minorgridcolor\":\"white\",\"startlinecolor\":\"#2a3f5f\"},\"baxis\":{\"endlinecolor\":\"#2a3f5f\",\"gridcolor\":\"white\",\"linecolor\":\"white\",\"minorgridcolor\":\"white\",\"startlinecolor\":\"#2a3f5f\"},\"type\":\"carpet\"}],\"table\":[{\"cells\":{\"fill\":{\"color\":\"#EBF0F8\"},\"line\":{\"color\":\"white\"}},\"header\":{\"fill\":{\"color\":\"#C8D4E3\"},\"line\":{\"color\":\"white\"}},\"type\":\"table\"}],\"barpolar\":[{\"marker\":{\"line\":{\"color\":\"#E5ECF6\",\"width\":0.5},\"pattern\":{\"fillmode\":\"overlay\",\"size\":10,\"solidity\":0.2}},\"type\":\"barpolar\"}],\"pie\":[{\"automargin\":true,\"type\":\"pie\"}]},\"layout\":{\"autotypenumbers\":\"strict\",\"colorway\":[\"#636efa\",\"#EF553B\",\"#00cc96\",\"#ab63fa\",\"#FFA15A\",\"#19d3f3\",\"#FF6692\",\"#B6E880\",\"#FF97FF\",\"#FECB52\"],\"font\":{\"color\":\"#2a3f5f\"},\"hovermode\":\"closest\",\"hoverlabel\":{\"align\":\"left\"},\"paper_bgcolor\":\"white\",\"plot_bgcolor\":\"#E5ECF6\",\"polar\":{\"bgcolor\":\"#E5ECF6\",\"angularaxis\":{\"gridcolor\":\"white\",\"linecolor\":\"white\",\"ticks\":\"\"},\"radialaxis\":{\"gridcolor\":\"white\",\"linecolor\":\"white\",\"ticks\":\"\"}},\"ternary\":{\"bgcolor\":\"#E5ECF6\",\"aaxis\":{\"gridcolor\":\"white\",\"linecolor\":\"white\",\"ticks\":\"\"},\"baxis\":{\"gridcolor\":\"white\",\"linecolor\":\"white\",\"ticks\":\"\"},\"caxis\":{\"gridcolor\":\"white\",\"linecolor\":\"white\",\"ticks\":\"\"}},\"coloraxis\":{\"colorbar\":{\"outlinewidth\":0,\"ticks\":\"\"}},\"colorscale\":{\"sequential\":[[0.0,\"#0d0887\"],[0.1111111111111111,\"#46039f\"],[0.2222222222222222,\"#7201a8\"],[0.3333333333333333,\"#9c179e\"],[0.4444444444444444,\"#bd3786\"],[0.5555555555555556,\"#d8576b\"],[0.6666666666666666,\"#ed7953\"],[0.7777777777777778,\"#fb9f3a\"],[0.8888888888888888,\"#fdca26\"],[1.0,\"#f0f921\"]],\"sequentialminus\":[[0.0,\"#0d0887\"],[0.1111111111111111,\"#46039f\"],[0.2222222222222222,\"#7201a8\"],[0.3333333333333333,\"#9c179e\"],[0.4444444444444444,\"#bd3786\"],[0.5555555555555556,\"#d8576b\"],[0.6666666666666666,\"#ed7953\"],[0.7777777777777778,\"#fb9f3a\"],[0.8888888888888888,\"#fdca26\"],[1.0,\"#f0f921\"]],\"diverging\":[[0,\"#8e0152\"],[0.1,\"#c51b7d\"],[0.2,\"#de77ae\"],[0.3,\"#f1b6da\"],[0.4,\"#fde0ef\"],[0.5,\"#f7f7f7\"],[0.6,\"#e6f5d0\"],[0.7,\"#b8e186\"],[0.8,\"#7fbc41\"],[0.9,\"#4d9221\"],[1,\"#276419\"]]},\"xaxis\":{\"gridcolor\":\"white\",\"linecolor\":\"white\",\"ticks\":\"\",\"title\":{\"standoff\":15},\"zerolinecolor\":\"white\",\"automargin\":true,\"zerolinewidth\":2},\"yaxis\":{\"gridcolor\":\"white\",\"linecolor\":\"white\",\"ticks\":\"\",\"title\":{\"standoff\":15},\"zerolinecolor\":\"white\",\"automargin\":true,\"zerolinewidth\":2},\"scene\":{\"xaxis\":{\"backgroundcolor\":\"#E5ECF6\",\"gridcolor\":\"white\",\"linecolor\":\"white\",\"showbackground\":true,\"ticks\":\"\",\"zerolinecolor\":\"white\",\"gridwidth\":2},\"yaxis\":{\"backgroundcolor\":\"#E5ECF6\",\"gridcolor\":\"white\",\"linecolor\":\"white\",\"showbackground\":true,\"ticks\":\"\",\"zerolinecolor\":\"white\",\"gridwidth\":2},\"zaxis\":{\"backgroundcolor\":\"#E5ECF6\",\"gridcolor\":\"white\",\"linecolor\":\"white\",\"showbackground\":true,\"ticks\":\"\",\"zerolinecolor\":\"white\",\"gridwidth\":2}},\"shapedefaults\":{\"line\":{\"color\":\"#2a3f5f\"}},\"annotationdefaults\":{\"arrowcolor\":\"#2a3f5f\",\"arrowhead\":0,\"arrowwidth\":1},\"geo\":{\"bgcolor\":\"white\",\"landcolor\":\"#E5ECF6\",\"subunitcolor\":\"white\",\"showland\":true,\"showlakes\":true,\"lakecolor\":\"white\"},\"title\":{\"x\":0.05},\"mapbox\":{\"style\":\"light\"}}}},                        {\"responsive\": true}                    ).then(function(){\n                            \nvar gd = document.getElementById('79c82156-18fe-4549-a1f7-75028f8b6c0e');\nvar x = new MutationObserver(function (mutations, observer) {{\n        var display = window.getComputedStyle(gd).display;\n        if (!display || display === 'none') {{\n            console.log([gd, 'removed!']);\n            Plotly.purge(gd);\n            observer.disconnect();\n        }}\n}});\n\n// Listen for the removal of the full notebook cells\nvar notebookContainer = gd.closest('#notebook-container');\nif (notebookContainer) {{\n    x.observe(notebookContainer, {childList: true});\n}}\n\n// Listen for the clearing of the current output cell\nvar outputEl = gd.closest('.output');\nif (outputEl) {{\n    x.observe(outputEl, {childList: true});\n}}\n\n                        })                };                });            </script>        </div>"
     },
     "metadata": {},
     "output_type": "display_data"
    }
   ],
   "source": [
    "# Define a function to create scatter plots for different segments\n",
    "def create_segment_scatter(tx_graph, x_column, y_column, x_title, y_title):\n",
    "    plot_data = []\n",
    "    markers = {'Low-Value': {'color': 'blue', 'size': 7},\n",
    "               'Mid-High-Value': {'color': 'yellow', 'size': 7},\n",
    "               'Mid-Low-Value': {'color': 'green', 'size': 9},\n",
    "               'High-Value': {'color': 'red', 'size': 11}}\n",
    "  \n",
    "    \n",
    "    for segment, properties in markers.items():\n",
    "        scatter_data = go.Scatter(\n",
    "            x=tx_graph.query(f\"Segment == '{segment}'\")[x_column],\n",
    "            y=tx_graph.query(f\"Segment == '{segment}'\")[y_column],\n",
    "            mode='markers',\n",
    "            name=segment,\n",
    "            marker=dict(\n",
    "                size=properties['size'],\n",
    "                line=dict(width=1),\n",
    "                color=properties['color'],\n",
    "                opacity=0.8\n",
    "            )\n",
    "        )\n",
    "        plot_data.append(scatter_data)\n",
    "\n",
    "    plot_layout = go.Layout(\n",
    "        xaxis={'title': x_title},\n",
    "        yaxis={'title': y_title},\n",
    "        title='Segments'\n",
    "    )\n",
    "    fig = go.Figure(data=plot_data, layout=plot_layout)\n",
    "    fig.write_image(f\"output/{x_column}_vs_{y_column}.png\")  # Save the plot as an image\n",
    "    fig.show()\n",
    "\n",
    "# Example usage:\n",
    "# Revenue vs Frequency\n",
    "tx_graph_revenue_frequency = df_RFM.query(\"Monetary > 0 and Frequency > 0\")\n",
    "create_segment_scatter(tx_graph_revenue_frequency, 'Frequency', 'Monetary', 'Frequency', 'Monetary')\n",
    "\n",
    "# Revenue vs Recency\n",
    "tx_graph_revenue_recency = df_RFM.query(\"Monetary < 50000 and Frequency < 2000\")\n",
    "create_segment_scatter(tx_graph_revenue_recency, 'Recency', 'Monetary', 'Recency', 'Monetary')\n",
    "\n",
    "# Revenue vs Frequency\n",
    "tx_graph_recency_frequency = df_RFM.query(\"Monetary < 50000 and Frequency < 2000\")\n",
    "create_segment_scatter(tx_graph_recency_frequency, 'Recency', 'Frequency', 'Recency', 'Frequency')\n"
   ],
   "metadata": {
    "collapsed": false,
    "ExecuteTime": {
     "end_time": "2024-03-22T13:11:39.950776200Z",
     "start_time": "2024-03-22T13:11:39.198921600Z"
    }
   }
  },
  {
   "cell_type": "code",
   "execution_count": 221,
   "outputs": [
    {
     "data": {
      "application/vnd.plotly.v1+json": {
       "data": [
        {
         "customdata": [
          [
           "Mid-High-Value"
          ],
          [
           "Mid-Low-Value"
          ],
          [
           "Mid-Low-Value"
          ],
          [
           "Mid-High-Value"
          ],
          [
           "Mid-Low-Value"
          ],
          [
           "Mid-Low-Value"
          ],
          [
           "High-Value"
          ],
          [
           "Mid-High-Value"
          ],
          [
           "High-Value"
          ],
          [
           "Mid-High-Value"
          ],
          [
           "Mid-High-Value"
          ],
          [
           "High-Value"
          ],
          [
           "Low-Value"
          ],
          [
           "Mid-Low-Value"
          ],
          [
           "Low-Value"
          ],
          [
           "Mid-Low-Value"
          ],
          [
           "Mid-Low-Value"
          ],
          [
           "Mid-Low-Value"
          ],
          [
           "Low-Value"
          ],
          [
           "Low-Value"
          ],
          [
           "Mid-Low-Value"
          ],
          [
           "Mid-Low-Value"
          ],
          [
           "Mid-High-Value"
          ],
          [
           "Mid-Low-Value"
          ],
          [
           "Mid-Low-Value"
          ],
          [
           "Mid-High-Value"
          ],
          [
           "Mid-Low-Value"
          ],
          [
           "Mid-Low-Value"
          ],
          [
           "Mid-Low-Value"
          ],
          [
           "Mid-Low-Value"
          ],
          [
           "Mid-Low-Value"
          ],
          [
           "Low-Value"
          ]
         ],
         "hovertemplate": "DEF=hibernating<br>Recency Score=%{x}<br>Frequency Score=%{y}<br>Monetary Score=%{z}<br>Monetary=%{marker.size}<br>Segment=%{customdata[0]}<extra></extra>",
         "legendgroup": "hibernating",
         "marker": {
          "color": "#636efa",
          "size": [
           32027.04,
           22418.91,
           21351.36,
           17792.8,
           14144.15,
           12454.96,
           10450.44,
           8738.74,
           7837.86,
           7117.12,
           6554.06,
           5315.32,
           1265.27,
           0.0,
           0.0,
           0.0,
           0.0,
           0.0,
           0.0,
           0.0,
           0.0,
           0.0,
           22729.74,
           21351.36,
           15855.86,
           14684.7,
           8738.74,
           8064.52,
           7117.12,
           0.0,
           0.0,
           0.0
          ],
          "sizemode": "area",
          "sizeref": 80.0676,
          "symbol": "circle"
         },
         "mode": "markers",
         "name": "hibernating",
         "scene": "scene",
         "showlegend": true,
         "x": [
          1,
          1,
          1,
          1,
          2,
          1,
          1,
          1,
          1,
          1,
          1,
          1,
          1,
          1,
          2,
          1,
          1,
          1,
          1,
          2,
          1,
          2,
          2,
          2,
          2,
          2,
          2,
          2,
          2,
          2,
          2,
          2
         ],
         "y": [
          1,
          1,
          1,
          1,
          1,
          1,
          1,
          1,
          1,
          1,
          1,
          1,
          1,
          1,
          1,
          1,
          1,
          1,
          1,
          1,
          1,
          1,
          1,
          1,
          1,
          1,
          1,
          1,
          1,
          1,
          1,
          1
         ],
         "z": [
          1,
          1,
          1,
          1,
          2,
          2,
          2,
          2,
          2,
          3,
          3,
          3,
          3,
          4,
          4,
          4,
          4,
          4,
          4,
          4,
          4,
          4,
          1,
          1,
          1,
          1,
          2,
          2,
          3,
          4,
          4,
          4
         ],
         "type": "scatter3d"
        },
        {
         "customdata": [
          [
           "Mid-Low-Value"
          ],
          [
           "Mid-Low-Value"
          ],
          [
           "Mid-Low-Value"
          ],
          [
           "Mid-Low-Value"
          ],
          [
           "Mid-Low-Value"
          ],
          [
           "Mid-Low-Value"
          ],
          [
           "Mid-Low-Value"
          ],
          [
           "Mid-Low-Value"
          ],
          [
           "Mid-Low-Value"
          ],
          [
           "Mid-Low-Value"
          ],
          [
           "Mid-Low-Value"
          ],
          [
           "Mid-Low-Value"
          ],
          [
           "Mid-High-Value"
          ],
          [
           "Mid-High-Value"
          ],
          [
           "Mid-High-Value"
          ],
          [
           "Mid-High-Value"
          ],
          [
           "Mid-High-Value"
          ],
          [
           "Mid-High-Value"
          ],
          [
           "Mid-High-Value"
          ],
          [
           "Mid-High-Value"
          ],
          [
           "Mid-High-Value"
          ],
          [
           "Mid-High-Value"
          ],
          [
           "Mid-High-Value"
          ],
          [
           "Mid-High-Value"
          ],
          [
           "Mid-High-Value"
          ],
          [
           "Mid-High-Value"
          ],
          [
           "Mid-High-Value"
          ],
          [
           "Mid-High-Value"
          ],
          [
           "Mid-High-Value"
          ],
          [
           "Mid-High-Value"
          ],
          [
           "Mid-High-Value"
          ],
          [
           "Mid-High-Value"
          ],
          [
           "Mid-High-Value"
          ],
          [
           "Mid-High-Value"
          ],
          [
           "Mid-High-Value"
          ],
          [
           "Mid-High-Value"
          ],
          [
           "Mid-High-Value"
          ],
          [
           "Mid-High-Value"
          ],
          [
           "Mid-High-Value"
          ],
          [
           "Mid-High-Value"
          ],
          [
           "Mid-High-Value"
          ],
          [
           "Mid-High-Value"
          ],
          [
           "Low-Value"
          ],
          [
           "Low-Value"
          ],
          [
           "Low-Value"
          ],
          [
           "Low-Value"
          ],
          [
           "Low-Value"
          ],
          [
           "Low-Value"
          ],
          [
           "Low-Value"
          ],
          [
           "Low-Value"
          ],
          [
           "Low-Value"
          ],
          [
           "Low-Value"
          ],
          [
           "Low-Value"
          ],
          [
           "Low-Value"
          ],
          [
           "Low-Value"
          ],
          [
           "Low-Value"
          ],
          [
           "Low-Value"
          ],
          [
           "Low-Value"
          ],
          [
           "Low-Value"
          ],
          [
           "Mid-Low-Value"
          ],
          [
           "Mid-Low-Value"
          ],
          [
           "Mid-Low-Value"
          ],
          [
           "Mid-Low-Value"
          ],
          [
           "Mid-Low-Value"
          ],
          [
           "Mid-Low-Value"
          ],
          [
           "Mid-Low-Value"
          ],
          [
           "Mid-Low-Value"
          ],
          [
           "Mid-Low-Value"
          ],
          [
           "Mid-Low-Value"
          ],
          [
           "Mid-Low-Value"
          ],
          [
           "Mid-Low-Value"
          ],
          [
           "Mid-Low-Value"
          ],
          [
           "Mid-Low-Value"
          ],
          [
           "Mid-Low-Value"
          ],
          [
           "Mid-Low-Value"
          ],
          [
           "Mid-Low-Value"
          ],
          [
           "Mid-Low-Value"
          ],
          [
           "Low-Value"
          ],
          [
           "Low-Value"
          ],
          [
           "Low-Value"
          ],
          [
           "Low-Value"
          ],
          [
           "Low-Value"
          ],
          [
           "Low-Value"
          ],
          [
           "Low-Value"
          ],
          [
           "Low-Value"
          ],
          [
           "Low-Value"
          ]
         ],
         "hovertemplate": "DEF=at risk<br>Recency Score=%{x}<br>Frequency Score=%{y}<br>Monetary Score=%{z}<br>Monetary=%{marker.size}<br>Segment=%{customdata[0]}<extra></extra>",
         "legendgroup": "at risk",
         "marker": {
          "color": "#EF553B",
          "size": [
           16013.52,
           14234.24,
           14234.24,
           14234.24,
           14234.24,
           14234.24,
           14234.24,
           14234.24,
           14234.24,
           14234.24,
           14234.24,
           14234.24,
           10675.68,
           10675.68,
           10675.68,
           10675.68,
           10675.68,
           10675.68,
           9305.31,
           7117.12,
           7117.12,
           7117.12,
           7117.12,
           7117.12,
           7117.12,
           7117.12,
           7117.12,
           7117.12,
           7117.12,
           7117.12,
           7117.12,
           7117.12,
           7117.12,
           5337.84,
           5337.84,
           5337.84,
           5337.84,
           5337.84,
           5337.84,
           5337.84,
           5337.84,
           5337.84,
           2612.61,
           1265.27,
           1216.22,
           0.0,
           0.0,
           0.0,
           0.0,
           0.0,
           0.0,
           0.0,
           0.0,
           0.0,
           0.0,
           0.0,
           0.0,
           0.0,
           0.0,
           14234.24,
           14234.24,
           14234.24,
           14234.24,
           14234.24,
           14234.24,
           14234.24,
           12099.1,
           10675.68,
           7117.12,
           7117.12,
           7117.12,
           7117.12,
           7117.12,
           7117.12,
           7117.12,
           7117.12,
           7117.12,
           3558.56,
           0.0,
           0.0,
           0.0,
           0.0,
           0.0,
           0.0,
           0.0,
           0.0
          ],
          "sizemode": "area",
          "sizeref": 80.0676,
          "symbol": "circle"
         },
         "mode": "markers",
         "name": "at risk",
         "scene": "scene",
         "showlegend": true,
         "x": [
          1,
          1,
          1,
          2,
          1,
          1,
          1,
          2,
          1,
          1,
          1,
          1,
          1,
          1,
          1,
          1,
          1,
          1,
          1,
          2,
          1,
          1,
          2,
          2,
          1,
          2,
          2,
          1,
          1,
          1,
          2,
          2,
          2,
          1,
          1,
          1,
          1,
          1,
          1,
          1,
          1,
          1,
          1,
          1,
          1,
          1,
          1,
          2,
          2,
          1,
          2,
          2,
          1,
          1,
          2,
          2,
          1,
          2,
          2,
          2,
          2,
          2,
          2,
          2,
          2,
          2,
          2,
          2,
          2,
          2,
          2,
          2,
          2,
          2,
          2,
          2,
          2,
          2,
          2,
          2,
          2,
          2,
          2,
          2,
          2,
          2
         ],
         "y": [
          4,
          4,
          4,
          4,
          4,
          4,
          4,
          4,
          4,
          4,
          4,
          4,
          4,
          4,
          4,
          4,
          4,
          4,
          4,
          4,
          4,
          4,
          4,
          4,
          4,
          4,
          4,
          4,
          4,
          4,
          4,
          4,
          4,
          4,
          4,
          4,
          4,
          4,
          4,
          4,
          4,
          4,
          4,
          4,
          4,
          4,
          4,
          4,
          4,
          4,
          4,
          4,
          4,
          4,
          4,
          4,
          4,
          4,
          4,
          4,
          4,
          4,
          4,
          4,
          4,
          4,
          4,
          4,
          4,
          4,
          4,
          4,
          4,
          4,
          4,
          4,
          4,
          4,
          4,
          4,
          4,
          4,
          4,
          4,
          4,
          4
         ],
         "z": [
          1,
          2,
          2,
          2,
          2,
          2,
          2,
          2,
          2,
          2,
          2,
          2,
          2,
          2,
          2,
          2,
          2,
          2,
          2,
          3,
          3,
          3,
          3,
          3,
          3,
          3,
          3,
          3,
          3,
          3,
          3,
          3,
          3,
          3,
          3,
          3,
          3,
          3,
          3,
          3,
          3,
          3,
          3,
          3,
          3,
          4,
          4,
          4,
          4,
          4,
          4,
          4,
          4,
          4,
          4,
          4,
          4,
          4,
          4,
          2,
          2,
          2,
          2,
          2,
          2,
          2,
          2,
          2,
          3,
          3,
          3,
          3,
          3,
          3,
          3,
          3,
          3,
          3,
          4,
          4,
          4,
          4,
          4,
          4,
          4,
          4
         ],
         "type": "scatter3d"
        },
        {
         "customdata": [
          [
           "Mid-High-Value"
          ],
          [
           "Mid-High-Value"
          ],
          [
           "Mid-Low-Value"
          ],
          [
           "Mid-High-Value"
          ],
          [
           "Mid-Low-Value"
          ],
          [
           "Low-Value"
          ],
          [
           "Mid-Low-Value"
          ],
          [
           "Mid-Low-Value"
          ],
          [
           "Low-Value"
          ],
          [
           "Low-Value"
          ],
          [
           "Low-Value"
          ],
          [
           "Mid-Low-Value"
          ],
          [
           "Low-Value"
          ],
          [
           "Low-Value"
          ],
          [
           "Low-Value"
          ]
         ],
         "hovertemplate": "DEF=about to sleep<br>Recency Score=%{x}<br>Frequency Score=%{y}<br>Monetary Score=%{z}<br>Monetary=%{marker.size}<br>Segment=%{customdata[0]}<extra></extra>",
         "legendgroup": "about to sleep",
         "marker": {
          "color": "#00cc96",
          "size": [
           21846.85,
           18108.12,
           15855.86,
           14684.68,
           8738.74,
           0.0,
           0.0,
           0.0,
           17792.8,
           14234.24,
           14234.24,
           5315.32,
           0.0,
           0.0,
           0.0
          ],
          "sizemode": "area",
          "sizeref": 80.0676,
          "symbol": "circle"
         },
         "mode": "markers",
         "name": "about to sleep",
         "scene": "scene",
         "showlegend": true,
         "x": [
          3,
          3,
          3,
          3,
          3,
          3,
          3,
          3,
          3,
          3,
          3,
          3,
          3,
          3,
          3
         ],
         "y": [
          1,
          1,
          1,
          1,
          1,
          1,
          1,
          1,
          1,
          1,
          1,
          1,
          1,
          1,
          1
         ],
         "z": [
          1,
          1,
          1,
          1,
          2,
          4,
          4,
          4,
          1,
          2,
          2,
          3,
          4,
          4,
          4
         ],
         "type": "scatter3d"
        },
        {
         "customdata": [
          [
           "Mid-Low-Value"
          ],
          [
           "Mid-Low-Value"
          ],
          [
           "Mid-Low-Value"
          ],
          [
           "Mid-Low-Value"
          ],
          [
           "Mid-Low-Value"
          ],
          [
           "Mid-Low-Value"
          ],
          [
           "Low-Value"
          ],
          [
           "Low-Value"
          ],
          [
           "Low-Value"
          ],
          [
           "Low-Value"
          ],
          [
           "Low-Value"
          ],
          [
           "Low-Value"
          ],
          [
           "Low-Value"
          ],
          [
           "Low-Value"
          ],
          [
           "Low-Value"
          ],
          [
           "Low-Value"
          ],
          [
           "Low-Value"
          ],
          [
           "Low-Value"
          ],
          [
           "Low-Value"
          ],
          [
           "Low-Value"
          ],
          [
           "Mid-Low-Value"
          ],
          [
           "Mid-Low-Value"
          ],
          [
           "Mid-Low-Value"
          ],
          [
           "Mid-Low-Value"
          ],
          [
           "Mid-Low-Value"
          ],
          [
           "Mid-Low-Value"
          ],
          [
           "Mid-Low-Value"
          ],
          [
           "Mid-Low-Value"
          ],
          [
           "Mid-Low-Value"
          ],
          [
           "Mid-Low-Value"
          ],
          [
           "Mid-Low-Value"
          ],
          [
           "Mid-Low-Value"
          ],
          [
           "Mid-Low-Value"
          ],
          [
           "Mid-Low-Value"
          ],
          [
           "Mid-Low-Value"
          ],
          [
           "Mid-Low-Value"
          ],
          [
           "Low-Value"
          ],
          [
           "Low-Value"
          ],
          [
           "Low-Value"
          ],
          [
           "Low-Value"
          ],
          [
           "Low-Value"
          ],
          [
           "Low-Value"
          ],
          [
           "Low-Value"
          ],
          [
           "Low-Value"
          ],
          [
           "Low-Value"
          ],
          [
           "Low-Value"
          ],
          [
           "Low-Value"
          ],
          [
           "Low-Value"
          ],
          [
           "Low-Value"
          ],
          [
           "Low-Value"
          ],
          [
           "Low-Value"
          ],
          [
           "Low-Value"
          ],
          [
           "Low-Value"
          ],
          [
           "Low-Value"
          ],
          [
           "Low-Value"
          ],
          [
           "Low-Value"
          ],
          [
           "Low-Value"
          ],
          [
           "Low-Value"
          ],
          [
           "Low-Value"
          ],
          [
           "Low-Value"
          ],
          [
           "Low-Value"
          ],
          [
           "Low-Value"
          ],
          [
           "Low-Value"
          ],
          [
           "Low-Value"
          ],
          [
           "Low-Value"
          ],
          [
           "Low-Value"
          ],
          [
           "Low-Value"
          ],
          [
           "Low-Value"
          ],
          [
           "Low-Value"
          ],
          [
           "Low-Value"
          ],
          [
           "Low-Value"
          ],
          [
           "Low-Value"
          ],
          [
           "Low-Value"
          ],
          [
           "Low-Value"
          ],
          [
           "Low-Value"
          ],
          [
           "Low-Value"
          ],
          [
           "Low-Value"
          ],
          [
           "Low-Value"
          ],
          [
           "Low-Value"
          ],
          [
           "Low-Value"
          ],
          [
           "Low-Value"
          ],
          [
           "Low-Value"
          ],
          [
           "Low-Value"
          ],
          [
           "Low-Value"
          ],
          [
           "Low-Value"
          ],
          [
           "Low-Value"
          ],
          [
           "Low-Value"
          ],
          [
           "Low-Value"
          ],
          [
           "Low-Value"
          ],
          [
           "Low-Value"
          ],
          [
           "Low-Value"
          ],
          [
           "Low-Value"
          ]
         ],
         "hovertemplate": "DEF=loyal customers<br>Recency Score=%{x}<br>Frequency Score=%{y}<br>Monetary Score=%{z}<br>Monetary=%{marker.size}<br>Segment=%{customdata[0]}<extra></extra>",
         "legendgroup": "loyal customers",
         "marker": {
          "color": "#ab63fa",
          "size": [
           14234.24,
           14234.24,
           14234.24,
           14234.24,
           7117.12,
           7117.12,
           0.0,
           0.0,
           0.0,
           0.0,
           21351.36,
           14234.24,
           14234.24,
           14234.24,
           14234.24,
           14234.24,
           14234.24,
           14234.24,
           14234.24,
           14234.24,
           10675.68,
           10630.64,
           7117.12,
           7117.12,
           7117.12,
           7117.12,
           7117.12,
           7117.12,
           7117.12,
           7117.12,
           7117.12,
           7117.12,
           7117.12,
           7117.12,
           6049.55,
           5337.84,
           0.01,
           0.0,
           0.0,
           0.0,
           0.0,
           0.0,
           0.0,
           0.0,
           0.0,
           0.0,
           0.0,
           0.0,
           0.0,
           0.0,
           0.0,
           0.0,
           0.0,
           0.0,
           0.0,
           14234.24,
           14234.24,
           14234.24,
           14234.24,
           14234.24,
           14234.24,
           14234.24,
           14234.24,
           14234.24,
           14234.24,
           14234.24,
           14234.24,
           12099.1,
           7117.12,
           7117.12,
           7117.12,
           7117.12,
           7117.12,
           7117.12,
           7117.12,
           7117.12,
           7117.12,
           7117.12,
           7117.12,
           7117.12,
           0.01,
           0.0,
           0.0,
           0.0,
           0.0,
           0.0,
           0.0,
           0.0,
           0.0,
           0.0,
           0.0,
           0.0
          ],
          "sizemode": "area",
          "sizeref": 80.0676,
          "symbol": "circle"
         },
         "mode": "markers",
         "name": "loyal customers",
         "scene": "scene",
         "showlegend": true,
         "x": [
          3,
          3,
          3,
          3,
          3,
          3,
          3,
          3,
          3,
          3,
          4,
          3,
          3,
          3,
          4,
          3,
          4,
          3,
          4,
          3,
          3,
          3,
          4,
          3,
          4,
          3,
          3,
          3,
          3,
          4,
          3,
          3,
          4,
          3,
          3,
          3,
          3,
          4,
          4,
          3,
          3,
          3,
          3,
          3,
          4,
          4,
          3,
          3,
          3,
          3,
          3,
          3,
          3,
          3,
          4,
          4,
          4,
          4,
          4,
          4,
          4,
          4,
          4,
          4,
          4,
          4,
          4,
          4,
          4,
          4,
          4,
          4,
          4,
          4,
          4,
          4,
          4,
          4,
          4,
          4,
          4,
          4,
          4,
          4,
          4,
          4,
          4,
          4,
          4,
          4,
          4,
          4
         ],
         "y": [
          4,
          4,
          4,
          4,
          4,
          4,
          4,
          4,
          4,
          4,
          4,
          4,
          4,
          4,
          4,
          4,
          4,
          4,
          4,
          4,
          4,
          4,
          4,
          4,
          4,
          4,
          4,
          4,
          4,
          4,
          4,
          4,
          4,
          4,
          4,
          4,
          4,
          4,
          4,
          4,
          4,
          4,
          4,
          4,
          4,
          4,
          4,
          4,
          4,
          4,
          4,
          4,
          4,
          4,
          4,
          4,
          4,
          4,
          4,
          4,
          4,
          4,
          4,
          4,
          4,
          4,
          4,
          4,
          4,
          4,
          4,
          4,
          4,
          4,
          4,
          4,
          4,
          4,
          4,
          4,
          4,
          4,
          4,
          4,
          4,
          4,
          4,
          4,
          4,
          4,
          4,
          4
         ],
         "z": [
          2,
          2,
          2,
          2,
          3,
          3,
          4,
          4,
          4,
          4,
          1,
          2,
          2,
          2,
          2,
          2,
          2,
          2,
          2,
          2,
          2,
          2,
          3,
          3,
          3,
          3,
          3,
          3,
          3,
          3,
          3,
          3,
          3,
          3,
          3,
          3,
          3,
          4,
          4,
          4,
          4,
          4,
          4,
          4,
          4,
          4,
          4,
          4,
          4,
          4,
          4,
          4,
          4,
          4,
          4,
          2,
          2,
          2,
          2,
          2,
          2,
          2,
          2,
          2,
          2,
          2,
          2,
          2,
          3,
          3,
          3,
          3,
          3,
          3,
          3,
          3,
          3,
          3,
          3,
          3,
          3,
          4,
          4,
          4,
          4,
          4,
          4,
          4,
          4,
          4,
          4,
          4
         ],
         "type": "scatter3d"
        },
        {
         "customdata": [
          [
           "Low-Value"
          ],
          [
           "Mid-Low-Value"
          ],
          [
           "Low-Value"
          ],
          [
           "Low-Value"
          ],
          [
           "Low-Value"
          ],
          [
           "Low-Value"
          ],
          [
           "Low-Value"
          ],
          [
           "Low-Value"
          ],
          [
           "Low-Value"
          ]
         ],
         "hovertemplate": "DEF=promising<br>Recency Score=%{x}<br>Frequency Score=%{y}<br>Monetary Score=%{z}<br>Monetary=%{marker.size}<br>Segment=%{customdata[0]}<extra></extra>",
         "legendgroup": "promising",
         "marker": {
          "color": "#FFA15A",
          "size": [
           21351.36,
           13693.69,
           0.0,
           8738.74,
           8738.74,
           7117.12,
           0.01,
           0.0,
           0.0
          ],
          "sizemode": "area",
          "sizeref": 80.0676,
          "symbol": "circle"
         },
         "mode": "markers",
         "name": "promising",
         "scene": "scene",
         "showlegend": true,
         "x": [
          4,
          4,
          4,
          4,
          4,
          4,
          4,
          4,
          4
         ],
         "y": [
          1,
          1,
          1,
          1,
          1,
          1,
          1,
          1,
          1
         ],
         "z": [
          1,
          2,
          4,
          2,
          2,
          3,
          3,
          4,
          4
         ],
         "type": "scatter3d"
        }
       ],
       "layout": {
        "template": {
         "data": {
          "histogram2dcontour": [
           {
            "type": "histogram2dcontour",
            "colorbar": {
             "outlinewidth": 0,
             "ticks": ""
            },
            "colorscale": [
             [
              0.0,
              "#0d0887"
             ],
             [
              0.1111111111111111,
              "#46039f"
             ],
             [
              0.2222222222222222,
              "#7201a8"
             ],
             [
              0.3333333333333333,
              "#9c179e"
             ],
             [
              0.4444444444444444,
              "#bd3786"
             ],
             [
              0.5555555555555556,
              "#d8576b"
             ],
             [
              0.6666666666666666,
              "#ed7953"
             ],
             [
              0.7777777777777778,
              "#fb9f3a"
             ],
             [
              0.8888888888888888,
              "#fdca26"
             ],
             [
              1.0,
              "#f0f921"
             ]
            ]
           }
          ],
          "choropleth": [
           {
            "type": "choropleth",
            "colorbar": {
             "outlinewidth": 0,
             "ticks": ""
            }
           }
          ],
          "histogram2d": [
           {
            "type": "histogram2d",
            "colorbar": {
             "outlinewidth": 0,
             "ticks": ""
            },
            "colorscale": [
             [
              0.0,
              "#0d0887"
             ],
             [
              0.1111111111111111,
              "#46039f"
             ],
             [
              0.2222222222222222,
              "#7201a8"
             ],
             [
              0.3333333333333333,
              "#9c179e"
             ],
             [
              0.4444444444444444,
              "#bd3786"
             ],
             [
              0.5555555555555556,
              "#d8576b"
             ],
             [
              0.6666666666666666,
              "#ed7953"
             ],
             [
              0.7777777777777778,
              "#fb9f3a"
             ],
             [
              0.8888888888888888,
              "#fdca26"
             ],
             [
              1.0,
              "#f0f921"
             ]
            ]
           }
          ],
          "heatmap": [
           {
            "type": "heatmap",
            "colorbar": {
             "outlinewidth": 0,
             "ticks": ""
            },
            "colorscale": [
             [
              0.0,
              "#0d0887"
             ],
             [
              0.1111111111111111,
              "#46039f"
             ],
             [
              0.2222222222222222,
              "#7201a8"
             ],
             [
              0.3333333333333333,
              "#9c179e"
             ],
             [
              0.4444444444444444,
              "#bd3786"
             ],
             [
              0.5555555555555556,
              "#d8576b"
             ],
             [
              0.6666666666666666,
              "#ed7953"
             ],
             [
              0.7777777777777778,
              "#fb9f3a"
             ],
             [
              0.8888888888888888,
              "#fdca26"
             ],
             [
              1.0,
              "#f0f921"
             ]
            ]
           }
          ],
          "heatmapgl": [
           {
            "type": "heatmapgl",
            "colorbar": {
             "outlinewidth": 0,
             "ticks": ""
            },
            "colorscale": [
             [
              0.0,
              "#0d0887"
             ],
             [
              0.1111111111111111,
              "#46039f"
             ],
             [
              0.2222222222222222,
              "#7201a8"
             ],
             [
              0.3333333333333333,
              "#9c179e"
             ],
             [
              0.4444444444444444,
              "#bd3786"
             ],
             [
              0.5555555555555556,
              "#d8576b"
             ],
             [
              0.6666666666666666,
              "#ed7953"
             ],
             [
              0.7777777777777778,
              "#fb9f3a"
             ],
             [
              0.8888888888888888,
              "#fdca26"
             ],
             [
              1.0,
              "#f0f921"
             ]
            ]
           }
          ],
          "contourcarpet": [
           {
            "type": "contourcarpet",
            "colorbar": {
             "outlinewidth": 0,
             "ticks": ""
            }
           }
          ],
          "contour": [
           {
            "type": "contour",
            "colorbar": {
             "outlinewidth": 0,
             "ticks": ""
            },
            "colorscale": [
             [
              0.0,
              "#0d0887"
             ],
             [
              0.1111111111111111,
              "#46039f"
             ],
             [
              0.2222222222222222,
              "#7201a8"
             ],
             [
              0.3333333333333333,
              "#9c179e"
             ],
             [
              0.4444444444444444,
              "#bd3786"
             ],
             [
              0.5555555555555556,
              "#d8576b"
             ],
             [
              0.6666666666666666,
              "#ed7953"
             ],
             [
              0.7777777777777778,
              "#fb9f3a"
             ],
             [
              0.8888888888888888,
              "#fdca26"
             ],
             [
              1.0,
              "#f0f921"
             ]
            ]
           }
          ],
          "surface": [
           {
            "type": "surface",
            "colorbar": {
             "outlinewidth": 0,
             "ticks": ""
            },
            "colorscale": [
             [
              0.0,
              "#0d0887"
             ],
             [
              0.1111111111111111,
              "#46039f"
             ],
             [
              0.2222222222222222,
              "#7201a8"
             ],
             [
              0.3333333333333333,
              "#9c179e"
             ],
             [
              0.4444444444444444,
              "#bd3786"
             ],
             [
              0.5555555555555556,
              "#d8576b"
             ],
             [
              0.6666666666666666,
              "#ed7953"
             ],
             [
              0.7777777777777778,
              "#fb9f3a"
             ],
             [
              0.8888888888888888,
              "#fdca26"
             ],
             [
              1.0,
              "#f0f921"
             ]
            ]
           }
          ],
          "mesh3d": [
           {
            "type": "mesh3d",
            "colorbar": {
             "outlinewidth": 0,
             "ticks": ""
            }
           }
          ],
          "scatter": [
           {
            "fillpattern": {
             "fillmode": "overlay",
             "size": 10,
             "solidity": 0.2
            },
            "type": "scatter"
           }
          ],
          "parcoords": [
           {
            "type": "parcoords",
            "line": {
             "colorbar": {
              "outlinewidth": 0,
              "ticks": ""
             }
            }
           }
          ],
          "scatterpolargl": [
           {
            "type": "scatterpolargl",
            "marker": {
             "colorbar": {
              "outlinewidth": 0,
              "ticks": ""
             }
            }
           }
          ],
          "bar": [
           {
            "error_x": {
             "color": "#2a3f5f"
            },
            "error_y": {
             "color": "#2a3f5f"
            },
            "marker": {
             "line": {
              "color": "#E5ECF6",
              "width": 0.5
             },
             "pattern": {
              "fillmode": "overlay",
              "size": 10,
              "solidity": 0.2
             }
            },
            "type": "bar"
           }
          ],
          "scattergeo": [
           {
            "type": "scattergeo",
            "marker": {
             "colorbar": {
              "outlinewidth": 0,
              "ticks": ""
             }
            }
           }
          ],
          "scatterpolar": [
           {
            "type": "scatterpolar",
            "marker": {
             "colorbar": {
              "outlinewidth": 0,
              "ticks": ""
             }
            }
           }
          ],
          "histogram": [
           {
            "marker": {
             "pattern": {
              "fillmode": "overlay",
              "size": 10,
              "solidity": 0.2
             }
            },
            "type": "histogram"
           }
          ],
          "scattergl": [
           {
            "type": "scattergl",
            "marker": {
             "colorbar": {
              "outlinewidth": 0,
              "ticks": ""
             }
            }
           }
          ],
          "scatter3d": [
           {
            "type": "scatter3d",
            "line": {
             "colorbar": {
              "outlinewidth": 0,
              "ticks": ""
             }
            },
            "marker": {
             "colorbar": {
              "outlinewidth": 0,
              "ticks": ""
             }
            }
           }
          ],
          "scattermapbox": [
           {
            "type": "scattermapbox",
            "marker": {
             "colorbar": {
              "outlinewidth": 0,
              "ticks": ""
             }
            }
           }
          ],
          "scatterternary": [
           {
            "type": "scatterternary",
            "marker": {
             "colorbar": {
              "outlinewidth": 0,
              "ticks": ""
             }
            }
           }
          ],
          "scattercarpet": [
           {
            "type": "scattercarpet",
            "marker": {
             "colorbar": {
              "outlinewidth": 0,
              "ticks": ""
             }
            }
           }
          ],
          "carpet": [
           {
            "aaxis": {
             "endlinecolor": "#2a3f5f",
             "gridcolor": "white",
             "linecolor": "white",
             "minorgridcolor": "white",
             "startlinecolor": "#2a3f5f"
            },
            "baxis": {
             "endlinecolor": "#2a3f5f",
             "gridcolor": "white",
             "linecolor": "white",
             "minorgridcolor": "white",
             "startlinecolor": "#2a3f5f"
            },
            "type": "carpet"
           }
          ],
          "table": [
           {
            "cells": {
             "fill": {
              "color": "#EBF0F8"
             },
             "line": {
              "color": "white"
             }
            },
            "header": {
             "fill": {
              "color": "#C8D4E3"
             },
             "line": {
              "color": "white"
             }
            },
            "type": "table"
           }
          ],
          "barpolar": [
           {
            "marker": {
             "line": {
              "color": "#E5ECF6",
              "width": 0.5
             },
             "pattern": {
              "fillmode": "overlay",
              "size": 10,
              "solidity": 0.2
             }
            },
            "type": "barpolar"
           }
          ],
          "pie": [
           {
            "automargin": true,
            "type": "pie"
           }
          ]
         },
         "layout": {
          "autotypenumbers": "strict",
          "colorway": [
           "#636efa",
           "#EF553B",
           "#00cc96",
           "#ab63fa",
           "#FFA15A",
           "#19d3f3",
           "#FF6692",
           "#B6E880",
           "#FF97FF",
           "#FECB52"
          ],
          "font": {
           "color": "#2a3f5f"
          },
          "hovermode": "closest",
          "hoverlabel": {
           "align": "left"
          },
          "paper_bgcolor": "white",
          "plot_bgcolor": "#E5ECF6",
          "polar": {
           "bgcolor": "#E5ECF6",
           "angularaxis": {
            "gridcolor": "white",
            "linecolor": "white",
            "ticks": ""
           },
           "radialaxis": {
            "gridcolor": "white",
            "linecolor": "white",
            "ticks": ""
           }
          },
          "ternary": {
           "bgcolor": "#E5ECF6",
           "aaxis": {
            "gridcolor": "white",
            "linecolor": "white",
            "ticks": ""
           },
           "baxis": {
            "gridcolor": "white",
            "linecolor": "white",
            "ticks": ""
           },
           "caxis": {
            "gridcolor": "white",
            "linecolor": "white",
            "ticks": ""
           }
          },
          "coloraxis": {
           "colorbar": {
            "outlinewidth": 0,
            "ticks": ""
           }
          },
          "colorscale": {
           "sequential": [
            [
             0.0,
             "#0d0887"
            ],
            [
             0.1111111111111111,
             "#46039f"
            ],
            [
             0.2222222222222222,
             "#7201a8"
            ],
            [
             0.3333333333333333,
             "#9c179e"
            ],
            [
             0.4444444444444444,
             "#bd3786"
            ],
            [
             0.5555555555555556,
             "#d8576b"
            ],
            [
             0.6666666666666666,
             "#ed7953"
            ],
            [
             0.7777777777777778,
             "#fb9f3a"
            ],
            [
             0.8888888888888888,
             "#fdca26"
            ],
            [
             1.0,
             "#f0f921"
            ]
           ],
           "sequentialminus": [
            [
             0.0,
             "#0d0887"
            ],
            [
             0.1111111111111111,
             "#46039f"
            ],
            [
             0.2222222222222222,
             "#7201a8"
            ],
            [
             0.3333333333333333,
             "#9c179e"
            ],
            [
             0.4444444444444444,
             "#bd3786"
            ],
            [
             0.5555555555555556,
             "#d8576b"
            ],
            [
             0.6666666666666666,
             "#ed7953"
            ],
            [
             0.7777777777777778,
             "#fb9f3a"
            ],
            [
             0.8888888888888888,
             "#fdca26"
            ],
            [
             1.0,
             "#f0f921"
            ]
           ],
           "diverging": [
            [
             0,
             "#8e0152"
            ],
            [
             0.1,
             "#c51b7d"
            ],
            [
             0.2,
             "#de77ae"
            ],
            [
             0.3,
             "#f1b6da"
            ],
            [
             0.4,
             "#fde0ef"
            ],
            [
             0.5,
             "#f7f7f7"
            ],
            [
             0.6,
             "#e6f5d0"
            ],
            [
             0.7,
             "#b8e186"
            ],
            [
             0.8,
             "#7fbc41"
            ],
            [
             0.9,
             "#4d9221"
            ],
            [
             1,
             "#276419"
            ]
           ]
          },
          "xaxis": {
           "gridcolor": "white",
           "linecolor": "white",
           "ticks": "",
           "title": {
            "standoff": 15
           },
           "zerolinecolor": "white",
           "automargin": true,
           "zerolinewidth": 2
          },
          "yaxis": {
           "gridcolor": "white",
           "linecolor": "white",
           "ticks": "",
           "title": {
            "standoff": 15
           },
           "zerolinecolor": "white",
           "automargin": true,
           "zerolinewidth": 2
          },
          "scene": {
           "xaxis": {
            "backgroundcolor": "#E5ECF6",
            "gridcolor": "white",
            "linecolor": "white",
            "showbackground": true,
            "ticks": "",
            "zerolinecolor": "white",
            "gridwidth": 2
           },
           "yaxis": {
            "backgroundcolor": "#E5ECF6",
            "gridcolor": "white",
            "linecolor": "white",
            "showbackground": true,
            "ticks": "",
            "zerolinecolor": "white",
            "gridwidth": 2
           },
           "zaxis": {
            "backgroundcolor": "#E5ECF6",
            "gridcolor": "white",
            "linecolor": "white",
            "showbackground": true,
            "ticks": "",
            "zerolinecolor": "white",
            "gridwidth": 2
           }
          },
          "shapedefaults": {
           "line": {
            "color": "#2a3f5f"
           }
          },
          "annotationdefaults": {
           "arrowcolor": "#2a3f5f",
           "arrowhead": 0,
           "arrowwidth": 1
          },
          "geo": {
           "bgcolor": "white",
           "landcolor": "#E5ECF6",
           "subunitcolor": "white",
           "showland": true,
           "showlakes": true,
           "lakecolor": "white"
          },
          "title": {
           "x": 0.05
          },
          "mapbox": {
           "style": "light"
          }
         }
        },
        "scene": {
         "domain": {
          "x": [
           0.0,
           1.0
          ],
          "y": [
           0.0,
           1.0
          ]
         },
         "xaxis": {
          "title": {
           "text": "Recency Score"
          }
         },
         "yaxis": {
          "title": {
           "text": "Frequency Score"
          }
         },
         "zaxis": {
          "title": {
           "text": "Monetary Score"
          }
         }
        },
        "legend": {
         "title": {
          "text": "DEF"
         },
         "tracegroupgap": 0,
         "itemsizing": "constant"
        },
        "margin": {
         "t": 60
        }
       },
       "config": {
        "plotlyServerURL": "https://plot.ly"
       }
      },
      "text/html": "<div>                            <div id=\"a4f36676-daba-44d6-864b-8f641d9fdc2a\" class=\"plotly-graph-div\" style=\"height:525px; width:100%;\"></div>            <script type=\"text/javascript\">                require([\"plotly\"], function(Plotly) {                    window.PLOTLYENV=window.PLOTLYENV || {};                                    if (document.getElementById(\"a4f36676-daba-44d6-864b-8f641d9fdc2a\")) {                    Plotly.newPlot(                        \"a4f36676-daba-44d6-864b-8f641d9fdc2a\",                        [{\"customdata\":[[\"Mid-High-Value\"],[\"Mid-Low-Value\"],[\"Mid-Low-Value\"],[\"Mid-High-Value\"],[\"Mid-Low-Value\"],[\"Mid-Low-Value\"],[\"High-Value\"],[\"Mid-High-Value\"],[\"High-Value\"],[\"Mid-High-Value\"],[\"Mid-High-Value\"],[\"High-Value\"],[\"Low-Value\"],[\"Mid-Low-Value\"],[\"Low-Value\"],[\"Mid-Low-Value\"],[\"Mid-Low-Value\"],[\"Mid-Low-Value\"],[\"Low-Value\"],[\"Low-Value\"],[\"Mid-Low-Value\"],[\"Mid-Low-Value\"],[\"Mid-High-Value\"],[\"Mid-Low-Value\"],[\"Mid-Low-Value\"],[\"Mid-High-Value\"],[\"Mid-Low-Value\"],[\"Mid-Low-Value\"],[\"Mid-Low-Value\"],[\"Mid-Low-Value\"],[\"Mid-Low-Value\"],[\"Low-Value\"]],\"hovertemplate\":\"DEF=hibernating\\u003cbr\\u003eRecency Score=%{x}\\u003cbr\\u003eFrequency Score=%{y}\\u003cbr\\u003eMonetary Score=%{z}\\u003cbr\\u003eMonetary=%{marker.size}\\u003cbr\\u003eSegment=%{customdata[0]}\\u003cextra\\u003e\\u003c\\u002fextra\\u003e\",\"legendgroup\":\"hibernating\",\"marker\":{\"color\":\"#636efa\",\"size\":[32027.04,22418.91,21351.36,17792.8,14144.15,12454.96,10450.44,8738.74,7837.86,7117.12,6554.06,5315.32,1265.27,0.0,0.0,0.0,0.0,0.0,0.0,0.0,0.0,0.0,22729.74,21351.36,15855.86,14684.7,8738.74,8064.52,7117.12,0.0,0.0,0.0],\"sizemode\":\"area\",\"sizeref\":80.0676,\"symbol\":\"circle\"},\"mode\":\"markers\",\"name\":\"hibernating\",\"scene\":\"scene\",\"showlegend\":true,\"x\":[1,1,1,1,2,1,1,1,1,1,1,1,1,1,2,1,1,1,1,2,1,2,2,2,2,2,2,2,2,2,2,2],\"y\":[1,1,1,1,1,1,1,1,1,1,1,1,1,1,1,1,1,1,1,1,1,1,1,1,1,1,1,1,1,1,1,1],\"z\":[1,1,1,1,2,2,2,2,2,3,3,3,3,4,4,4,4,4,4,4,4,4,1,1,1,1,2,2,3,4,4,4],\"type\":\"scatter3d\"},{\"customdata\":[[\"Mid-Low-Value\"],[\"Mid-Low-Value\"],[\"Mid-Low-Value\"],[\"Mid-Low-Value\"],[\"Mid-Low-Value\"],[\"Mid-Low-Value\"],[\"Mid-Low-Value\"],[\"Mid-Low-Value\"],[\"Mid-Low-Value\"],[\"Mid-Low-Value\"],[\"Mid-Low-Value\"],[\"Mid-Low-Value\"],[\"Mid-High-Value\"],[\"Mid-High-Value\"],[\"Mid-High-Value\"],[\"Mid-High-Value\"],[\"Mid-High-Value\"],[\"Mid-High-Value\"],[\"Mid-High-Value\"],[\"Mid-High-Value\"],[\"Mid-High-Value\"],[\"Mid-High-Value\"],[\"Mid-High-Value\"],[\"Mid-High-Value\"],[\"Mid-High-Value\"],[\"Mid-High-Value\"],[\"Mid-High-Value\"],[\"Mid-High-Value\"],[\"Mid-High-Value\"],[\"Mid-High-Value\"],[\"Mid-High-Value\"],[\"Mid-High-Value\"],[\"Mid-High-Value\"],[\"Mid-High-Value\"],[\"Mid-High-Value\"],[\"Mid-High-Value\"],[\"Mid-High-Value\"],[\"Mid-High-Value\"],[\"Mid-High-Value\"],[\"Mid-High-Value\"],[\"Mid-High-Value\"],[\"Mid-High-Value\"],[\"Low-Value\"],[\"Low-Value\"],[\"Low-Value\"],[\"Low-Value\"],[\"Low-Value\"],[\"Low-Value\"],[\"Low-Value\"],[\"Low-Value\"],[\"Low-Value\"],[\"Low-Value\"],[\"Low-Value\"],[\"Low-Value\"],[\"Low-Value\"],[\"Low-Value\"],[\"Low-Value\"],[\"Low-Value\"],[\"Low-Value\"],[\"Mid-Low-Value\"],[\"Mid-Low-Value\"],[\"Mid-Low-Value\"],[\"Mid-Low-Value\"],[\"Mid-Low-Value\"],[\"Mid-Low-Value\"],[\"Mid-Low-Value\"],[\"Mid-Low-Value\"],[\"Mid-Low-Value\"],[\"Mid-Low-Value\"],[\"Mid-Low-Value\"],[\"Mid-Low-Value\"],[\"Mid-Low-Value\"],[\"Mid-Low-Value\"],[\"Mid-Low-Value\"],[\"Mid-Low-Value\"],[\"Mid-Low-Value\"],[\"Mid-Low-Value\"],[\"Low-Value\"],[\"Low-Value\"],[\"Low-Value\"],[\"Low-Value\"],[\"Low-Value\"],[\"Low-Value\"],[\"Low-Value\"],[\"Low-Value\"],[\"Low-Value\"]],\"hovertemplate\":\"DEF=at risk\\u003cbr\\u003eRecency Score=%{x}\\u003cbr\\u003eFrequency Score=%{y}\\u003cbr\\u003eMonetary Score=%{z}\\u003cbr\\u003eMonetary=%{marker.size}\\u003cbr\\u003eSegment=%{customdata[0]}\\u003cextra\\u003e\\u003c\\u002fextra\\u003e\",\"legendgroup\":\"at risk\",\"marker\":{\"color\":\"#EF553B\",\"size\":[16013.52,14234.24,14234.24,14234.24,14234.24,14234.24,14234.24,14234.24,14234.24,14234.24,14234.24,14234.24,10675.68,10675.68,10675.68,10675.68,10675.68,10675.68,9305.31,7117.12,7117.12,7117.12,7117.12,7117.12,7117.12,7117.12,7117.12,7117.12,7117.12,7117.12,7117.12,7117.12,7117.12,5337.84,5337.84,5337.84,5337.84,5337.84,5337.84,5337.84,5337.84,5337.84,2612.61,1265.27,1216.22,0.0,0.0,0.0,0.0,0.0,0.0,0.0,0.0,0.0,0.0,0.0,0.0,0.0,0.0,14234.24,14234.24,14234.24,14234.24,14234.24,14234.24,14234.24,12099.1,10675.68,7117.12,7117.12,7117.12,7117.12,7117.12,7117.12,7117.12,7117.12,7117.12,3558.56,0.0,0.0,0.0,0.0,0.0,0.0,0.0,0.0],\"sizemode\":\"area\",\"sizeref\":80.0676,\"symbol\":\"circle\"},\"mode\":\"markers\",\"name\":\"at risk\",\"scene\":\"scene\",\"showlegend\":true,\"x\":[1,1,1,2,1,1,1,2,1,1,1,1,1,1,1,1,1,1,1,2,1,1,2,2,1,2,2,1,1,1,2,2,2,1,1,1,1,1,1,1,1,1,1,1,1,1,1,2,2,1,2,2,1,1,2,2,1,2,2,2,2,2,2,2,2,2,2,2,2,2,2,2,2,2,2,2,2,2,2,2,2,2,2,2,2,2],\"y\":[4,4,4,4,4,4,4,4,4,4,4,4,4,4,4,4,4,4,4,4,4,4,4,4,4,4,4,4,4,4,4,4,4,4,4,4,4,4,4,4,4,4,4,4,4,4,4,4,4,4,4,4,4,4,4,4,4,4,4,4,4,4,4,4,4,4,4,4,4,4,4,4,4,4,4,4,4,4,4,4,4,4,4,4,4,4],\"z\":[1,2,2,2,2,2,2,2,2,2,2,2,2,2,2,2,2,2,2,3,3,3,3,3,3,3,3,3,3,3,3,3,3,3,3,3,3,3,3,3,3,3,3,3,3,4,4,4,4,4,4,4,4,4,4,4,4,4,4,2,2,2,2,2,2,2,2,2,3,3,3,3,3,3,3,3,3,3,4,4,4,4,4,4,4,4],\"type\":\"scatter3d\"},{\"customdata\":[[\"Mid-High-Value\"],[\"Mid-High-Value\"],[\"Mid-Low-Value\"],[\"Mid-High-Value\"],[\"Mid-Low-Value\"],[\"Low-Value\"],[\"Mid-Low-Value\"],[\"Mid-Low-Value\"],[\"Low-Value\"],[\"Low-Value\"],[\"Low-Value\"],[\"Mid-Low-Value\"],[\"Low-Value\"],[\"Low-Value\"],[\"Low-Value\"]],\"hovertemplate\":\"DEF=about to sleep\\u003cbr\\u003eRecency Score=%{x}\\u003cbr\\u003eFrequency Score=%{y}\\u003cbr\\u003eMonetary Score=%{z}\\u003cbr\\u003eMonetary=%{marker.size}\\u003cbr\\u003eSegment=%{customdata[0]}\\u003cextra\\u003e\\u003c\\u002fextra\\u003e\",\"legendgroup\":\"about to sleep\",\"marker\":{\"color\":\"#00cc96\",\"size\":[21846.85,18108.12,15855.86,14684.68,8738.74,0.0,0.0,0.0,17792.8,14234.24,14234.24,5315.32,0.0,0.0,0.0],\"sizemode\":\"area\",\"sizeref\":80.0676,\"symbol\":\"circle\"},\"mode\":\"markers\",\"name\":\"about to sleep\",\"scene\":\"scene\",\"showlegend\":true,\"x\":[3,3,3,3,3,3,3,3,3,3,3,3,3,3,3],\"y\":[1,1,1,1,1,1,1,1,1,1,1,1,1,1,1],\"z\":[1,1,1,1,2,4,4,4,1,2,2,3,4,4,4],\"type\":\"scatter3d\"},{\"customdata\":[[\"Mid-Low-Value\"],[\"Mid-Low-Value\"],[\"Mid-Low-Value\"],[\"Mid-Low-Value\"],[\"Mid-Low-Value\"],[\"Mid-Low-Value\"],[\"Low-Value\"],[\"Low-Value\"],[\"Low-Value\"],[\"Low-Value\"],[\"Low-Value\"],[\"Low-Value\"],[\"Low-Value\"],[\"Low-Value\"],[\"Low-Value\"],[\"Low-Value\"],[\"Low-Value\"],[\"Low-Value\"],[\"Low-Value\"],[\"Low-Value\"],[\"Mid-Low-Value\"],[\"Mid-Low-Value\"],[\"Mid-Low-Value\"],[\"Mid-Low-Value\"],[\"Mid-Low-Value\"],[\"Mid-Low-Value\"],[\"Mid-Low-Value\"],[\"Mid-Low-Value\"],[\"Mid-Low-Value\"],[\"Mid-Low-Value\"],[\"Mid-Low-Value\"],[\"Mid-Low-Value\"],[\"Mid-Low-Value\"],[\"Mid-Low-Value\"],[\"Mid-Low-Value\"],[\"Mid-Low-Value\"],[\"Low-Value\"],[\"Low-Value\"],[\"Low-Value\"],[\"Low-Value\"],[\"Low-Value\"],[\"Low-Value\"],[\"Low-Value\"],[\"Low-Value\"],[\"Low-Value\"],[\"Low-Value\"],[\"Low-Value\"],[\"Low-Value\"],[\"Low-Value\"],[\"Low-Value\"],[\"Low-Value\"],[\"Low-Value\"],[\"Low-Value\"],[\"Low-Value\"],[\"Low-Value\"],[\"Low-Value\"],[\"Low-Value\"],[\"Low-Value\"],[\"Low-Value\"],[\"Low-Value\"],[\"Low-Value\"],[\"Low-Value\"],[\"Low-Value\"],[\"Low-Value\"],[\"Low-Value\"],[\"Low-Value\"],[\"Low-Value\"],[\"Low-Value\"],[\"Low-Value\"],[\"Low-Value\"],[\"Low-Value\"],[\"Low-Value\"],[\"Low-Value\"],[\"Low-Value\"],[\"Low-Value\"],[\"Low-Value\"],[\"Low-Value\"],[\"Low-Value\"],[\"Low-Value\"],[\"Low-Value\"],[\"Low-Value\"],[\"Low-Value\"],[\"Low-Value\"],[\"Low-Value\"],[\"Low-Value\"],[\"Low-Value\"],[\"Low-Value\"],[\"Low-Value\"],[\"Low-Value\"],[\"Low-Value\"],[\"Low-Value\"],[\"Low-Value\"]],\"hovertemplate\":\"DEF=loyal customers\\u003cbr\\u003eRecency Score=%{x}\\u003cbr\\u003eFrequency Score=%{y}\\u003cbr\\u003eMonetary Score=%{z}\\u003cbr\\u003eMonetary=%{marker.size}\\u003cbr\\u003eSegment=%{customdata[0]}\\u003cextra\\u003e\\u003c\\u002fextra\\u003e\",\"legendgroup\":\"loyal customers\",\"marker\":{\"color\":\"#ab63fa\",\"size\":[14234.24,14234.24,14234.24,14234.24,7117.12,7117.12,0.0,0.0,0.0,0.0,21351.36,14234.24,14234.24,14234.24,14234.24,14234.24,14234.24,14234.24,14234.24,14234.24,10675.68,10630.64,7117.12,7117.12,7117.12,7117.12,7117.12,7117.12,7117.12,7117.12,7117.12,7117.12,7117.12,7117.12,6049.55,5337.84,0.01,0.0,0.0,0.0,0.0,0.0,0.0,0.0,0.0,0.0,0.0,0.0,0.0,0.0,0.0,0.0,0.0,0.0,0.0,14234.24,14234.24,14234.24,14234.24,14234.24,14234.24,14234.24,14234.24,14234.24,14234.24,14234.24,14234.24,12099.1,7117.12,7117.12,7117.12,7117.12,7117.12,7117.12,7117.12,7117.12,7117.12,7117.12,7117.12,7117.12,0.01,0.0,0.0,0.0,0.0,0.0,0.0,0.0,0.0,0.0,0.0,0.0],\"sizemode\":\"area\",\"sizeref\":80.0676,\"symbol\":\"circle\"},\"mode\":\"markers\",\"name\":\"loyal customers\",\"scene\":\"scene\",\"showlegend\":true,\"x\":[3,3,3,3,3,3,3,3,3,3,4,3,3,3,4,3,4,3,4,3,3,3,4,3,4,3,3,3,3,4,3,3,4,3,3,3,3,4,4,3,3,3,3,3,4,4,3,3,3,3,3,3,3,3,4,4,4,4,4,4,4,4,4,4,4,4,4,4,4,4,4,4,4,4,4,4,4,4,4,4,4,4,4,4,4,4,4,4,4,4,4,4],\"y\":[4,4,4,4,4,4,4,4,4,4,4,4,4,4,4,4,4,4,4,4,4,4,4,4,4,4,4,4,4,4,4,4,4,4,4,4,4,4,4,4,4,4,4,4,4,4,4,4,4,4,4,4,4,4,4,4,4,4,4,4,4,4,4,4,4,4,4,4,4,4,4,4,4,4,4,4,4,4,4,4,4,4,4,4,4,4,4,4,4,4,4,4],\"z\":[2,2,2,2,3,3,4,4,4,4,1,2,2,2,2,2,2,2,2,2,2,2,3,3,3,3,3,3,3,3,3,3,3,3,3,3,3,4,4,4,4,4,4,4,4,4,4,4,4,4,4,4,4,4,4,2,2,2,2,2,2,2,2,2,2,2,2,2,3,3,3,3,3,3,3,3,3,3,3,3,3,4,4,4,4,4,4,4,4,4,4,4],\"type\":\"scatter3d\"},{\"customdata\":[[\"Low-Value\"],[\"Mid-Low-Value\"],[\"Low-Value\"],[\"Low-Value\"],[\"Low-Value\"],[\"Low-Value\"],[\"Low-Value\"],[\"Low-Value\"],[\"Low-Value\"]],\"hovertemplate\":\"DEF=promising\\u003cbr\\u003eRecency Score=%{x}\\u003cbr\\u003eFrequency Score=%{y}\\u003cbr\\u003eMonetary Score=%{z}\\u003cbr\\u003eMonetary=%{marker.size}\\u003cbr\\u003eSegment=%{customdata[0]}\\u003cextra\\u003e\\u003c\\u002fextra\\u003e\",\"legendgroup\":\"promising\",\"marker\":{\"color\":\"#FFA15A\",\"size\":[21351.36,13693.69,0.0,8738.74,8738.74,7117.12,0.01,0.0,0.0],\"sizemode\":\"area\",\"sizeref\":80.0676,\"symbol\":\"circle\"},\"mode\":\"markers\",\"name\":\"promising\",\"scene\":\"scene\",\"showlegend\":true,\"x\":[4,4,4,4,4,4,4,4,4],\"y\":[1,1,1,1,1,1,1,1,1],\"z\":[1,2,4,2,2,3,3,4,4],\"type\":\"scatter3d\"}],                        {\"template\":{\"data\":{\"histogram2dcontour\":[{\"type\":\"histogram2dcontour\",\"colorbar\":{\"outlinewidth\":0,\"ticks\":\"\"},\"colorscale\":[[0.0,\"#0d0887\"],[0.1111111111111111,\"#46039f\"],[0.2222222222222222,\"#7201a8\"],[0.3333333333333333,\"#9c179e\"],[0.4444444444444444,\"#bd3786\"],[0.5555555555555556,\"#d8576b\"],[0.6666666666666666,\"#ed7953\"],[0.7777777777777778,\"#fb9f3a\"],[0.8888888888888888,\"#fdca26\"],[1.0,\"#f0f921\"]]}],\"choropleth\":[{\"type\":\"choropleth\",\"colorbar\":{\"outlinewidth\":0,\"ticks\":\"\"}}],\"histogram2d\":[{\"type\":\"histogram2d\",\"colorbar\":{\"outlinewidth\":0,\"ticks\":\"\"},\"colorscale\":[[0.0,\"#0d0887\"],[0.1111111111111111,\"#46039f\"],[0.2222222222222222,\"#7201a8\"],[0.3333333333333333,\"#9c179e\"],[0.4444444444444444,\"#bd3786\"],[0.5555555555555556,\"#d8576b\"],[0.6666666666666666,\"#ed7953\"],[0.7777777777777778,\"#fb9f3a\"],[0.8888888888888888,\"#fdca26\"],[1.0,\"#f0f921\"]]}],\"heatmap\":[{\"type\":\"heatmap\",\"colorbar\":{\"outlinewidth\":0,\"ticks\":\"\"},\"colorscale\":[[0.0,\"#0d0887\"],[0.1111111111111111,\"#46039f\"],[0.2222222222222222,\"#7201a8\"],[0.3333333333333333,\"#9c179e\"],[0.4444444444444444,\"#bd3786\"],[0.5555555555555556,\"#d8576b\"],[0.6666666666666666,\"#ed7953\"],[0.7777777777777778,\"#fb9f3a\"],[0.8888888888888888,\"#fdca26\"],[1.0,\"#f0f921\"]]}],\"heatmapgl\":[{\"type\":\"heatmapgl\",\"colorbar\":{\"outlinewidth\":0,\"ticks\":\"\"},\"colorscale\":[[0.0,\"#0d0887\"],[0.1111111111111111,\"#46039f\"],[0.2222222222222222,\"#7201a8\"],[0.3333333333333333,\"#9c179e\"],[0.4444444444444444,\"#bd3786\"],[0.5555555555555556,\"#d8576b\"],[0.6666666666666666,\"#ed7953\"],[0.7777777777777778,\"#fb9f3a\"],[0.8888888888888888,\"#fdca26\"],[1.0,\"#f0f921\"]]}],\"contourcarpet\":[{\"type\":\"contourcarpet\",\"colorbar\":{\"outlinewidth\":0,\"ticks\":\"\"}}],\"contour\":[{\"type\":\"contour\",\"colorbar\":{\"outlinewidth\":0,\"ticks\":\"\"},\"colorscale\":[[0.0,\"#0d0887\"],[0.1111111111111111,\"#46039f\"],[0.2222222222222222,\"#7201a8\"],[0.3333333333333333,\"#9c179e\"],[0.4444444444444444,\"#bd3786\"],[0.5555555555555556,\"#d8576b\"],[0.6666666666666666,\"#ed7953\"],[0.7777777777777778,\"#fb9f3a\"],[0.8888888888888888,\"#fdca26\"],[1.0,\"#f0f921\"]]}],\"surface\":[{\"type\":\"surface\",\"colorbar\":{\"outlinewidth\":0,\"ticks\":\"\"},\"colorscale\":[[0.0,\"#0d0887\"],[0.1111111111111111,\"#46039f\"],[0.2222222222222222,\"#7201a8\"],[0.3333333333333333,\"#9c179e\"],[0.4444444444444444,\"#bd3786\"],[0.5555555555555556,\"#d8576b\"],[0.6666666666666666,\"#ed7953\"],[0.7777777777777778,\"#fb9f3a\"],[0.8888888888888888,\"#fdca26\"],[1.0,\"#f0f921\"]]}],\"mesh3d\":[{\"type\":\"mesh3d\",\"colorbar\":{\"outlinewidth\":0,\"ticks\":\"\"}}],\"scatter\":[{\"fillpattern\":{\"fillmode\":\"overlay\",\"size\":10,\"solidity\":0.2},\"type\":\"scatter\"}],\"parcoords\":[{\"type\":\"parcoords\",\"line\":{\"colorbar\":{\"outlinewidth\":0,\"ticks\":\"\"}}}],\"scatterpolargl\":[{\"type\":\"scatterpolargl\",\"marker\":{\"colorbar\":{\"outlinewidth\":0,\"ticks\":\"\"}}}],\"bar\":[{\"error_x\":{\"color\":\"#2a3f5f\"},\"error_y\":{\"color\":\"#2a3f5f\"},\"marker\":{\"line\":{\"color\":\"#E5ECF6\",\"width\":0.5},\"pattern\":{\"fillmode\":\"overlay\",\"size\":10,\"solidity\":0.2}},\"type\":\"bar\"}],\"scattergeo\":[{\"type\":\"scattergeo\",\"marker\":{\"colorbar\":{\"outlinewidth\":0,\"ticks\":\"\"}}}],\"scatterpolar\":[{\"type\":\"scatterpolar\",\"marker\":{\"colorbar\":{\"outlinewidth\":0,\"ticks\":\"\"}}}],\"histogram\":[{\"marker\":{\"pattern\":{\"fillmode\":\"overlay\",\"size\":10,\"solidity\":0.2}},\"type\":\"histogram\"}],\"scattergl\":[{\"type\":\"scattergl\",\"marker\":{\"colorbar\":{\"outlinewidth\":0,\"ticks\":\"\"}}}],\"scatter3d\":[{\"type\":\"scatter3d\",\"line\":{\"colorbar\":{\"outlinewidth\":0,\"ticks\":\"\"}},\"marker\":{\"colorbar\":{\"outlinewidth\":0,\"ticks\":\"\"}}}],\"scattermapbox\":[{\"type\":\"scattermapbox\",\"marker\":{\"colorbar\":{\"outlinewidth\":0,\"ticks\":\"\"}}}],\"scatterternary\":[{\"type\":\"scatterternary\",\"marker\":{\"colorbar\":{\"outlinewidth\":0,\"ticks\":\"\"}}}],\"scattercarpet\":[{\"type\":\"scattercarpet\",\"marker\":{\"colorbar\":{\"outlinewidth\":0,\"ticks\":\"\"}}}],\"carpet\":[{\"aaxis\":{\"endlinecolor\":\"#2a3f5f\",\"gridcolor\":\"white\",\"linecolor\":\"white\",\"minorgridcolor\":\"white\",\"startlinecolor\":\"#2a3f5f\"},\"baxis\":{\"endlinecolor\":\"#2a3f5f\",\"gridcolor\":\"white\",\"linecolor\":\"white\",\"minorgridcolor\":\"white\",\"startlinecolor\":\"#2a3f5f\"},\"type\":\"carpet\"}],\"table\":[{\"cells\":{\"fill\":{\"color\":\"#EBF0F8\"},\"line\":{\"color\":\"white\"}},\"header\":{\"fill\":{\"color\":\"#C8D4E3\"},\"line\":{\"color\":\"white\"}},\"type\":\"table\"}],\"barpolar\":[{\"marker\":{\"line\":{\"color\":\"#E5ECF6\",\"width\":0.5},\"pattern\":{\"fillmode\":\"overlay\",\"size\":10,\"solidity\":0.2}},\"type\":\"barpolar\"}],\"pie\":[{\"automargin\":true,\"type\":\"pie\"}]},\"layout\":{\"autotypenumbers\":\"strict\",\"colorway\":[\"#636efa\",\"#EF553B\",\"#00cc96\",\"#ab63fa\",\"#FFA15A\",\"#19d3f3\",\"#FF6692\",\"#B6E880\",\"#FF97FF\",\"#FECB52\"],\"font\":{\"color\":\"#2a3f5f\"},\"hovermode\":\"closest\",\"hoverlabel\":{\"align\":\"left\"},\"paper_bgcolor\":\"white\",\"plot_bgcolor\":\"#E5ECF6\",\"polar\":{\"bgcolor\":\"#E5ECF6\",\"angularaxis\":{\"gridcolor\":\"white\",\"linecolor\":\"white\",\"ticks\":\"\"},\"radialaxis\":{\"gridcolor\":\"white\",\"linecolor\":\"white\",\"ticks\":\"\"}},\"ternary\":{\"bgcolor\":\"#E5ECF6\",\"aaxis\":{\"gridcolor\":\"white\",\"linecolor\":\"white\",\"ticks\":\"\"},\"baxis\":{\"gridcolor\":\"white\",\"linecolor\":\"white\",\"ticks\":\"\"},\"caxis\":{\"gridcolor\":\"white\",\"linecolor\":\"white\",\"ticks\":\"\"}},\"coloraxis\":{\"colorbar\":{\"outlinewidth\":0,\"ticks\":\"\"}},\"colorscale\":{\"sequential\":[[0.0,\"#0d0887\"],[0.1111111111111111,\"#46039f\"],[0.2222222222222222,\"#7201a8\"],[0.3333333333333333,\"#9c179e\"],[0.4444444444444444,\"#bd3786\"],[0.5555555555555556,\"#d8576b\"],[0.6666666666666666,\"#ed7953\"],[0.7777777777777778,\"#fb9f3a\"],[0.8888888888888888,\"#fdca26\"],[1.0,\"#f0f921\"]],\"sequentialminus\":[[0.0,\"#0d0887\"],[0.1111111111111111,\"#46039f\"],[0.2222222222222222,\"#7201a8\"],[0.3333333333333333,\"#9c179e\"],[0.4444444444444444,\"#bd3786\"],[0.5555555555555556,\"#d8576b\"],[0.6666666666666666,\"#ed7953\"],[0.7777777777777778,\"#fb9f3a\"],[0.8888888888888888,\"#fdca26\"],[1.0,\"#f0f921\"]],\"diverging\":[[0,\"#8e0152\"],[0.1,\"#c51b7d\"],[0.2,\"#de77ae\"],[0.3,\"#f1b6da\"],[0.4,\"#fde0ef\"],[0.5,\"#f7f7f7\"],[0.6,\"#e6f5d0\"],[0.7,\"#b8e186\"],[0.8,\"#7fbc41\"],[0.9,\"#4d9221\"],[1,\"#276419\"]]},\"xaxis\":{\"gridcolor\":\"white\",\"linecolor\":\"white\",\"ticks\":\"\",\"title\":{\"standoff\":15},\"zerolinecolor\":\"white\",\"automargin\":true,\"zerolinewidth\":2},\"yaxis\":{\"gridcolor\":\"white\",\"linecolor\":\"white\",\"ticks\":\"\",\"title\":{\"standoff\":15},\"zerolinecolor\":\"white\",\"automargin\":true,\"zerolinewidth\":2},\"scene\":{\"xaxis\":{\"backgroundcolor\":\"#E5ECF6\",\"gridcolor\":\"white\",\"linecolor\":\"white\",\"showbackground\":true,\"ticks\":\"\",\"zerolinecolor\":\"white\",\"gridwidth\":2},\"yaxis\":{\"backgroundcolor\":\"#E5ECF6\",\"gridcolor\":\"white\",\"linecolor\":\"white\",\"showbackground\":true,\"ticks\":\"\",\"zerolinecolor\":\"white\",\"gridwidth\":2},\"zaxis\":{\"backgroundcolor\":\"#E5ECF6\",\"gridcolor\":\"white\",\"linecolor\":\"white\",\"showbackground\":true,\"ticks\":\"\",\"zerolinecolor\":\"white\",\"gridwidth\":2}},\"shapedefaults\":{\"line\":{\"color\":\"#2a3f5f\"}},\"annotationdefaults\":{\"arrowcolor\":\"#2a3f5f\",\"arrowhead\":0,\"arrowwidth\":1},\"geo\":{\"bgcolor\":\"white\",\"landcolor\":\"#E5ECF6\",\"subunitcolor\":\"white\",\"showland\":true,\"showlakes\":true,\"lakecolor\":\"white\"},\"title\":{\"x\":0.05},\"mapbox\":{\"style\":\"light\"}}},\"scene\":{\"domain\":{\"x\":[0.0,1.0],\"y\":[0.0,1.0]},\"xaxis\":{\"title\":{\"text\":\"Recency Score\"}},\"yaxis\":{\"title\":{\"text\":\"Frequency Score\"}},\"zaxis\":{\"title\":{\"text\":\"Monetary Score\"}}},\"legend\":{\"title\":{\"text\":\"DEF\"},\"tracegroupgap\":0,\"itemsizing\":\"constant\"},\"margin\":{\"t\":60}},                        {\"responsive\": true}                    ).then(function(){\n                            \nvar gd = document.getElementById('a4f36676-daba-44d6-864b-8f641d9fdc2a');\nvar x = new MutationObserver(function (mutations, observer) {{\n        var display = window.getComputedStyle(gd).display;\n        if (!display || display === 'none') {{\n            console.log([gd, 'removed!']);\n            Plotly.purge(gd);\n            observer.disconnect();\n        }}\n}});\n\n// Listen for the removal of the full notebook cells\nvar notebookContainer = gd.closest('#notebook-container');\nif (notebookContainer) {{\n    x.observe(notebookContainer, {childList: true});\n}}\n\n// Listen for the clearing of the current output cell\nvar outputEl = gd.closest('.output');\nif (outputEl) {{\n    x.observe(outputEl, {childList: true});\n}}\n\n                        })                };                });            </script>        </div>"
     },
     "metadata": {},
     "output_type": "display_data"
    }
   ],
   "source": [
    "import plotly.express as px\n",
    "count = df_RFM.count()\n",
    "fig = px.scatter_3d(df_RFM, x='r_quartile', y='f_quartile', z='m_quartile', color='DEF',\n",
    "                    hover_data=['Segment'],\n",
    "                    size='Monetary',\n",
    "                    labels={\n",
    "                        \"r_quartile\": \"Recency Score\",\n",
    "                        \"f_quartile\": \"Frequency Score\",\n",
    "                        \"m_quartile\": \"Monetary Score\"\n",
    "                    },\n",
    "                    )\n",
    "#fig.update_layout(zaxis_title=\"New X-axis Title\")\n",
    "fig.write_image(\"output/fig3d.png\")\n",
    "fig.show()\n",
    "#this 3d chart doesnt really show anything, the amount of money in hibernating customer with low score undermines the resti "
   ],
   "metadata": {
    "collapsed": false,
    "ExecuteTime": {
     "end_time": "2024-03-22T13:11:41.498417500Z",
     "start_time": "2024-03-22T13:11:39.788940300Z"
    }
   }
  },
  {
   "cell_type": "code",
   "execution_count": 222,
   "metadata": {
    "ExecuteTime": {
     "end_time": "2024-03-22T13:11:41.678234700Z",
     "start_time": "2024-03-22T13:11:41.511403700Z"
    }
   },
   "outputs": [
    {
     "data": {
      "application/vnd.plotly.v1+json": {
       "data": [
        {
         "branchvalues": "total",
         "customdata": [
          [
           8720.723333333335
          ],
          [
           6845.941744186046
          ],
          [
           8312.814687499998
          ],
          [
           6598.318586956522
          ],
          [
           6626.628888888889
          ]
         ],
         "domain": {
          "x": [
           0.0,
           1.0
          ],
          "y": [
           0.0,
           1.0
          ]
         },
         "hovertemplate": "labels=%{label}<br>count=%{value}<br>parent=%{parent}<br>id=%{id}<br>Monetary=%{color}<extra></extra>",
         "ids": [
          "about to sleep",
          "at risk",
          "hibernating",
          "loyal customers",
          "promising"
         ],
         "labels": [
          "about to sleep",
          "at risk",
          "hibernating",
          "loyal customers",
          "promising"
         ],
         "marker": {
          "coloraxis": "coloraxis",
          "colors": [
           8720.723333333335,
           6845.941744186046,
           8312.814687499998,
           6598.318586956522,
           6626.628888888889
          ]
         },
         "name": "",
         "parents": [
          "",
          "",
          "",
          "",
          ""
         ],
         "values": [
          15,
          86,
          32,
          92,
          9
         ],
         "type": "treemap",
         "textinfo": "label+percent root"
        }
       ],
       "layout": {
        "template": {
         "data": {
          "histogram2dcontour": [
           {
            "type": "histogram2dcontour",
            "colorbar": {
             "outlinewidth": 0,
             "ticks": ""
            },
            "colorscale": [
             [
              0.0,
              "#0d0887"
             ],
             [
              0.1111111111111111,
              "#46039f"
             ],
             [
              0.2222222222222222,
              "#7201a8"
             ],
             [
              0.3333333333333333,
              "#9c179e"
             ],
             [
              0.4444444444444444,
              "#bd3786"
             ],
             [
              0.5555555555555556,
              "#d8576b"
             ],
             [
              0.6666666666666666,
              "#ed7953"
             ],
             [
              0.7777777777777778,
              "#fb9f3a"
             ],
             [
              0.8888888888888888,
              "#fdca26"
             ],
             [
              1.0,
              "#f0f921"
             ]
            ]
           }
          ],
          "choropleth": [
           {
            "type": "choropleth",
            "colorbar": {
             "outlinewidth": 0,
             "ticks": ""
            }
           }
          ],
          "histogram2d": [
           {
            "type": "histogram2d",
            "colorbar": {
             "outlinewidth": 0,
             "ticks": ""
            },
            "colorscale": [
             [
              0.0,
              "#0d0887"
             ],
             [
              0.1111111111111111,
              "#46039f"
             ],
             [
              0.2222222222222222,
              "#7201a8"
             ],
             [
              0.3333333333333333,
              "#9c179e"
             ],
             [
              0.4444444444444444,
              "#bd3786"
             ],
             [
              0.5555555555555556,
              "#d8576b"
             ],
             [
              0.6666666666666666,
              "#ed7953"
             ],
             [
              0.7777777777777778,
              "#fb9f3a"
             ],
             [
              0.8888888888888888,
              "#fdca26"
             ],
             [
              1.0,
              "#f0f921"
             ]
            ]
           }
          ],
          "heatmap": [
           {
            "type": "heatmap",
            "colorbar": {
             "outlinewidth": 0,
             "ticks": ""
            },
            "colorscale": [
             [
              0.0,
              "#0d0887"
             ],
             [
              0.1111111111111111,
              "#46039f"
             ],
             [
              0.2222222222222222,
              "#7201a8"
             ],
             [
              0.3333333333333333,
              "#9c179e"
             ],
             [
              0.4444444444444444,
              "#bd3786"
             ],
             [
              0.5555555555555556,
              "#d8576b"
             ],
             [
              0.6666666666666666,
              "#ed7953"
             ],
             [
              0.7777777777777778,
              "#fb9f3a"
             ],
             [
              0.8888888888888888,
              "#fdca26"
             ],
             [
              1.0,
              "#f0f921"
             ]
            ]
           }
          ],
          "heatmapgl": [
           {
            "type": "heatmapgl",
            "colorbar": {
             "outlinewidth": 0,
             "ticks": ""
            },
            "colorscale": [
             [
              0.0,
              "#0d0887"
             ],
             [
              0.1111111111111111,
              "#46039f"
             ],
             [
              0.2222222222222222,
              "#7201a8"
             ],
             [
              0.3333333333333333,
              "#9c179e"
             ],
             [
              0.4444444444444444,
              "#bd3786"
             ],
             [
              0.5555555555555556,
              "#d8576b"
             ],
             [
              0.6666666666666666,
              "#ed7953"
             ],
             [
              0.7777777777777778,
              "#fb9f3a"
             ],
             [
              0.8888888888888888,
              "#fdca26"
             ],
             [
              1.0,
              "#f0f921"
             ]
            ]
           }
          ],
          "contourcarpet": [
           {
            "type": "contourcarpet",
            "colorbar": {
             "outlinewidth": 0,
             "ticks": ""
            }
           }
          ],
          "contour": [
           {
            "type": "contour",
            "colorbar": {
             "outlinewidth": 0,
             "ticks": ""
            },
            "colorscale": [
             [
              0.0,
              "#0d0887"
             ],
             [
              0.1111111111111111,
              "#46039f"
             ],
             [
              0.2222222222222222,
              "#7201a8"
             ],
             [
              0.3333333333333333,
              "#9c179e"
             ],
             [
              0.4444444444444444,
              "#bd3786"
             ],
             [
              0.5555555555555556,
              "#d8576b"
             ],
             [
              0.6666666666666666,
              "#ed7953"
             ],
             [
              0.7777777777777778,
              "#fb9f3a"
             ],
             [
              0.8888888888888888,
              "#fdca26"
             ],
             [
              1.0,
              "#f0f921"
             ]
            ]
           }
          ],
          "surface": [
           {
            "type": "surface",
            "colorbar": {
             "outlinewidth": 0,
             "ticks": ""
            },
            "colorscale": [
             [
              0.0,
              "#0d0887"
             ],
             [
              0.1111111111111111,
              "#46039f"
             ],
             [
              0.2222222222222222,
              "#7201a8"
             ],
             [
              0.3333333333333333,
              "#9c179e"
             ],
             [
              0.4444444444444444,
              "#bd3786"
             ],
             [
              0.5555555555555556,
              "#d8576b"
             ],
             [
              0.6666666666666666,
              "#ed7953"
             ],
             [
              0.7777777777777778,
              "#fb9f3a"
             ],
             [
              0.8888888888888888,
              "#fdca26"
             ],
             [
              1.0,
              "#f0f921"
             ]
            ]
           }
          ],
          "mesh3d": [
           {
            "type": "mesh3d",
            "colorbar": {
             "outlinewidth": 0,
             "ticks": ""
            }
           }
          ],
          "scatter": [
           {
            "fillpattern": {
             "fillmode": "overlay",
             "size": 10,
             "solidity": 0.2
            },
            "type": "scatter"
           }
          ],
          "parcoords": [
           {
            "type": "parcoords",
            "line": {
             "colorbar": {
              "outlinewidth": 0,
              "ticks": ""
             }
            }
           }
          ],
          "scatterpolargl": [
           {
            "type": "scatterpolargl",
            "marker": {
             "colorbar": {
              "outlinewidth": 0,
              "ticks": ""
             }
            }
           }
          ],
          "bar": [
           {
            "error_x": {
             "color": "#2a3f5f"
            },
            "error_y": {
             "color": "#2a3f5f"
            },
            "marker": {
             "line": {
              "color": "#E5ECF6",
              "width": 0.5
             },
             "pattern": {
              "fillmode": "overlay",
              "size": 10,
              "solidity": 0.2
             }
            },
            "type": "bar"
           }
          ],
          "scattergeo": [
           {
            "type": "scattergeo",
            "marker": {
             "colorbar": {
              "outlinewidth": 0,
              "ticks": ""
             }
            }
           }
          ],
          "scatterpolar": [
           {
            "type": "scatterpolar",
            "marker": {
             "colorbar": {
              "outlinewidth": 0,
              "ticks": ""
             }
            }
           }
          ],
          "histogram": [
           {
            "marker": {
             "pattern": {
              "fillmode": "overlay",
              "size": 10,
              "solidity": 0.2
             }
            },
            "type": "histogram"
           }
          ],
          "scattergl": [
           {
            "type": "scattergl",
            "marker": {
             "colorbar": {
              "outlinewidth": 0,
              "ticks": ""
             }
            }
           }
          ],
          "scatter3d": [
           {
            "type": "scatter3d",
            "line": {
             "colorbar": {
              "outlinewidth": 0,
              "ticks": ""
             }
            },
            "marker": {
             "colorbar": {
              "outlinewidth": 0,
              "ticks": ""
             }
            }
           }
          ],
          "scattermapbox": [
           {
            "type": "scattermapbox",
            "marker": {
             "colorbar": {
              "outlinewidth": 0,
              "ticks": ""
             }
            }
           }
          ],
          "scatterternary": [
           {
            "type": "scatterternary",
            "marker": {
             "colorbar": {
              "outlinewidth": 0,
              "ticks": ""
             }
            }
           }
          ],
          "scattercarpet": [
           {
            "type": "scattercarpet",
            "marker": {
             "colorbar": {
              "outlinewidth": 0,
              "ticks": ""
             }
            }
           }
          ],
          "carpet": [
           {
            "aaxis": {
             "endlinecolor": "#2a3f5f",
             "gridcolor": "white",
             "linecolor": "white",
             "minorgridcolor": "white",
             "startlinecolor": "#2a3f5f"
            },
            "baxis": {
             "endlinecolor": "#2a3f5f",
             "gridcolor": "white",
             "linecolor": "white",
             "minorgridcolor": "white",
             "startlinecolor": "#2a3f5f"
            },
            "type": "carpet"
           }
          ],
          "table": [
           {
            "cells": {
             "fill": {
              "color": "#EBF0F8"
             },
             "line": {
              "color": "white"
             }
            },
            "header": {
             "fill": {
              "color": "#C8D4E3"
             },
             "line": {
              "color": "white"
             }
            },
            "type": "table"
           }
          ],
          "barpolar": [
           {
            "marker": {
             "line": {
              "color": "#E5ECF6",
              "width": 0.5
             },
             "pattern": {
              "fillmode": "overlay",
              "size": 10,
              "solidity": 0.2
             }
            },
            "type": "barpolar"
           }
          ],
          "pie": [
           {
            "automargin": true,
            "type": "pie"
           }
          ]
         },
         "layout": {
          "autotypenumbers": "strict",
          "colorway": [
           "#636efa",
           "#EF553B",
           "#00cc96",
           "#ab63fa",
           "#FFA15A",
           "#19d3f3",
           "#FF6692",
           "#B6E880",
           "#FF97FF",
           "#FECB52"
          ],
          "font": {
           "color": "#2a3f5f"
          },
          "hovermode": "closest",
          "hoverlabel": {
           "align": "left"
          },
          "paper_bgcolor": "white",
          "plot_bgcolor": "#E5ECF6",
          "polar": {
           "bgcolor": "#E5ECF6",
           "angularaxis": {
            "gridcolor": "white",
            "linecolor": "white",
            "ticks": ""
           },
           "radialaxis": {
            "gridcolor": "white",
            "linecolor": "white",
            "ticks": ""
           }
          },
          "ternary": {
           "bgcolor": "#E5ECF6",
           "aaxis": {
            "gridcolor": "white",
            "linecolor": "white",
            "ticks": ""
           },
           "baxis": {
            "gridcolor": "white",
            "linecolor": "white",
            "ticks": ""
           },
           "caxis": {
            "gridcolor": "white",
            "linecolor": "white",
            "ticks": ""
           }
          },
          "coloraxis": {
           "colorbar": {
            "outlinewidth": 0,
            "ticks": ""
           }
          },
          "colorscale": {
           "sequential": [
            [
             0.0,
             "#0d0887"
            ],
            [
             0.1111111111111111,
             "#46039f"
            ],
            [
             0.2222222222222222,
             "#7201a8"
            ],
            [
             0.3333333333333333,
             "#9c179e"
            ],
            [
             0.4444444444444444,
             "#bd3786"
            ],
            [
             0.5555555555555556,
             "#d8576b"
            ],
            [
             0.6666666666666666,
             "#ed7953"
            ],
            [
             0.7777777777777778,
             "#fb9f3a"
            ],
            [
             0.8888888888888888,
             "#fdca26"
            ],
            [
             1.0,
             "#f0f921"
            ]
           ],
           "sequentialminus": [
            [
             0.0,
             "#0d0887"
            ],
            [
             0.1111111111111111,
             "#46039f"
            ],
            [
             0.2222222222222222,
             "#7201a8"
            ],
            [
             0.3333333333333333,
             "#9c179e"
            ],
            [
             0.4444444444444444,
             "#bd3786"
            ],
            [
             0.5555555555555556,
             "#d8576b"
            ],
            [
             0.6666666666666666,
             "#ed7953"
            ],
            [
             0.7777777777777778,
             "#fb9f3a"
            ],
            [
             0.8888888888888888,
             "#fdca26"
            ],
            [
             1.0,
             "#f0f921"
            ]
           ],
           "diverging": [
            [
             0,
             "#8e0152"
            ],
            [
             0.1,
             "#c51b7d"
            ],
            [
             0.2,
             "#de77ae"
            ],
            [
             0.3,
             "#f1b6da"
            ],
            [
             0.4,
             "#fde0ef"
            ],
            [
             0.5,
             "#f7f7f7"
            ],
            [
             0.6,
             "#e6f5d0"
            ],
            [
             0.7,
             "#b8e186"
            ],
            [
             0.8,
             "#7fbc41"
            ],
            [
             0.9,
             "#4d9221"
            ],
            [
             1,
             "#276419"
            ]
           ]
          },
          "xaxis": {
           "gridcolor": "white",
           "linecolor": "white",
           "ticks": "",
           "title": {
            "standoff": 15
           },
           "zerolinecolor": "white",
           "automargin": true,
           "zerolinewidth": 2
          },
          "yaxis": {
           "gridcolor": "white",
           "linecolor": "white",
           "ticks": "",
           "title": {
            "standoff": 15
           },
           "zerolinecolor": "white",
           "automargin": true,
           "zerolinewidth": 2
          },
          "scene": {
           "xaxis": {
            "backgroundcolor": "#E5ECF6",
            "gridcolor": "white",
            "linecolor": "white",
            "showbackground": true,
            "ticks": "",
            "zerolinecolor": "white",
            "gridwidth": 2
           },
           "yaxis": {
            "backgroundcolor": "#E5ECF6",
            "gridcolor": "white",
            "linecolor": "white",
            "showbackground": true,
            "ticks": "",
            "zerolinecolor": "white",
            "gridwidth": 2
           },
           "zaxis": {
            "backgroundcolor": "#E5ECF6",
            "gridcolor": "white",
            "linecolor": "white",
            "showbackground": true,
            "ticks": "",
            "zerolinecolor": "white",
            "gridwidth": 2
           }
          },
          "shapedefaults": {
           "line": {
            "color": "#2a3f5f"
           }
          },
          "annotationdefaults": {
           "arrowcolor": "#2a3f5f",
           "arrowhead": 0,
           "arrowwidth": 1
          },
          "geo": {
           "bgcolor": "white",
           "landcolor": "#E5ECF6",
           "subunitcolor": "white",
           "showland": true,
           "showlakes": true,
           "lakecolor": "white"
          },
          "title": {
           "x": 0.05
          },
          "mapbox": {
           "style": "light"
          }
         }
        },
        "coloraxis": {
         "colorbar": {
          "title": {
           "text": "Monetary"
          }
         },
         "colorscale": [
          [
           0.0,
           "rgb(103,0,31)"
          ],
          [
           0.1,
           "rgb(178,24,43)"
          ],
          [
           0.2,
           "rgb(214,96,77)"
          ],
          [
           0.3,
           "rgb(244,165,130)"
          ],
          [
           0.4,
           "rgb(253,219,199)"
          ],
          [
           0.5,
           "rgb(247,247,247)"
          ],
          [
           0.6,
           "rgb(209,229,240)"
          ],
          [
           0.7,
           "rgb(146,197,222)"
          ],
          [
           0.8,
           "rgb(67,147,195)"
          ],
          [
           0.9,
           "rgb(33,102,172)"
          ],
          [
           1.0,
           "rgb(5,48,97)"
          ]
         ]
        },
        "legend": {
         "tracegroupgap": 0
        },
        "margin": {
         "t": 60
        },
        "title": {
         "text": "A represenation of the users segmentation and its segments",
         "y": 0.9,
         "x": 0.5,
         "xanchor": "center",
         "yanchor": "top"
        }
       },
       "config": {
        "plotlyServerURL": "https://plot.ly"
       }
      },
      "text/html": "<div>                            <div id=\"37756d54-ab19-49f4-99ac-3edef9df7369\" class=\"plotly-graph-div\" style=\"height:525px; width:100%;\"></div>            <script type=\"text/javascript\">                require([\"plotly\"], function(Plotly) {                    window.PLOTLYENV=window.PLOTLYENV || {};                                    if (document.getElementById(\"37756d54-ab19-49f4-99ac-3edef9df7369\")) {                    Plotly.newPlot(                        \"37756d54-ab19-49f4-99ac-3edef9df7369\",                        [{\"branchvalues\":\"total\",\"customdata\":[[8720.723333333335],[6845.941744186046],[8312.814687499998],[6598.318586956522],[6626.628888888889]],\"domain\":{\"x\":[0.0,1.0],\"y\":[0.0,1.0]},\"hovertemplate\":\"labels=%{label}\\u003cbr\\u003ecount=%{value}\\u003cbr\\u003eparent=%{parent}\\u003cbr\\u003eid=%{id}\\u003cbr\\u003eMonetary=%{color}\\u003cextra\\u003e\\u003c\\u002fextra\\u003e\",\"ids\":[\"about to sleep\",\"at risk\",\"hibernating\",\"loyal customers\",\"promising\"],\"labels\":[\"about to sleep\",\"at risk\",\"hibernating\",\"loyal customers\",\"promising\"],\"marker\":{\"coloraxis\":\"coloraxis\",\"colors\":[8720.723333333335,6845.941744186046,8312.814687499998,6598.318586956522,6626.628888888889]},\"name\":\"\",\"parents\":[\"\",\"\",\"\",\"\",\"\"],\"values\":[15,86,32,92,9],\"type\":\"treemap\",\"textinfo\":\"label+percent root\"}],                        {\"template\":{\"data\":{\"histogram2dcontour\":[{\"type\":\"histogram2dcontour\",\"colorbar\":{\"outlinewidth\":0,\"ticks\":\"\"},\"colorscale\":[[0.0,\"#0d0887\"],[0.1111111111111111,\"#46039f\"],[0.2222222222222222,\"#7201a8\"],[0.3333333333333333,\"#9c179e\"],[0.4444444444444444,\"#bd3786\"],[0.5555555555555556,\"#d8576b\"],[0.6666666666666666,\"#ed7953\"],[0.7777777777777778,\"#fb9f3a\"],[0.8888888888888888,\"#fdca26\"],[1.0,\"#f0f921\"]]}],\"choropleth\":[{\"type\":\"choropleth\",\"colorbar\":{\"outlinewidth\":0,\"ticks\":\"\"}}],\"histogram2d\":[{\"type\":\"histogram2d\",\"colorbar\":{\"outlinewidth\":0,\"ticks\":\"\"},\"colorscale\":[[0.0,\"#0d0887\"],[0.1111111111111111,\"#46039f\"],[0.2222222222222222,\"#7201a8\"],[0.3333333333333333,\"#9c179e\"],[0.4444444444444444,\"#bd3786\"],[0.5555555555555556,\"#d8576b\"],[0.6666666666666666,\"#ed7953\"],[0.7777777777777778,\"#fb9f3a\"],[0.8888888888888888,\"#fdca26\"],[1.0,\"#f0f921\"]]}],\"heatmap\":[{\"type\":\"heatmap\",\"colorbar\":{\"outlinewidth\":0,\"ticks\":\"\"},\"colorscale\":[[0.0,\"#0d0887\"],[0.1111111111111111,\"#46039f\"],[0.2222222222222222,\"#7201a8\"],[0.3333333333333333,\"#9c179e\"],[0.4444444444444444,\"#bd3786\"],[0.5555555555555556,\"#d8576b\"],[0.6666666666666666,\"#ed7953\"],[0.7777777777777778,\"#fb9f3a\"],[0.8888888888888888,\"#fdca26\"],[1.0,\"#f0f921\"]]}],\"heatmapgl\":[{\"type\":\"heatmapgl\",\"colorbar\":{\"outlinewidth\":0,\"ticks\":\"\"},\"colorscale\":[[0.0,\"#0d0887\"],[0.1111111111111111,\"#46039f\"],[0.2222222222222222,\"#7201a8\"],[0.3333333333333333,\"#9c179e\"],[0.4444444444444444,\"#bd3786\"],[0.5555555555555556,\"#d8576b\"],[0.6666666666666666,\"#ed7953\"],[0.7777777777777778,\"#fb9f3a\"],[0.8888888888888888,\"#fdca26\"],[1.0,\"#f0f921\"]]}],\"contourcarpet\":[{\"type\":\"contourcarpet\",\"colorbar\":{\"outlinewidth\":0,\"ticks\":\"\"}}],\"contour\":[{\"type\":\"contour\",\"colorbar\":{\"outlinewidth\":0,\"ticks\":\"\"},\"colorscale\":[[0.0,\"#0d0887\"],[0.1111111111111111,\"#46039f\"],[0.2222222222222222,\"#7201a8\"],[0.3333333333333333,\"#9c179e\"],[0.4444444444444444,\"#bd3786\"],[0.5555555555555556,\"#d8576b\"],[0.6666666666666666,\"#ed7953\"],[0.7777777777777778,\"#fb9f3a\"],[0.8888888888888888,\"#fdca26\"],[1.0,\"#f0f921\"]]}],\"surface\":[{\"type\":\"surface\",\"colorbar\":{\"outlinewidth\":0,\"ticks\":\"\"},\"colorscale\":[[0.0,\"#0d0887\"],[0.1111111111111111,\"#46039f\"],[0.2222222222222222,\"#7201a8\"],[0.3333333333333333,\"#9c179e\"],[0.4444444444444444,\"#bd3786\"],[0.5555555555555556,\"#d8576b\"],[0.6666666666666666,\"#ed7953\"],[0.7777777777777778,\"#fb9f3a\"],[0.8888888888888888,\"#fdca26\"],[1.0,\"#f0f921\"]]}],\"mesh3d\":[{\"type\":\"mesh3d\",\"colorbar\":{\"outlinewidth\":0,\"ticks\":\"\"}}],\"scatter\":[{\"fillpattern\":{\"fillmode\":\"overlay\",\"size\":10,\"solidity\":0.2},\"type\":\"scatter\"}],\"parcoords\":[{\"type\":\"parcoords\",\"line\":{\"colorbar\":{\"outlinewidth\":0,\"ticks\":\"\"}}}],\"scatterpolargl\":[{\"type\":\"scatterpolargl\",\"marker\":{\"colorbar\":{\"outlinewidth\":0,\"ticks\":\"\"}}}],\"bar\":[{\"error_x\":{\"color\":\"#2a3f5f\"},\"error_y\":{\"color\":\"#2a3f5f\"},\"marker\":{\"line\":{\"color\":\"#E5ECF6\",\"width\":0.5},\"pattern\":{\"fillmode\":\"overlay\",\"size\":10,\"solidity\":0.2}},\"type\":\"bar\"}],\"scattergeo\":[{\"type\":\"scattergeo\",\"marker\":{\"colorbar\":{\"outlinewidth\":0,\"ticks\":\"\"}}}],\"scatterpolar\":[{\"type\":\"scatterpolar\",\"marker\":{\"colorbar\":{\"outlinewidth\":0,\"ticks\":\"\"}}}],\"histogram\":[{\"marker\":{\"pattern\":{\"fillmode\":\"overlay\",\"size\":10,\"solidity\":0.2}},\"type\":\"histogram\"}],\"scattergl\":[{\"type\":\"scattergl\",\"marker\":{\"colorbar\":{\"outlinewidth\":0,\"ticks\":\"\"}}}],\"scatter3d\":[{\"type\":\"scatter3d\",\"line\":{\"colorbar\":{\"outlinewidth\":0,\"ticks\":\"\"}},\"marker\":{\"colorbar\":{\"outlinewidth\":0,\"ticks\":\"\"}}}],\"scattermapbox\":[{\"type\":\"scattermapbox\",\"marker\":{\"colorbar\":{\"outlinewidth\":0,\"ticks\":\"\"}}}],\"scatterternary\":[{\"type\":\"scatterternary\",\"marker\":{\"colorbar\":{\"outlinewidth\":0,\"ticks\":\"\"}}}],\"scattercarpet\":[{\"type\":\"scattercarpet\",\"marker\":{\"colorbar\":{\"outlinewidth\":0,\"ticks\":\"\"}}}],\"carpet\":[{\"aaxis\":{\"endlinecolor\":\"#2a3f5f\",\"gridcolor\":\"white\",\"linecolor\":\"white\",\"minorgridcolor\":\"white\",\"startlinecolor\":\"#2a3f5f\"},\"baxis\":{\"endlinecolor\":\"#2a3f5f\",\"gridcolor\":\"white\",\"linecolor\":\"white\",\"minorgridcolor\":\"white\",\"startlinecolor\":\"#2a3f5f\"},\"type\":\"carpet\"}],\"table\":[{\"cells\":{\"fill\":{\"color\":\"#EBF0F8\"},\"line\":{\"color\":\"white\"}},\"header\":{\"fill\":{\"color\":\"#C8D4E3\"},\"line\":{\"color\":\"white\"}},\"type\":\"table\"}],\"barpolar\":[{\"marker\":{\"line\":{\"color\":\"#E5ECF6\",\"width\":0.5},\"pattern\":{\"fillmode\":\"overlay\",\"size\":10,\"solidity\":0.2}},\"type\":\"barpolar\"}],\"pie\":[{\"automargin\":true,\"type\":\"pie\"}]},\"layout\":{\"autotypenumbers\":\"strict\",\"colorway\":[\"#636efa\",\"#EF553B\",\"#00cc96\",\"#ab63fa\",\"#FFA15A\",\"#19d3f3\",\"#FF6692\",\"#B6E880\",\"#FF97FF\",\"#FECB52\"],\"font\":{\"color\":\"#2a3f5f\"},\"hovermode\":\"closest\",\"hoverlabel\":{\"align\":\"left\"},\"paper_bgcolor\":\"white\",\"plot_bgcolor\":\"#E5ECF6\",\"polar\":{\"bgcolor\":\"#E5ECF6\",\"angularaxis\":{\"gridcolor\":\"white\",\"linecolor\":\"white\",\"ticks\":\"\"},\"radialaxis\":{\"gridcolor\":\"white\",\"linecolor\":\"white\",\"ticks\":\"\"}},\"ternary\":{\"bgcolor\":\"#E5ECF6\",\"aaxis\":{\"gridcolor\":\"white\",\"linecolor\":\"white\",\"ticks\":\"\"},\"baxis\":{\"gridcolor\":\"white\",\"linecolor\":\"white\",\"ticks\":\"\"},\"caxis\":{\"gridcolor\":\"white\",\"linecolor\":\"white\",\"ticks\":\"\"}},\"coloraxis\":{\"colorbar\":{\"outlinewidth\":0,\"ticks\":\"\"}},\"colorscale\":{\"sequential\":[[0.0,\"#0d0887\"],[0.1111111111111111,\"#46039f\"],[0.2222222222222222,\"#7201a8\"],[0.3333333333333333,\"#9c179e\"],[0.4444444444444444,\"#bd3786\"],[0.5555555555555556,\"#d8576b\"],[0.6666666666666666,\"#ed7953\"],[0.7777777777777778,\"#fb9f3a\"],[0.8888888888888888,\"#fdca26\"],[1.0,\"#f0f921\"]],\"sequentialminus\":[[0.0,\"#0d0887\"],[0.1111111111111111,\"#46039f\"],[0.2222222222222222,\"#7201a8\"],[0.3333333333333333,\"#9c179e\"],[0.4444444444444444,\"#bd3786\"],[0.5555555555555556,\"#d8576b\"],[0.6666666666666666,\"#ed7953\"],[0.7777777777777778,\"#fb9f3a\"],[0.8888888888888888,\"#fdca26\"],[1.0,\"#f0f921\"]],\"diverging\":[[0,\"#8e0152\"],[0.1,\"#c51b7d\"],[0.2,\"#de77ae\"],[0.3,\"#f1b6da\"],[0.4,\"#fde0ef\"],[0.5,\"#f7f7f7\"],[0.6,\"#e6f5d0\"],[0.7,\"#b8e186\"],[0.8,\"#7fbc41\"],[0.9,\"#4d9221\"],[1,\"#276419\"]]},\"xaxis\":{\"gridcolor\":\"white\",\"linecolor\":\"white\",\"ticks\":\"\",\"title\":{\"standoff\":15},\"zerolinecolor\":\"white\",\"automargin\":true,\"zerolinewidth\":2},\"yaxis\":{\"gridcolor\":\"white\",\"linecolor\":\"white\",\"ticks\":\"\",\"title\":{\"standoff\":15},\"zerolinecolor\":\"white\",\"automargin\":true,\"zerolinewidth\":2},\"scene\":{\"xaxis\":{\"backgroundcolor\":\"#E5ECF6\",\"gridcolor\":\"white\",\"linecolor\":\"white\",\"showbackground\":true,\"ticks\":\"\",\"zerolinecolor\":\"white\",\"gridwidth\":2},\"yaxis\":{\"backgroundcolor\":\"#E5ECF6\",\"gridcolor\":\"white\",\"linecolor\":\"white\",\"showbackground\":true,\"ticks\":\"\",\"zerolinecolor\":\"white\",\"gridwidth\":2},\"zaxis\":{\"backgroundcolor\":\"#E5ECF6\",\"gridcolor\":\"white\",\"linecolor\":\"white\",\"showbackground\":true,\"ticks\":\"\",\"zerolinecolor\":\"white\",\"gridwidth\":2}},\"shapedefaults\":{\"line\":{\"color\":\"#2a3f5f\"}},\"annotationdefaults\":{\"arrowcolor\":\"#2a3f5f\",\"arrowhead\":0,\"arrowwidth\":1},\"geo\":{\"bgcolor\":\"white\",\"landcolor\":\"#E5ECF6\",\"subunitcolor\":\"white\",\"showland\":true,\"showlakes\":true,\"lakecolor\":\"white\"},\"title\":{\"x\":0.05},\"mapbox\":{\"style\":\"light\"}}},\"coloraxis\":{\"colorbar\":{\"title\":{\"text\":\"Monetary\"}},\"colorscale\":[[0.0,\"rgb(103,0,31)\"],[0.1,\"rgb(178,24,43)\"],[0.2,\"rgb(214,96,77)\"],[0.3,\"rgb(244,165,130)\"],[0.4,\"rgb(253,219,199)\"],[0.5,\"rgb(247,247,247)\"],[0.6,\"rgb(209,229,240)\"],[0.7,\"rgb(146,197,222)\"],[0.8,\"rgb(67,147,195)\"],[0.9,\"rgb(33,102,172)\"],[1.0,\"rgb(5,48,97)\"]]},\"legend\":{\"tracegroupgap\":0},\"margin\":{\"t\":60},\"title\":{\"text\":\"A represenation of the users segmentation and its segments\",\"y\":0.9,\"x\":0.5,\"xanchor\":\"center\",\"yanchor\":\"top\"}},                        {\"responsive\": true}                    ).then(function(){\n                            \nvar gd = document.getElementById('37756d54-ab19-49f4-99ac-3edef9df7369');\nvar x = new MutationObserver(function (mutations, observer) {{\n        var display = window.getComputedStyle(gd).display;\n        if (!display || display === 'none') {{\n            console.log([gd, 'removed!']);\n            Plotly.purge(gd);\n            observer.disconnect();\n        }}\n}});\n\n// Listen for the removal of the full notebook cells\nvar notebookContainer = gd.closest('#notebook-container');\nif (notebookContainer) {{\n    x.observe(notebookContainer, {childList: true});\n}}\n\n// Listen for the clearing of the current output cell\nvar outputEl = gd.closest('.output');\nif (outputEl) {{\n    x.observe(outputEl, {childList: true});\n}}\n\n                        })                };                });            </script>        </div>"
     },
     "metadata": {},
     "output_type": "display_data"
    }
   ],
   "source": [
    "fig = px.treemap(df_RFM, path=['DEF'],\n",
    "                 color='Monetary',\n",
    "                 color_continuous_scale='RdBu'\n",
    "                 #color_continuous_midpoint=np.average(map_df['productsSold'], weights=map_df['productsPassRate']) MonetaryCluster\n",
    "                 )\n",
    "fig.update_layout(\n",
    "    title={\n",
    "        'text': \"A represenation of the users segmentation and its segments\",\n",
    "        'y':0.9,\n",
    "        'x':0.5,\n",
    "        'xanchor': 'center',\n",
    "        'yanchor': 'top'})\n",
    "\n",
    "fig.data[0].textinfo = 'label+percent root'\n",
    "#'label', 'text', 'value', 'current path', 'percent root', 'percent entry', 'percent parent'\n",
    "fig.write_image(\"Output/treemap.png\")\n",
    "fig.show()"
   ]
  },
  {
   "cell_type": "code",
   "execution_count": 222,
   "outputs": [],
   "source": [],
   "metadata": {
    "collapsed": false,
    "ExecuteTime": {
     "end_time": "2024-03-22T13:11:41.713199600Z",
     "start_time": "2024-03-22T13:11:41.673239Z"
    }
   }
  },
  {
   "cell_type": "markdown",
   "metadata": {},
   "source": [
    "# Customer life value"
   ]
  },
  {
   "cell_type": "code",
   "execution_count": 223,
   "metadata": {
    "ExecuteTime": {
     "end_time": "2024-03-22T13:11:41.714197900Z",
     "start_time": "2024-03-22T13:11:41.696215200Z"
    }
   },
   "outputs": [
    {
     "data": {
      "text/plain": "   Recency  Frequency  Monetary  r_quartile  f_quartile  m_quartile RFMScore  \\\n1        4          3  32027.04           1           1           1      111   \n2        7          2  22418.91           1           1           1      111   \n\n           DEF  RecencyCluster  FrequencyCluster  MonetaryCluster  \\\n1  hibernating               3                 2                2   \n2  hibernating               3                 0                2   \n\n   OverallScore         Segment  \n1             7  Mid-High-Value  \n2             5   Mid-Low-Value  ",
      "text/html": "<div>\n<style scoped>\n    .dataframe tbody tr th:only-of-type {\n        vertical-align: middle;\n    }\n\n    .dataframe tbody tr th {\n        vertical-align: top;\n    }\n\n    .dataframe thead th {\n        text-align: right;\n    }\n</style>\n<table border=\"1\" class=\"dataframe\">\n  <thead>\n    <tr style=\"text-align: right;\">\n      <th></th>\n      <th>Recency</th>\n      <th>Frequency</th>\n      <th>Monetary</th>\n      <th>r_quartile</th>\n      <th>f_quartile</th>\n      <th>m_quartile</th>\n      <th>RFMScore</th>\n      <th>DEF</th>\n      <th>RecencyCluster</th>\n      <th>FrequencyCluster</th>\n      <th>MonetaryCluster</th>\n      <th>OverallScore</th>\n      <th>Segment</th>\n    </tr>\n  </thead>\n  <tbody>\n    <tr>\n      <th>1</th>\n      <td>4</td>\n      <td>3</td>\n      <td>32027.04</td>\n      <td>1</td>\n      <td>1</td>\n      <td>1</td>\n      <td>111</td>\n      <td>hibernating</td>\n      <td>3</td>\n      <td>2</td>\n      <td>2</td>\n      <td>7</td>\n      <td>Mid-High-Value</td>\n    </tr>\n    <tr>\n      <th>2</th>\n      <td>7</td>\n      <td>2</td>\n      <td>22418.91</td>\n      <td>1</td>\n      <td>1</td>\n      <td>1</td>\n      <td>111</td>\n      <td>hibernating</td>\n      <td>3</td>\n      <td>0</td>\n      <td>2</td>\n      <td>5</td>\n      <td>Mid-Low-Value</td>\n    </tr>\n  </tbody>\n</table>\n</div>"
     },
     "execution_count": 223,
     "metadata": {},
     "output_type": "execute_result"
    }
   ],
   "source": [
    "df_RFM.head(2)"
   ]
  },
  {
   "cell_type": "code",
   "execution_count": 224,
   "metadata": {
    "ExecuteTime": {
     "end_time": "2024-03-22T13:11:42.034694600Z",
     "start_time": "2024-03-22T13:11:41.704207500Z"
    }
   },
   "outputs": [
    {
     "ename": "NameError",
     "evalue": "name 'df_6m' is not defined",
     "output_type": "error",
     "traceback": [
      "\u001B[1;31m---------------------------------------------------------------------------\u001B[0m",
      "\u001B[1;31mNameError\u001B[0m                                 Traceback (most recent call last)",
      "\u001B[1;32m~\\AppData\\Local\\Temp/ipykernel_17036/4068898996.py\u001B[0m in \u001B[0;36m<module>\u001B[1;34m\u001B[0m\n\u001B[0;32m      3\u001B[0m \u001B[1;32mfrom\u001B[0m \u001B[0mlifetimes\u001B[0m \u001B[1;32mimport\u001B[0m \u001B[1;33m*\u001B[0m\u001B[1;33m\u001B[0m\u001B[1;33m\u001B[0m\u001B[0m\n\u001B[0;32m      4\u001B[0m \u001B[1;33m\u001B[0m\u001B[0m\n\u001B[1;32m----> 5\u001B[1;33m \u001B[0mdata\u001B[0m \u001B[1;33m=\u001B[0m \u001B[0msummary_data_from_transaction_data\u001B[0m\u001B[1;33m(\u001B[0m\u001B[0mdf_6m\u001B[0m\u001B[1;33m,\u001B[0m \u001B[1;34m'ID'\u001B[0m\u001B[1;33m,\u001B[0m \u001B[1;34m'Order Date'\u001B[0m\u001B[1;33m,\u001B[0m \u001B[0mmonetary_value_col\u001B[0m\u001B[1;33m=\u001B[0m\u001B[1;34m'Profit'\u001B[0m\u001B[1;33m,\u001B[0m \u001B[0mobservation_period_end\u001B[0m\u001B[1;33m=\u001B[0m\u001B[1;34m'2014-12-31'\u001B[0m\u001B[1;33m)\u001B[0m\u001B[1;33m\u001B[0m\u001B[1;33m\u001B[0m\u001B[0m\n\u001B[0m\u001B[0;32m      6\u001B[0m \u001B[0mdata\u001B[0m\u001B[1;33m.\u001B[0m\u001B[0mhead\u001B[0m\u001B[1;33m(\u001B[0m\u001B[1;33m)\u001B[0m\u001B[1;33m\u001B[0m\u001B[1;33m\u001B[0m\u001B[0m\n",
      "\u001B[1;31mNameError\u001B[0m: name 'df_6m' is not defined"
     ]
    }
   ],
   "source": [
    "from lifetimes.plotting import *\n",
    "from lifetimes.utils import *\n",
    "from lifetimes import *\n",
    "\n",
    "data = summary_data_from_transaction_data(df_6m, 'ID', 'Order Date', monetary_value_col='Profit', observation_period_end='2014-12-31')\n",
    "data.head()"
   ]
  },
  {
   "cell_type": "code",
   "execution_count": null,
   "outputs": [],
   "source": [
    "df_RFM['Frequency'].plot(kind='hist', bins=50)\n",
    "print(data['frequency'].describe())\n",
    "print(sum(df_RFM['Frequency'] == 0)/float(len(df_RFM)))"
   ],
   "metadata": {
    "collapsed": false,
    "ExecuteTime": {
     "start_time": "2024-03-22T13:11:41.799109900Z"
    }
   }
  },
  {
   "cell_type": "markdown",
   "source": [
    "# Churn Rate\n"
   ],
   "metadata": {
    "collapsed": false
   }
  },
  {
   "cell_type": "code",
   "execution_count": 225,
   "outputs": [
    {
     "data": {
      "text/plain": "   Unnamed: 0    Booking number               Start                 End  \\\n0           0  2556005148807663 2020-05-17 10:30:00 2020-05-17 12:00:00   \n1           1  2556005147366661 2020-05-15 16:30:00 2020-05-15 18:00:00   \n2           2  2556005176711086 2020-05-17 13:30:00 2020-05-17 15:00:00   \n3           3  2556005178902031 2020-05-17 18:00:00 2020-05-17 19:30:00   \n\n   Participants  Adults  Participants (details)               Experience  \\\n0             2       2                     NaN  Weightless Luxury Float   \n1             2       2                     NaN  Weightless Luxury Float   \n2             2       2                     NaN  Weightless Luxury Float   \n3             1       1                     NaN  Weightless Luxury Float   \n\n  Product code  Status  ...  Last changed by Canceled  Canceled by  \\\n0  R1A-STDFLOT  normal  ...              NaN      NaT          NaN   \n1  R1A-STDFLOT  normal  ...              NaN      NaT          NaN   \n2  R1A-STDFLOT  normal  ...              NaN      NaT          NaN   \n3  R1A-STDFLOT  normal  ...              NaN      NaT          NaN   \n\n  Add a full service Cryo-air facial with skincare treatment?  \\\n0                                                NaN            \n1                                                NaN            \n2                                                NaN            \n3                                                NaN            \n\n   Would you like float audio?  Would you like lights on extra?            ID  \\\n0   Yes, ambient music for 15m                 Yes, low for 15m -8.561293e+18   \n1   Yes, ambient music for 60m  No, just dark after I get in...  8.655874e+18   \n2   Yes, ambient music for 30m  No, just dark after I get in... -9.053044e+18   \n3       No, just quiet, please  No, just dark after I get in...  0.000000e+00   \n\n           Order Date          Order ID    Profit  \n0 2020-05-14 11:13:00  2556005148807663  12099.10  \n1 2020-05-14 15:41:00  2556005147366661  14234.24  \n2 2020-05-17 12:49:00  2556005176711086  14234.24  \n3 2020-05-17 17:52:00  2556005178902031   7117.12  \n\n[4 rows x 34 columns]",
      "text/html": "<div>\n<style scoped>\n    .dataframe tbody tr th:only-of-type {\n        vertical-align: middle;\n    }\n\n    .dataframe tbody tr th {\n        vertical-align: top;\n    }\n\n    .dataframe thead th {\n        text-align: right;\n    }\n</style>\n<table border=\"1\" class=\"dataframe\">\n  <thead>\n    <tr style=\"text-align: right;\">\n      <th></th>\n      <th>Unnamed: 0</th>\n      <th>Booking number</th>\n      <th>Start</th>\n      <th>End</th>\n      <th>Participants</th>\n      <th>Adults</th>\n      <th>Participants (details)</th>\n      <th>Experience</th>\n      <th>Product code</th>\n      <th>Status</th>\n      <th>...</th>\n      <th>Last changed by</th>\n      <th>Canceled</th>\n      <th>Canceled by</th>\n      <th>Add a full service Cryo-air facial with skincare treatment?</th>\n      <th>Would you like float audio?</th>\n      <th>Would you like lights on extra?</th>\n      <th>ID</th>\n      <th>Order Date</th>\n      <th>Order ID</th>\n      <th>Profit</th>\n    </tr>\n  </thead>\n  <tbody>\n    <tr>\n      <th>0</th>\n      <td>0</td>\n      <td>2556005148807663</td>\n      <td>2020-05-17 10:30:00</td>\n      <td>2020-05-17 12:00:00</td>\n      <td>2</td>\n      <td>2</td>\n      <td>NaN</td>\n      <td>Weightless Luxury Float</td>\n      <td>R1A-STDFLOT</td>\n      <td>normal</td>\n      <td>...</td>\n      <td>NaN</td>\n      <td>NaT</td>\n      <td>NaN</td>\n      <td>NaN</td>\n      <td>Yes, ambient music for 15m</td>\n      <td>Yes, low for 15m</td>\n      <td>-8.561293e+18</td>\n      <td>2020-05-14 11:13:00</td>\n      <td>2556005148807663</td>\n      <td>12099.10</td>\n    </tr>\n    <tr>\n      <th>1</th>\n      <td>1</td>\n      <td>2556005147366661</td>\n      <td>2020-05-15 16:30:00</td>\n      <td>2020-05-15 18:00:00</td>\n      <td>2</td>\n      <td>2</td>\n      <td>NaN</td>\n      <td>Weightless Luxury Float</td>\n      <td>R1A-STDFLOT</td>\n      <td>normal</td>\n      <td>...</td>\n      <td>NaN</td>\n      <td>NaT</td>\n      <td>NaN</td>\n      <td>NaN</td>\n      <td>Yes, ambient music for 60m</td>\n      <td>No, just dark after I get in...</td>\n      <td>8.655874e+18</td>\n      <td>2020-05-14 15:41:00</td>\n      <td>2556005147366661</td>\n      <td>14234.24</td>\n    </tr>\n    <tr>\n      <th>2</th>\n      <td>2</td>\n      <td>2556005176711086</td>\n      <td>2020-05-17 13:30:00</td>\n      <td>2020-05-17 15:00:00</td>\n      <td>2</td>\n      <td>2</td>\n      <td>NaN</td>\n      <td>Weightless Luxury Float</td>\n      <td>R1A-STDFLOT</td>\n      <td>normal</td>\n      <td>...</td>\n      <td>NaN</td>\n      <td>NaT</td>\n      <td>NaN</td>\n      <td>NaN</td>\n      <td>Yes, ambient music for 30m</td>\n      <td>No, just dark after I get in...</td>\n      <td>-9.053044e+18</td>\n      <td>2020-05-17 12:49:00</td>\n      <td>2556005176711086</td>\n      <td>14234.24</td>\n    </tr>\n    <tr>\n      <th>3</th>\n      <td>3</td>\n      <td>2556005178902031</td>\n      <td>2020-05-17 18:00:00</td>\n      <td>2020-05-17 19:30:00</td>\n      <td>1</td>\n      <td>1</td>\n      <td>NaN</td>\n      <td>Weightless Luxury Float</td>\n      <td>R1A-STDFLOT</td>\n      <td>normal</td>\n      <td>...</td>\n      <td>NaN</td>\n      <td>NaT</td>\n      <td>NaN</td>\n      <td>NaN</td>\n      <td>No, just quiet, please</td>\n      <td>No, just dark after I get in...</td>\n      <td>0.000000e+00</td>\n      <td>2020-05-17 17:52:00</td>\n      <td>2556005178902031</td>\n      <td>7117.12</td>\n    </tr>\n  </tbody>\n</table>\n<p>4 rows × 34 columns</p>\n</div>"
     },
     "execution_count": 225,
     "metadata": {},
     "output_type": "execute_result"
    }
   ],
   "source": [
    "df = pd.read_excel(\"data/data.xlsx\")\n",
    "#creating fields for the RFM table\n",
    "\n",
    "#order date\n",
    "df['Order Date'] = df['Created']\n",
    "#order ID\n",
    "df['Order ID'] = df['Booking number']\n",
    "#profit\n",
    "df['Profit'] = df['Total net']\n",
    "df.head(4)"
   ],
   "metadata": {
    "collapsed": false,
    "ExecuteTime": {
     "end_time": "2024-03-22T13:12:01.789890100Z",
     "start_time": "2024-03-22T13:12:01.631483100Z"
    }
   }
  },
  {
   "cell_type": "code",
   "execution_count": 226,
   "outputs": [],
   "source": [
    "import datetime as dt\n",
    "# Function that converts date to year month\n",
    "def get_month(x):\n",
    "    return dt.datetime(x.year, x.month, 1)\n",
    "# Create the invoicemonth period column\n",
    "\n",
    "df['InvoiceMonth'] = df['Order Date'].apply(get_month)\n"
   ],
   "metadata": {
    "collapsed": false,
    "ExecuteTime": {
     "end_time": "2024-03-22T13:12:01.813865100Z",
     "start_time": "2024-03-22T13:12:01.795878200Z"
    }
   }
  },
  {
   "cell_type": "code",
   "execution_count": 227,
   "outputs": [],
   "source": [
    "# Group by customerID and select only the invoicemonth column\n",
    "grouping = df.groupby('ID')['InvoiceMonth']\n",
    "\n",
    "# Take the earliest date of each customer and assign it back to the orignal dataset\n",
    "df['CohortMonth'] = grouping.transform('min')"
   ],
   "metadata": {
    "collapsed": false,
    "ExecuteTime": {
     "end_time": "2024-03-22T13:12:02.043881800Z",
     "start_time": "2024-03-22T13:12:01.805865200Z"
    }
   }
  },
  {
   "cell_type": "code",
   "execution_count": 228,
   "outputs": [
    {
     "data": {
      "text/plain": "   Unnamed: 0    Booking number               Start                 End  \\\n0           0  2556005148807663 2020-05-17 10:30:00 2020-05-17 12:00:00   \n1           1  2556005147366661 2020-05-15 16:30:00 2020-05-15 18:00:00   \n2           2  2556005176711086 2020-05-17 13:30:00 2020-05-17 15:00:00   \n3           3  2556005178902031 2020-05-17 18:00:00 2020-05-17 19:30:00   \n4           4  2556005207608961 2020-05-20 16:30:00 2020-05-20 18:00:00   \n\n   Participants  Adults  Participants (details)               Experience  \\\n0             2       2                     NaN  Weightless Luxury Float   \n1             2       2                     NaN  Weightless Luxury Float   \n2             2       2                     NaN  Weightless Luxury Float   \n3             1       1                     NaN  Weightless Luxury Float   \n4             2       2                     NaN  Weightless Luxury Float   \n\n  Product code  Status  ...  \\\n0  R1A-STDFLOT  normal  ...   \n1  R1A-STDFLOT  normal  ...   \n2  R1A-STDFLOT  normal  ...   \n3  R1A-STDFLOT  normal  ...   \n4  R1A-STDFLOT  normal  ...   \n\n   Add a full service Cryo-air facial with skincare treatment?  \\\n0                                                NaN             \n1                                                NaN             \n2                                                NaN             \n3                                                NaN             \n4                                                NaN             \n\n  Would you like float audio?  Would you like lights on extra?            ID  \\\n0  Yes, ambient music for 15m                 Yes, low for 15m -8.561293e+18   \n1  Yes, ambient music for 60m  No, just dark after I get in...  8.655874e+18   \n2  Yes, ambient music for 30m  No, just dark after I get in... -9.053044e+18   \n3      No, just quiet, please  No, just dark after I get in...  0.000000e+00   \n4      No, just quiet, please  No, just dark after I get in... -4.976860e+18   \n\n           Order Date          Order ID    Profit InvoiceMonth  CohortMonth  \\\n0 2020-05-14 11:13:00  2556005148807663  12099.10   2020-05-01   2020-05-01   \n1 2020-05-14 15:41:00  2556005147366661  14234.24   2020-05-01   2020-05-01   \n2 2020-05-17 12:49:00  2556005176711086  14234.24   2020-05-01   2020-05-01   \n3 2020-05-17 17:52:00  2556005178902031   7117.12   2020-05-01   2020-05-01   \n4 2020-05-20 12:00:00  2556005207608961      0.01   2020-05-01   2020-05-01   \n\n   CohortIndex  \n0            1  \n1            1  \n2            1  \n3            1  \n4            1  \n\n[5 rows x 37 columns]",
      "text/html": "<div>\n<style scoped>\n    .dataframe tbody tr th:only-of-type {\n        vertical-align: middle;\n    }\n\n    .dataframe tbody tr th {\n        vertical-align: top;\n    }\n\n    .dataframe thead th {\n        text-align: right;\n    }\n</style>\n<table border=\"1\" class=\"dataframe\">\n  <thead>\n    <tr style=\"text-align: right;\">\n      <th></th>\n      <th>Unnamed: 0</th>\n      <th>Booking number</th>\n      <th>Start</th>\n      <th>End</th>\n      <th>Participants</th>\n      <th>Adults</th>\n      <th>Participants (details)</th>\n      <th>Experience</th>\n      <th>Product code</th>\n      <th>Status</th>\n      <th>...</th>\n      <th>Add a full service Cryo-air facial with skincare treatment?</th>\n      <th>Would you like float audio?</th>\n      <th>Would you like lights on extra?</th>\n      <th>ID</th>\n      <th>Order Date</th>\n      <th>Order ID</th>\n      <th>Profit</th>\n      <th>InvoiceMonth</th>\n      <th>CohortMonth</th>\n      <th>CohortIndex</th>\n    </tr>\n  </thead>\n  <tbody>\n    <tr>\n      <th>0</th>\n      <td>0</td>\n      <td>2556005148807663</td>\n      <td>2020-05-17 10:30:00</td>\n      <td>2020-05-17 12:00:00</td>\n      <td>2</td>\n      <td>2</td>\n      <td>NaN</td>\n      <td>Weightless Luxury Float</td>\n      <td>R1A-STDFLOT</td>\n      <td>normal</td>\n      <td>...</td>\n      <td>NaN</td>\n      <td>Yes, ambient music for 15m</td>\n      <td>Yes, low for 15m</td>\n      <td>-8.561293e+18</td>\n      <td>2020-05-14 11:13:00</td>\n      <td>2556005148807663</td>\n      <td>12099.10</td>\n      <td>2020-05-01</td>\n      <td>2020-05-01</td>\n      <td>1</td>\n    </tr>\n    <tr>\n      <th>1</th>\n      <td>1</td>\n      <td>2556005147366661</td>\n      <td>2020-05-15 16:30:00</td>\n      <td>2020-05-15 18:00:00</td>\n      <td>2</td>\n      <td>2</td>\n      <td>NaN</td>\n      <td>Weightless Luxury Float</td>\n      <td>R1A-STDFLOT</td>\n      <td>normal</td>\n      <td>...</td>\n      <td>NaN</td>\n      <td>Yes, ambient music for 60m</td>\n      <td>No, just dark after I get in...</td>\n      <td>8.655874e+18</td>\n      <td>2020-05-14 15:41:00</td>\n      <td>2556005147366661</td>\n      <td>14234.24</td>\n      <td>2020-05-01</td>\n      <td>2020-05-01</td>\n      <td>1</td>\n    </tr>\n    <tr>\n      <th>2</th>\n      <td>2</td>\n      <td>2556005176711086</td>\n      <td>2020-05-17 13:30:00</td>\n      <td>2020-05-17 15:00:00</td>\n      <td>2</td>\n      <td>2</td>\n      <td>NaN</td>\n      <td>Weightless Luxury Float</td>\n      <td>R1A-STDFLOT</td>\n      <td>normal</td>\n      <td>...</td>\n      <td>NaN</td>\n      <td>Yes, ambient music for 30m</td>\n      <td>No, just dark after I get in...</td>\n      <td>-9.053044e+18</td>\n      <td>2020-05-17 12:49:00</td>\n      <td>2556005176711086</td>\n      <td>14234.24</td>\n      <td>2020-05-01</td>\n      <td>2020-05-01</td>\n      <td>1</td>\n    </tr>\n    <tr>\n      <th>3</th>\n      <td>3</td>\n      <td>2556005178902031</td>\n      <td>2020-05-17 18:00:00</td>\n      <td>2020-05-17 19:30:00</td>\n      <td>1</td>\n      <td>1</td>\n      <td>NaN</td>\n      <td>Weightless Luxury Float</td>\n      <td>R1A-STDFLOT</td>\n      <td>normal</td>\n      <td>...</td>\n      <td>NaN</td>\n      <td>No, just quiet, please</td>\n      <td>No, just dark after I get in...</td>\n      <td>0.000000e+00</td>\n      <td>2020-05-17 17:52:00</td>\n      <td>2556005178902031</td>\n      <td>7117.12</td>\n      <td>2020-05-01</td>\n      <td>2020-05-01</td>\n      <td>1</td>\n    </tr>\n    <tr>\n      <th>4</th>\n      <td>4</td>\n      <td>2556005207608961</td>\n      <td>2020-05-20 16:30:00</td>\n      <td>2020-05-20 18:00:00</td>\n      <td>2</td>\n      <td>2</td>\n      <td>NaN</td>\n      <td>Weightless Luxury Float</td>\n      <td>R1A-STDFLOT</td>\n      <td>normal</td>\n      <td>...</td>\n      <td>NaN</td>\n      <td>No, just quiet, please</td>\n      <td>No, just dark after I get in...</td>\n      <td>-4.976860e+18</td>\n      <td>2020-05-20 12:00:00</td>\n      <td>2556005207608961</td>\n      <td>0.01</td>\n      <td>2020-05-01</td>\n      <td>2020-05-01</td>\n      <td>1</td>\n    </tr>\n  </tbody>\n</table>\n<p>5 rows × 37 columns</p>\n</div>"
     },
     "execution_count": 228,
     "metadata": {},
     "output_type": "execute_result"
    }
   ],
   "source": [
    "# This function gets us the integer value of year and month\n",
    "def get_date_int(df, column):\n",
    "    year = df[column].dt.year\n",
    "    month = df[column].dt.month\n",
    "    return year, month\n",
    "\n",
    "# Get the integers for the date parts from the 'InvoiceMonth' column\n",
    "invoice_year, invoice_month = get_date_int(df, 'InvoiceMonth')\n",
    "\n",
    "# Get the integers for date parts from the 'Cohortmonth' column\n",
    "cohort_year, cohort_month = get_date_int(df, 'CohortMonth')\n",
    "\n",
    "# Calculate difference in years\n",
    "years_diff = invoice_year - cohort_year\n",
    "\n",
    "# Calculate difference in months\n",
    "months_diff = invoice_month - cohort_month\n",
    "\n",
    "# Extract the difference in months from all previous values\n",
    "df['CohortIndex'] = years_diff * 12 + months_diff + 1\n",
    "df.head()\n"
   ],
   "metadata": {
    "collapsed": false,
    "ExecuteTime": {
     "end_time": "2024-03-22T13:12:02.096812600Z",
     "start_time": "2024-03-22T13:12:01.950976200Z"
    }
   }
  },
  {
   "cell_type": "code",
   "execution_count": 229,
   "outputs": [],
   "source": [
    "grouping = df.groupby(['CohortMonth', 'CohortIndex'])\n",
    "# Count the number of unique values per Customer ID\n",
    "cohort_data = grouping['ID'].apply(pd.Series.nunique).reset_index()\n",
    "\n",
    "# Create a pivot\n",
    "cohort_counts = cohort_data.pivot(index='CohortMonth', columns='CohortIndex', values='ID')\n",
    "\n",
    "# Select the first column and store it to cohort_sizes\n",
    "cohort_sizes = cohort_counts.iloc[:,0]\n",
    "\n",
    "# Divide the cohort count by cohort sizes along the rows\n",
    "retention = cohort_counts.divide(cohort_sizes, axis=0)*100"
   ],
   "metadata": {
    "collapsed": false,
    "ExecuteTime": {
     "end_time": "2024-03-22T13:12:02.162931100Z",
     "start_time": "2024-03-22T13:12:02.058853700Z"
    }
   }
  },
  {
   "cell_type": "code",
   "execution_count": 230,
   "outputs": [
    {
     "data": {
      "application/vnd.plotly.v1+json": {
       "data": [
        {
         "colorbar": {
          "title": {
           "text": "Retention in %"
          }
         },
         "colorscale": [
          [
           0.0,
           "rgb(103,0,31)"
          ],
          [
           0.1,
           "rgb(178,24,43)"
          ],
          [
           0.2,
           "rgb(214,96,77)"
          ],
          [
           0.3,
           "rgb(244,165,130)"
          ],
          [
           0.4,
           "rgb(253,219,199)"
          ],
          [
           0.5,
           "rgb(247,247,247)"
          ],
          [
           0.6,
           "rgb(209,229,240)"
          ],
          [
           0.7,
           "rgb(146,197,222)"
          ],
          [
           0.8,
           "rgb(67,147,195)"
          ],
          [
           0.9,
           "rgb(33,102,172)"
          ],
          [
           1.0,
           "rgb(5,48,97)"
          ]
         ],
         "hoverongaps": false,
         "x": [
          1,
          2,
          3,
          4
         ],
         "y": [
          "May-20",
          "Jun-20",
          "Jul-20",
          "Aug-20"
         ],
         "z": [
          [
           100.0,
           11.11111111111111,
           8.333333333333332,
           2.7777777777777777
          ],
          [
           100.0,
           11.594202898550725,
           5.797101449275362,
           null
          ],
          [
           100.0,
           9.090909090909092,
           null,
           null
          ],
          [
           100.0,
           null,
           null,
           null
          ]
         ],
         "type": "heatmap"
        }
       ],
       "layout": {
        "template": {
         "data": {
          "histogram2dcontour": [
           {
            "type": "histogram2dcontour",
            "colorbar": {
             "outlinewidth": 0,
             "ticks": ""
            },
            "colorscale": [
             [
              0.0,
              "#0d0887"
             ],
             [
              0.1111111111111111,
              "#46039f"
             ],
             [
              0.2222222222222222,
              "#7201a8"
             ],
             [
              0.3333333333333333,
              "#9c179e"
             ],
             [
              0.4444444444444444,
              "#bd3786"
             ],
             [
              0.5555555555555556,
              "#d8576b"
             ],
             [
              0.6666666666666666,
              "#ed7953"
             ],
             [
              0.7777777777777778,
              "#fb9f3a"
             ],
             [
              0.8888888888888888,
              "#fdca26"
             ],
             [
              1.0,
              "#f0f921"
             ]
            ]
           }
          ],
          "choropleth": [
           {
            "type": "choropleth",
            "colorbar": {
             "outlinewidth": 0,
             "ticks": ""
            }
           }
          ],
          "histogram2d": [
           {
            "type": "histogram2d",
            "colorbar": {
             "outlinewidth": 0,
             "ticks": ""
            },
            "colorscale": [
             [
              0.0,
              "#0d0887"
             ],
             [
              0.1111111111111111,
              "#46039f"
             ],
             [
              0.2222222222222222,
              "#7201a8"
             ],
             [
              0.3333333333333333,
              "#9c179e"
             ],
             [
              0.4444444444444444,
              "#bd3786"
             ],
             [
              0.5555555555555556,
              "#d8576b"
             ],
             [
              0.6666666666666666,
              "#ed7953"
             ],
             [
              0.7777777777777778,
              "#fb9f3a"
             ],
             [
              0.8888888888888888,
              "#fdca26"
             ],
             [
              1.0,
              "#f0f921"
             ]
            ]
           }
          ],
          "heatmap": [
           {
            "type": "heatmap",
            "colorbar": {
             "outlinewidth": 0,
             "ticks": ""
            },
            "colorscale": [
             [
              0.0,
              "#0d0887"
             ],
             [
              0.1111111111111111,
              "#46039f"
             ],
             [
              0.2222222222222222,
              "#7201a8"
             ],
             [
              0.3333333333333333,
              "#9c179e"
             ],
             [
              0.4444444444444444,
              "#bd3786"
             ],
             [
              0.5555555555555556,
              "#d8576b"
             ],
             [
              0.6666666666666666,
              "#ed7953"
             ],
             [
              0.7777777777777778,
              "#fb9f3a"
             ],
             [
              0.8888888888888888,
              "#fdca26"
             ],
             [
              1.0,
              "#f0f921"
             ]
            ]
           }
          ],
          "heatmapgl": [
           {
            "type": "heatmapgl",
            "colorbar": {
             "outlinewidth": 0,
             "ticks": ""
            },
            "colorscale": [
             [
              0.0,
              "#0d0887"
             ],
             [
              0.1111111111111111,
              "#46039f"
             ],
             [
              0.2222222222222222,
              "#7201a8"
             ],
             [
              0.3333333333333333,
              "#9c179e"
             ],
             [
              0.4444444444444444,
              "#bd3786"
             ],
             [
              0.5555555555555556,
              "#d8576b"
             ],
             [
              0.6666666666666666,
              "#ed7953"
             ],
             [
              0.7777777777777778,
              "#fb9f3a"
             ],
             [
              0.8888888888888888,
              "#fdca26"
             ],
             [
              1.0,
              "#f0f921"
             ]
            ]
           }
          ],
          "contourcarpet": [
           {
            "type": "contourcarpet",
            "colorbar": {
             "outlinewidth": 0,
             "ticks": ""
            }
           }
          ],
          "contour": [
           {
            "type": "contour",
            "colorbar": {
             "outlinewidth": 0,
             "ticks": ""
            },
            "colorscale": [
             [
              0.0,
              "#0d0887"
             ],
             [
              0.1111111111111111,
              "#46039f"
             ],
             [
              0.2222222222222222,
              "#7201a8"
             ],
             [
              0.3333333333333333,
              "#9c179e"
             ],
             [
              0.4444444444444444,
              "#bd3786"
             ],
             [
              0.5555555555555556,
              "#d8576b"
             ],
             [
              0.6666666666666666,
              "#ed7953"
             ],
             [
              0.7777777777777778,
              "#fb9f3a"
             ],
             [
              0.8888888888888888,
              "#fdca26"
             ],
             [
              1.0,
              "#f0f921"
             ]
            ]
           }
          ],
          "surface": [
           {
            "type": "surface",
            "colorbar": {
             "outlinewidth": 0,
             "ticks": ""
            },
            "colorscale": [
             [
              0.0,
              "#0d0887"
             ],
             [
              0.1111111111111111,
              "#46039f"
             ],
             [
              0.2222222222222222,
              "#7201a8"
             ],
             [
              0.3333333333333333,
              "#9c179e"
             ],
             [
              0.4444444444444444,
              "#bd3786"
             ],
             [
              0.5555555555555556,
              "#d8576b"
             ],
             [
              0.6666666666666666,
              "#ed7953"
             ],
             [
              0.7777777777777778,
              "#fb9f3a"
             ],
             [
              0.8888888888888888,
              "#fdca26"
             ],
             [
              1.0,
              "#f0f921"
             ]
            ]
           }
          ],
          "mesh3d": [
           {
            "type": "mesh3d",
            "colorbar": {
             "outlinewidth": 0,
             "ticks": ""
            }
           }
          ],
          "scatter": [
           {
            "fillpattern": {
             "fillmode": "overlay",
             "size": 10,
             "solidity": 0.2
            },
            "type": "scatter"
           }
          ],
          "parcoords": [
           {
            "type": "parcoords",
            "line": {
             "colorbar": {
              "outlinewidth": 0,
              "ticks": ""
             }
            }
           }
          ],
          "scatterpolargl": [
           {
            "type": "scatterpolargl",
            "marker": {
             "colorbar": {
              "outlinewidth": 0,
              "ticks": ""
             }
            }
           }
          ],
          "bar": [
           {
            "error_x": {
             "color": "#2a3f5f"
            },
            "error_y": {
             "color": "#2a3f5f"
            },
            "marker": {
             "line": {
              "color": "#E5ECF6",
              "width": 0.5
             },
             "pattern": {
              "fillmode": "overlay",
              "size": 10,
              "solidity": 0.2
             }
            },
            "type": "bar"
           }
          ],
          "scattergeo": [
           {
            "type": "scattergeo",
            "marker": {
             "colorbar": {
              "outlinewidth": 0,
              "ticks": ""
             }
            }
           }
          ],
          "scatterpolar": [
           {
            "type": "scatterpolar",
            "marker": {
             "colorbar": {
              "outlinewidth": 0,
              "ticks": ""
             }
            }
           }
          ],
          "histogram": [
           {
            "marker": {
             "pattern": {
              "fillmode": "overlay",
              "size": 10,
              "solidity": 0.2
             }
            },
            "type": "histogram"
           }
          ],
          "scattergl": [
           {
            "type": "scattergl",
            "marker": {
             "colorbar": {
              "outlinewidth": 0,
              "ticks": ""
             }
            }
           }
          ],
          "scatter3d": [
           {
            "type": "scatter3d",
            "line": {
             "colorbar": {
              "outlinewidth": 0,
              "ticks": ""
             }
            },
            "marker": {
             "colorbar": {
              "outlinewidth": 0,
              "ticks": ""
             }
            }
           }
          ],
          "scattermapbox": [
           {
            "type": "scattermapbox",
            "marker": {
             "colorbar": {
              "outlinewidth": 0,
              "ticks": ""
             }
            }
           }
          ],
          "scatterternary": [
           {
            "type": "scatterternary",
            "marker": {
             "colorbar": {
              "outlinewidth": 0,
              "ticks": ""
             }
            }
           }
          ],
          "scattercarpet": [
           {
            "type": "scattercarpet",
            "marker": {
             "colorbar": {
              "outlinewidth": 0,
              "ticks": ""
             }
            }
           }
          ],
          "carpet": [
           {
            "aaxis": {
             "endlinecolor": "#2a3f5f",
             "gridcolor": "white",
             "linecolor": "white",
             "minorgridcolor": "white",
             "startlinecolor": "#2a3f5f"
            },
            "baxis": {
             "endlinecolor": "#2a3f5f",
             "gridcolor": "white",
             "linecolor": "white",
             "minorgridcolor": "white",
             "startlinecolor": "#2a3f5f"
            },
            "type": "carpet"
           }
          ],
          "table": [
           {
            "cells": {
             "fill": {
              "color": "#EBF0F8"
             },
             "line": {
              "color": "white"
             }
            },
            "header": {
             "fill": {
              "color": "#C8D4E3"
             },
             "line": {
              "color": "white"
             }
            },
            "type": "table"
           }
          ],
          "barpolar": [
           {
            "marker": {
             "line": {
              "color": "#E5ECF6",
              "width": 0.5
             },
             "pattern": {
              "fillmode": "overlay",
              "size": 10,
              "solidity": 0.2
             }
            },
            "type": "barpolar"
           }
          ],
          "pie": [
           {
            "automargin": true,
            "type": "pie"
           }
          ]
         },
         "layout": {
          "autotypenumbers": "strict",
          "colorway": [
           "#636efa",
           "#EF553B",
           "#00cc96",
           "#ab63fa",
           "#FFA15A",
           "#19d3f3",
           "#FF6692",
           "#B6E880",
           "#FF97FF",
           "#FECB52"
          ],
          "font": {
           "color": "#2a3f5f"
          },
          "hovermode": "closest",
          "hoverlabel": {
           "align": "left"
          },
          "paper_bgcolor": "white",
          "plot_bgcolor": "#E5ECF6",
          "polar": {
           "bgcolor": "#E5ECF6",
           "angularaxis": {
            "gridcolor": "white",
            "linecolor": "white",
            "ticks": ""
           },
           "radialaxis": {
            "gridcolor": "white",
            "linecolor": "white",
            "ticks": ""
           }
          },
          "ternary": {
           "bgcolor": "#E5ECF6",
           "aaxis": {
            "gridcolor": "white",
            "linecolor": "white",
            "ticks": ""
           },
           "baxis": {
            "gridcolor": "white",
            "linecolor": "white",
            "ticks": ""
           },
           "caxis": {
            "gridcolor": "white",
            "linecolor": "white",
            "ticks": ""
           }
          },
          "coloraxis": {
           "colorbar": {
            "outlinewidth": 0,
            "ticks": ""
           }
          },
          "colorscale": {
           "sequential": [
            [
             0.0,
             "#0d0887"
            ],
            [
             0.1111111111111111,
             "#46039f"
            ],
            [
             0.2222222222222222,
             "#7201a8"
            ],
            [
             0.3333333333333333,
             "#9c179e"
            ],
            [
             0.4444444444444444,
             "#bd3786"
            ],
            [
             0.5555555555555556,
             "#d8576b"
            ],
            [
             0.6666666666666666,
             "#ed7953"
            ],
            [
             0.7777777777777778,
             "#fb9f3a"
            ],
            [
             0.8888888888888888,
             "#fdca26"
            ],
            [
             1.0,
             "#f0f921"
            ]
           ],
           "sequentialminus": [
            [
             0.0,
             "#0d0887"
            ],
            [
             0.1111111111111111,
             "#46039f"
            ],
            [
             0.2222222222222222,
             "#7201a8"
            ],
            [
             0.3333333333333333,
             "#9c179e"
            ],
            [
             0.4444444444444444,
             "#bd3786"
            ],
            [
             0.5555555555555556,
             "#d8576b"
            ],
            [
             0.6666666666666666,
             "#ed7953"
            ],
            [
             0.7777777777777778,
             "#fb9f3a"
            ],
            [
             0.8888888888888888,
             "#fdca26"
            ],
            [
             1.0,
             "#f0f921"
            ]
           ],
           "diverging": [
            [
             0,
             "#8e0152"
            ],
            [
             0.1,
             "#c51b7d"
            ],
            [
             0.2,
             "#de77ae"
            ],
            [
             0.3,
             "#f1b6da"
            ],
            [
             0.4,
             "#fde0ef"
            ],
            [
             0.5,
             "#f7f7f7"
            ],
            [
             0.6,
             "#e6f5d0"
            ],
            [
             0.7,
             "#b8e186"
            ],
            [
             0.8,
             "#7fbc41"
            ],
            [
             0.9,
             "#4d9221"
            ],
            [
             1,
             "#276419"
            ]
           ]
          },
          "xaxis": {
           "gridcolor": "white",
           "linecolor": "white",
           "ticks": "",
           "title": {
            "standoff": 15
           },
           "zerolinecolor": "white",
           "automargin": true,
           "zerolinewidth": 2
          },
          "yaxis": {
           "gridcolor": "white",
           "linecolor": "white",
           "ticks": "",
           "title": {
            "standoff": 15
           },
           "zerolinecolor": "white",
           "automargin": true,
           "zerolinewidth": 2
          },
          "scene": {
           "xaxis": {
            "backgroundcolor": "#E5ECF6",
            "gridcolor": "white",
            "linecolor": "white",
            "showbackground": true,
            "ticks": "",
            "zerolinecolor": "white",
            "gridwidth": 2
           },
           "yaxis": {
            "backgroundcolor": "#E5ECF6",
            "gridcolor": "white",
            "linecolor": "white",
            "showbackground": true,
            "ticks": "",
            "zerolinecolor": "white",
            "gridwidth": 2
           },
           "zaxis": {
            "backgroundcolor": "#E5ECF6",
            "gridcolor": "white",
            "linecolor": "white",
            "showbackground": true,
            "ticks": "",
            "zerolinecolor": "white",
            "gridwidth": 2
           }
          },
          "shapedefaults": {
           "line": {
            "color": "#2a3f5f"
           }
          },
          "annotationdefaults": {
           "arrowcolor": "#2a3f5f",
           "arrowhead": 0,
           "arrowwidth": 1
          },
          "geo": {
           "bgcolor": "white",
           "landcolor": "#E5ECF6",
           "subunitcolor": "white",
           "showland": true,
           "showlakes": true,
           "lakecolor": "white"
          },
          "title": {
           "x": 0.05
          },
          "mapbox": {
           "style": "light"
          }
         }
        },
        "title": {
         "text": "Retention by Monthly Cohorts"
        },
        "xaxis": {
         "title": {
          "text": "Cohort Index"
         }
        },
        "yaxis": {
         "title": {
          "text": "Cohort Month"
         }
        }
       },
       "config": {
        "plotlyServerURL": "https://plot.ly"
       }
      },
      "text/html": "<div>                            <div id=\"abbd1417-bfa4-4cda-82a0-ff9b78568f65\" class=\"plotly-graph-div\" style=\"height:525px; width:100%;\"></div>            <script type=\"text/javascript\">                require([\"plotly\"], function(Plotly) {                    window.PLOTLYENV=window.PLOTLYENV || {};                                    if (document.getElementById(\"abbd1417-bfa4-4cda-82a0-ff9b78568f65\")) {                    Plotly.newPlot(                        \"abbd1417-bfa4-4cda-82a0-ff9b78568f65\",                        [{\"colorbar\":{\"title\":{\"text\":\"Retention in %\"}},\"colorscale\":[[0.0,\"rgb(103,0,31)\"],[0.1,\"rgb(178,24,43)\"],[0.2,\"rgb(214,96,77)\"],[0.3,\"rgb(244,165,130)\"],[0.4,\"rgb(253,219,199)\"],[0.5,\"rgb(247,247,247)\"],[0.6,\"rgb(209,229,240)\"],[0.7,\"rgb(146,197,222)\"],[0.8,\"rgb(67,147,195)\"],[0.9,\"rgb(33,102,172)\"],[1.0,\"rgb(5,48,97)\"]],\"hoverongaps\":false,\"x\":[1,2,3,4],\"y\":[\"May-20\",\"Jun-20\",\"Jul-20\",\"Aug-20\"],\"z\":[[100.0,11.11111111111111,8.333333333333332,2.7777777777777777],[100.0,11.594202898550725,5.797101449275362,null],[100.0,9.090909090909092,null,null],[100.0,null,null,null]],\"type\":\"heatmap\"}],                        {\"template\":{\"data\":{\"histogram2dcontour\":[{\"type\":\"histogram2dcontour\",\"colorbar\":{\"outlinewidth\":0,\"ticks\":\"\"},\"colorscale\":[[0.0,\"#0d0887\"],[0.1111111111111111,\"#46039f\"],[0.2222222222222222,\"#7201a8\"],[0.3333333333333333,\"#9c179e\"],[0.4444444444444444,\"#bd3786\"],[0.5555555555555556,\"#d8576b\"],[0.6666666666666666,\"#ed7953\"],[0.7777777777777778,\"#fb9f3a\"],[0.8888888888888888,\"#fdca26\"],[1.0,\"#f0f921\"]]}],\"choropleth\":[{\"type\":\"choropleth\",\"colorbar\":{\"outlinewidth\":0,\"ticks\":\"\"}}],\"histogram2d\":[{\"type\":\"histogram2d\",\"colorbar\":{\"outlinewidth\":0,\"ticks\":\"\"},\"colorscale\":[[0.0,\"#0d0887\"],[0.1111111111111111,\"#46039f\"],[0.2222222222222222,\"#7201a8\"],[0.3333333333333333,\"#9c179e\"],[0.4444444444444444,\"#bd3786\"],[0.5555555555555556,\"#d8576b\"],[0.6666666666666666,\"#ed7953\"],[0.7777777777777778,\"#fb9f3a\"],[0.8888888888888888,\"#fdca26\"],[1.0,\"#f0f921\"]]}],\"heatmap\":[{\"type\":\"heatmap\",\"colorbar\":{\"outlinewidth\":0,\"ticks\":\"\"},\"colorscale\":[[0.0,\"#0d0887\"],[0.1111111111111111,\"#46039f\"],[0.2222222222222222,\"#7201a8\"],[0.3333333333333333,\"#9c179e\"],[0.4444444444444444,\"#bd3786\"],[0.5555555555555556,\"#d8576b\"],[0.6666666666666666,\"#ed7953\"],[0.7777777777777778,\"#fb9f3a\"],[0.8888888888888888,\"#fdca26\"],[1.0,\"#f0f921\"]]}],\"heatmapgl\":[{\"type\":\"heatmapgl\",\"colorbar\":{\"outlinewidth\":0,\"ticks\":\"\"},\"colorscale\":[[0.0,\"#0d0887\"],[0.1111111111111111,\"#46039f\"],[0.2222222222222222,\"#7201a8\"],[0.3333333333333333,\"#9c179e\"],[0.4444444444444444,\"#bd3786\"],[0.5555555555555556,\"#d8576b\"],[0.6666666666666666,\"#ed7953\"],[0.7777777777777778,\"#fb9f3a\"],[0.8888888888888888,\"#fdca26\"],[1.0,\"#f0f921\"]]}],\"contourcarpet\":[{\"type\":\"contourcarpet\",\"colorbar\":{\"outlinewidth\":0,\"ticks\":\"\"}}],\"contour\":[{\"type\":\"contour\",\"colorbar\":{\"outlinewidth\":0,\"ticks\":\"\"},\"colorscale\":[[0.0,\"#0d0887\"],[0.1111111111111111,\"#46039f\"],[0.2222222222222222,\"#7201a8\"],[0.3333333333333333,\"#9c179e\"],[0.4444444444444444,\"#bd3786\"],[0.5555555555555556,\"#d8576b\"],[0.6666666666666666,\"#ed7953\"],[0.7777777777777778,\"#fb9f3a\"],[0.8888888888888888,\"#fdca26\"],[1.0,\"#f0f921\"]]}],\"surface\":[{\"type\":\"surface\",\"colorbar\":{\"outlinewidth\":0,\"ticks\":\"\"},\"colorscale\":[[0.0,\"#0d0887\"],[0.1111111111111111,\"#46039f\"],[0.2222222222222222,\"#7201a8\"],[0.3333333333333333,\"#9c179e\"],[0.4444444444444444,\"#bd3786\"],[0.5555555555555556,\"#d8576b\"],[0.6666666666666666,\"#ed7953\"],[0.7777777777777778,\"#fb9f3a\"],[0.8888888888888888,\"#fdca26\"],[1.0,\"#f0f921\"]]}],\"mesh3d\":[{\"type\":\"mesh3d\",\"colorbar\":{\"outlinewidth\":0,\"ticks\":\"\"}}],\"scatter\":[{\"fillpattern\":{\"fillmode\":\"overlay\",\"size\":10,\"solidity\":0.2},\"type\":\"scatter\"}],\"parcoords\":[{\"type\":\"parcoords\",\"line\":{\"colorbar\":{\"outlinewidth\":0,\"ticks\":\"\"}}}],\"scatterpolargl\":[{\"type\":\"scatterpolargl\",\"marker\":{\"colorbar\":{\"outlinewidth\":0,\"ticks\":\"\"}}}],\"bar\":[{\"error_x\":{\"color\":\"#2a3f5f\"},\"error_y\":{\"color\":\"#2a3f5f\"},\"marker\":{\"line\":{\"color\":\"#E5ECF6\",\"width\":0.5},\"pattern\":{\"fillmode\":\"overlay\",\"size\":10,\"solidity\":0.2}},\"type\":\"bar\"}],\"scattergeo\":[{\"type\":\"scattergeo\",\"marker\":{\"colorbar\":{\"outlinewidth\":0,\"ticks\":\"\"}}}],\"scatterpolar\":[{\"type\":\"scatterpolar\",\"marker\":{\"colorbar\":{\"outlinewidth\":0,\"ticks\":\"\"}}}],\"histogram\":[{\"marker\":{\"pattern\":{\"fillmode\":\"overlay\",\"size\":10,\"solidity\":0.2}},\"type\":\"histogram\"}],\"scattergl\":[{\"type\":\"scattergl\",\"marker\":{\"colorbar\":{\"outlinewidth\":0,\"ticks\":\"\"}}}],\"scatter3d\":[{\"type\":\"scatter3d\",\"line\":{\"colorbar\":{\"outlinewidth\":0,\"ticks\":\"\"}},\"marker\":{\"colorbar\":{\"outlinewidth\":0,\"ticks\":\"\"}}}],\"scattermapbox\":[{\"type\":\"scattermapbox\",\"marker\":{\"colorbar\":{\"outlinewidth\":0,\"ticks\":\"\"}}}],\"scatterternary\":[{\"type\":\"scatterternary\",\"marker\":{\"colorbar\":{\"outlinewidth\":0,\"ticks\":\"\"}}}],\"scattercarpet\":[{\"type\":\"scattercarpet\",\"marker\":{\"colorbar\":{\"outlinewidth\":0,\"ticks\":\"\"}}}],\"carpet\":[{\"aaxis\":{\"endlinecolor\":\"#2a3f5f\",\"gridcolor\":\"white\",\"linecolor\":\"white\",\"minorgridcolor\":\"white\",\"startlinecolor\":\"#2a3f5f\"},\"baxis\":{\"endlinecolor\":\"#2a3f5f\",\"gridcolor\":\"white\",\"linecolor\":\"white\",\"minorgridcolor\":\"white\",\"startlinecolor\":\"#2a3f5f\"},\"type\":\"carpet\"}],\"table\":[{\"cells\":{\"fill\":{\"color\":\"#EBF0F8\"},\"line\":{\"color\":\"white\"}},\"header\":{\"fill\":{\"color\":\"#C8D4E3\"},\"line\":{\"color\":\"white\"}},\"type\":\"table\"}],\"barpolar\":[{\"marker\":{\"line\":{\"color\":\"#E5ECF6\",\"width\":0.5},\"pattern\":{\"fillmode\":\"overlay\",\"size\":10,\"solidity\":0.2}},\"type\":\"barpolar\"}],\"pie\":[{\"automargin\":true,\"type\":\"pie\"}]},\"layout\":{\"autotypenumbers\":\"strict\",\"colorway\":[\"#636efa\",\"#EF553B\",\"#00cc96\",\"#ab63fa\",\"#FFA15A\",\"#19d3f3\",\"#FF6692\",\"#B6E880\",\"#FF97FF\",\"#FECB52\"],\"font\":{\"color\":\"#2a3f5f\"},\"hovermode\":\"closest\",\"hoverlabel\":{\"align\":\"left\"},\"paper_bgcolor\":\"white\",\"plot_bgcolor\":\"#E5ECF6\",\"polar\":{\"bgcolor\":\"#E5ECF6\",\"angularaxis\":{\"gridcolor\":\"white\",\"linecolor\":\"white\",\"ticks\":\"\"},\"radialaxis\":{\"gridcolor\":\"white\",\"linecolor\":\"white\",\"ticks\":\"\"}},\"ternary\":{\"bgcolor\":\"#E5ECF6\",\"aaxis\":{\"gridcolor\":\"white\",\"linecolor\":\"white\",\"ticks\":\"\"},\"baxis\":{\"gridcolor\":\"white\",\"linecolor\":\"white\",\"ticks\":\"\"},\"caxis\":{\"gridcolor\":\"white\",\"linecolor\":\"white\",\"ticks\":\"\"}},\"coloraxis\":{\"colorbar\":{\"outlinewidth\":0,\"ticks\":\"\"}},\"colorscale\":{\"sequential\":[[0.0,\"#0d0887\"],[0.1111111111111111,\"#46039f\"],[0.2222222222222222,\"#7201a8\"],[0.3333333333333333,\"#9c179e\"],[0.4444444444444444,\"#bd3786\"],[0.5555555555555556,\"#d8576b\"],[0.6666666666666666,\"#ed7953\"],[0.7777777777777778,\"#fb9f3a\"],[0.8888888888888888,\"#fdca26\"],[1.0,\"#f0f921\"]],\"sequentialminus\":[[0.0,\"#0d0887\"],[0.1111111111111111,\"#46039f\"],[0.2222222222222222,\"#7201a8\"],[0.3333333333333333,\"#9c179e\"],[0.4444444444444444,\"#bd3786\"],[0.5555555555555556,\"#d8576b\"],[0.6666666666666666,\"#ed7953\"],[0.7777777777777778,\"#fb9f3a\"],[0.8888888888888888,\"#fdca26\"],[1.0,\"#f0f921\"]],\"diverging\":[[0,\"#8e0152\"],[0.1,\"#c51b7d\"],[0.2,\"#de77ae\"],[0.3,\"#f1b6da\"],[0.4,\"#fde0ef\"],[0.5,\"#f7f7f7\"],[0.6,\"#e6f5d0\"],[0.7,\"#b8e186\"],[0.8,\"#7fbc41\"],[0.9,\"#4d9221\"],[1,\"#276419\"]]},\"xaxis\":{\"gridcolor\":\"white\",\"linecolor\":\"white\",\"ticks\":\"\",\"title\":{\"standoff\":15},\"zerolinecolor\":\"white\",\"automargin\":true,\"zerolinewidth\":2},\"yaxis\":{\"gridcolor\":\"white\",\"linecolor\":\"white\",\"ticks\":\"\",\"title\":{\"standoff\":15},\"zerolinecolor\":\"white\",\"automargin\":true,\"zerolinewidth\":2},\"scene\":{\"xaxis\":{\"backgroundcolor\":\"#E5ECF6\",\"gridcolor\":\"white\",\"linecolor\":\"white\",\"showbackground\":true,\"ticks\":\"\",\"zerolinecolor\":\"white\",\"gridwidth\":2},\"yaxis\":{\"backgroundcolor\":\"#E5ECF6\",\"gridcolor\":\"white\",\"linecolor\":\"white\",\"showbackground\":true,\"ticks\":\"\",\"zerolinecolor\":\"white\",\"gridwidth\":2},\"zaxis\":{\"backgroundcolor\":\"#E5ECF6\",\"gridcolor\":\"white\",\"linecolor\":\"white\",\"showbackground\":true,\"ticks\":\"\",\"zerolinecolor\":\"white\",\"gridwidth\":2}},\"shapedefaults\":{\"line\":{\"color\":\"#2a3f5f\"}},\"annotationdefaults\":{\"arrowcolor\":\"#2a3f5f\",\"arrowhead\":0,\"arrowwidth\":1},\"geo\":{\"bgcolor\":\"white\",\"landcolor\":\"#E5ECF6\",\"subunitcolor\":\"white\",\"showland\":true,\"showlakes\":true,\"lakecolor\":\"white\"},\"title\":{\"x\":0.05},\"mapbox\":{\"style\":\"light\"}}},\"title\":{\"text\":\"Retention by Monthly Cohorts\"},\"xaxis\":{\"title\":{\"text\":\"Cohort Index\"}},\"yaxis\":{\"title\":{\"text\":\"Cohort Month\"}}},                        {\"responsive\": true}                    ).then(function(){\n                            \nvar gd = document.getElementById('abbd1417-bfa4-4cda-82a0-ff9b78568f65');\nvar x = new MutationObserver(function (mutations, observer) {{\n        var display = window.getComputedStyle(gd).display;\n        if (!display || display === 'none') {{\n            console.log([gd, 'removed!']);\n            Plotly.purge(gd);\n            observer.disconnect();\n        }}\n}});\n\n// Listen for the removal of the full notebook cells\nvar notebookContainer = gd.closest('#notebook-container');\nif (notebookContainer) {{\n    x.observe(notebookContainer, {childList: true});\n}}\n\n// Listen for the clearing of the current output cell\nvar outputEl = gd.closest('.output');\nif (outputEl) {{\n    x.observe(outputEl, {childList: true});\n}}\n\n                        })                };                });            </script>        </div>"
     },
     "metadata": {},
     "output_type": "display_data"
    }
   ],
   "source": [
    "\n",
    "# Create list of month names for visualization\n",
    "month_list = retention.reset_index()['CohortMonth']\n",
    "\n",
    "def get_month_name(x):\n",
    "    return dt.datetime.strftime(x, '%b-%y')\n",
    "\n",
    "month_list = month_list.apply(get_month_name)\n",
    "\n",
    "# Create the heatmap\n",
    "fig = go.Figure(data=go.Heatmap(\n",
    "    z=retention.values,\n",
    "    x=retention.columns,\n",
    "    y=month_list,\n",
    "    colorscale='RdBu',\n",
    "    colorbar=dict(title='Retention in %'),\n",
    "    hoverongaps=False,\n",
    "\n",
    "))\n",
    "\n",
    "# Update layout\n",
    "fig.update_layout(\n",
    "    title='Retention by Monthly Cohorts',\n",
    "    xaxis_title='Cohort Index',\n",
    "    yaxis_title='Cohort Month',\n",
    ")\n",
    "\n",
    "# Show the plot\n",
    "fig.write_image(\"Output/retention_monthly.png\")\n",
    "fig.show()\n"
   ],
   "metadata": {
    "collapsed": false,
    "ExecuteTime": {
     "end_time": "2024-03-22T13:12:02.381411Z",
     "start_time": "2024-03-22T13:12:02.135085100Z"
    }
   }
  },
  {
   "cell_type": "code",
   "execution_count": 231,
   "outputs": [
    {
     "data": {
      "application/vnd.plotly.v1+json": {
       "data": [
        {
         "colorbar": {
          "title": {
           "text": "Average Spend"
          }
         },
         "colorscale": [
          [
           0.0,
           "rgb(103,0,31)"
          ],
          [
           0.1,
           "rgb(178,24,43)"
          ],
          [
           0.2,
           "rgb(214,96,77)"
          ],
          [
           0.3,
           "rgb(244,165,130)"
          ],
          [
           0.4,
           "rgb(253,219,199)"
          ],
          [
           0.5,
           "rgb(247,247,247)"
          ],
          [
           0.6,
           "rgb(209,229,240)"
          ],
          [
           0.7,
           "rgb(146,197,222)"
          ],
          [
           0.8,
           "rgb(67,147,195)"
          ],
          [
           0.9,
           "rgb(33,102,172)"
          ],
          [
           1.0,
           "rgb(5,48,97)"
          ]
         ],
         "hoverongaps": false,
         "text": [
          [
           6213.746078431373,
           3725.8707142857143,
           7030.59625,
           9574.292857142858
          ],
          [
           4534.013370786517,
           1583.0121428571426,
           1423.424,
           null
          ],
          [
           5390.998383838383,
           3145.6466666666665,
           null,
           null
          ],
          [
           4980.8910526315785,
           null,
           null,
           null
          ]
         ],
         "x": [
          1,
          2,
          3,
          4
         ],
         "y": [
          "2020-05-01",
          "2020-06-01",
          "2020-07-01",
          "2020-08-01"
         ],
         "z": [
          [
           6213.746078431373,
           3725.8707142857143,
           7030.59625,
           9574.292857142858
          ],
          [
           4534.013370786517,
           1583.0121428571426,
           1423.424,
           null
          ],
          [
           5390.998383838383,
           3145.6466666666665,
           null,
           null
          ],
          [
           4980.8910526315785,
           null,
           null,
           null
          ]
         ],
         "type": "heatmap"
        }
       ],
       "layout": {
        "template": {
         "data": {
          "histogram2dcontour": [
           {
            "type": "histogram2dcontour",
            "colorbar": {
             "outlinewidth": 0,
             "ticks": ""
            },
            "colorscale": [
             [
              0.0,
              "#0d0887"
             ],
             [
              0.1111111111111111,
              "#46039f"
             ],
             [
              0.2222222222222222,
              "#7201a8"
             ],
             [
              0.3333333333333333,
              "#9c179e"
             ],
             [
              0.4444444444444444,
              "#bd3786"
             ],
             [
              0.5555555555555556,
              "#d8576b"
             ],
             [
              0.6666666666666666,
              "#ed7953"
             ],
             [
              0.7777777777777778,
              "#fb9f3a"
             ],
             [
              0.8888888888888888,
              "#fdca26"
             ],
             [
              1.0,
              "#f0f921"
             ]
            ]
           }
          ],
          "choropleth": [
           {
            "type": "choropleth",
            "colorbar": {
             "outlinewidth": 0,
             "ticks": ""
            }
           }
          ],
          "histogram2d": [
           {
            "type": "histogram2d",
            "colorbar": {
             "outlinewidth": 0,
             "ticks": ""
            },
            "colorscale": [
             [
              0.0,
              "#0d0887"
             ],
             [
              0.1111111111111111,
              "#46039f"
             ],
             [
              0.2222222222222222,
              "#7201a8"
             ],
             [
              0.3333333333333333,
              "#9c179e"
             ],
             [
              0.4444444444444444,
              "#bd3786"
             ],
             [
              0.5555555555555556,
              "#d8576b"
             ],
             [
              0.6666666666666666,
              "#ed7953"
             ],
             [
              0.7777777777777778,
              "#fb9f3a"
             ],
             [
              0.8888888888888888,
              "#fdca26"
             ],
             [
              1.0,
              "#f0f921"
             ]
            ]
           }
          ],
          "heatmap": [
           {
            "type": "heatmap",
            "colorbar": {
             "outlinewidth": 0,
             "ticks": ""
            },
            "colorscale": [
             [
              0.0,
              "#0d0887"
             ],
             [
              0.1111111111111111,
              "#46039f"
             ],
             [
              0.2222222222222222,
              "#7201a8"
             ],
             [
              0.3333333333333333,
              "#9c179e"
             ],
             [
              0.4444444444444444,
              "#bd3786"
             ],
             [
              0.5555555555555556,
              "#d8576b"
             ],
             [
              0.6666666666666666,
              "#ed7953"
             ],
             [
              0.7777777777777778,
              "#fb9f3a"
             ],
             [
              0.8888888888888888,
              "#fdca26"
             ],
             [
              1.0,
              "#f0f921"
             ]
            ]
           }
          ],
          "heatmapgl": [
           {
            "type": "heatmapgl",
            "colorbar": {
             "outlinewidth": 0,
             "ticks": ""
            },
            "colorscale": [
             [
              0.0,
              "#0d0887"
             ],
             [
              0.1111111111111111,
              "#46039f"
             ],
             [
              0.2222222222222222,
              "#7201a8"
             ],
             [
              0.3333333333333333,
              "#9c179e"
             ],
             [
              0.4444444444444444,
              "#bd3786"
             ],
             [
              0.5555555555555556,
              "#d8576b"
             ],
             [
              0.6666666666666666,
              "#ed7953"
             ],
             [
              0.7777777777777778,
              "#fb9f3a"
             ],
             [
              0.8888888888888888,
              "#fdca26"
             ],
             [
              1.0,
              "#f0f921"
             ]
            ]
           }
          ],
          "contourcarpet": [
           {
            "type": "contourcarpet",
            "colorbar": {
             "outlinewidth": 0,
             "ticks": ""
            }
           }
          ],
          "contour": [
           {
            "type": "contour",
            "colorbar": {
             "outlinewidth": 0,
             "ticks": ""
            },
            "colorscale": [
             [
              0.0,
              "#0d0887"
             ],
             [
              0.1111111111111111,
              "#46039f"
             ],
             [
              0.2222222222222222,
              "#7201a8"
             ],
             [
              0.3333333333333333,
              "#9c179e"
             ],
             [
              0.4444444444444444,
              "#bd3786"
             ],
             [
              0.5555555555555556,
              "#d8576b"
             ],
             [
              0.6666666666666666,
              "#ed7953"
             ],
             [
              0.7777777777777778,
              "#fb9f3a"
             ],
             [
              0.8888888888888888,
              "#fdca26"
             ],
             [
              1.0,
              "#f0f921"
             ]
            ]
           }
          ],
          "surface": [
           {
            "type": "surface",
            "colorbar": {
             "outlinewidth": 0,
             "ticks": ""
            },
            "colorscale": [
             [
              0.0,
              "#0d0887"
             ],
             [
              0.1111111111111111,
              "#46039f"
             ],
             [
              0.2222222222222222,
              "#7201a8"
             ],
             [
              0.3333333333333333,
              "#9c179e"
             ],
             [
              0.4444444444444444,
              "#bd3786"
             ],
             [
              0.5555555555555556,
              "#d8576b"
             ],
             [
              0.6666666666666666,
              "#ed7953"
             ],
             [
              0.7777777777777778,
              "#fb9f3a"
             ],
             [
              0.8888888888888888,
              "#fdca26"
             ],
             [
              1.0,
              "#f0f921"
             ]
            ]
           }
          ],
          "mesh3d": [
           {
            "type": "mesh3d",
            "colorbar": {
             "outlinewidth": 0,
             "ticks": ""
            }
           }
          ],
          "scatter": [
           {
            "fillpattern": {
             "fillmode": "overlay",
             "size": 10,
             "solidity": 0.2
            },
            "type": "scatter"
           }
          ],
          "parcoords": [
           {
            "type": "parcoords",
            "line": {
             "colorbar": {
              "outlinewidth": 0,
              "ticks": ""
             }
            }
           }
          ],
          "scatterpolargl": [
           {
            "type": "scatterpolargl",
            "marker": {
             "colorbar": {
              "outlinewidth": 0,
              "ticks": ""
             }
            }
           }
          ],
          "bar": [
           {
            "error_x": {
             "color": "#2a3f5f"
            },
            "error_y": {
             "color": "#2a3f5f"
            },
            "marker": {
             "line": {
              "color": "#E5ECF6",
              "width": 0.5
             },
             "pattern": {
              "fillmode": "overlay",
              "size": 10,
              "solidity": 0.2
             }
            },
            "type": "bar"
           }
          ],
          "scattergeo": [
           {
            "type": "scattergeo",
            "marker": {
             "colorbar": {
              "outlinewidth": 0,
              "ticks": ""
             }
            }
           }
          ],
          "scatterpolar": [
           {
            "type": "scatterpolar",
            "marker": {
             "colorbar": {
              "outlinewidth": 0,
              "ticks": ""
             }
            }
           }
          ],
          "histogram": [
           {
            "marker": {
             "pattern": {
              "fillmode": "overlay",
              "size": 10,
              "solidity": 0.2
             }
            },
            "type": "histogram"
           }
          ],
          "scattergl": [
           {
            "type": "scattergl",
            "marker": {
             "colorbar": {
              "outlinewidth": 0,
              "ticks": ""
             }
            }
           }
          ],
          "scatter3d": [
           {
            "type": "scatter3d",
            "line": {
             "colorbar": {
              "outlinewidth": 0,
              "ticks": ""
             }
            },
            "marker": {
             "colorbar": {
              "outlinewidth": 0,
              "ticks": ""
             }
            }
           }
          ],
          "scattermapbox": [
           {
            "type": "scattermapbox",
            "marker": {
             "colorbar": {
              "outlinewidth": 0,
              "ticks": ""
             }
            }
           }
          ],
          "scatterternary": [
           {
            "type": "scatterternary",
            "marker": {
             "colorbar": {
              "outlinewidth": 0,
              "ticks": ""
             }
            }
           }
          ],
          "scattercarpet": [
           {
            "type": "scattercarpet",
            "marker": {
             "colorbar": {
              "outlinewidth": 0,
              "ticks": ""
             }
            }
           }
          ],
          "carpet": [
           {
            "aaxis": {
             "endlinecolor": "#2a3f5f",
             "gridcolor": "white",
             "linecolor": "white",
             "minorgridcolor": "white",
             "startlinecolor": "#2a3f5f"
            },
            "baxis": {
             "endlinecolor": "#2a3f5f",
             "gridcolor": "white",
             "linecolor": "white",
             "minorgridcolor": "white",
             "startlinecolor": "#2a3f5f"
            },
            "type": "carpet"
           }
          ],
          "table": [
           {
            "cells": {
             "fill": {
              "color": "#EBF0F8"
             },
             "line": {
              "color": "white"
             }
            },
            "header": {
             "fill": {
              "color": "#C8D4E3"
             },
             "line": {
              "color": "white"
             }
            },
            "type": "table"
           }
          ],
          "barpolar": [
           {
            "marker": {
             "line": {
              "color": "#E5ECF6",
              "width": 0.5
             },
             "pattern": {
              "fillmode": "overlay",
              "size": 10,
              "solidity": 0.2
             }
            },
            "type": "barpolar"
           }
          ],
          "pie": [
           {
            "automargin": true,
            "type": "pie"
           }
          ]
         },
         "layout": {
          "autotypenumbers": "strict",
          "colorway": [
           "#636efa",
           "#EF553B",
           "#00cc96",
           "#ab63fa",
           "#FFA15A",
           "#19d3f3",
           "#FF6692",
           "#B6E880",
           "#FF97FF",
           "#FECB52"
          ],
          "font": {
           "color": "#2a3f5f"
          },
          "hovermode": "closest",
          "hoverlabel": {
           "align": "left"
          },
          "paper_bgcolor": "white",
          "plot_bgcolor": "#E5ECF6",
          "polar": {
           "bgcolor": "#E5ECF6",
           "angularaxis": {
            "gridcolor": "white",
            "linecolor": "white",
            "ticks": ""
           },
           "radialaxis": {
            "gridcolor": "white",
            "linecolor": "white",
            "ticks": ""
           }
          },
          "ternary": {
           "bgcolor": "#E5ECF6",
           "aaxis": {
            "gridcolor": "white",
            "linecolor": "white",
            "ticks": ""
           },
           "baxis": {
            "gridcolor": "white",
            "linecolor": "white",
            "ticks": ""
           },
           "caxis": {
            "gridcolor": "white",
            "linecolor": "white",
            "ticks": ""
           }
          },
          "coloraxis": {
           "colorbar": {
            "outlinewidth": 0,
            "ticks": ""
           }
          },
          "colorscale": {
           "sequential": [
            [
             0.0,
             "#0d0887"
            ],
            [
             0.1111111111111111,
             "#46039f"
            ],
            [
             0.2222222222222222,
             "#7201a8"
            ],
            [
             0.3333333333333333,
             "#9c179e"
            ],
            [
             0.4444444444444444,
             "#bd3786"
            ],
            [
             0.5555555555555556,
             "#d8576b"
            ],
            [
             0.6666666666666666,
             "#ed7953"
            ],
            [
             0.7777777777777778,
             "#fb9f3a"
            ],
            [
             0.8888888888888888,
             "#fdca26"
            ],
            [
             1.0,
             "#f0f921"
            ]
           ],
           "sequentialminus": [
            [
             0.0,
             "#0d0887"
            ],
            [
             0.1111111111111111,
             "#46039f"
            ],
            [
             0.2222222222222222,
             "#7201a8"
            ],
            [
             0.3333333333333333,
             "#9c179e"
            ],
            [
             0.4444444444444444,
             "#bd3786"
            ],
            [
             0.5555555555555556,
             "#d8576b"
            ],
            [
             0.6666666666666666,
             "#ed7953"
            ],
            [
             0.7777777777777778,
             "#fb9f3a"
            ],
            [
             0.8888888888888888,
             "#fdca26"
            ],
            [
             1.0,
             "#f0f921"
            ]
           ],
           "diverging": [
            [
             0,
             "#8e0152"
            ],
            [
             0.1,
             "#c51b7d"
            ],
            [
             0.2,
             "#de77ae"
            ],
            [
             0.3,
             "#f1b6da"
            ],
            [
             0.4,
             "#fde0ef"
            ],
            [
             0.5,
             "#f7f7f7"
            ],
            [
             0.6,
             "#e6f5d0"
            ],
            [
             0.7,
             "#b8e186"
            ],
            [
             0.8,
             "#7fbc41"
            ],
            [
             0.9,
             "#4d9221"
            ],
            [
             1,
             "#276419"
            ]
           ]
          },
          "xaxis": {
           "gridcolor": "white",
           "linecolor": "white",
           "ticks": "",
           "title": {
            "standoff": 15
           },
           "zerolinecolor": "white",
           "automargin": true,
           "zerolinewidth": 2
          },
          "yaxis": {
           "gridcolor": "white",
           "linecolor": "white",
           "ticks": "",
           "title": {
            "standoff": 15
           },
           "zerolinecolor": "white",
           "automargin": true,
           "zerolinewidth": 2
          },
          "scene": {
           "xaxis": {
            "backgroundcolor": "#E5ECF6",
            "gridcolor": "white",
            "linecolor": "white",
            "showbackground": true,
            "ticks": "",
            "zerolinecolor": "white",
            "gridwidth": 2
           },
           "yaxis": {
            "backgroundcolor": "#E5ECF6",
            "gridcolor": "white",
            "linecolor": "white",
            "showbackground": true,
            "ticks": "",
            "zerolinecolor": "white",
            "gridwidth": 2
           },
           "zaxis": {
            "backgroundcolor": "#E5ECF6",
            "gridcolor": "white",
            "linecolor": "white",
            "showbackground": true,
            "ticks": "",
            "zerolinecolor": "white",
            "gridwidth": 2
           }
          },
          "shapedefaults": {
           "line": {
            "color": "#2a3f5f"
           }
          },
          "annotationdefaults": {
           "arrowcolor": "#2a3f5f",
           "arrowhead": 0,
           "arrowwidth": 1
          },
          "geo": {
           "bgcolor": "white",
           "landcolor": "#E5ECF6",
           "subunitcolor": "white",
           "showland": true,
           "showlakes": true,
           "lakecolor": "white"
          },
          "title": {
           "x": 0.05
          },
          "mapbox": {
           "style": "light"
          }
         }
        },
        "title": {
         "text": "Average Spend by Monthly Cohorts"
        },
        "xaxis": {
         "title": {
          "text": "Cohort Index"
         }
        },
        "yaxis": {
         "title": {
          "text": "Cohort Month"
         }
        }
       },
       "config": {
        "plotlyServerURL": "https://plot.ly"
       }
      },
      "text/html": "<div>                            <div id=\"5ea36703-6102-49d7-9d87-204d510cc2e7\" class=\"plotly-graph-div\" style=\"height:525px; width:100%;\"></div>            <script type=\"text/javascript\">                require([\"plotly\"], function(Plotly) {                    window.PLOTLYENV=window.PLOTLYENV || {};                                    if (document.getElementById(\"5ea36703-6102-49d7-9d87-204d510cc2e7\")) {                    Plotly.newPlot(                        \"5ea36703-6102-49d7-9d87-204d510cc2e7\",                        [{\"colorbar\":{\"title\":{\"text\":\"Average Spend\"}},\"colorscale\":[[0.0,\"rgb(103,0,31)\"],[0.1,\"rgb(178,24,43)\"],[0.2,\"rgb(214,96,77)\"],[0.3,\"rgb(244,165,130)\"],[0.4,\"rgb(253,219,199)\"],[0.5,\"rgb(247,247,247)\"],[0.6,\"rgb(209,229,240)\"],[0.7,\"rgb(146,197,222)\"],[0.8,\"rgb(67,147,195)\"],[0.9,\"rgb(33,102,172)\"],[1.0,\"rgb(5,48,97)\"]],\"hoverongaps\":false,\"text\":[[6213.746078431373,3725.8707142857143,7030.59625,9574.292857142858],[4534.013370786517,1583.0121428571426,1423.424,null],[5390.998383838383,3145.6466666666665,null,null],[4980.8910526315785,null,null,null]],\"x\":[1,2,3,4],\"y\":[\"2020-05-01\",\"2020-06-01\",\"2020-07-01\",\"2020-08-01\"],\"z\":[[6213.746078431373,3725.8707142857143,7030.59625,9574.292857142858],[4534.013370786517,1583.0121428571426,1423.424,null],[5390.998383838383,3145.6466666666665,null,null],[4980.8910526315785,null,null,null]],\"type\":\"heatmap\"}],                        {\"template\":{\"data\":{\"histogram2dcontour\":[{\"type\":\"histogram2dcontour\",\"colorbar\":{\"outlinewidth\":0,\"ticks\":\"\"},\"colorscale\":[[0.0,\"#0d0887\"],[0.1111111111111111,\"#46039f\"],[0.2222222222222222,\"#7201a8\"],[0.3333333333333333,\"#9c179e\"],[0.4444444444444444,\"#bd3786\"],[0.5555555555555556,\"#d8576b\"],[0.6666666666666666,\"#ed7953\"],[0.7777777777777778,\"#fb9f3a\"],[0.8888888888888888,\"#fdca26\"],[1.0,\"#f0f921\"]]}],\"choropleth\":[{\"type\":\"choropleth\",\"colorbar\":{\"outlinewidth\":0,\"ticks\":\"\"}}],\"histogram2d\":[{\"type\":\"histogram2d\",\"colorbar\":{\"outlinewidth\":0,\"ticks\":\"\"},\"colorscale\":[[0.0,\"#0d0887\"],[0.1111111111111111,\"#46039f\"],[0.2222222222222222,\"#7201a8\"],[0.3333333333333333,\"#9c179e\"],[0.4444444444444444,\"#bd3786\"],[0.5555555555555556,\"#d8576b\"],[0.6666666666666666,\"#ed7953\"],[0.7777777777777778,\"#fb9f3a\"],[0.8888888888888888,\"#fdca26\"],[1.0,\"#f0f921\"]]}],\"heatmap\":[{\"type\":\"heatmap\",\"colorbar\":{\"outlinewidth\":0,\"ticks\":\"\"},\"colorscale\":[[0.0,\"#0d0887\"],[0.1111111111111111,\"#46039f\"],[0.2222222222222222,\"#7201a8\"],[0.3333333333333333,\"#9c179e\"],[0.4444444444444444,\"#bd3786\"],[0.5555555555555556,\"#d8576b\"],[0.6666666666666666,\"#ed7953\"],[0.7777777777777778,\"#fb9f3a\"],[0.8888888888888888,\"#fdca26\"],[1.0,\"#f0f921\"]]}],\"heatmapgl\":[{\"type\":\"heatmapgl\",\"colorbar\":{\"outlinewidth\":0,\"ticks\":\"\"},\"colorscale\":[[0.0,\"#0d0887\"],[0.1111111111111111,\"#46039f\"],[0.2222222222222222,\"#7201a8\"],[0.3333333333333333,\"#9c179e\"],[0.4444444444444444,\"#bd3786\"],[0.5555555555555556,\"#d8576b\"],[0.6666666666666666,\"#ed7953\"],[0.7777777777777778,\"#fb9f3a\"],[0.8888888888888888,\"#fdca26\"],[1.0,\"#f0f921\"]]}],\"contourcarpet\":[{\"type\":\"contourcarpet\",\"colorbar\":{\"outlinewidth\":0,\"ticks\":\"\"}}],\"contour\":[{\"type\":\"contour\",\"colorbar\":{\"outlinewidth\":0,\"ticks\":\"\"},\"colorscale\":[[0.0,\"#0d0887\"],[0.1111111111111111,\"#46039f\"],[0.2222222222222222,\"#7201a8\"],[0.3333333333333333,\"#9c179e\"],[0.4444444444444444,\"#bd3786\"],[0.5555555555555556,\"#d8576b\"],[0.6666666666666666,\"#ed7953\"],[0.7777777777777778,\"#fb9f3a\"],[0.8888888888888888,\"#fdca26\"],[1.0,\"#f0f921\"]]}],\"surface\":[{\"type\":\"surface\",\"colorbar\":{\"outlinewidth\":0,\"ticks\":\"\"},\"colorscale\":[[0.0,\"#0d0887\"],[0.1111111111111111,\"#46039f\"],[0.2222222222222222,\"#7201a8\"],[0.3333333333333333,\"#9c179e\"],[0.4444444444444444,\"#bd3786\"],[0.5555555555555556,\"#d8576b\"],[0.6666666666666666,\"#ed7953\"],[0.7777777777777778,\"#fb9f3a\"],[0.8888888888888888,\"#fdca26\"],[1.0,\"#f0f921\"]]}],\"mesh3d\":[{\"type\":\"mesh3d\",\"colorbar\":{\"outlinewidth\":0,\"ticks\":\"\"}}],\"scatter\":[{\"fillpattern\":{\"fillmode\":\"overlay\",\"size\":10,\"solidity\":0.2},\"type\":\"scatter\"}],\"parcoords\":[{\"type\":\"parcoords\",\"line\":{\"colorbar\":{\"outlinewidth\":0,\"ticks\":\"\"}}}],\"scatterpolargl\":[{\"type\":\"scatterpolargl\",\"marker\":{\"colorbar\":{\"outlinewidth\":0,\"ticks\":\"\"}}}],\"bar\":[{\"error_x\":{\"color\":\"#2a3f5f\"},\"error_y\":{\"color\":\"#2a3f5f\"},\"marker\":{\"line\":{\"color\":\"#E5ECF6\",\"width\":0.5},\"pattern\":{\"fillmode\":\"overlay\",\"size\":10,\"solidity\":0.2}},\"type\":\"bar\"}],\"scattergeo\":[{\"type\":\"scattergeo\",\"marker\":{\"colorbar\":{\"outlinewidth\":0,\"ticks\":\"\"}}}],\"scatterpolar\":[{\"type\":\"scatterpolar\",\"marker\":{\"colorbar\":{\"outlinewidth\":0,\"ticks\":\"\"}}}],\"histogram\":[{\"marker\":{\"pattern\":{\"fillmode\":\"overlay\",\"size\":10,\"solidity\":0.2}},\"type\":\"histogram\"}],\"scattergl\":[{\"type\":\"scattergl\",\"marker\":{\"colorbar\":{\"outlinewidth\":0,\"ticks\":\"\"}}}],\"scatter3d\":[{\"type\":\"scatter3d\",\"line\":{\"colorbar\":{\"outlinewidth\":0,\"ticks\":\"\"}},\"marker\":{\"colorbar\":{\"outlinewidth\":0,\"ticks\":\"\"}}}],\"scattermapbox\":[{\"type\":\"scattermapbox\",\"marker\":{\"colorbar\":{\"outlinewidth\":0,\"ticks\":\"\"}}}],\"scatterternary\":[{\"type\":\"scatterternary\",\"marker\":{\"colorbar\":{\"outlinewidth\":0,\"ticks\":\"\"}}}],\"scattercarpet\":[{\"type\":\"scattercarpet\",\"marker\":{\"colorbar\":{\"outlinewidth\":0,\"ticks\":\"\"}}}],\"carpet\":[{\"aaxis\":{\"endlinecolor\":\"#2a3f5f\",\"gridcolor\":\"white\",\"linecolor\":\"white\",\"minorgridcolor\":\"white\",\"startlinecolor\":\"#2a3f5f\"},\"baxis\":{\"endlinecolor\":\"#2a3f5f\",\"gridcolor\":\"white\",\"linecolor\":\"white\",\"minorgridcolor\":\"white\",\"startlinecolor\":\"#2a3f5f\"},\"type\":\"carpet\"}],\"table\":[{\"cells\":{\"fill\":{\"color\":\"#EBF0F8\"},\"line\":{\"color\":\"white\"}},\"header\":{\"fill\":{\"color\":\"#C8D4E3\"},\"line\":{\"color\":\"white\"}},\"type\":\"table\"}],\"barpolar\":[{\"marker\":{\"line\":{\"color\":\"#E5ECF6\",\"width\":0.5},\"pattern\":{\"fillmode\":\"overlay\",\"size\":10,\"solidity\":0.2}},\"type\":\"barpolar\"}],\"pie\":[{\"automargin\":true,\"type\":\"pie\"}]},\"layout\":{\"autotypenumbers\":\"strict\",\"colorway\":[\"#636efa\",\"#EF553B\",\"#00cc96\",\"#ab63fa\",\"#FFA15A\",\"#19d3f3\",\"#FF6692\",\"#B6E880\",\"#FF97FF\",\"#FECB52\"],\"font\":{\"color\":\"#2a3f5f\"},\"hovermode\":\"closest\",\"hoverlabel\":{\"align\":\"left\"},\"paper_bgcolor\":\"white\",\"plot_bgcolor\":\"#E5ECF6\",\"polar\":{\"bgcolor\":\"#E5ECF6\",\"angularaxis\":{\"gridcolor\":\"white\",\"linecolor\":\"white\",\"ticks\":\"\"},\"radialaxis\":{\"gridcolor\":\"white\",\"linecolor\":\"white\",\"ticks\":\"\"}},\"ternary\":{\"bgcolor\":\"#E5ECF6\",\"aaxis\":{\"gridcolor\":\"white\",\"linecolor\":\"white\",\"ticks\":\"\"},\"baxis\":{\"gridcolor\":\"white\",\"linecolor\":\"white\",\"ticks\":\"\"},\"caxis\":{\"gridcolor\":\"white\",\"linecolor\":\"white\",\"ticks\":\"\"}},\"coloraxis\":{\"colorbar\":{\"outlinewidth\":0,\"ticks\":\"\"}},\"colorscale\":{\"sequential\":[[0.0,\"#0d0887\"],[0.1111111111111111,\"#46039f\"],[0.2222222222222222,\"#7201a8\"],[0.3333333333333333,\"#9c179e\"],[0.4444444444444444,\"#bd3786\"],[0.5555555555555556,\"#d8576b\"],[0.6666666666666666,\"#ed7953\"],[0.7777777777777778,\"#fb9f3a\"],[0.8888888888888888,\"#fdca26\"],[1.0,\"#f0f921\"]],\"sequentialminus\":[[0.0,\"#0d0887\"],[0.1111111111111111,\"#46039f\"],[0.2222222222222222,\"#7201a8\"],[0.3333333333333333,\"#9c179e\"],[0.4444444444444444,\"#bd3786\"],[0.5555555555555556,\"#d8576b\"],[0.6666666666666666,\"#ed7953\"],[0.7777777777777778,\"#fb9f3a\"],[0.8888888888888888,\"#fdca26\"],[1.0,\"#f0f921\"]],\"diverging\":[[0,\"#8e0152\"],[0.1,\"#c51b7d\"],[0.2,\"#de77ae\"],[0.3,\"#f1b6da\"],[0.4,\"#fde0ef\"],[0.5,\"#f7f7f7\"],[0.6,\"#e6f5d0\"],[0.7,\"#b8e186\"],[0.8,\"#7fbc41\"],[0.9,\"#4d9221\"],[1,\"#276419\"]]},\"xaxis\":{\"gridcolor\":\"white\",\"linecolor\":\"white\",\"ticks\":\"\",\"title\":{\"standoff\":15},\"zerolinecolor\":\"white\",\"automargin\":true,\"zerolinewidth\":2},\"yaxis\":{\"gridcolor\":\"white\",\"linecolor\":\"white\",\"ticks\":\"\",\"title\":{\"standoff\":15},\"zerolinecolor\":\"white\",\"automargin\":true,\"zerolinewidth\":2},\"scene\":{\"xaxis\":{\"backgroundcolor\":\"#E5ECF6\",\"gridcolor\":\"white\",\"linecolor\":\"white\",\"showbackground\":true,\"ticks\":\"\",\"zerolinecolor\":\"white\",\"gridwidth\":2},\"yaxis\":{\"backgroundcolor\":\"#E5ECF6\",\"gridcolor\":\"white\",\"linecolor\":\"white\",\"showbackground\":true,\"ticks\":\"\",\"zerolinecolor\":\"white\",\"gridwidth\":2},\"zaxis\":{\"backgroundcolor\":\"#E5ECF6\",\"gridcolor\":\"white\",\"linecolor\":\"white\",\"showbackground\":true,\"ticks\":\"\",\"zerolinecolor\":\"white\",\"gridwidth\":2}},\"shapedefaults\":{\"line\":{\"color\":\"#2a3f5f\"}},\"annotationdefaults\":{\"arrowcolor\":\"#2a3f5f\",\"arrowhead\":0,\"arrowwidth\":1},\"geo\":{\"bgcolor\":\"white\",\"landcolor\":\"#E5ECF6\",\"subunitcolor\":\"white\",\"showland\":true,\"showlakes\":true,\"lakecolor\":\"white\"},\"title\":{\"x\":0.05},\"mapbox\":{\"style\":\"light\"}}},\"title\":{\"text\":\"Average Spend by Monthly Cohorts\"},\"xaxis\":{\"title\":{\"text\":\"Cohort Index\"}},\"yaxis\":{\"title\":{\"text\":\"Cohort Month\"}}},                        {\"responsive\": true}                    ).then(function(){\n                            \nvar gd = document.getElementById('5ea36703-6102-49d7-9d87-204d510cc2e7');\nvar x = new MutationObserver(function (mutations, observer) {{\n        var display = window.getComputedStyle(gd).display;\n        if (!display || display === 'none') {{\n            console.log([gd, 'removed!']);\n            Plotly.purge(gd);\n            observer.disconnect();\n        }}\n}});\n\n// Listen for the removal of the full notebook cells\nvar notebookContainer = gd.closest('#notebook-container');\nif (notebookContainer) {{\n    x.observe(notebookContainer, {childList: true});\n}}\n\n// Listen for the clearing of the current output cell\nvar outputEl = gd.closest('.output');\nif (outputEl) {{\n    x.observe(outputEl, {childList: true});\n}}\n\n                        })                };                });            </script>        </div>"
     },
     "metadata": {},
     "output_type": "display_data"
    }
   ],
   "source": [
    "import plotly.graph_objects as go\n",
    "\n",
    "# Create a groupby object and pass the monthly cohort and cohort index as a list\n",
    "grouping = df.groupby(['CohortMonth', 'CohortIndex'])\n",
    "\n",
    "# Calculate the average of the 'Price' column\n",
    "cohort_data = grouping['Total net'].mean()\n",
    "\n",
    "# Reset the index of cohort_data\n",
    "cohort_data = cohort_data.reset_index()\n",
    "\n",
    "# Create a pivot\n",
    "average_price = cohort_data.pivot(index='CohortMonth', columns='CohortIndex', values='Total net')\n",
    "average_price.index = average_price.index.date\n",
    "\n",
    "# Create the heatmap\n",
    "fig = go.Figure(data=go.Heatmap(\n",
    "    z=average_price.values,\n",
    "    x=average_price.columns,\n",
    "    y=average_price.index,\n",
    "    colorscale='RdBu',\n",
    "    colorbar=dict(title='Average Spend'),\n",
    "    hoverongaps=False,\n",
    "    text=average_price.values  # Set the z-values as text\n",
    "))\n",
    "\n",
    "# Update layout\n",
    "fig.update_layout(\n",
    "    title='Average Spend by Monthly Cohorts',\n",
    "    xaxis_title='Cohort Index',\n",
    "    yaxis_title='Cohort Month',\n",
    ")\n",
    "\n",
    "#fig = px.imshow(average_price, text_auto=True, aspect=\"auto\")\n",
    "# Show the plot\n",
    "fig.write_image(\"Output/spending_monthly_cohort.png\")\n",
    "fig.show()\n",
    "    "
   ],
   "metadata": {
    "collapsed": false,
    "ExecuteTime": {
     "end_time": "2024-03-22T13:12:02.491299700Z",
     "start_time": "2024-03-22T13:12:02.277393600Z"
    }
   }
  },
  {
   "cell_type": "code",
   "execution_count": 232,
   "outputs": [
    {
     "data": {
      "text/plain": "<Figure size 1080x360 with 3 Axes>",
      "image/png": "[encoded data removed]"
     },
     "metadata": {
      "needs_background": "light"
     },
     "output_type": "display_data"
    },
    {
     "data": {
      "text/plain": "<Figure size 1080x504 with 1 Axes>",
      "image/png": "[encoded data removed]"
     },
     "metadata": {
      "needs_background": "light"
     },
     "output_type": "display_data"
    },
    {
     "data": {
      "text/plain": "<Figure size 720x504 with 1 Axes>",
      "image/png": "[encoded data removed]"
     },
     "metadata": {
      "needs_background": "light"
     },
     "output_type": "display_data"
    },
    {
     "data": {
      "text/plain": "<Figure size 576x360 with 1 Axes>",
      "image/png": "[encoded data removed]"
     },
     "metadata": {
      "needs_background": "light"
     },
     "output_type": "display_data"
    },
    {
     "data": {
      "text/plain": "<Figure size 576x360 with 1 Axes>",
      "image/png": "[encoded data removed]"
     },
     "metadata": {
      "needs_background": "light"
     },
     "output_type": "display_data"
    },
    {
     "data": {
      "text/plain": "<Figure size 576x360 with 1 Axes>",
      "image/png": "[encoded data removed]"
     },
     "metadata": {
      "needs_background": "light"
     },
     "output_type": "display_data"
    },
    {
     "data": {
      "text/plain": "<Figure size 720x360 with 1 Axes>",
      "image/png": "[encoded data removed]"
     },
     "metadata": {
      "needs_background": "light"
     },
     "output_type": "display_data"
    },
    {
     "data": {
      "text/plain": "<Figure size 720x360 with 1 Axes>",
      "image/png": "[encoded data removed]"
     },
     "metadata": {
      "needs_background": "light"
     },
     "output_type": "display_data"
    },
    {
     "data": {
      "text/plain": "<Figure size 720x360 with 1 Axes>",
      "image/png": "[encoded data removed]"
     },
     "metadata": {
      "needs_background": "light"
     },
     "output_type": "display_data"
    },
    {
     "data": {
      "text/plain": "<Figure size 576x360 with 1 Axes>",
      "image/png": "[encoded data removed]"
     },
     "metadata": {
      "needs_background": "light"
     },
     "output_type": "display_data"
    },
    {
     "data": {
      "text/plain": "                        ID  recency  frequency  monetary_value  r  f  m  \\\n0                        0        0         46       325934.56  5  5  5   \n1     1.41889841192585e+17        3          3        32027.04  5  5  5   \n2   -1.730764956960466e+17        2          3        17792.80  5  5  5   \n3   -8.718529675837011e+18        3          2        12454.96  5  5  4   \n4    5.977680303343795e+18        0          4        10450.44  5  5  4   \n5    8.378726598837343e+18        3          2         8738.74  5  5  4   \n6     -2.073482712557262e+        6          2        21351.36  5  4  5   \n7   -3.913870139141671e+18        6          2        22418.84  5  4  5   \n8    8.828548310277758e+18        3          1        14234.24  5  4  5   \n9    9.468809488193865e+17        1          1        14234.24  5  4  5   \n10     8.065810676757988e+        2          1        10675.68  5  4  4   \n11   7.345462397159166e+18        3          1        10675.68  5  4  4   \n12   2.330958481060939e+18       21          2        15855.86  4  5  5   \n13  -2.874499259700654e+18        7         14         7837.86  4  5  4   \n14    6.66763898590681e+18       14          2        14144.12  4  5  4   \n15   7.263077315411139e+18        9          1        14234.24  4  4  5   \n16  -3.456012392201017e+18       24          2        21351.36  4  4  5   \n17     9.001271179679356e+       17          1        14234.24  4  4  5   \n18     8.000031578063278e+        7          1         7117.12  4  4  4   \n19   7.309625929315006e+18       10          1         7117.12  4  4  4   \n\n   rfm_score    segment  \n0        555  Champions  \n1        555  Champions  \n2        555  Champions  \n3        554  Champions  \n4        554  Champions  \n5        554  Champions  \n6        545  Champions  \n7        545  Champions  \n8        545  Champions  \n9        545  Champions  \n10       544  Champions  \n11       544  Champions  \n12       455  Champions  \n13       454  Champions  \n14       454  Champions  \n15       445  Champions  \n16       445  Champions  \n17       445  Champions  \n18       444  Champions  \n19       444  Champions  ",
      "text/html": "<div>\n<style scoped>\n    .dataframe tbody tr th:only-of-type {\n        vertical-align: middle;\n    }\n\n    .dataframe tbody tr th {\n        vertical-align: top;\n    }\n\n    .dataframe thead th {\n        text-align: right;\n    }\n</style>\n<table border=\"1\" class=\"dataframe\">\n  <thead>\n    <tr style=\"text-align: right;\">\n      <th></th>\n      <th>ID</th>\n      <th>recency</th>\n      <th>frequency</th>\n      <th>monetary_value</th>\n      <th>r</th>\n      <th>f</th>\n      <th>m</th>\n      <th>rfm_score</th>\n      <th>segment</th>\n    </tr>\n  </thead>\n  <tbody>\n    <tr>\n      <th>0</th>\n      <td>0</td>\n      <td>0</td>\n      <td>46</td>\n      <td>325934.56</td>\n      <td>5</td>\n      <td>5</td>\n      <td>5</td>\n      <td>555</td>\n      <td>Champions</td>\n    </tr>\n    <tr>\n      <th>1</th>\n      <td>1.41889841192585e+17</td>\n      <td>3</td>\n      <td>3</td>\n      <td>32027.04</td>\n      <td>5</td>\n      <td>5</td>\n      <td>5</td>\n      <td>555</td>\n      <td>Champions</td>\n    </tr>\n    <tr>\n      <th>2</th>\n      <td>-1.730764956960466e+17</td>\n      <td>2</td>\n      <td>3</td>\n      <td>17792.80</td>\n      <td>5</td>\n      <td>5</td>\n      <td>5</td>\n      <td>555</td>\n      <td>Champions</td>\n    </tr>\n    <tr>\n      <th>3</th>\n      <td>-8.718529675837011e+18</td>\n      <td>3</td>\n      <td>2</td>\n      <td>12454.96</td>\n      <td>5</td>\n      <td>5</td>\n      <td>4</td>\n      <td>554</td>\n      <td>Champions</td>\n    </tr>\n    <tr>\n      <th>4</th>\n      <td>5.977680303343795e+18</td>\n      <td>0</td>\n      <td>4</td>\n      <td>10450.44</td>\n      <td>5</td>\n      <td>5</td>\n      <td>4</td>\n      <td>554</td>\n      <td>Champions</td>\n    </tr>\n    <tr>\n      <th>5</th>\n      <td>8.378726598837343e+18</td>\n      <td>3</td>\n      <td>2</td>\n      <td>8738.74</td>\n      <td>5</td>\n      <td>5</td>\n      <td>4</td>\n      <td>554</td>\n      <td>Champions</td>\n    </tr>\n    <tr>\n      <th>6</th>\n      <td>-2.073482712557262e+</td>\n      <td>6</td>\n      <td>2</td>\n      <td>21351.36</td>\n      <td>5</td>\n      <td>4</td>\n      <td>5</td>\n      <td>545</td>\n      <td>Champions</td>\n    </tr>\n    <tr>\n      <th>7</th>\n      <td>-3.913870139141671e+18</td>\n      <td>6</td>\n      <td>2</td>\n      <td>22418.84</td>\n      <td>5</td>\n      <td>4</td>\n      <td>5</td>\n      <td>545</td>\n      <td>Champions</td>\n    </tr>\n    <tr>\n      <th>8</th>\n      <td>8.828548310277758e+18</td>\n      <td>3</td>\n      <td>1</td>\n      <td>14234.24</td>\n      <td>5</td>\n      <td>4</td>\n      <td>5</td>\n      <td>545</td>\n      <td>Champions</td>\n    </tr>\n    <tr>\n      <th>9</th>\n      <td>9.468809488193865e+17</td>\n      <td>1</td>\n      <td>1</td>\n      <td>14234.24</td>\n      <td>5</td>\n      <td>4</td>\n      <td>5</td>\n      <td>545</td>\n      <td>Champions</td>\n    </tr>\n    <tr>\n      <th>10</th>\n      <td>8.065810676757988e+</td>\n      <td>2</td>\n      <td>1</td>\n      <td>10675.68</td>\n      <td>5</td>\n      <td>4</td>\n      <td>4</td>\n      <td>544</td>\n      <td>Champions</td>\n    </tr>\n    <tr>\n      <th>11</th>\n      <td>7.345462397159166e+18</td>\n      <td>3</td>\n      <td>1</td>\n      <td>10675.68</td>\n      <td>5</td>\n      <td>4</td>\n      <td>4</td>\n      <td>544</td>\n      <td>Champions</td>\n    </tr>\n    <tr>\n      <th>12</th>\n      <td>2.330958481060939e+18</td>\n      <td>21</td>\n      <td>2</td>\n      <td>15855.86</td>\n      <td>4</td>\n      <td>5</td>\n      <td>5</td>\n      <td>455</td>\n      <td>Champions</td>\n    </tr>\n    <tr>\n      <th>13</th>\n      <td>-2.874499259700654e+18</td>\n      <td>7</td>\n      <td>14</td>\n      <td>7837.86</td>\n      <td>4</td>\n      <td>5</td>\n      <td>4</td>\n      <td>454</td>\n      <td>Champions</td>\n    </tr>\n    <tr>\n      <th>14</th>\n      <td>6.66763898590681e+18</td>\n      <td>14</td>\n      <td>2</td>\n      <td>14144.12</td>\n      <td>4</td>\n      <td>5</td>\n      <td>4</td>\n      <td>454</td>\n      <td>Champions</td>\n    </tr>\n    <tr>\n      <th>15</th>\n      <td>7.263077315411139e+18</td>\n      <td>9</td>\n      <td>1</td>\n      <td>14234.24</td>\n      <td>4</td>\n      <td>4</td>\n      <td>5</td>\n      <td>445</td>\n      <td>Champions</td>\n    </tr>\n    <tr>\n      <th>16</th>\n      <td>-3.456012392201017e+18</td>\n      <td>24</td>\n      <td>2</td>\n      <td>21351.36</td>\n      <td>4</td>\n      <td>4</td>\n      <td>5</td>\n      <td>445</td>\n      <td>Champions</td>\n    </tr>\n    <tr>\n      <th>17</th>\n      <td>9.001271179679356e+</td>\n      <td>17</td>\n      <td>1</td>\n      <td>14234.24</td>\n      <td>4</td>\n      <td>4</td>\n      <td>5</td>\n      <td>445</td>\n      <td>Champions</td>\n    </tr>\n    <tr>\n      <th>18</th>\n      <td>8.000031578063278e+</td>\n      <td>7</td>\n      <td>1</td>\n      <td>7117.12</td>\n      <td>4</td>\n      <td>4</td>\n      <td>4</td>\n      <td>444</td>\n      <td>Champions</td>\n    </tr>\n    <tr>\n      <th>19</th>\n      <td>7.309625929315006e+18</td>\n      <td>10</td>\n      <td>1</td>\n      <td>7117.12</td>\n      <td>4</td>\n      <td>4</td>\n      <td>4</td>\n      <td>444</td>\n      <td>Champions</td>\n    </tr>\n  </tbody>\n</table>\n</div>"
     },
     "execution_count": 232,
     "metadata": {},
     "output_type": "execute_result"
    }
   ],
   "source": [
    "# could have done it with this library... output in plt, not as sexy as plotly...\n",
    "\n",
    "from rfm import RFM\n",
    "\n",
    "r = RFM(df, customer_id='ID', transaction_date='Order Date', amount='Profit')\n",
    "r.rfm_table\n",
    "r.segment_table\n",
    "r.plot_rfm_histograms()\n",
    "r.plot_rfm_order_distribution()\n",
    "r.plot_versace_plot(column1='recency',column2='monetary_value')\n",
    "r.plot_distribution_by_segment(column='recency',take='median')\n",
    "r.plot_distribution_by_segment(column='frequency',take='median')\n",
    "r.plot_distribution_by_segment(column='monetary_value',take='median')\n",
    "r.plot_column_distribution(column='recency')\n",
    "r.plot_column_distribution(column='frequency')\n",
    "r.plot_column_distribution(column='monetary_value')\n",
    "r.plot_segment_distribution()\n",
    "r.find_customers('Champions')"
   ],
   "metadata": {
    "collapsed": false,
    "ExecuteTime": {
     "end_time": "2024-03-22T13:12:04.371866300Z",
     "start_time": "2024-03-22T13:12:02.438353500Z"
    }
   }
  }
 ],
 "metadata": {
  "kernelspec": {
   "display_name": "Python 3 (ipykernel)",
   "language": "python",
   "name": "python3"
  },
  "language_info": {
   "codemirror_mode": {
    "name": "ipython",
    "version": 3
   },
   "file_extension": ".py",
   "mimetype": "text/x-python",
   "name": "python",
   "nbconvert_exporter": "python",
   "pygments_lexer": "ipython3",
   "version": "3.7.11"
  },
  "widgets": {
   "application/vnd.jupyter.widget-state+json": {
    "state": {},
    "version_major": 2,
    "version_minor": 0
   }
  }
 },
 "nbformat": 4,
 "nbformat_minor": 4
}
